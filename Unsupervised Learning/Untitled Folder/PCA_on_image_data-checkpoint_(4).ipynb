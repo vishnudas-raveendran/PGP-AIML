{
 "cells": [
  {
   "cell_type": "markdown",
   "metadata": {},
   "source": [
    "_________________________________________________________________"
   ]
  },
  {
   "cell_type": "markdown",
   "metadata": {
    "id": "ecuKeAO5R9m1"
   },
   "source": [
    "©Great Learning. Proprietary content. All Rights Reserved. Unauthorised use or distribution prohibited\n",
    "\n",
    "_________________________________________________________________\n",
    "\n",
    "# AIML Module Project - Unsupervised Learning - Project 2 - Part III\n",
    "_________________________________________________________________"
   ]
  },
  {
   "cell_type": "markdown",
   "metadata": {},
   "source": [
    "### Assessment [ Total Score: 5 points ]\n",
    "\n",
    "Please refer to the problem statement for questions and descriptions"
   ]
  },
  {
   "cell_type": "markdown",
   "metadata": {},
   "source": [
    "### Scoring mechanism for moderators:\n",
    "\n",
    "    \" High quality assessment will enable our learners to achieve a score that they actually deserve and provide them a motivation to improvise for future. Both ways we are enabling the learners with high quality assessment and learnings. \"\n",
    "\n",
    "\n",
    "You will find the rubrics divided into 3 parts:\n",
    "    \n",
    "    -> Direct points [DP] : \n",
    "        1. These points tests the required bare minimum working knowledge on AIML for the learner. \n",
    "        2. The output obtained will be fixed and cannot vary. \n",
    "        3. Please award full points if the submission is similar to the sample solution\n",
    "        \n",
    "        \n",
    "    -> Generic points [GP] : \n",
    "        1. These points tests the analytical thinking capacity of the learner. \n",
    "        2. These points highlight the thought and time invested by the learner on the project.\n",
    "        3. The output obtained will vary. \n",
    "        4. Please award partial points only if the submissions are relevant, logical, analytical and innovative.\n",
    "        \n",
    "        \n",
    "    -> Deduct 5 points from the total socre if any two or more of the below pointers not followed:\n",
    "        1. ”.html” and \".ipynb\" files should be an exact match.\n",
    "        2. Pre-run codes with all outputs intact.\n",
    "        3. Error free & machine independent i.e. run on any machine without adding any extra code.\n",
    "        4. Well commented for clarity on code designed, assumptions made, approach taken, insights found and results obtained."
   ]
  },
  {
   "cell_type": "markdown",
   "metadata": {},
   "source": [
    "#### Problem Statement:\n",
    "\n",
    "\n",
    "- List down all possible dimensionality reduction techniques that can be implemented using python. [DP - 1 point]\n",
    "\n",
    "    1. PCA\n",
    "    2. FA\n",
    "    3. LDA\n",
    "    4. TSNE\n",
    "    5. Auto encoders\n",
    "    etc.\n",
    "    Award 1 point if at-least 3 or more are listed in the submission. \n",
    "\n",
    "\n",
    "- So far you have used dimensional reduction on numeric data. Is it possible to do the same on a multimedia data [images and video] and text data ? Please illustrate your findings using a simple implementation on python. [GP - 4 points]\n",
    "\n",
    "\n",
    "    - Yes it is possible to. Please refer the below code for PCA applied on images. \n",
    "    - Award marks only if the submission has all of the below points.\n",
    "    "
   ]
  },
  {
   "cell_type": "markdown",
   "metadata": {
    "id": "8KsMTrPnSZQL"
   },
   "source": [
    "- - - - - - - - - - - - - - - - - - - - - - - - - - - - - - - - - - - - - - - - - - - - - -\n",
    "\n",
    "####   Apply PCA on Fashion MNIST dataset\n",
    "\n",
    "##### Input data details\n",
    "\n",
    "Fashion (fashion_mnist) dataset from Keras comes preloaded with  train and test images along with the labels.\n",
    "\n",
    "\n",
    "Number of images = 70000 \n",
    "   - 1. Training images = 60000\n",
    "   - 2. Testing images = 10000\n",
    "   - 3. Image size = 28 x 28\n",
    "   - 4. Channel = 1\n",
    "\n",
    "Labels: \n",
    "\n",
    "    0. T-shirt/top\n",
    "    1. Trouser\n",
    "    2. Pullover\n",
    "    3. Dress\n",
    "    4. Coat\n",
    "    5. Sandal\n",
    "    6. Shirt\n",
    "    7. Sneaker\n",
    "    8. Bag\n",
    "    9. Ankle boot\n",
    "\n",
    "##### Expected output details: \n",
    "\n",
    "PCA based dimensionality reduction\n",
    "\n",
    "- - - - - - - - - - - - - - - - - - - - - - - - - - - - - - - - - - - - - - - - - - - - - -"
   ]
  },
  {
   "cell_type": "markdown",
   "metadata": {
    "id": "vhfgE_exS2N2"
   },
   "source": [
    "- - - - - - - - - - - - - - - - - - - - - - - - - - - - - - - - - - - - - - - - - - - - - -\n",
    "\n",
    "#### Case study approach:\n",
    "\n",
    "- Step 1: Import and explore data to python [ DP - 0.5 Point ]\n",
    "- Step 2: Dimensionality reduction using PCA [ DP - 1 Point ]\n",
    "- Step 3: Visualize the results [ DP - 0.5 Point ]\n",
    "- Step 4: Normalize the pixels [ DP - 1 Point ]\n",
    "- Step 5: Compare the results and visualize more components [ DP - 1 Point ]\n",
    "\n",
    "- - - - - - - - - - - - - - - - - - - - - - - - - - - - - - - - - - - - - - - - - - - - - -"
   ]
  },
  {
   "cell_type": "markdown",
   "metadata": {
    "id": "gLxko4IzU9T-"
   },
   "source": [
    "#### Step 1: Import and explore data to python [ DP - 0.5 Point ]"
   ]
  },
  {
   "cell_type": "code",
   "execution_count": null,
   "metadata": {
    "id": "Vm56RB1dN8Bc"
   },
   "outputs": [],
   "source": [
    "from tensorflow.keras.datasets import fashion_mnist\n"
   ]
  },
  {
   "cell_type": "code",
   "execution_count": null,
   "metadata": {
    "id": "xq4Tf0loU61b"
   },
   "outputs": [],
   "source": [
    "# Load fashion MNIST dataset\n",
    "(train_X,train_Y), (test_X,test_Y) = fashion_mnist.load_data() "
   ]
  },
  {
   "cell_type": "code",
   "execution_count": null,
   "metadata": {
    "colab": {
     "base_uri": "https://localhost:8080/"
    },
    "executionInfo": {
     "elapsed": 2232,
     "status": "ok",
     "timestamp": 1608791646643,
     "user": {
      "displayName": "Mansoor Rahimat Khan",
      "photoUrl": "",
      "userId": "09687443316707549268"
     },
     "user_tz": -330
    },
    "id": "pB-ps6niU_6P",
    "outputId": "59f0eb69-f9c6-494b-aa49-b19934c1cd71"
   },
   "outputs": [
    {
     "data": {
      "text/plain": [
       "(60000, 28, 28)"
      ]
     },
     "execution_count": 19,
     "metadata": {
      "tags": []
     },
     "output_type": "execute_result"
    }
   ],
   "source": [
    "train_X.shape"
   ]
  },
  {
   "cell_type": "code",
   "execution_count": null,
   "metadata": {
    "colab": {
     "base_uri": "https://localhost:8080/"
    },
    "executionInfo": {
     "elapsed": 2227,
     "status": "ok",
     "timestamp": 1608791646643,
     "user": {
      "displayName": "Mansoor Rahimat Khan",
      "photoUrl": "",
      "userId": "09687443316707549268"
     },
     "user_tz": -330
    },
    "id": "ujop2jiRVk-N",
    "outputId": "fbd4d6dd-776d-4833-c7b8-327503530786"
   },
   "outputs": [
    {
     "data": {
      "text/plain": [
       "(60000,)"
      ]
     },
     "execution_count": 20,
     "metadata": {
      "tags": []
     },
     "output_type": "execute_result"
    }
   ],
   "source": [
    "train_Y.shape"
   ]
  },
  {
   "cell_type": "code",
   "execution_count": null,
   "metadata": {
    "colab": {
     "base_uri": "https://localhost:8080/"
    },
    "executionInfo": {
     "elapsed": 2222,
     "status": "ok",
     "timestamp": 1608791646644,
     "user": {
      "displayName": "Mansoor Rahimat Khan",
      "photoUrl": "",
      "userId": "09687443316707549268"
     },
     "user_tz": -330
    },
    "id": "kk-Y76BmVmzE",
    "outputId": "bf06bb9e-ab4f-49a6-b36a-8219984c8825"
   },
   "outputs": [
    {
     "data": {
      "text/plain": [
       "(10000, 28, 28)"
      ]
     },
     "execution_count": 21,
     "metadata": {
      "tags": []
     },
     "output_type": "execute_result"
    }
   ],
   "source": [
    "test_X.shape"
   ]
  },
  {
   "cell_type": "code",
   "execution_count": null,
   "metadata": {
    "colab": {
     "base_uri": "https://localhost:8080/"
    },
    "executionInfo": {
     "elapsed": 2217,
     "status": "ok",
     "timestamp": 1608791646644,
     "user": {
      "displayName": "Mansoor Rahimat Khan",
      "photoUrl": "",
      "userId": "09687443316707549268"
     },
     "user_tz": -330
    },
    "id": "irW_D4gEVoDt",
    "outputId": "ab2890a8-1cfc-4995-f395-e0332cb53085"
   },
   "outputs": [
    {
     "data": {
      "text/plain": [
       "(10000,)"
      ]
     },
     "execution_count": 22,
     "metadata": {
      "tags": []
     },
     "output_type": "execute_result"
    }
   ],
   "source": [
    "test_Y.shape"
   ]
  },
  {
   "cell_type": "code",
   "execution_count": null,
   "metadata": {
    "colab": {
     "base_uri": "https://localhost:8080/",
     "height": 285
    },
    "executionInfo": {
     "elapsed": 3027,
     "status": "ok",
     "timestamp": 1608791647460,
     "user": {
      "displayName": "Mansoor Rahimat Khan",
      "photoUrl": "",
      "userId": "09687443316707549268"
     },
     "user_tz": -330
    },
    "id": "c4Sn4TbkVpI8",
    "outputId": "b3cf5d80-7af2-4888-f213-57853a8eab8d"
   },
   "outputs": [
    {
     "data": {
      "image/png": "[encoded data removed]",
      "text/plain": [
       "<Figure size 864x288 with 4 Axes>"
      ]
     },
     "metadata": {
      "needs_background": "light",
      "tags": []
     },
     "output_type": "display_data"
    }
   ],
   "source": [
    "import seaborn as sns\n",
    "import matplotlib.pyplot as plt\n",
    "plt.style.use('seaborn-notebook')\n",
    "\n",
    "fig, axarr = plt.subplots(1, 2, figsize=(12, 4))\n",
    "\n",
    "sns.heatmap(train_X[0,:], ax=axarr[0], cmap='gray')\n",
    "sns.heatmap(test_X[0, :], ax=axarr[1], cmap='gray')\n",
    "axarr[0].set_title(\n",
    "    \"Train Image Sample\",\n",
    "    fontsize=12\n",
    ")\n",
    "axarr[1].set_title(\n",
    "    \"Test Image Sample\",\n",
    "    fontsize=12\n",
    ")\n",
    "axarr[0].set_aspect('equal')\n",
    "axarr[1].set_aspect('equal')\n"
   ]
  },
  {
   "cell_type": "markdown",
   "metadata": {
    "id": "GM0vamlaXery"
   },
   "source": [
    "#### Step 2: Dimensionality reduction using PCA [ DP - 1 Point ]"
   ]
  },
  {
   "cell_type": "code",
   "execution_count": null,
   "metadata": {
    "id": "20KgF3tfXhmd"
   },
   "outputs": [],
   "source": [
    "from sklearn.decomposition import PCA\n",
    "\n",
    "pca = PCA(n_components=2)\n",
    "X_train_pca = pca.fit_transform(train_X.reshape((train_X.shape[0],train_X.shape[1]*train_X.shape[2])))\n",
    "X_test_pca = pca.transform(test_X.reshape((test_X.shape[0],test_X.shape[1]*test_X.shape[2])))"
   ]
  },
  {
   "cell_type": "markdown",
   "metadata": {
    "id": "opXlPf2XaihR"
   },
   "source": [
    "#### Step 5: Visualize the results"
   ]
  },
  {
   "cell_type": "code",
   "execution_count": null,
   "metadata": {
    "colab": {
     "base_uri": "https://localhost:8080/"
    },
    "executionInfo": {
     "elapsed": 6139,
     "status": "ok",
     "timestamp": 1608791650581,
     "user": {
      "displayName": "Mansoor Rahimat Khan",
      "photoUrl": "",
      "userId": "09687443316707549268"
     },
     "user_tz": -330
    },
    "id": "W1lo1esyWG0q",
    "outputId": "a3f7df8a-1373-4489-bdde-5b981cadc6bb"
   },
   "outputs": [
    {
     "data": {
      "text/plain": [
       "array([0.29039228, 0.1775531 ])"
      ]
     },
     "execution_count": 25,
     "metadata": {
      "tags": []
     },
     "output_type": "execute_result"
    }
   ],
   "source": [
    "pca.explained_variance_ratio_"
   ]
  },
  {
   "cell_type": "code",
   "execution_count": null,
   "metadata": {
    "colab": {
     "base_uri": "https://localhost:8080/",
     "height": 315
    },
    "executionInfo": {
     "elapsed": 7182,
     "status": "ok",
     "timestamp": 1608791651630,
     "user": {
      "displayName": "Mansoor Rahimat Khan",
      "photoUrl": "",
      "userId": "09687443316707549268"
     },
     "user_tz": -330
    },
    "id": "BHQF1lLKapG2",
    "outputId": "3b396c3e-2c61-4690-bf2e-7c8bfb51199a"
   },
   "outputs": [
    {
     "data": {
      "text/plain": [
       "Text(0.5, 0.98, '2-Component PCA')"
      ]
     },
     "execution_count": 26,
     "metadata": {
      "tags": []
     },
     "output_type": "execute_result"
    },
    {
     "data": {
      "image/png": "[encoded data removed]",
      "text/plain": [
       "<Figure size 864x288 with 4 Axes>"
      ]
     },
     "metadata": {
      "needs_background": "light",
      "tags": []
     },
     "output_type": "display_data"
    }
   ],
   "source": [
    "fig1, axarr1 = plt.subplots(1, 2, figsize=(12, 4))\n",
    "\n",
    "sns.heatmap(pca.components_[0, :].reshape(28, 28), ax=axarr1[0], cmap='gray_r')\n",
    "sns.heatmap(pca.components_[1, :].reshape(28, 28), ax=axarr1[1], cmap='gray_r')\n",
    "axarr1[0].set_title(\n",
    "    \"{0:.2f}% Explained Variance\".format(pca.explained_variance_ratio_[0]*100),\n",
    "    fontsize=12\n",
    ")\n",
    "axarr1[1].set_title(\n",
    "    \"{0:.2f}% Explained Variance\".format(pca.explained_variance_ratio_[1]*100),\n",
    "    fontsize=12\n",
    ")\n",
    "axarr1[0].set_aspect('equal')\n",
    "axarr1[1].set_aspect('equal')\n",
    "\n",
    "plt.suptitle('2-Component PCA')"
   ]
  },
  {
   "cell_type": "markdown",
   "metadata": {
    "id": "zRssuQ4qbSKE"
   },
   "source": [
    "The first component looks like a mixture of a sneaker and a pullover whereas the second component looks like a dominant trouser feature representation."
   ]
  },
  {
   "cell_type": "markdown",
   "metadata": {
    "id": "rzm9JBm6eM8_"
   },
   "source": [
    "Step 6: Normalize the pixels"
   ]
  },
  {
   "cell_type": "code",
   "execution_count": 28,
   "metadata": {
    "executionInfo": {
     "elapsed": 2040,
     "status": "ok",
     "timestamp": 1608792014254,
     "user": {
      "displayName": "Mansoor Rahimat Khan",
      "photoUrl": "",
      "userId": "09687443316707549268"
     },
     "user_tz": -330
    },
    "id": "eW38tLhieWEe"
   },
   "outputs": [],
   "source": [
    "X_train_norm = train_X/255.0\n",
    "X_test_norm = test_X/255.0"
   ]
  },
  {
   "cell_type": "markdown",
   "metadata": {
    "id": "yA6aWOC1fEyQ"
   },
   "source": [
    "#### Step 3: Visualize the results [ DP - 0.5 Point ]"
   ]
  },
  {
   "cell_type": "code",
   "execution_count": 31,
   "metadata": {
    "colab": {
     "base_uri": "https://localhost:8080/",
     "height": 315
    },
    "executionInfo": {
     "elapsed": 2013,
     "status": "ok",
     "timestamp": 1608792128645,
     "user": {
      "displayName": "Mansoor Rahimat Khan",
      "photoUrl": "",
      "userId": "09687443316707549268"
     },
     "user_tz": -330
    },
    "id": "lhkAxW8xejIp",
    "outputId": "3f311b23-00e0-4dea-db7b-3cea9be47fc3"
   },
   "outputs": [
    {
     "data": {
      "text/plain": [
       "Text(0.5, 0.98, 'Normalized')"
      ]
     },
     "execution_count": 31,
     "metadata": {
      "tags": []
     },
     "output_type": "execute_result"
    },
    {
     "data": {
      "image/png": "[encoded data removed]",
      "text/plain": [
       "<Figure size 864x288 with 4 Axes>"
      ]
     },
     "metadata": {
      "needs_background": "light",
      "tags": []
     },
     "output_type": "display_data"
    }
   ],
   "source": [
    "import seaborn as sns\n",
    "import matplotlib.pyplot as plt\n",
    "plt.style.use('seaborn-notebook')\n",
    "\n",
    "fig, axarr = plt.subplots(1, 2, figsize=(12, 4))\n",
    "\n",
    "sns.heatmap(X_train_norm[0,:], ax=axarr[0], cmap='gray')\n",
    "sns.heatmap(X_test_norm[0, :], ax=axarr[1], cmap='gray')\n",
    "axarr[0].set_title(\n",
    "    \"Train Image Sample\",\n",
    "    fontsize=12\n",
    ")\n",
    "axarr[1].set_title(\n",
    "    \"Test Image Sample\",\n",
    "    fontsize=12\n",
    ")\n",
    "axarr[0].set_aspect('equal')\n",
    "axarr[1].set_aspect('equal')\n",
    "\n",
    "plt.suptitle('Normalized')\n"
   ]
  },
  {
   "cell_type": "markdown",
   "metadata": {},
   "source": [
    "#### Step 4: Normalize the pixels [ DP - 1 Point ]"
   ]
  },
  {
   "cell_type": "code",
   "execution_count": 36,
   "metadata": {
    "executionInfo": {
     "elapsed": 5794,
     "status": "ok",
     "timestamp": 1608792472771,
     "user": {
      "displayName": "Mansoor Rahimat Khan",
      "photoUrl": "",
      "userId": "09687443316707549268"
     },
     "user_tz": -330
    },
    "id": "9zhGzikafGIb"
   },
   "outputs": [],
   "source": [
    "pca_norm = PCA(n_components=4)\n",
    "X_train_norm_pca = pca_norm.fit_transform(X_train_norm.reshape((X_train_norm.shape[0],X_train_norm.shape[1]*X_train_norm.shape[2])))\n",
    "X_test_norm_pca = pca_norm.transform(X_test_norm.reshape((X_test_norm.shape[0],X_test_norm.shape[1]*X_test_norm.shape[2])))"
   ]
  },
  {
   "cell_type": "code",
   "execution_count": 39,
   "metadata": {
    "colab": {
     "base_uri": "https://localhost:8080/"
    },
    "executionInfo": {
     "elapsed": 1345,
     "status": "ok",
     "timestamp": 1608793600395,
     "user": {
      "displayName": "Mansoor Rahimat Khan",
      "photoUrl": "",
      "userId": "09687443316707549268"
     },
     "user_tz": -330
    },
    "id": "Wr13Caq2kgpU",
    "outputId": "161d7e6b-19ea-49f6-8dda-f89ba3c417c5"
   },
   "outputs": [
    {
     "data": {
      "text/plain": [
       "array([19.80980567, 12.11221047,  4.10615661,  3.38182839])"
      ]
     },
     "execution_count": 39,
     "metadata": {
      "tags": []
     },
     "output_type": "execute_result"
    }
   ],
   "source": [
    "pca_norm.explained_variance_"
   ]
  },
  {
   "cell_type": "markdown",
   "metadata": {},
   "source": [
    "#### Step 5: Compare the results and visualize more components [ DP - 1 Point ]"
   ]
  },
  {
   "cell_type": "code",
   "execution_count": 38,
   "metadata": {
    "colab": {
     "base_uri": "https://localhost:8080/",
     "height": 572
    },
    "executionInfo": {
     "elapsed": 3285,
     "status": "ok",
     "timestamp": 1608792501345,
     "user": {
      "displayName": "Mansoor Rahimat Khan",
      "photoUrl": "",
      "userId": "09687443316707549268"
     },
     "user_tz": -330
    },
    "id": "faLOSKIefhAM",
    "outputId": "97b74ae7-8552-44d7-acb1-c481ad7b3871"
   },
   "outputs": [
    {
     "data": {
      "image/png": "[encoded data removed]",
      "text/plain": [
       "<Figure size 864x576 with 8 Axes>"
      ]
     },
     "metadata": {
      "tags": []
     },
     "output_type": "display_data"
    }
   ],
   "source": [
    "plt.style.use('fivethirtyeight')\n",
    "\n",
    "fig, axarr = plt.subplots(2, 2, figsize=(12, 8))\n",
    "\n",
    "sns.heatmap(pca_norm.components_[0, :].reshape(28, 28), ax=axarr[0][0], cmap='gray_r')\n",
    "sns.heatmap(pca_norm.components_[1, :].reshape(28, 28), ax=axarr[0][1], cmap='gray_r')\n",
    "sns.heatmap(pca_norm.components_[2, :].reshape(28, 28), ax=axarr[1][0], cmap='gray_r')\n",
    "sns.heatmap(pca_norm.components_[3, :].reshape(28, 28), ax=axarr[1][1], cmap='gray_r')\n",
    "\n",
    "axarr[0][0].set_title(\n",
    "    \"{0:.2f}% Explained Variance\".format(pca_norm.explained_variance_ratio_[0]*100),\n",
    "    fontsize=12\n",
    ")\n",
    "axarr[0][1].set_title(\n",
    "    \"{0:.2f}% Explained Variance\".format(pca_norm.explained_variance_ratio_[1]*100),\n",
    "    fontsize=12\n",
    ")\n",
    "axarr[1][0].set_title(\n",
    "    \"{0:.2f}% Explained Variance\".format(pca_norm.explained_variance_ratio_[2]*100),\n",
    "    fontsize=12\n",
    ")\n",
    "axarr[1][1].set_title(\n",
    "    \"{0:.2f}% Explained Variance\".format(pca_norm.explained_variance_ratio_[3]*100),\n",
    "    fontsize=12\n",
    ")\n",
    "axarr[0][0].set_aspect('equal')\n",
    "axarr[0][1].set_aspect('equal')\n",
    "axarr[1][0].set_aspect('equal')\n",
    "axarr[1][1].set_aspect('equal')\n",
    "\n",
    "plt.suptitle('4-Component PCA')\n",
    "pass"
   ]
  },
  {
   "cell_type": "markdown",
   "metadata": {
    "id": "ybXMb6F3gZVQ"
   },
   "source": [
    "As can be noticed the representation seems to get more and more abstract with the number of PCA components increasing"
   ]
  },
  {
   "cell_type": "markdown",
   "metadata": {
    "id": "0XERX93rWGkd"
   },
   "source": [
    "     ©Great Learning. Proprietary content. All Rights Reserved. Unauthorised use or distribution prohibited"
   ]
  }
 ],
 "metadata": {
  "colab": {
   "authorship_tag": "ABX9TyM0d6mZW1GyhpPRu3MZ34Iu",
   "collapsed_sections": [],
   "name": "PCA_on_image_data.ipynb",
   "provenance": []
  },
  "kernelspec": {
   "display_name": "Python 3",
   "language": "python",
   "name": "python3"
  },
  "language_info": {
   "codemirror_mode": {
    "name": "ipython",
    "version": 3
   },
   "file_extension": ".py",
   "mimetype": "text/x-python",
   "name": "python",
   "nbconvert_exporter": "python",
   "pygments_lexer": "ipython3",
   "version": "3.7.7"
  }
 },
 "nbformat": 4,
 "nbformat_minor": 1
}
