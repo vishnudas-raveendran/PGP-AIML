{
 "cells": [
  {
   "cell_type": "markdown",
   "metadata": {},
   "source": [
    "- - - - - - - - - - - - - - - - - - - - - - - - - - - - - - - - - - - - - - - - - - - - "
   ]
  },
  {
   "cell_type": "markdown",
   "metadata": {},
   "source": [
    "©Great Learning. Proprietary content. All Rights Reserved. Unauthorised use or distribution prohibited\n",
    "\n",
    "_________________________________________________________________\n",
    "\n",
    "# AIML Module Project - Unsupervised learning - Project 2 - Part II\n",
    "_________________________________________________________________"
   ]
  },
  {
   "cell_type": "markdown",
   "metadata": {},
   "source": [
    "### Assessment [ Total Score: 5 points ]\n",
    "\n",
    "Please refer to the problem statement for questions and descriptions"
   ]
  },
  {
   "cell_type": "markdown",
   "metadata": {},
   "source": [
    "- - - - - - - - - - - - - - - - - - - - - - - - - - - - - - - - - - - - - - - - - - - - "
   ]
  },
  {
   "cell_type": "markdown",
   "metadata": {},
   "source": [
    "### Scoring mechanism for moderators:\n",
    "\n",
    "    \" High quality and stritct assessment will enable our learners to achieve a score that they actually deserve and provide them a motivation to improvise for future. Both ways we are enabling the learners with high quality assessment and learnings. \"\n",
    "\n",
    "\n",
    "You will find the rubrics divided into 3 parts:\n",
    "    \n",
    "    -> Direct points [DP] : \n",
    "        1. These points tests the required bare minimum working knowledge on AIML for the learner. \n",
    "        2. The output obtained will be fixed and cannot vary. \n",
    "        3. Please award full points if the submission is similar to the sample solution\n",
    "        \n",
    "        \n",
    "    -> Generic points [GP] : \n",
    "        1. These points tests the analytical thinking capacity of the learner. \n",
    "        2. These points highlight the thought and time invested by the learner on the project.\n",
    "        3. The output obtained will vary. \n",
    "        4. Please award partial points only if the submissions are relevant, logical, analytical and innovative.\n",
    "        \n",
    "        \n",
    "    -> Deduct 5 points from the total socre if any two or more of the below pointers not followed:\n",
    "        1. ”.html” and \".ipynb\" files should be an exact match.\n",
    "        2. Pre-run codes with all outputs intact.\n",
    "        3. Error free & machine independent i.e. run on any machine without adding any extra code.\n",
    "        4. Well commented for clarity on code designed, assumptions made, approach taken, insights found and results obtained."
   ]
  },
  {
   "cell_type": "code",
   "execution_count": 2,
   "metadata": {},
   "outputs": [
    {
     "data": {
      "text/html": [
       "<div>\n",
       "<style scoped>\n",
       "    .dataframe tbody tr th:only-of-type {\n",
       "        vertical-align: middle;\n",
       "    }\n",
       "\n",
       "    .dataframe tbody tr th {\n",
       "        vertical-align: top;\n",
       "    }\n",
       "\n",
       "    .dataframe thead th {\n",
       "        text-align: right;\n",
       "    }\n",
       "</style>\n",
       "<table border=\"1\" class=\"dataframe\">\n",
       "  <thead>\n",
       "    <tr style=\"text-align: right;\">\n",
       "      <th></th>\n",
       "      <th>Name</th>\n",
       "      <th>Runs</th>\n",
       "      <th>Ave</th>\n",
       "      <th>SR</th>\n",
       "      <th>Fours</th>\n",
       "      <th>Sixes</th>\n",
       "      <th>HF</th>\n",
       "    </tr>\n",
       "  </thead>\n",
       "  <tbody>\n",
       "    <tr>\n",
       "      <th>1</th>\n",
       "      <td>CH Gayle</td>\n",
       "      <td>733.0</td>\n",
       "      <td>61.08</td>\n",
       "      <td>160.74</td>\n",
       "      <td>46.0</td>\n",
       "      <td>59.0</td>\n",
       "      <td>9.0</td>\n",
       "    </tr>\n",
       "    <tr>\n",
       "      <th>3</th>\n",
       "      <td>G Gambhir</td>\n",
       "      <td>590.0</td>\n",
       "      <td>36.87</td>\n",
       "      <td>143.55</td>\n",
       "      <td>64.0</td>\n",
       "      <td>17.0</td>\n",
       "      <td>6.0</td>\n",
       "    </tr>\n",
       "    <tr>\n",
       "      <th>5</th>\n",
       "      <td>V Sehwag</td>\n",
       "      <td>495.0</td>\n",
       "      <td>33.00</td>\n",
       "      <td>161.23</td>\n",
       "      <td>57.0</td>\n",
       "      <td>19.0</td>\n",
       "      <td>5.0</td>\n",
       "    </tr>\n",
       "    <tr>\n",
       "      <th>7</th>\n",
       "      <td>CL White</td>\n",
       "      <td>479.0</td>\n",
       "      <td>43.54</td>\n",
       "      <td>149.68</td>\n",
       "      <td>41.0</td>\n",
       "      <td>20.0</td>\n",
       "      <td>5.0</td>\n",
       "    </tr>\n",
       "    <tr>\n",
       "      <th>9</th>\n",
       "      <td>S Dhawan</td>\n",
       "      <td>569.0</td>\n",
       "      <td>40.64</td>\n",
       "      <td>129.61</td>\n",
       "      <td>58.0</td>\n",
       "      <td>18.0</td>\n",
       "      <td>5.0</td>\n",
       "    </tr>\n",
       "  </tbody>\n",
       "</table>\n",
       "</div>"
      ],
      "text/plain": [
       "        Name   Runs    Ave      SR  Fours  Sixes   HF\n",
       "1   CH Gayle  733.0  61.08  160.74   46.0   59.0  9.0\n",
       "3  G Gambhir  590.0  36.87  143.55   64.0   17.0  6.0\n",
       "5   V Sehwag  495.0  33.00  161.23   57.0   19.0  5.0\n",
       "7   CL White  479.0  43.54  149.68   41.0   20.0  5.0\n",
       "9   S Dhawan  569.0  40.64  129.61   58.0   18.0  5.0"
      ]
     },
     "execution_count": 2,
     "metadata": {},
     "output_type": "execute_result"
    }
   ],
   "source": [
    "import pandas as pd\n",
    "\n",
    "DB=pd.read_csv('batting_bowling_ipl_bat.csv')\n",
    "DB=DB.dropna()\n",
    "DB.head()"
   ]
  },
  {
   "cell_type": "markdown",
   "metadata": {},
   "source": [
    "### 1. EDA and visualisation: Create a detailed performance report using univariate, bi-variate and multivariate EDA techniques. Find out all possible hidden patterns by using all possible methods. [DP - 2 Points ]\n",
    "\n",
    "- Award full points if atleast 5 good plots with insights dsiplayed"
   ]
  },
  {
   "cell_type": "markdown",
   "metadata": {},
   "source": [
    "### Build a data driven model to rank all the players in the dataset using all or the most important performance features. [GP - 3 Points]\n",
    "\n",
    "- Award full points depending on the logic used to generate ranks is by using eigen values and vectors.\n",
    "- Else award partial points as per the efforts and relevance"
   ]
  },
  {
   "cell_type": "code",
   "execution_count": 3,
   "metadata": {},
   "outputs": [
    {
     "name": "stdout",
     "output_type": "stream",
     "text": [
      "[0.70911996 0.84696562 0.91563695 0.96988153 0.99718777 1.        ]\n"
     ]
    },
    {
     "data": {
      "image/png": "[encoded data removed]",
      "text/plain": [
       "<Figure size 432x288 with 1 Axes>"
      ]
     },
     "metadata": {
      "needs_background": "light"
     },
     "output_type": "display_data"
    }
   ],
   "source": [
    "# Scaling\n",
    "from sklearn.preprocessing import StandardScaler\n",
    "\n",
    "scaler = StandardScaler()\n",
    "DB_S = scaler.fit_transform(DB.drop(columns = 'Name'))\n",
    "\n",
    "# Finding: Optimal PCs\n",
    "from sklearn.decomposition import PCA\n",
    "import numpy as np\n",
    "import matplotlib.pyplot as plt\n",
    "\n",
    "pca = PCA().fit(DB_S)\n",
    "\n",
    "plt.plot(np.cumsum(pca.explained_variance_ratio_))\n",
    "print(np.cumsum(pca.explained_variance_ratio_))"
   ]
  },
  {
   "cell_type": "code",
   "execution_count": 5,
   "metadata": {},
   "outputs": [
    {
     "name": "stdout",
     "output_type": "stream",
     "text": [
      "covariance matrix:\n",
      "\n",
      " [[1.01123596 0.70077082 0.49903347 0.9291323  0.77842677 0.84453142]\n",
      " [0.70077082 1.01123596 0.63061271 0.55234856 0.69008186 0.62772842]\n",
      " [0.49903347 0.63061271 1.01123596 0.38913406 0.59050396 0.43238784]\n",
      " [0.9291323  0.55234856 0.38913406 1.01123596 0.52844526 0.79249429]\n",
      " [0.77842677 0.69008186 0.59050396 0.52844526 1.01123596 0.77632221]\n",
      " [0.84453142 0.62772842 0.43238784 0.79249429 0.77632221 1.01123596]]\n"
     ]
    }
   ],
   "source": [
    "# covariance matrix\n",
    "import scipy.linalg as la\n",
    "cv=np.cov(DB_S.T)\n",
    "\n",
    "print(\"covariance matrix:\\n\\n\",cv)"
   ]
  },
  {
   "cell_type": "code",
   "execution_count": 6,
   "metadata": {},
   "outputs": [
    {
     "name": "stdout",
     "output_type": "stream",
     "text": [
      "\n",
      "Eigen Values: \n",
      " [4.30252561 0.83636692 0.01706297 0.16567829 0.41665751 0.32912443] \n",
      "\n",
      "Eigen Vectors: \n",
      " [[-0.4582608  -0.26643209 -0.70483594 -0.45840889  0.10977942  0.00520142]\n",
      " [-0.39797313  0.33111756  0.0606373   0.10122837 -0.00550486 -0.84736307]\n",
      " [-0.3253838   0.69780334 -0.05624934  0.11890348  0.45013448  0.43275029]\n",
      " [-0.40574167 -0.47355804  0.58514214 -0.09676885  0.50823538  0.03252305]\n",
      " [-0.41733459  0.17902455  0.35786211 -0.39458014 -0.66942589  0.24878157]\n",
      " [-0.43237178 -0.27593225 -0.16096217  0.77486668 -0.28082541  0.17811777]]\n"
     ]
    }
   ],
   "source": [
    "#eigen values and vectors\n",
    "import scipy.linalg as la\n",
    "eig_vals,eig_vecs=np.linalg.eig(cv)    # Eigen values and Eigen vectors\n",
    "print(\"\\nEigen Values: \\n\",eig_vals,\"\\n\")    # print eigen values\n",
    "print(\"Eigen Vectors: \\n\",eig_vecs)    # print eigen vectors"
   ]
  },
  {
   "cell_type": "code",
   "execution_count": 7,
   "metadata": {},
   "outputs": [
    {
     "name": "stdout",
     "output_type": "stream",
     "text": [
      "Variance captured by PCs\n",
      "\tPC 1 : 70.9 %\n",
      "\tPC 2 : 84.7 %\n",
      "\tPC 3 : 85.0 %\n",
      "\tPC 4 : 87.7 %\n",
      "\tPC 5 : 94.6 %\n",
      "\tPC 6 : 100.0 %\n"
     ]
    }
   ],
   "source": [
    "# PC selection\n",
    "\n",
    "def zerolistmaker(n):\n",
    "    listofzeros = [0] * n\n",
    "    return listofzeros\n",
    "\n",
    "a=zerolistmaker(len(eig_vals))\n",
    "\n",
    "eig_tot=sum(eig_vals)    # sum eigen values\n",
    "\n",
    "print(\"Variance captured by PCs\")\n",
    "\n",
    "for i in range(0,len(eig_vals)):     \n",
    "     a[i]=round(((100*eig_vals[i]/eig_tot)+a[i-1]),1)\n",
    "     print(\"\\tPC\",i+1,\":\",a[i],\"%\")             # loop to derive varience capture by PC\n",
    "    \n",
    "#cum_var = np.cumsum(a)    # cumulative variance\n",
    "#print(\"\\n cumulative variance: \\n\\t\",cum_var)    # print cumulative variance"
   ]
  },
  {
   "cell_type": "code",
   "execution_count": 8,
   "metadata": {},
   "outputs": [
    {
     "name": "stdout",
     "output_type": "stream",
     "text": [
      "PCA Loadings: [-2.9652044745108648, -0.005686801130866011, 0.0412998302514581, -0.11973271299520932, 0.07716968032567786, -0.4986925208242217]\n",
      "[-2.96520447 -0.0056868   0.04129983 -0.11973271  0.07716968 -0.49869252]\n"
     ]
    },
    {
     "data": {
      "text/html": [
       "<div>\n",
       "<style scoped>\n",
       "    .dataframe tbody tr th:only-of-type {\n",
       "        vertical-align: middle;\n",
       "    }\n",
       "\n",
       "    .dataframe tbody tr th {\n",
       "        vertical-align: top;\n",
       "    }\n",
       "\n",
       "    .dataframe thead th {\n",
       "        text-align: right;\n",
       "    }\n",
       "</style>\n",
       "<table border=\"1\" class=\"dataframe\">\n",
       "  <thead>\n",
       "    <tr style=\"text-align: right;\">\n",
       "      <th></th>\n",
       "      <th>Name</th>\n",
       "      <th>Runs</th>\n",
       "      <th>Ave</th>\n",
       "      <th>SR</th>\n",
       "      <th>Fours</th>\n",
       "      <th>Sixes</th>\n",
       "      <th>HF</th>\n",
       "      <th>Scores</th>\n",
       "    </tr>\n",
       "  </thead>\n",
       "  <tbody>\n",
       "    <tr>\n",
       "      <th>1</th>\n",
       "      <td>CH Gayle</td>\n",
       "      <td>733.0</td>\n",
       "      <td>61.08</td>\n",
       "      <td>160.74</td>\n",
       "      <td>46.0</td>\n",
       "      <td>59.0</td>\n",
       "      <td>9.0</td>\n",
       "      <td>11.746621</td>\n",
       "    </tr>\n",
       "    <tr>\n",
       "      <th>3</th>\n",
       "      <td>G Gambhir</td>\n",
       "      <td>590.0</td>\n",
       "      <td>36.87</td>\n",
       "      <td>143.55</td>\n",
       "      <td>64.0</td>\n",
       "      <td>17.0</td>\n",
       "      <td>6.0</td>\n",
       "      <td>8.686311</td>\n",
       "    </tr>\n",
       "    <tr>\n",
       "      <th>5</th>\n",
       "      <td>V Sehwag</td>\n",
       "      <td>495.0</td>\n",
       "      <td>33.00</td>\n",
       "      <td>161.23</td>\n",
       "      <td>57.0</td>\n",
       "      <td>19.0</td>\n",
       "      <td>5.0</td>\n",
       "      <td>6.472982</td>\n",
       "    </tr>\n",
       "    <tr>\n",
       "      <th>7</th>\n",
       "      <td>CL White</td>\n",
       "      <td>479.0</td>\n",
       "      <td>43.54</td>\n",
       "      <td>149.68</td>\n",
       "      <td>41.0</td>\n",
       "      <td>20.0</td>\n",
       "      <td>5.0</td>\n",
       "      <td>6.065188</td>\n",
       "    </tr>\n",
       "    <tr>\n",
       "      <th>9</th>\n",
       "      <td>S Dhawan</td>\n",
       "      <td>569.0</td>\n",
       "      <td>40.64</td>\n",
       "      <td>129.61</td>\n",
       "      <td>58.0</td>\n",
       "      <td>18.0</td>\n",
       "      <td>5.0</td>\n",
       "      <td>7.960898</td>\n",
       "    </tr>\n",
       "    <tr>\n",
       "      <th>...</th>\n",
       "      <td>...</td>\n",
       "      <td>...</td>\n",
       "      <td>...</td>\n",
       "      <td>...</td>\n",
       "      <td>...</td>\n",
       "      <td>...</td>\n",
       "      <td>...</td>\n",
       "      <td>...</td>\n",
       "    </tr>\n",
       "    <tr>\n",
       "      <th>171</th>\n",
       "      <td>Z Khan</td>\n",
       "      <td>12.0</td>\n",
       "      <td>6.00</td>\n",
       "      <td>70.58</td>\n",
       "      <td>1.0</td>\n",
       "      <td>0.0</td>\n",
       "      <td>0.0</td>\n",
       "      <td>4.308117</td>\n",
       "    </tr>\n",
       "    <tr>\n",
       "      <th>173</th>\n",
       "      <td>WD Parnell</td>\n",
       "      <td>19.0</td>\n",
       "      <td>4.75</td>\n",
       "      <td>70.37</td>\n",
       "      <td>2.0</td>\n",
       "      <td>0.0</td>\n",
       "      <td>0.0</td>\n",
       "      <td>4.167350</td>\n",
       "    </tr>\n",
       "    <tr>\n",
       "      <th>175</th>\n",
       "      <td>PC Valthaty</td>\n",
       "      <td>30.0</td>\n",
       "      <td>5.00</td>\n",
       "      <td>58.82</td>\n",
       "      <td>4.0</td>\n",
       "      <td>0.0</td>\n",
       "      <td>0.0</td>\n",
       "      <td>3.922369</td>\n",
       "    </tr>\n",
       "    <tr>\n",
       "      <th>177</th>\n",
       "      <td>RP Singh</td>\n",
       "      <td>6.0</td>\n",
       "      <td>3.00</td>\n",
       "      <td>50.00</td>\n",
       "      <td>0.0</td>\n",
       "      <td>0.0</td>\n",
       "      <td>0.0</td>\n",
       "      <td>4.395088</td>\n",
       "    </tr>\n",
       "    <tr>\n",
       "      <th>179</th>\n",
       "      <td>R Sharma</td>\n",
       "      <td>2.0</td>\n",
       "      <td>0.50</td>\n",
       "      <td>18.18</td>\n",
       "      <td>0.0</td>\n",
       "      <td>0.0</td>\n",
       "      <td>0.0</td>\n",
       "      <td>4.416607</td>\n",
       "    </tr>\n",
       "  </tbody>\n",
       "</table>\n",
       "<p>90 rows × 8 columns</p>\n",
       "</div>"
      ],
      "text/plain": [
       "            Name   Runs    Ave      SR  Fours  Sixes   HF     Scores\n",
       "1       CH Gayle  733.0  61.08  160.74   46.0   59.0  9.0  11.746621\n",
       "3      G Gambhir  590.0  36.87  143.55   64.0   17.0  6.0   8.686311\n",
       "5       V Sehwag  495.0  33.00  161.23   57.0   19.0  5.0   6.472982\n",
       "7       CL White  479.0  43.54  149.68   41.0   20.0  5.0   6.065188\n",
       "9       S Dhawan  569.0  40.64  129.61   58.0   18.0  5.0   7.960898\n",
       "..           ...    ...    ...     ...    ...    ...  ...        ...\n",
       "171       Z Khan   12.0   6.00   70.58    1.0    0.0  0.0   4.308117\n",
       "173   WD Parnell   19.0   4.75   70.37    2.0    0.0  0.0   4.167350\n",
       "175  PC Valthaty   30.0   5.00   58.82    4.0    0.0  0.0   3.922369\n",
       "177     RP Singh    6.0   3.00   50.00    0.0    0.0  0.0   4.395088\n",
       "179     R Sharma    2.0   0.50   18.18    0.0    0.0  0.0   4.416607\n",
       "\n",
       "[90 rows x 8 columns]"
      ]
     },
     "execution_count": 8,
     "metadata": {},
     "output_type": "execute_result"
    }
   ],
   "source": [
    "# Calculate scores\n",
    "\n",
    "import math\n",
    "\n",
    "def zerolistmaker(n):\n",
    "    listofzeros = [0] * n\n",
    "    return listofzeros\n",
    "\n",
    "b=zerolistmaker(len(eig_vals))\n",
    "b1=zerolistmaker(len(eig_vals))\n",
    "b2=zerolistmaker(len(eig_vals))\n",
    "b3=zerolistmaker(len(eig_vals))\n",
    "\n",
    "EV1=eig_vecs[:,0]\n",
    "for i in range(0,len(eig_vals)):\n",
    "    b1[i]=EV1[i]*math.sqrt(eig_vals[i])\n",
    "\n",
    "    \n",
    "EV2=eig_vecs[:,1]\n",
    "for i in range(0,len(eig_vals)):\n",
    "    b2[i]=EV2[i]*math.sqrt(eig_vals[i])\n",
    "\n",
    "    \n",
    "EV3=eig_vecs[:,2]\n",
    "for i in range(0,len(eig_vals)):\n",
    "    b3[i]=EV3[i]*math.sqrt(eig_vals[i])\n",
    "\n",
    "\n",
    "for i in range(0,len(eig_vals)):\n",
    "    b[i]=b1[i]+b2[i]+b3[i]\n",
    "\n",
    "\n",
    "    \n",
    "print(\"PCA Loadings:\",b)\n",
    "\n",
    "z = np.array(b)\n",
    "print(z)\n",
    "\n",
    "DB['Scores'] = abs(np.matmul(DB_S, z.T))\n",
    "\n",
    "DB"
   ]
  },
  {
   "cell_type": "code",
   "execution_count": 9,
   "metadata": {},
   "outputs": [
    {
     "data": {
      "text/plain": [
       "<BarContainer object of 20 artists>"
      ]
     },
     "execution_count": 9,
     "metadata": {},
     "output_type": "execute_result"
    },
    {
     "data": {
      "image/png": "[encoded data removed]",
      "text/plain": [
       "<Figure size 2160x720 with 1 Axes>"
      ]
     },
     "metadata": {
      "needs_background": "light"
     },
     "output_type": "display_data"
    }
   ],
   "source": [
    "# Top 20 players\n",
    "\n",
    "DBsorted=DB.sort_values(by=['Scores'],ascending=False)\n",
    "plt.figure(figsize=(30 ,10))\n",
    "Top10=DBsorted.head(20)\n",
    "plt.bar(Top10['Name'],Top10['Scores'])"
   ]
  },
  {
   "cell_type": "markdown",
   "metadata": {},
   "source": [
    "                                        END"
   ]
  },
  {
   "cell_type": "markdown",
   "metadata": {},
   "source": [
    "\n",
    "_________________________________________________________________\n",
    "\n",
    "©Great Learning. Proprietary content. All Rights Reserved. Unauthorised use or distribution prohibited\n",
    "________________________________________________________"
   ]
  }
 ],
 "metadata": {
  "kernelspec": {
   "display_name": "Python 3",
   "language": "python",
   "name": "python3"
  },
  "language_info": {
   "codemirror_mode": {
    "name": "ipython",
    "version": 3
   },
   "file_extension": ".py",
   "mimetype": "text/x-python",
   "name": "python",
   "nbconvert_exporter": "python",
   "pygments_lexer": "ipython3",
   "version": "3.7.7"
  }
 },
 "nbformat": 4,
 "nbformat_minor": 4
}
