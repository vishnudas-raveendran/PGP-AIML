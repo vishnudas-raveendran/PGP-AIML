{
 "cells": [
  {
   "cell_type": "markdown",
   "metadata": {},
   "source": [
    "# Unsupervised learning - Assessment Project\n",
    "\n",
    "### Additional help material\n",
    "\n",
    "- Author: Krishnav Dave"
   ]
  },
  {
   "cell_type": "markdown",
   "metadata": {},
   "source": [
    "#### Part 1: "
   ]
  },
  {
   "cell_type": "markdown",
   "metadata": {},
   "source": [
    "- All steps are provided in the problem statement to execute this part"
   ]
  },
  {
   "cell_type": "markdown",
   "metadata": {},
   "source": [
    "#### Part 2: "
   ]
  },
  {
   "cell_type": "markdown",
   "metadata": {},
   "source": [
    "- Target variable of the existing dataset has missing values.\n",
    "- Use the dataset ( ignore the existing target ) to generate clusters ( new potential target )\n",
    "- Compare the clusters with the existing target and find if they follow similar pattern.\n",
    "- If you find a similar pattern replace the newly predicted cluster with original missing targets from dataset"
   ]
  },
  {
   "cell_type": "markdown",
   "metadata": {},
   "source": [
    "#### Part 3: "
   ]
  },
  {
   "cell_type": "markdown",
   "metadata": {},
   "source": [
    "- All steps are provided in the problem statement to execute this part"
   ]
  },
  {
   "cell_type": "markdown",
   "metadata": {},
   "source": [
    "#### Part 4: "
   ]
  },
  {
   "cell_type": "markdown",
   "metadata": {},
   "source": [
    "- Sports dataset is provided, use the same to implement PCA.\n",
    "- Obtain eigen values and eigen vectors from the above.\n",
    "- Perform a mathematical operation between eigen value, eigen vectors and the original dataset to arrive to a single digit score.\n",
    "    - example: \n",
    "                - Say we chose 2 PCs\n",
    "                - Score for PC1= Eigen vector * Eigen values\n",
    "                - Similarly calculate score for all chose PCs\n",
    "                - Add all the score up to get a final score\n",
    "- Descending sort the players as per their above calculated scores."
   ]
  },
  {
   "cell_type": "markdown",
   "metadata": {},
   "source": [
    "##### Part 5:"
   ]
  },
  {
   "cell_type": "markdown",
   "metadata": {},
   "source": [
    "- There are many dimensional reduction techniques available. Please list them.\n",
    "- For dmiensional reduction on multimedia data. PFB approach for dimensional reduction for images: \n",
    "\n",
    "    - Import images into python using PIL or any other python image library\n",
    "    - Display the image - actual\n",
    "    - Display the image - matrix (hint: Image is a MXN matrix of number )\n",
    "    - SL algorithms require a MxN dataframe to classify. Whereas here a single image is MxN, hence making it difficult for SL algorithm to intake data. \n",
    "        - Hint solution: Flatten each image i.e. MxN ---> 1X(M*N)\n",
    "    - Apply SL algorithm like KNN or SVM or any other algorithm of your choice. Note the accuracy (A1)\n",
    "    - Use the image matrix to perform pPCA on it. \n",
    "    - Apply the same SL algorithm as used above on the dimensionally reduced data . Note the accuracy (A2)\n",
    "    - Compare A1 ~ A2. If they are similar then dimesional reduction has worked on image.\n",
    "    \n",
    "Reference link: https://www.kaggle.com/hamishdickson/preprocessing-images-with-dimensionality-reduction"
   ]
  },
  {
   "cell_type": "markdown",
   "metadata": {},
   "source": [
    "END"
   ]
  }
 ],
 "metadata": {
  "kernelspec": {
   "display_name": "Python 3",
   "language": "python",
   "name": "python3"
  },
  "language_info": {
   "codemirror_mode": {
    "name": "ipython",
    "version": 3
   },
   "file_extension": ".py",
   "mimetype": "text/x-python",
   "name": "python",
   "nbconvert_exporter": "python",
   "pygments_lexer": "ipython3",
   "version": "3.8.8"
  }
 },
 "nbformat": 4,
 "nbformat_minor": 4
}
