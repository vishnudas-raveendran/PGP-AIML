{
  "nbformat": 4,
  "nbformat_minor": 0,
  "metadata": {
    "colab": {
      "name": "NLP Project 2 Part B Sarcasm Detection",
      "provenance": [],
      "authorship_tag": "ABX9TyP2PXH9FGI54O+NHsNOUqiT",
      "include_colab_link": true
    },
    "kernelspec": {
      "name": "python3",
      "display_name": "Python 3"
    },
    "language_info": {
      "name": "python"
    }
  },
  "cells": [
    {
      "cell_type": "markdown",
      "metadata": {
        "id": "view-in-github",
        "colab_type": "text"
      },
      "source": [
        "<a href=\"https://colab.research.google.com/github/vishnudas-raveendran/PGP-AIML/blob/master/NLP/Project%202/NLP_Project_2_Part_B_Sarcasm_Detection.ipynb\" target=\"_parent\"><img src=\"https://colab.research.google.com/assets/colab-badge.svg\" alt=\"Open In Colab\"/></a>"
      ]
    },
    {
      "cell_type": "markdown",
      "source": [
        "# NLP Project 2: Part B\n",
        "\n",
        "The goal is to build a model to detect whether a sentence is sarcastic or not, using Bidirectional LSTMs."
      ],
      "metadata": {
        "id": "OLRY-yr4Tozk"
      }
    },
    {
      "cell_type": "markdown",
      "source": [
        "## 1. Read and Explore Dataset"
      ],
      "metadata": {
        "id": "w3ykQ2nTy7wC"
      }
    },
    {
      "cell_type": "code",
      "source": [
        "!wget https://github.com/rishabhmisra/News-Headlines-Dataset-For-Sarcasm-Detection/raw/master/Sarcasm_Headlines_Dataset.json"
      ],
      "metadata": {
        "colab": {
          "base_uri": "https://localhost:8080/"
        },
        "id": "KJZqT4-XUslO",
        "outputId": "b1a299dc-dbc6-4945-b166-33913824858f"
      },
      "execution_count": 2,
      "outputs": [
        {
          "output_type": "stream",
          "name": "stdout",
          "text": [
            "--2022-03-22 18:51:15--  https://github.com/rishabhmisra/News-Headlines-Dataset-For-Sarcasm-Detection/raw/master/Sarcasm_Headlines_Dataset.json\n",
            "Resolving github.com (github.com)... 140.82.121.4\n",
            "Connecting to github.com (github.com)|140.82.121.4|:443... connected.\n",
            "HTTP request sent, awaiting response... 302 Found\n",
            "Location: https://raw.githubusercontent.com/rishabhmisra/News-Headlines-Dataset-For-Sarcasm-Detection/master/Sarcasm_Headlines_Dataset.json [following]\n",
            "--2022-03-22 18:51:16--  https://raw.githubusercontent.com/rishabhmisra/News-Headlines-Dataset-For-Sarcasm-Detection/master/Sarcasm_Headlines_Dataset.json\n",
            "Resolving raw.githubusercontent.com (raw.githubusercontent.com)... 185.199.109.133, 185.199.108.133, 185.199.111.133, ...\n",
            "Connecting to raw.githubusercontent.com (raw.githubusercontent.com)|185.199.109.133|:443... connected.\n",
            "HTTP request sent, awaiting response... 200 OK\n",
            "Length: 6057046 (5.8M) [text/plain]\n",
            "Saving to: ‘Sarcasm_Headlines_Dataset.json’\n",
            "\n",
            "Sarcasm_Headlines_D 100%[===================>]   5.78M  --.-KB/s    in 0.03s   \n",
            "\n",
            "2022-03-22 18:51:17 (176 MB/s) - ‘Sarcasm_Headlines_Dataset.json’ saved [6057046/6057046]\n",
            "\n"
          ]
        }
      ]
    },
    {
      "cell_type": "code",
      "source": [
        "def parseJson(fname):\n",
        "    for line in open(fname, 'r'):\n",
        "        yield eval(line)"
      ],
      "metadata": {
        "id": "dc6by27qVBMQ"
      },
      "execution_count": 3,
      "outputs": []
    },
    {
      "cell_type": "code",
      "source": [
        "data = list(parseJson('./Sarcasm_Headlines_Dataset.json'))"
      ],
      "metadata": {
        "id": "iwhHlWw7VD_p"
      },
      "execution_count": 4,
      "outputs": []
    },
    {
      "cell_type": "code",
      "source": [
        "import pandas as pd\n",
        "\n",
        "from tensorflow.keras.preprocessing.text import Tokenizer\n",
        "from tensorflow.keras.preprocessing.sequence import pad_sequences\n",
        "from tensorflow.keras.layers import Dense, Input, LSTM, Embedding, Dropout, Activation, Flatten, Bidirectional, GlobalMaxPool1D\n",
        "from tensorflow.keras.models import Model, Sequential\n",
        "from sklearn.model_selection import train_test_split\n",
        "import numpy as np\n",
        "import pickle\n",
        "import warnings\n",
        "import logging\n",
        "logging.basicConfig(level=logging.INFO)\n"
      ],
      "metadata": {
        "id": "uZi6OG2syiIo"
      },
      "execution_count": 1,
      "outputs": []
    },
    {
      "cell_type": "code",
      "source": [
        "df = pd.DataFrame(data)"
      ],
      "metadata": {
        "id": "jUSP41qnyamQ"
      },
      "execution_count": 5,
      "outputs": []
    },
    {
      "cell_type": "code",
      "source": [
        "df = pd.read_json(\"Sarcasm_Headlines_Dataset.json\", lines=True)"
      ],
      "metadata": {
        "id": "fzMOQiub-lEp"
      },
      "execution_count": 12,
      "outputs": []
    },
    {
      "cell_type": "code",
      "source": [
        "df.shape"
      ],
      "metadata": {
        "colab": {
          "base_uri": "https://localhost:8080/"
        },
        "id": "qTIvrRpcyoI0",
        "outputId": "dc7d0c9c-6c9a-414a-ae5f-60b39ba9e141"
      },
      "execution_count": 6,
      "outputs": [
        {
          "output_type": "execute_result",
          "data": {
            "text/plain": [
              "(28619, 3)"
            ]
          },
          "metadata": {},
          "execution_count": 6
        }
      ]
    },
    {
      "cell_type": "code",
      "source": [
        "df.head()"
      ],
      "metadata": {
        "colab": {
          "base_uri": "https://localhost:8080/",
          "height": 206
        },
        "id": "HxY730h4yqD6",
        "outputId": "e7540e0d-f6a4-48cc-d54f-1185f3cb55da"
      },
      "execution_count": 7,
      "outputs": [
        {
          "output_type": "execute_result",
          "data": {
            "text/plain": [
              "   is_sarcastic                                           headline  \\\n",
              "0             1  thirtysomething scientists unveil doomsday clo...   \n",
              "1             0  dem rep. totally nails why congress is falling...   \n",
              "2             0  eat your veggies: 9 deliciously different recipes   \n",
              "3             1  inclement weather prevents liar from getting t...   \n",
              "4             1  mother comes pretty close to using word 'strea...   \n",
              "\n",
              "                                        article_link  \n",
              "0  https://www.theonion.com/thirtysomething-scien...  \n",
              "1  https://www.huffingtonpost.com/entry/donna-edw...  \n",
              "2  https://www.huffingtonpost.com/entry/eat-your-...  \n",
              "3  https://local.theonion.com/inclement-weather-p...  \n",
              "4  https://www.theonion.com/mother-comes-pretty-c...  "
            ],
            "text/html": [
              "\n",
              "  <div id=\"df-354fb51c-439b-46e2-a52f-a5afd93c0fbe\">\n",
              "    <div class=\"colab-df-container\">\n",
              "      <div>\n",
              "<style scoped>\n",
              "    .dataframe tbody tr th:only-of-type {\n",
              "        vertical-align: middle;\n",
              "    }\n",
              "\n",
              "    .dataframe tbody tr th {\n",
              "        vertical-align: top;\n",
              "    }\n",
              "\n",
              "    .dataframe thead th {\n",
              "        text-align: right;\n",
              "    }\n",
              "</style>\n",
              "<table border=\"1\" class=\"dataframe\">\n",
              "  <thead>\n",
              "    <tr style=\"text-align: right;\">\n",
              "      <th></th>\n",
              "      <th>is_sarcastic</th>\n",
              "      <th>headline</th>\n",
              "      <th>article_link</th>\n",
              "    </tr>\n",
              "  </thead>\n",
              "  <tbody>\n",
              "    <tr>\n",
              "      <th>0</th>\n",
              "      <td>1</td>\n",
              "      <td>thirtysomething scientists unveil doomsday clo...</td>\n",
              "      <td>https://www.theonion.com/thirtysomething-scien...</td>\n",
              "    </tr>\n",
              "    <tr>\n",
              "      <th>1</th>\n",
              "      <td>0</td>\n",
              "      <td>dem rep. totally nails why congress is falling...</td>\n",
              "      <td>https://www.huffingtonpost.com/entry/donna-edw...</td>\n",
              "    </tr>\n",
              "    <tr>\n",
              "      <th>2</th>\n",
              "      <td>0</td>\n",
              "      <td>eat your veggies: 9 deliciously different recipes</td>\n",
              "      <td>https://www.huffingtonpost.com/entry/eat-your-...</td>\n",
              "    </tr>\n",
              "    <tr>\n",
              "      <th>3</th>\n",
              "      <td>1</td>\n",
              "      <td>inclement weather prevents liar from getting t...</td>\n",
              "      <td>https://local.theonion.com/inclement-weather-p...</td>\n",
              "    </tr>\n",
              "    <tr>\n",
              "      <th>4</th>\n",
              "      <td>1</td>\n",
              "      <td>mother comes pretty close to using word 'strea...</td>\n",
              "      <td>https://www.theonion.com/mother-comes-pretty-c...</td>\n",
              "    </tr>\n",
              "  </tbody>\n",
              "</table>\n",
              "</div>\n",
              "      <button class=\"colab-df-convert\" onclick=\"convertToInteractive('df-354fb51c-439b-46e2-a52f-a5afd93c0fbe')\"\n",
              "              title=\"Convert this dataframe to an interactive table.\"\n",
              "              style=\"display:none;\">\n",
              "        \n",
              "  <svg xmlns=\"http://www.w3.org/2000/svg\" height=\"24px\"viewBox=\"0 0 24 24\"\n",
              "       width=\"24px\">\n",
              "    <path d=\"M0 0h24v24H0V0z\" fill=\"none\"/>\n",
              "    <path d=\"M18.56 5.44l.94 2.06.94-2.06 2.06-.94-2.06-.94-.94-2.06-.94 2.06-2.06.94zm-11 1L8.5 8.5l.94-2.06 2.06-.94-2.06-.94L8.5 2.5l-.94 2.06-2.06.94zm10 10l.94 2.06.94-2.06 2.06-.94-2.06-.94-.94-2.06-.94 2.06-2.06.94z\"/><path d=\"M17.41 7.96l-1.37-1.37c-.4-.4-.92-.59-1.43-.59-.52 0-1.04.2-1.43.59L10.3 9.45l-7.72 7.72c-.78.78-.78 2.05 0 2.83L4 21.41c.39.39.9.59 1.41.59.51 0 1.02-.2 1.41-.59l7.78-7.78 2.81-2.81c.8-.78.8-2.07 0-2.86zM5.41 20L4 18.59l7.72-7.72 1.47 1.35L5.41 20z\"/>\n",
              "  </svg>\n",
              "      </button>\n",
              "      \n",
              "  <style>\n",
              "    .colab-df-container {\n",
              "      display:flex;\n",
              "      flex-wrap:wrap;\n",
              "      gap: 12px;\n",
              "    }\n",
              "\n",
              "    .colab-df-convert {\n",
              "      background-color: #E8F0FE;\n",
              "      border: none;\n",
              "      border-radius: 50%;\n",
              "      cursor: pointer;\n",
              "      display: none;\n",
              "      fill: #1967D2;\n",
              "      height: 32px;\n",
              "      padding: 0 0 0 0;\n",
              "      width: 32px;\n",
              "    }\n",
              "\n",
              "    .colab-df-convert:hover {\n",
              "      background-color: #E2EBFA;\n",
              "      box-shadow: 0px 1px 2px rgba(60, 64, 67, 0.3), 0px 1px 3px 1px rgba(60, 64, 67, 0.15);\n",
              "      fill: #174EA6;\n",
              "    }\n",
              "\n",
              "    [theme=dark] .colab-df-convert {\n",
              "      background-color: #3B4455;\n",
              "      fill: #D2E3FC;\n",
              "    }\n",
              "\n",
              "    [theme=dark] .colab-df-convert:hover {\n",
              "      background-color: #434B5C;\n",
              "      box-shadow: 0px 1px 3px 1px rgba(0, 0, 0, 0.15);\n",
              "      filter: drop-shadow(0px 1px 2px rgba(0, 0, 0, 0.3));\n",
              "      fill: #FFFFFF;\n",
              "    }\n",
              "  </style>\n",
              "\n",
              "      <script>\n",
              "        const buttonEl =\n",
              "          document.querySelector('#df-354fb51c-439b-46e2-a52f-a5afd93c0fbe button.colab-df-convert');\n",
              "        buttonEl.style.display =\n",
              "          google.colab.kernel.accessAllowed ? 'block' : 'none';\n",
              "\n",
              "        async function convertToInteractive(key) {\n",
              "          const element = document.querySelector('#df-354fb51c-439b-46e2-a52f-a5afd93c0fbe');\n",
              "          const dataTable =\n",
              "            await google.colab.kernel.invokeFunction('convertToInteractive',\n",
              "                                                     [key], {});\n",
              "          if (!dataTable) return;\n",
              "\n",
              "          const docLinkHtml = 'Like what you see? Visit the ' +\n",
              "            '<a target=\"_blank\" href=https://colab.research.google.com/notebooks/data_table.ipynb>data table notebook</a>'\n",
              "            + ' to learn more about interactive tables.';\n",
              "          element.innerHTML = '';\n",
              "          dataTable['output_type'] = 'display_data';\n",
              "          await google.colab.output.renderOutput(dataTable, element);\n",
              "          const docLink = document.createElement('div');\n",
              "          docLink.innerHTML = docLinkHtml;\n",
              "          element.appendChild(docLink);\n",
              "        }\n",
              "      </script>\n",
              "    </div>\n",
              "  </div>\n",
              "  "
            ]
          },
          "metadata": {},
          "execution_count": 7
        }
      ]
    },
    {
      "cell_type": "markdown",
      "source": [
        "## 2. Retain relevant columns"
      ],
      "metadata": {
        "id": "-KzB_viTzCLA"
      }
    },
    {
      "cell_type": "markdown",
      "source": [
        "Since we are planning to use only headline to detect sarcasm, we can remove the link to the article from dataframe"
      ],
      "metadata": {
        "id": "jeUNBwegzIII"
      }
    },
    {
      "cell_type": "code",
      "source": [
        "df = df.drop(columns=['article_link'])"
      ],
      "metadata": {
        "id": "mKAZKfw0zBww"
      },
      "execution_count": 6,
      "outputs": []
    },
    {
      "cell_type": "code",
      "source": [
        "df.head()"
      ],
      "metadata": {
        "colab": {
          "base_uri": "https://localhost:8080/",
          "height": 206
        },
        "id": "ThmYjfx8zUmO",
        "outputId": "3cd77458-377e-49bd-c7fb-d5bf576c50c2"
      },
      "execution_count": 9,
      "outputs": [
        {
          "output_type": "execute_result",
          "data": {
            "text/plain": [
              "   is_sarcastic                                           headline\n",
              "0             1  thirtysomething scientists unveil doomsday clo...\n",
              "1             0  dem rep. totally nails why congress is falling...\n",
              "2             0  eat your veggies: 9 deliciously different recipes\n",
              "3             1  inclement weather prevents liar from getting t...\n",
              "4             1  mother comes pretty close to using word 'strea..."
            ],
            "text/html": [
              "\n",
              "  <div id=\"df-4d067026-4c6e-486e-9dea-7c4276314b3f\">\n",
              "    <div class=\"colab-df-container\">\n",
              "      <div>\n",
              "<style scoped>\n",
              "    .dataframe tbody tr th:only-of-type {\n",
              "        vertical-align: middle;\n",
              "    }\n",
              "\n",
              "    .dataframe tbody tr th {\n",
              "        vertical-align: top;\n",
              "    }\n",
              "\n",
              "    .dataframe thead th {\n",
              "        text-align: right;\n",
              "    }\n",
              "</style>\n",
              "<table border=\"1\" class=\"dataframe\">\n",
              "  <thead>\n",
              "    <tr style=\"text-align: right;\">\n",
              "      <th></th>\n",
              "      <th>is_sarcastic</th>\n",
              "      <th>headline</th>\n",
              "    </tr>\n",
              "  </thead>\n",
              "  <tbody>\n",
              "    <tr>\n",
              "      <th>0</th>\n",
              "      <td>1</td>\n",
              "      <td>thirtysomething scientists unveil doomsday clo...</td>\n",
              "    </tr>\n",
              "    <tr>\n",
              "      <th>1</th>\n",
              "      <td>0</td>\n",
              "      <td>dem rep. totally nails why congress is falling...</td>\n",
              "    </tr>\n",
              "    <tr>\n",
              "      <th>2</th>\n",
              "      <td>0</td>\n",
              "      <td>eat your veggies: 9 deliciously different recipes</td>\n",
              "    </tr>\n",
              "    <tr>\n",
              "      <th>3</th>\n",
              "      <td>1</td>\n",
              "      <td>inclement weather prevents liar from getting t...</td>\n",
              "    </tr>\n",
              "    <tr>\n",
              "      <th>4</th>\n",
              "      <td>1</td>\n",
              "      <td>mother comes pretty close to using word 'strea...</td>\n",
              "    </tr>\n",
              "  </tbody>\n",
              "</table>\n",
              "</div>\n",
              "      <button class=\"colab-df-convert\" onclick=\"convertToInteractive('df-4d067026-4c6e-486e-9dea-7c4276314b3f')\"\n",
              "              title=\"Convert this dataframe to an interactive table.\"\n",
              "              style=\"display:none;\">\n",
              "        \n",
              "  <svg xmlns=\"http://www.w3.org/2000/svg\" height=\"24px\"viewBox=\"0 0 24 24\"\n",
              "       width=\"24px\">\n",
              "    <path d=\"M0 0h24v24H0V0z\" fill=\"none\"/>\n",
              "    <path d=\"M18.56 5.44l.94 2.06.94-2.06 2.06-.94-2.06-.94-.94-2.06-.94 2.06-2.06.94zm-11 1L8.5 8.5l.94-2.06 2.06-.94-2.06-.94L8.5 2.5l-.94 2.06-2.06.94zm10 10l.94 2.06.94-2.06 2.06-.94-2.06-.94-.94-2.06-.94 2.06-2.06.94z\"/><path d=\"M17.41 7.96l-1.37-1.37c-.4-.4-.92-.59-1.43-.59-.52 0-1.04.2-1.43.59L10.3 9.45l-7.72 7.72c-.78.78-.78 2.05 0 2.83L4 21.41c.39.39.9.59 1.41.59.51 0 1.02-.2 1.41-.59l7.78-7.78 2.81-2.81c.8-.78.8-2.07 0-2.86zM5.41 20L4 18.59l7.72-7.72 1.47 1.35L5.41 20z\"/>\n",
              "  </svg>\n",
              "      </button>\n",
              "      \n",
              "  <style>\n",
              "    .colab-df-container {\n",
              "      display:flex;\n",
              "      flex-wrap:wrap;\n",
              "      gap: 12px;\n",
              "    }\n",
              "\n",
              "    .colab-df-convert {\n",
              "      background-color: #E8F0FE;\n",
              "      border: none;\n",
              "      border-radius: 50%;\n",
              "      cursor: pointer;\n",
              "      display: none;\n",
              "      fill: #1967D2;\n",
              "      height: 32px;\n",
              "      padding: 0 0 0 0;\n",
              "      width: 32px;\n",
              "    }\n",
              "\n",
              "    .colab-df-convert:hover {\n",
              "      background-color: #E2EBFA;\n",
              "      box-shadow: 0px 1px 2px rgba(60, 64, 67, 0.3), 0px 1px 3px 1px rgba(60, 64, 67, 0.15);\n",
              "      fill: #174EA6;\n",
              "    }\n",
              "\n",
              "    [theme=dark] .colab-df-convert {\n",
              "      background-color: #3B4455;\n",
              "      fill: #D2E3FC;\n",
              "    }\n",
              "\n",
              "    [theme=dark] .colab-df-convert:hover {\n",
              "      background-color: #434B5C;\n",
              "      box-shadow: 0px 1px 3px 1px rgba(0, 0, 0, 0.15);\n",
              "      filter: drop-shadow(0px 1px 2px rgba(0, 0, 0, 0.3));\n",
              "      fill: #FFFFFF;\n",
              "    }\n",
              "  </style>\n",
              "\n",
              "      <script>\n",
              "        const buttonEl =\n",
              "          document.querySelector('#df-4d067026-4c6e-486e-9dea-7c4276314b3f button.colab-df-convert');\n",
              "        buttonEl.style.display =\n",
              "          google.colab.kernel.accessAllowed ? 'block' : 'none';\n",
              "\n",
              "        async function convertToInteractive(key) {\n",
              "          const element = document.querySelector('#df-4d067026-4c6e-486e-9dea-7c4276314b3f');\n",
              "          const dataTable =\n",
              "            await google.colab.kernel.invokeFunction('convertToInteractive',\n",
              "                                                     [key], {});\n",
              "          if (!dataTable) return;\n",
              "\n",
              "          const docLinkHtml = 'Like what you see? Visit the ' +\n",
              "            '<a target=\"_blank\" href=https://colab.research.google.com/notebooks/data_table.ipynb>data table notebook</a>'\n",
              "            + ' to learn more about interactive tables.';\n",
              "          element.innerHTML = '';\n",
              "          dataTable['output_type'] = 'display_data';\n",
              "          await google.colab.output.renderOutput(dataTable, element);\n",
              "          const docLink = document.createElement('div');\n",
              "          docLink.innerHTML = docLinkHtml;\n",
              "          element.appendChild(docLink);\n",
              "        }\n",
              "      </script>\n",
              "    </div>\n",
              "  </div>\n",
              "  "
            ]
          },
          "metadata": {},
          "execution_count": 9
        }
      ]
    },
    {
      "cell_type": "markdown",
      "source": [
        "## 3. Get length of each sentence"
      ],
      "metadata": {
        "id": "9w7vF-YpzYi2"
      }
    },
    {
      "cell_type": "code",
      "source": [
        "length = df['headline'].apply(len)"
      ],
      "metadata": {
        "id": "mFjVSy3lznAv"
      },
      "execution_count": 10,
      "outputs": []
    },
    {
      "cell_type": "code",
      "source": [
        "length"
      ],
      "metadata": {
        "colab": {
          "base_uri": "https://localhost:8080/"
        },
        "id": "cIvRqI4-0PHq",
        "outputId": "eda7c443-ae8a-4f83-bee0-21c9992db94a"
      },
      "execution_count": 11,
      "outputs": [
        {
          "output_type": "execute_result",
          "data": {
            "text/plain": [
              "0        61\n",
              "1        79\n",
              "2        49\n",
              "3        52\n",
              "4        61\n",
              "         ..\n",
              "28614    44\n",
              "28615    87\n",
              "28616    71\n",
              "28617    61\n",
              "28618    34\n",
              "Name: headline, Length: 28619, dtype: int64"
            ]
          },
          "metadata": {},
          "execution_count": 11
        }
      ]
    },
    {
      "cell_type": "code",
      "source": [
        "print(f\"\\nHeadline Characteristics: \\n\\nMin length: {length.min()}\\nMax Length: {length.max()}\\nStdDev: {length.std()}\\nMean: {length.mean()}\")"
      ],
      "metadata": {
        "colab": {
          "base_uri": "https://localhost:8080/"
        },
        "id": "l21pvElS14bl",
        "outputId": "4f6911a3-fca8-4a15-aa5c-0a13f8dff04e"
      },
      "execution_count": 12,
      "outputs": [
        {
          "output_type": "stream",
          "name": "stdout",
          "text": [
            "\n",
            "Headline Characteristics: \n",
            "\n",
            "Min length: 7\n",
            "Max Length: 926\n",
            "StdDev: 20.726483379171803\n",
            "Mean: 62.30857122890387\n"
          ]
        }
      ]
    },
    {
      "cell_type": "markdown",
      "source": [
        "## 4. Define Parameters"
      ],
      "metadata": {
        "id": "CtKSmXA31ph-"
      }
    },
    {
      "cell_type": "code",
      "source": [
        "MAX_NB_WORDS=10000\n",
        "MAX_SEQUENCE_LENGTH=100\n",
        "TOKENIZER_MODEL_FILE = \"tokenizer.pkl\"\n",
        "RANDOM_SEED = 42\n",
        "word_index =\"\""
      ],
      "metadata": {
        "id": "SSJWlBd82o9a"
      },
      "execution_count": 18,
      "outputs": []
    },
    {
      "cell_type": "markdown",
      "source": [
        "## 5. Get Indices for words"
      ],
      "metadata": {
        "id": "0fVAJQ8t3RCd"
      }
    },
    {
      "cell_type": "code",
      "source": [
        "tokenizer = Tokenizer(num_words=MAX_NB_WORDS)\n",
        "tokenizer.fit_on_texts(df['headline'])"
      ],
      "metadata": {
        "id": "lkSvldXe3Tk7"
      },
      "execution_count": 26,
      "outputs": []
    },
    {
      "cell_type": "code",
      "source": [
        "tokenizer.word_index"
      ],
      "metadata": {
        "colab": {
          "base_uri": "https://localhost:8080/"
        },
        "id": "6YX9RvXs_uiV",
        "outputId": "7d5b679b-b7d5-4ff8-bb8d-92436754f2e9"
      },
      "execution_count": 24,
      "outputs": [
        {
          "output_type": "execute_result",
          "data": {
            "text/plain": [
              "{'to': 1,\n",
              " 'of': 2,\n",
              " 'the': 3,\n",
              " 'in': 4,\n",
              " 'for': 5,\n",
              " 'a': 6,\n",
              " 'on': 7,\n",
              " 'and': 8,\n",
              " 'with': 9,\n",
              " 'is': 10,\n",
              " 'new': 11,\n",
              " 'trump': 12,\n",
              " 'man': 13,\n",
              " 'at': 14,\n",
              " 'from': 15,\n",
              " 'about': 16,\n",
              " 'by': 17,\n",
              " 'after': 18,\n",
              " 'you': 19,\n",
              " 'this': 20,\n",
              " 'out': 21,\n",
              " 'up': 22,\n",
              " 'be': 23,\n",
              " 'as': 24,\n",
              " 'that': 25,\n",
              " 'it': 26,\n",
              " 'how': 27,\n",
              " 'not': 28,\n",
              " 'he': 29,\n",
              " 'his': 30,\n",
              " 'are': 31,\n",
              " 'your': 32,\n",
              " 'just': 33,\n",
              " 'what': 34,\n",
              " 'all': 35,\n",
              " 'who': 36,\n",
              " 'has': 37,\n",
              " 'will': 38,\n",
              " 'report': 39,\n",
              " 'into': 40,\n",
              " 'more': 41,\n",
              " 'one': 42,\n",
              " 'have': 43,\n",
              " 'year': 44,\n",
              " 'over': 45,\n",
              " 'why': 46,\n",
              " 'day': 47,\n",
              " 'u': 48,\n",
              " 'area': 49,\n",
              " 'woman': 50,\n",
              " 'can': 51,\n",
              " 's': 52,\n",
              " 'says': 53,\n",
              " 'donald': 54,\n",
              " 'time': 55,\n",
              " 'first': 56,\n",
              " 'like': 57,\n",
              " 'no': 58,\n",
              " 'her': 59,\n",
              " 'get': 60,\n",
              " 'off': 61,\n",
              " 'old': 62,\n",
              " \"trump's\": 63,\n",
              " 'life': 64,\n",
              " 'now': 65,\n",
              " 'people': 66,\n",
              " \"'\": 67,\n",
              " 'an': 68,\n",
              " 'house': 69,\n",
              " 'still': 70,\n",
              " 'obama': 71,\n",
              " 'white': 72,\n",
              " 'back': 73,\n",
              " 'make': 74,\n",
              " 'was': 75,\n",
              " 'than': 76,\n",
              " 'women': 77,\n",
              " 'if': 78,\n",
              " 'down': 79,\n",
              " 'when': 80,\n",
              " 'i': 81,\n",
              " 'my': 82,\n",
              " '5': 83,\n",
              " 'clinton': 84,\n",
              " 'could': 85,\n",
              " 'they': 86,\n",
              " 'their': 87,\n",
              " 'before': 88,\n",
              " 'world': 89,\n",
              " 'him': 90,\n",
              " 'way': 91,\n",
              " 'americans': 92,\n",
              " 'family': 93,\n",
              " 'we': 94,\n",
              " 'study': 95,\n",
              " 'do': 96,\n",
              " 'would': 97,\n",
              " 'only': 98,\n",
              " 'most': 99,\n",
              " 'school': 100,\n",
              " 'gop': 101,\n",
              " 'being': 102,\n",
              " 'black': 103,\n",
              " 'years': 104,\n",
              " 'bill': 105,\n",
              " \"it's\": 106,\n",
              " 'so': 107,\n",
              " 'finds': 108,\n",
              " 'really': 109,\n",
              " 'american': 110,\n",
              " 'best': 111,\n",
              " '3': 112,\n",
              " 'last': 113,\n",
              " 'know': 114,\n",
              " 'but': 115,\n",
              " 'she': 116,\n",
              " 'should': 117,\n",
              " 'police': 118,\n",
              " 'nation': 119,\n",
              " \"can't\": 120,\n",
              " '10': 121,\n",
              " 'going': 122,\n",
              " 'watch': 123,\n",
              " 'during': 124,\n",
              " 'state': 125,\n",
              " 'death': 126,\n",
              " 'video': 127,\n",
              " 'or': 128,\n",
              " 'home': 129,\n",
              " 'president': 130,\n",
              " 'good': 131,\n",
              " 'every': 132,\n",
              " 'say': 133,\n",
              " 'show': 134,\n",
              " 'campaign': 135,\n",
              " \"'the\": 136,\n",
              " 'health': 137,\n",
              " 'too': 138,\n",
              " 'big': 139,\n",
              " 'things': 140,\n",
              " 'mom': 141,\n",
              " 'getting': 142,\n",
              " '2': 143,\n",
              " 'against': 144,\n",
              " 'may': 145,\n",
              " '000': 146,\n",
              " 'right': 147,\n",
              " 'hillary': 148,\n",
              " 'love': 149,\n",
              " 'party': 150,\n",
              " 'work': 151,\n",
              " 'gets': 152,\n",
              " 'while': 153,\n",
              " 'some': 154,\n",
              " 'self': 155,\n",
              " 'need': 156,\n",
              " 'high': 157,\n",
              " 'little': 158,\n",
              " 'parents': 159,\n",
              " 'where': 160,\n",
              " 'never': 161,\n",
              " 'take': 162,\n",
              " 'kids': 163,\n",
              " 'through': 164,\n",
              " \"doesn't\": 165,\n",
              " 'court': 166,\n",
              " 'makes': 167,\n",
              " 'john': 168,\n",
              " 'child': 169,\n",
              " 'change': 170,\n",
              " 'these': 171,\n",
              " 'other': 172,\n",
              " 'own': 173,\n",
              " 'news': 174,\n",
              " 'calls': 175,\n",
              " 'dead': 176,\n",
              " 'stop': 177,\n",
              " 'look': 178,\n",
              " \"he's\": 179,\n",
              " 'want': 180,\n",
              " 'election': 181,\n",
              " 'next': 182,\n",
              " 'our': 183,\n",
              " 'gay': 184,\n",
              " 'local': 185,\n",
              " \"don't\": 186,\n",
              " 'even': 187,\n",
              " '4': 188,\n",
              " 'see': 189,\n",
              " 'go': 190,\n",
              " 'around': 191,\n",
              " 'america': 192,\n",
              " 'real': 193,\n",
              " 'takes': 194,\n",
              " 'war': 195,\n",
              " 'its': 196,\n",
              " '7': 197,\n",
              " \"here's\": 198,\n",
              " 'baby': 199,\n",
              " 'sex': 200,\n",
              " \"nation's\": 201,\n",
              " 'them': 202,\n",
              " 'million': 203,\n",
              " 'again': 204,\n",
              " 'plan': 205,\n",
              " 'bush': 206,\n",
              " 'made': 207,\n",
              " 'two': 208,\n",
              " 'another': 209,\n",
              " '6': 210,\n",
              " 'guy': 211,\n",
              " 'college': 212,\n",
              " 'dog': 213,\n",
              " 'office': 214,\n",
              " 'announces': 215,\n",
              " 'dad': 216,\n",
              " 'ever': 217,\n",
              " 'finally': 218,\n",
              " 'debate': 219,\n",
              " 'got': 220,\n",
              " 'week': 221,\n",
              " 'wants': 222,\n",
              " 'been': 223,\n",
              " 'long': 224,\n",
              " 'help': 225,\n",
              " 'much': 226,\n",
              " 'job': 227,\n",
              " '1': 228,\n",
              " 'thing': 229,\n",
              " 'under': 230,\n",
              " 'there': 231,\n",
              " 'gun': 232,\n",
              " 'reveals': 233,\n",
              " 'night': 234,\n",
              " 'care': 235,\n",
              " 'actually': 236,\n",
              " 'couple': 237,\n",
              " 'congress': 238,\n",
              " 'live': 239,\n",
              " 'us': 240,\n",
              " 'north': 241,\n",
              " 'sexual': 242,\n",
              " 'trying': 243,\n",
              " 'money': 244,\n",
              " 'national': 245,\n",
              " 'shows': 246,\n",
              " 'god': 247,\n",
              " \"man's\": 248,\n",
              " 'climate': 249,\n",
              " 'senate': 250,\n",
              " 'better': 251,\n",
              " \"won't\": 252,\n",
              " 'star': 253,\n",
              " 'face': 254,\n",
              " 'without': 255,\n",
              " '8': 256,\n",
              " 'had': 257,\n",
              " 'away': 258,\n",
              " 'food': 259,\n",
              " 'everyone': 260,\n",
              " '9': 261,\n",
              " 'game': 262,\n",
              " 'season': 263,\n",
              " 'enough': 264,\n",
              " 'facebook': 265,\n",
              " 'anti': 266,\n",
              " 'give': 267,\n",
              " 'top': 268,\n",
              " '20': 269,\n",
              " 'media': 270,\n",
              " 'paul': 271,\n",
              " 'making': 272,\n",
              " 'any': 273,\n",
              " 'law': 274,\n",
              " 'me': 275,\n",
              " 'bad': 276,\n",
              " 'teen': 277,\n",
              " 'shooting': 278,\n",
              " 'ways': 279,\n",
              " 'york': 280,\n",
              " 'end': 281,\n",
              " 'supreme': 282,\n",
              " 'movie': 283,\n",
              " 'free': 284,\n",
              " 'entire': 285,\n",
              " 'men': 286,\n",
              " 'history': 287,\n",
              " 'students': 288,\n",
              " 'children': 289,\n",
              " 'pope': 290,\n",
              " 'government': 291,\n",
              " 'single': 292,\n",
              " 'introduces': 293,\n",
              " 'business': 294,\n",
              " 'tell': 295,\n",
              " 'part': 296,\n",
              " 'body': 297,\n",
              " 'attack': 298,\n",
              " 'fight': 299,\n",
              " 'already': 300,\n",
              " 'think': 301,\n",
              " 'city': 302,\n",
              " 'tv': 303,\n",
              " 'story': 304,\n",
              " 'friends': 305,\n",
              " 'son': 306,\n",
              " 'deal': 307,\n",
              " 'fire': 308,\n",
              " 'same': 309,\n",
              " 'friend': 310,\n",
              " 'releases': 311,\n",
              " 'great': 312,\n",
              " 'must': 313,\n",
              " 'sanders': 314,\n",
              " 'line': 315,\n",
              " 'find': 316,\n",
              " 'found': 317,\n",
              " '11': 318,\n",
              " 'book': 319,\n",
              " 'call': 320,\n",
              " 'pretty': 321,\n",
              " 'does': 322,\n",
              " 'former': 323,\n",
              " 'second': 324,\n",
              " 'car': 325,\n",
              " 'film': 326,\n",
              " 'company': 327,\n",
              " 'having': 328,\n",
              " 'come': 329,\n",
              " 'unveils': 330,\n",
              " 'use': 331,\n",
              " 'public': 332,\n",
              " 'support': 333,\n",
              " 'speech': 334,\n",
              " 'social': 335,\n",
              " 'wedding': 336,\n",
              " 'power': 337,\n",
              " 'presidential': 338,\n",
              " \"didn't\": 339,\n",
              " 'middle': 340,\n",
              " 'keep': 341,\n",
              " 'behind': 342,\n",
              " 'run': 343,\n",
              " 'name': 344,\n",
              " 'case': 345,\n",
              " 'talk': 346,\n",
              " 'doing': 347,\n",
              " 'republican': 348,\n",
              " 'open': 349,\n",
              " 'coming': 350,\n",
              " 'girl': 351,\n",
              " 'photos': 352,\n",
              " 'fans': 353,\n",
              " 'scientists': 354,\n",
              " 'room': 355,\n",
              " 'looking': 356,\n",
              " 'security': 357,\n",
              " 'between': 358,\n",
              " 'human': 359,\n",
              " 'something': 360,\n",
              " 'morning': 361,\n",
              " 'full': 362,\n",
              " 'thinks': 363,\n",
              " 'fucking': 364,\n",
              " 'james': 365,\n",
              " 'voters': 366,\n",
              " 'rights': 367,\n",
              " 'asks': 368,\n",
              " 'republicans': 369,\n",
              " 'once': 370,\n",
              " 'might': 371,\n",
              " 'claims': 372,\n",
              " 'future': 373,\n",
              " 'used': 374,\n",
              " 'christmas': 375,\n",
              " 'tax': 376,\n",
              " 'email': 377,\n",
              " 'ceo': 378,\n",
              " 'student': 379,\n",
              " 'win': 380,\n",
              " 'forced': 381,\n",
              " 'admits': 382,\n",
              " 'goes': 383,\n",
              " 'group': 384,\n",
              " 'secret': 385,\n",
              " 'vote': 386,\n",
              " '2016': 387,\n",
              " \"world's\": 388,\n",
              " 'michael': 389,\n",
              " 'marriage': 390,\n",
              " 'because': 391,\n",
              " 'violence': 392,\n",
              " 'democrats': 393,\n",
              " 'poll': 394,\n",
              " 'killed': 395,\n",
              " 'team': 396,\n",
              " 'control': 397,\n",
              " 'ad': 398,\n",
              " 'country': 399,\n",
              " '12': 400,\n",
              " 'sure': 401,\n",
              " 'department': 402,\n",
              " 'plans': 403,\n",
              " 'female': 404,\n",
              " 'ban': 405,\n",
              " 'many': 406,\n",
              " 'bernie': 407,\n",
              " 'teacher': 408,\n",
              " 'inside': 409,\n",
              " 'person': 410,\n",
              " 'post': 411,\n",
              " 'until': 412,\n",
              " 'wife': 413,\n",
              " 'ryan': 414,\n",
              " 'put': 415,\n",
              " 'always': 416,\n",
              " 'twitter': 417,\n",
              " 'super': 418,\n",
              " 'political': 419,\n",
              " 'water': 420,\n",
              " 'running': 421,\n",
              " 'hot': 422,\n",
              " 'dies': 423,\n",
              " 'meet': 424,\n",
              " 'father': 425,\n",
              " 'warns': 426,\n",
              " 'each': 427,\n",
              " 'head': 428,\n",
              " 'photo': 429,\n",
              " '30': 430,\n",
              " 'eating': 431,\n",
              " 'boy': 432,\n",
              " 'reports': 433,\n",
              " 'minutes': 434,\n",
              " 'race': 435,\n",
              " 'judge': 436,\n",
              " 'red': 437,\n",
              " 'days': 438,\n",
              " 'music': 439,\n",
              " 'employee': 440,\n",
              " 'let': 441,\n",
              " 'perfect': 442,\n",
              " 'record': 443,\n",
              " 'tells': 444,\n",
              " 'taking': 445,\n",
              " 'candidate': 446,\n",
              " 'past': 447,\n",
              " 'everything': 448,\n",
              " 'art': 449,\n",
              " 'idea': 450,\n",
              " 'living': 451,\n",
              " 'list': 452,\n",
              " 'class': 453,\n",
              " 'summer': 454,\n",
              " 'month': 455,\n",
              " 'three': 456,\n",
              " 'missing': 457,\n",
              " 'wall': 458,\n",
              " 'were': 459,\n",
              " '15': 460,\n",
              " 'working': 461,\n",
              " 'did': 462,\n",
              " 'here': 463,\n",
              " 'needs': 464,\n",
              " 'states': 465,\n",
              " 'secretary': 466,\n",
              " 'very': 467,\n",
              " 'looks': 468,\n",
              " 'save': 469,\n",
              " 'thousands': 470,\n",
              " 'mother': 471,\n",
              " 'service': 472,\n",
              " 'town': 473,\n",
              " 'mike': 474,\n",
              " 'pay': 475,\n",
              " 'russia': 476,\n",
              " 'george': 477,\n",
              " 'times': 478,\n",
              " 'left': 479,\n",
              " 'shot': 480,\n",
              " 'thought': 481,\n",
              " 'california': 482,\n",
              " 'phone': 483,\n",
              " \"'i\": 484,\n",
              " 'heart': 485,\n",
              " 'start': 486,\n",
              " 'lives': 487,\n",
              " 'hours': 488,\n",
              " 'set': 489,\n",
              " 'place': 490,\n",
              " 'age': 491,\n",
              " 'wrong': 492,\n",
              " 'gives': 493,\n",
              " 'comes': 494,\n",
              " 'together': 495,\n",
              " 'cruz': 496,\n",
              " 'meeting': 497,\n",
              " 'shit': 498,\n",
              " 'ready': 499,\n",
              " 'officials': 500,\n",
              " 'justice': 501,\n",
              " 'ice': 502,\n",
              " 'cancer': 503,\n",
              " 'believe': 504,\n",
              " \"you're\": 505,\n",
              " 'obamacare': 506,\n",
              " 'young': 507,\n",
              " 'probably': 508,\n",
              " 'texas': 509,\n",
              " 'someone': 510,\n",
              " 'talks': 511,\n",
              " 'wearing': 512,\n",
              " 'half': 513,\n",
              " 'breaking': 514,\n",
              " '50': 515,\n",
              " 'giving': 516,\n",
              " 'street': 517,\n",
              " 'kill': 518,\n",
              " 'lost': 519,\n",
              " 'yet': 520,\n",
              " 'ex': 521,\n",
              " 'king': 522,\n",
              " 'chief': 523,\n",
              " 'korea': 524,\n",
              " 'watching': 525,\n",
              " 'few': 526,\n",
              " 'kim': 527,\n",
              " 'small': 528,\n",
              " 'drug': 529,\n",
              " 'air': 530,\n",
              " 'owner': 531,\n",
              " 'prison': 532,\n",
              " \"women's\": 533,\n",
              " 'iran': 534,\n",
              " 'daughter': 535,\n",
              " 'leave': 536,\n",
              " 'isis': 537,\n",
              " 'restaurant': 538,\n",
              " 'fbi': 539,\n",
              " 'today': 540,\n",
              " 'dream': 541,\n",
              " 'fan': 542,\n",
              " 'feel': 543,\n",
              " 'ted': 544,\n",
              " 'crisis': 545,\n",
              " 'sleep': 546,\n",
              " 'letter': 547,\n",
              " 'mark': 548,\n",
              " 'word': 549,\n",
              " 'cat': 550,\n",
              " \"i'm\": 551,\n",
              " 'wins': 552,\n",
              " 'administration': 553,\n",
              " 'south': 554,\n",
              " 'director': 555,\n",
              " \"she's\": 556,\n",
              " 'biden': 557,\n",
              " 'hard': 558,\n",
              " 'earth': 559,\n",
              " 'hour': 560,\n",
              " 'tips': 561,\n",
              " 'education': 562,\n",
              " 'washington': 563,\n",
              " 'third': 564,\n",
              " 'military': 565,\n",
              " 'personal': 566,\n",
              " 'community': 567,\n",
              " 'nothing': 568,\n",
              " 'attacks': 569,\n",
              " 'outside': 570,\n",
              " 'using': 571,\n",
              " 'less': 572,\n",
              " 'chris': 573,\n",
              " 'talking': 574,\n",
              " 'democratic': 575,\n",
              " 'bar': 576,\n",
              " 'system': 577,\n",
              " 'rock': 578,\n",
              " 'internet': 579,\n",
              " 'questions': 580,\n",
              " 'francis': 581,\n",
              " 'nuclear': 582,\n",
              " 'months': 583,\n",
              " 'leaves': 584,\n",
              " 'kind': 585,\n",
              " 'federal': 586,\n",
              " 'romney': 587,\n",
              " 'those': 588,\n",
              " 'move': 589,\n",
              " 't': 590,\n",
              " 'well': 591,\n",
              " 'following': 592,\n",
              " 'percent': 593,\n",
              " 'online': 594,\n",
              " 'latest': 595,\n",
              " 'majority': 596,\n",
              " 'order': 597,\n",
              " 'birthday': 598,\n",
              " 'issues': 599,\n",
              " 'march': 600,\n",
              " 'tweets': 601,\n",
              " 'girlfriend': 602,\n",
              " 'fun': 603,\n",
              " 'fox': 604,\n",
              " \"what's\": 605,\n",
              " 'assault': 606,\n",
              " 'since': 607,\n",
              " 'excited': 608,\n",
              " 'gift': 609,\n",
              " 'investigation': 610,\n",
              " 'knows': 611,\n",
              " 'congressman': 612,\n",
              " 'abortion': 613,\n",
              " 'lot': 614,\n",
              " 'florida': 615,\n",
              " 'series': 616,\n",
              " 'buy': 617,\n",
              " 'store': 618,\n",
              " 'straight': 619,\n",
              " 'minute': 620,\n",
              " 'rules': 621,\n",
              " 'guide': 622,\n",
              " 'hit': 623,\n",
              " 'read': 624,\n",
              " 'special': 625,\n",
              " 'cover': 626,\n",
              " 'mueller': 627,\n",
              " 'beautiful': 628,\n",
              " 'holiday': 629,\n",
              " 'waiting': 630,\n",
              " 'happy': 631,\n",
              " 'spends': 632,\n",
              " '100': 633,\n",
              " 'stephen': 634,\n",
              " 'called': 635,\n",
              " 'reason': 636,\n",
              " 'huge': 637,\n",
              " 'travel': 638,\n",
              " 'muslim': 639,\n",
              " 'trip': 640,\n",
              " 'ask': 641,\n",
              " 'problem': 642,\n",
              " 'offers': 643,\n",
              " 'kid': 644,\n",
              " 'leaders': 645,\n",
              " 'different': 646,\n",
              " 'told': 647,\n",
              " \"isn't\": 648,\n",
              " 'whole': 649,\n",
              " 'visit': 650,\n",
              " 'russian': 651,\n",
              " 'break': 652,\n",
              " 'scott': 653,\n",
              " 'hollywood': 654,\n",
              " 'front': 655,\n",
              " 'favorite': 656,\n",
              " 'rise': 657,\n",
              " 'relationship': 658,\n",
              " 'worried': 659,\n",
              " 'hair': 660,\n",
              " 'david': 661,\n",
              " 'cop': 662,\n",
              " 'non': 663,\n",
              " 'chinese': 664,\n",
              " 'millions': 665,\n",
              " 'thinking': 666,\n",
              " 'trailer': 667,\n",
              " '2015': 668,\n",
              " 'box': 669,\n",
              " 'celebrates': 670,\n",
              " 'girls': 671,\n",
              " 'anything': 672,\n",
              " 'play': 673,\n",
              " 'date': 674,\n",
              " 'immigration': 675,\n",
              " 'hate': 676,\n",
              " 'protest': 677,\n",
              " 'al': 678,\n",
              " \"america's\": 679,\n",
              " 'late': 680,\n",
              " 'early': 681,\n",
              " 'career': 682,\n",
              " 'die': 683,\n",
              " 'response': 684,\n",
              " 'himself': 685,\n",
              " \"obama's\": 686,\n",
              " 'taylor': 687,\n",
              " 'union': 688,\n",
              " 'stars': 689,\n",
              " 'china': 690,\n",
              " 'drunk': 691,\n",
              " 'fall': 692,\n",
              " 'birth': 693,\n",
              " 'struggling': 694,\n",
              " 'reasons': 695,\n",
              " 'billion': 696,\n",
              " 'united': 697,\n",
              " 'message': 698,\n",
              " 'massive': 699,\n",
              " 'weekend': 700,\n",
              " '40': 701,\n",
              " 'candidates': 702,\n",
              " 'politics': 703,\n",
              " 'accused': 704,\n",
              " 'opens': 705,\n",
              " 'become': 706,\n",
              " 'least': 707,\n",
              " 'starting': 708,\n",
              " 'killing': 709,\n",
              " 'huffpost': 710,\n",
              " 'senator': 711,\n",
              " 'bring': 712,\n",
              " 'hands': 713,\n",
              " 'mass': 714,\n",
              " 'feels': 715,\n",
              " 'interview': 716,\n",
              " 'vows': 717,\n",
              " 'hope': 718,\n",
              " 'victims': 719,\n",
              " 'experts': 720,\n",
              " 'light': 721,\n",
              " 'moment': 722,\n",
              " 'discover': 723,\n",
              " 'turn': 724,\n",
              " 'returns': 725,\n",
              " 'leader': 726,\n",
              " 'words': 727,\n",
              " 'pence': 728,\n",
              " 'point': 729,\n",
              " 'c': 730,\n",
              " 'jimmy': 731,\n",
              " 'clearly': 732,\n",
              " 'turns': 733,\n",
              " 'far': 734,\n",
              " 'driving': 735,\n",
              " 'center': 736,\n",
              " 'dating': 737,\n",
              " 'key': 738,\n",
              " 'employees': 739,\n",
              " 'sports': 740,\n",
              " 'policy': 741,\n",
              " 'lessons': 742,\n",
              " 'tom': 743,\n",
              " 'sick': 744,\n",
              " 'wishes': 745,\n",
              " 'apple': 746,\n",
              " 'conversation': 747,\n",
              " 'host': 748,\n",
              " 'sign': 749,\n",
              " 'whether': 750,\n",
              " \"they're\": 751,\n",
              " 'completely': 752,\n",
              " 'murder': 753,\n",
              " 'fashion': 754,\n",
              " 'adds': 755,\n",
              " 'adorable': 756,\n",
              " 'totally': 757,\n",
              " 'learned': 758,\n",
              " 'signs': 759,\n",
              " 'hoping': 760,\n",
              " 'prince': 761,\n",
              " 'fuck': 762,\n",
              " 'role': 763,\n",
              " 'stage': 764,\n",
              " 'j': 765,\n",
              " 'oil': 766,\n",
              " 'powerful': 767,\n",
              " 'k': 768,\n",
              " 'breaks': 769,\n",
              " 'abuse': 770,\n",
              " 'song': 771,\n",
              " 'across': 772,\n",
              " 'reality': 773,\n",
              " 'moving': 774,\n",
              " 'decision': 775,\n",
              " 'global': 776,\n",
              " 'keeps': 777,\n",
              " 'experience': 778,\n",
              " 'seen': 779,\n",
              " 'syrian': 780,\n",
              " 'announce': 781,\n",
              " 'true': 782,\n",
              " 'risk': 783,\n",
              " 'iraq': 784,\n",
              " 'joe': 785,\n",
              " 'bus': 786,\n",
              " 'begins': 787,\n",
              " 'jr': 788,\n",
              " 'syria': 789,\n",
              " 'hand': 790,\n",
              " 'puts': 791,\n",
              " 'dance': 792,\n",
              " '13': 793,\n",
              " 'final': 794,\n",
              " 'check': 795,\n",
              " 'cops': 796,\n",
              " 'dinner': 797,\n",
              " 'stand': 798,\n",
              " 'apartment': 799,\n",
              " 'cut': 800,\n",
              " 'almost': 801,\n",
              " 'playing': 802,\n",
              " 'names': 803,\n",
              " 'coffee': 804,\n",
              " 'weird': 805,\n",
              " 'longer': 806,\n",
              " 'hurricane': 807,\n",
              " 'schools': 808,\n",
              " 'kills': 809,\n",
              " \"there's\": 810,\n",
              " 'lose': 811,\n",
              " 'amazon': 812,\n",
              " 'awards': 813,\n",
              " 'un': 814,\n",
              " 'low': 815,\n",
              " 'press': 816,\n",
              " 'robert': 817,\n",
              " 'mind': 818,\n",
              " 'number': 819,\n",
              " 'lead': 820,\n",
              " 'west': 821,\n",
              " 'd': 822,\n",
              " 'worth': 823,\n",
              " 'anniversary': 824,\n",
              " 'surprise': 825,\n",
              " 'oscar': 826,\n",
              " 'feeling': 827,\n",
              " 'anyone': 828,\n",
              " 'crash': 829,\n",
              " 'mental': 830,\n",
              " 'trans': 831,\n",
              " 'test': 832,\n",
              " 'lgbt': 833,\n",
              " 'worst': 834,\n",
              " 'band': 835,\n",
              " 'hall': 836,\n",
              " 'space': 837,\n",
              " 'return': 838,\n",
              " 'official': 839,\n",
              " 'which': 840,\n",
              " 'audience': 841,\n",
              " 'queer': 842,\n",
              " 'shop': 843,\n",
              " 'hits': 844,\n",
              " 'demands': 845,\n",
              " 'oscars': 846,\n",
              " 'data': 847,\n",
              " 'workers': 848,\n",
              " 'university': 849,\n",
              " 'iowa': 850,\n",
              " 'side': 851,\n",
              " 'apologizes': 852,\n",
              " 'road': 853,\n",
              " 'cool': 854,\n",
              " 'industry': 855,\n",
              " 'suspect': 856,\n",
              " 'planned': 857,\n",
              " 'plane': 858,\n",
              " 'nfl': 859,\n",
              " 'evidence': 860,\n",
              " 'steve': 861,\n",
              " 'eat': 862,\n",
              " 'program': 863,\n",
              " 'door': 864,\n",
              " 'table': 865,\n",
              " 'governor': 866,\n",
              " 'remember': 867,\n",
              " 'try': 868,\n",
              " 'important': 869,\n",
              " 'chance': 870,\n",
              " 'transgender': 871,\n",
              " 'defense': 872,\n",
              " 'reportedly': 873,\n",
              " 'urges': 874,\n",
              " 'near': 875,\n",
              " 'church': 876,\n",
              " 'chicago': 877,\n",
              " 'halloween': 878,\n",
              " 'users': 879,\n",
              " 'possible': 880,\n",
              " 'general': 881,\n",
              " 'doctor': 882,\n",
              " '2014': 883,\n",
              " 'hear': 884,\n",
              " 'style': 885,\n",
              " 'spot': 886,\n",
              " 'supporters': 887,\n",
              " 'five': 888,\n",
              " 'rubio': 889,\n",
              " 'reveal': 890,\n",
              " 'kardashian': 891,\n",
              " 'advice': 892,\n",
              " 'coworker': 893,\n",
              " 'given': 894,\n",
              " 'voter': 895,\n",
              " 'brings': 896,\n",
              " 'picture': 897,\n",
              " 'dying': 898,\n",
              " 'success': 899,\n",
              " 'blood': 900,\n",
              " 'executive': 901,\n",
              " 'finding': 902,\n",
              " 'suicide': 903,\n",
              " 'tour': 904,\n",
              " 'biggest': 905,\n",
              " '2017': 906,\n",
              " 'allegations': 907,\n",
              " 'accidentally': 908,\n",
              " 'easy': 909,\n",
              " 'boys': 910,\n",
              " 'football': 911,\n",
              " 'protesters': 912,\n",
              " 'bathroom': 913,\n",
              " 'fighting': 914,\n",
              " 'demand': 915,\n",
              " 'michelle': 916,\n",
              " 'peace': 917,\n",
              " 'push': 918,\n",
              " 'reform': 919,\n",
              " 'paris': 920,\n",
              " 'close': 921,\n",
              " 'avoid': 922,\n",
              " 'elizabeth': 923,\n",
              " 'israel': 924,\n",
              " 'homeless': 925,\n",
              " 'poor': 926,\n",
              " 'fear': 927,\n",
              " 'cnn': 928,\n",
              " 'quietly': 929,\n",
              " 'reminds': 930,\n",
              " 'teens': 931,\n",
              " 'nyc': 932,\n",
              " 'address': 933,\n",
              " 'learn': 934,\n",
              " 'board': 935,\n",
              " 'bowl': 936,\n",
              " 'uses': 937,\n",
              " 'apparently': 938,\n",
              " 'building': 939,\n",
              " 'act': 940,\n",
              " 'staff': 941,\n",
              " 'rest': 942,\n",
              " 'pro': 943,\n",
              " 'major': 944,\n",
              " 'carolina': 945,\n",
              " 'train': 946,\n",
              " 'force': 947,\n",
              " 'voice': 948,\n",
              " 'pregnant': 949,\n",
              " 'weight': 950,\n",
              " 'officer': 951,\n",
              " 'suggests': 952,\n",
              " 'walking': 953,\n",
              " 'google': 954,\n",
              " 'members': 955,\n",
              " 'rally': 956,\n",
              " 'economy': 957,\n",
              " 'ideas': 958,\n",
              " 'lets': 959,\n",
              " 'died': 960,\n",
              " 'celebrate': 961,\n",
              " 'card': 962,\n",
              " 'website': 963,\n",
              " 'park': 964,\n",
              " 'ben': 965,\n",
              " 'performance': 966,\n",
              " 'prevent': 967,\n",
              " 'williams': 968,\n",
              " 'moore': 969,\n",
              " 'moms': 970,\n",
              " '18': 971,\n",
              " 'green': 972,\n",
              " 'ferguson': 973,\n",
              " 'saudi': 974,\n",
              " 'asking': 975,\n",
              " 'artist': 976,\n",
              " 'leading': 977,\n",
              " 'pick': 978,\n",
              " 'passes': 979,\n",
              " 'opening': 980,\n",
              " 'said': 981,\n",
              " 'christian': 982,\n",
              " 'album': 983,\n",
              " 'happens': 984,\n",
              " 'netflix': 985,\n",
              " 'culture': 986,\n",
              " 'magazine': 987,\n",
              " 'throws': 988,\n",
              " 'leads': 989,\n",
              " 'eyes': 990,\n",
              " 'humans': 991,\n",
              " 'chicken': 992,\n",
              " 'beauty': 993,\n",
              " 'crime': 994,\n",
              " 'recalls': 995,\n",
              " 'energy': 996,\n",
              " 'voting': 997,\n",
              " 'question': 998,\n",
              " 'episode': 999,\n",
              " 'swift': 1000,\n",
              " ...}"
            ]
          },
          "metadata": {},
          "execution_count": 24
        }
      ]
    },
    {
      "cell_type": "code",
      "source": [
        "#dump tokenizer model for prediction later\n",
        "pickle.dump(tokenizer, open(TOKENIZER_MODEL_FILE, 'wb'))\n",
        "sequences = tokenizer.texts_to_sequences(df['headline'])\n",
        "text = pad_sequences(sequences, maxlen=MAX_SEQUENCE_LENGTH)\n",
        "print(text.shape)"
      ],
      "metadata": {
        "colab": {
          "base_uri": "https://localhost:8080/"
        },
        "id": "zVtHT6Vn4WuJ",
        "outputId": "984b57b6-184f-4aa5-b58b-f50be65cd2ae"
      },
      "execution_count": 27,
      "outputs": [
        {
          "output_type": "stream",
          "name": "stdout",
          "text": [
            "(28619, 100)\n"
          ]
        }
      ]
    },
    {
      "cell_type": "code",
      "source": [
        "word_index = tokenizer.word_index"
      ],
      "metadata": {
        "id": "ESJpsehdEvIT"
      },
      "execution_count": 38,
      "outputs": []
    },
    {
      "cell_type": "markdown",
      "source": [
        "## 6. Create features and labels"
      ],
      "metadata": {
        "id": "8L0dXpO__2VS"
      }
    },
    {
      "cell_type": "code",
      "source": [
        "X = text  #headline\n",
        "y = df['is_sarcastic']  #label"
      ],
      "metadata": {
        "id": "vddI4PSb_44D"
      },
      "execution_count": 33,
      "outputs": []
    },
    {
      "cell_type": "markdown",
      "source": [
        "Split into training and testing"
      ],
      "metadata": {
        "id": "GaBviJCYBjSr"
      }
    },
    {
      "cell_type": "code",
      "source": [
        "X_train, X_test, y_train, y_test = train_test_split(X, y, test_size = 0.3, random_state=42)"
      ],
      "metadata": {
        "id": "xcxK9w6eBnt5"
      },
      "execution_count": 35,
      "outputs": []
    },
    {
      "cell_type": "code",
      "source": [
        "print(f\"Training size: {y_train.shape[0]} Testing size: {y_test.shape[0]}\")"
      ],
      "metadata": {
        "colab": {
          "base_uri": "https://localhost:8080/"
        },
        "id": "9IWOrrTyBrFd",
        "outputId": "ac17a952-56a0-484a-8243-de9e78fac030"
      },
      "execution_count": 36,
      "outputs": [
        {
          "output_type": "stream",
          "name": "stdout",
          "text": [
            "Training size: 20033 Testing size: 8586\n"
          ]
        }
      ]
    },
    {
      "cell_type": "markdown",
      "source": [
        "## 7. Vocabulary Size"
      ],
      "metadata": {
        "id": "8W9GBvMEA0TU"
      }
    },
    {
      "cell_type": "code",
      "source": [
        "print('Found %s unique tokens.' % len(tokenizer.word_index))"
      ],
      "metadata": {
        "colab": {
          "base_uri": "https://localhost:8080/"
        },
        "id": "Blzx8sRo7PQI",
        "outputId": "f691448a-18c2-47b1-fa01-106ba98566ab"
      },
      "execution_count": 34,
      "outputs": [
        {
          "output_type": "stream",
          "name": "stdout",
          "text": [
            "Found 30884 unique tokens.\n"
          ]
        }
      ]
    },
    {
      "cell_type": "markdown",
      "source": [
        "## 8. Create weight matrix using Glove embedding"
      ],
      "metadata": {
        "id": "jOYi8RFQ_sjf"
      }
    },
    {
      "cell_type": "code",
      "source": [
        "!wget http://nlp.stanford.edu/data/glove.6B.zip\n",
        "!unzip glove*.zip"
      ],
      "metadata": {
        "colab": {
          "base_uri": "https://localhost:8080/"
        },
        "id": "yTJrPTfR3G6Q",
        "outputId": "dcf86738-3572-4b47-8baa-6423f6a66012"
      },
      "execution_count": 37,
      "outputs": [
        {
          "output_type": "stream",
          "name": "stdout",
          "text": [
            "--2022-03-22 19:13:11--  http://nlp.stanford.edu/data/glove.6B.zip\n",
            "Resolving nlp.stanford.edu (nlp.stanford.edu)... 171.64.67.140\n",
            "Connecting to nlp.stanford.edu (nlp.stanford.edu)|171.64.67.140|:80... connected.\n",
            "HTTP request sent, awaiting response... 302 Found\n",
            "Location: https://nlp.stanford.edu/data/glove.6B.zip [following]\n",
            "--2022-03-22 19:13:12--  https://nlp.stanford.edu/data/glove.6B.zip\n",
            "Connecting to nlp.stanford.edu (nlp.stanford.edu)|171.64.67.140|:443... connected.\n",
            "HTTP request sent, awaiting response... 301 Moved Permanently\n",
            "Location: http://downloads.cs.stanford.edu/nlp/data/glove.6B.zip [following]\n",
            "--2022-03-22 19:13:12--  http://downloads.cs.stanford.edu/nlp/data/glove.6B.zip\n",
            "Resolving downloads.cs.stanford.edu (downloads.cs.stanford.edu)... 171.64.64.22\n",
            "Connecting to downloads.cs.stanford.edu (downloads.cs.stanford.edu)|171.64.64.22|:80... connected.\n",
            "HTTP request sent, awaiting response... 200 OK\n",
            "Length: 862182613 (822M) [application/zip]\n",
            "Saving to: ‘glove.6B.zip’\n",
            "\n",
            "glove.6B.zip        100%[===================>] 822.24M  5.32MB/s    in 2m 42s  \n",
            "\n",
            "2022-03-22 19:15:54 (5.09 MB/s) - ‘glove.6B.zip’ saved [862182613/862182613]\n",
            "\n",
            "Archive:  glove.6B.zip\n",
            "  inflating: glove.6B.50d.txt        \n",
            "  inflating: glove.6B.100d.txt       \n",
            "  inflating: glove.6B.200d.txt       \n",
            "  inflating: glove.6B.300d.txt       \n"
          ]
        }
      ]
    },
    {
      "cell_type": "code",
      "source": [
        "def get_embedding_dictionary():\n",
        "  embeddings_dict = {}\n",
        "  f = open(\"glove.6B.50d.txt\", encoding=\"utf8\")\n",
        "  for line in f:\n",
        "      values = line.split()\n",
        "      word = values[0]\n",
        "      try:\n",
        "          coefs = np.asarray(values[1:], dtype='float32')\n",
        "      except:\n",
        "          pass\n",
        "      embeddings_dict[word] = coefs\n",
        "  f.close()\n",
        "  print('Total %s word vectors.' % len(embeddings_dict))\n",
        "  return embeddings_dict"
      ],
      "metadata": {
        "id": "m65GfAABC4h5"
      },
      "execution_count": 49,
      "outputs": []
    },
    {
      "cell_type": "code",
      "source": [
        "def make_embedding_matrix(word_index, glove_dict, EMBEDDING_DIM=50):\n",
        "  embedding_matrix = np.random.random((len(word_index) + 1, EMBEDDING_DIM))\n",
        "  print()\n",
        "  for word, i in word_index.items():\n",
        "    embedding_vector = glove_dict.get(word)\n",
        "    if embedding_vector is not None:\n",
        "        # words not found in embedding index will be all-zeros.\n",
        "        if len(embedding_matrix[i]) != len(embedding_vector):\n",
        "            print(\"could not broadcast input array from shape\", str(len(embedding_matrix[i])),\n",
        "                  \"into shape\", str(len(embedding_vector)), \" Please make sure your\"\n",
        "                                                            \" EMBEDDING_DIM is equal to embedding_vector file ,GloVe,\")\n",
        "            exit(1)\n",
        "        embedding_matrix[i] = embedding_vector\n",
        "  return embedding_matrix"
      ],
      "metadata": {
        "id": "Qm0EMePPCLrB"
      },
      "execution_count": 55,
      "outputs": []
    },
    {
      "cell_type": "code",
      "source": [
        "glove_dict = get_embedding_dictionary()\n"
      ],
      "metadata": {
        "colab": {
          "base_uri": "https://localhost:8080/"
        },
        "id": "Ch9392z4EaXn",
        "outputId": "f1064730-e843-4bdc-fe3b-ed66636dc6ed"
      },
      "execution_count": 52,
      "outputs": [
        {
          "output_type": "stream",
          "name": "stdout",
          "text": [
            "Total 400000 word vectors.\n"
          ]
        }
      ]
    },
    {
      "cell_type": "code",
      "source": [
        "EMBEDDING_DIM = 50\n",
        "embedding_matrix = make_embedding_matrix(word_index, glove_dict, EMBEDDING_DIM)"
      ],
      "metadata": {
        "colab": {
          "base_uri": "https://localhost:8080/"
        },
        "id": "jJpfR9R9HYl_",
        "outputId": "9d48a417-8bce-43fb-8f95-e90d00220230"
      },
      "execution_count": 56,
      "outputs": [
        {
          "output_type": "stream",
          "name": "stdout",
          "text": [
            "\n"
          ]
        }
      ]
    },
    {
      "cell_type": "markdown",
      "source": [
        "Weight Matrix"
      ],
      "metadata": {
        "id": "NQojR0ZkJB4P"
      }
    },
    {
      "cell_type": "code",
      "source": [
        "embedding_matrix.shape"
      ],
      "metadata": {
        "colab": {
          "base_uri": "https://localhost:8080/"
        },
        "id": "S8cbMcC1IADv",
        "outputId": "957bca82-a164-4b85-9702-1b1a7697a200"
      },
      "execution_count": 57,
      "outputs": [
        {
          "output_type": "execute_result",
          "data": {
            "text/plain": [
              "(30885, 50)"
            ]
          },
          "metadata": {},
          "execution_count": 57
        }
      ]
    },
    {
      "cell_type": "markdown",
      "source": [
        "## 9. Define and Compile Bidirectional LSTM Model"
      ],
      "metadata": {
        "id": "5Vn96ebPJKIB"
      }
    },
    {
      "cell_type": "code",
      "source": [
        "model = Sequential()\n",
        "model.add(Embedding(len(word_index) + 1,\n",
        "                                EMBEDDING_DIM,\n",
        "                                weights=[embedding_matrix],\n",
        "                                input_length=MAX_SEQUENCE_LENGTH,\n",
        "                                trainable=True))\n",
        "model.add(Bidirectional(LSTM(32, return_sequences=True, recurrent_dropout=0.2)))\n",
        "model.add(Dropout(0.5))\n",
        "model.add(Bidirectional(LSTM(32, return_sequences=True, recurrent_dropout=0.2)))\n",
        "model.add(Dropout(0.5))\n",
        "model.add(Dense(1,activation = 'sigmoid'))\n",
        "model.compile(loss='binary_crossentropy',optimizer = 'adam',metrics = ['accuracy'])"
      ],
      "metadata": {
        "id": "X7hpGlo0HD_c"
      },
      "execution_count": 58,
      "outputs": []
    },
    {
      "cell_type": "markdown",
      "source": [
        "## 10. Fit model and check validation accuracy"
      ],
      "metadata": {
        "id": "rC4S6WjVJQk9"
      }
    },
    {
      "cell_type": "code",
      "source": [
        "model.fit(X_train, y_train, batch_size=256, epochs=10, validation_data=(X_test, y_test))"
      ],
      "metadata": {
        "colab": {
          "base_uri": "https://localhost:8080/"
        },
        "id": "jitKwOzXF9vQ",
        "outputId": "eb6e3650-5032-4fc3-b650-5a6f1a806e76"
      },
      "execution_count": 60,
      "outputs": [
        {
          "output_type": "stream",
          "name": "stdout",
          "text": [
            "Epoch 1/10\n",
            "79/79 [==============================] - 68s 788ms/step - loss: 0.6915 - accuracy: 0.5295 - val_loss: 0.6683 - val_accuracy: 0.5880\n",
            "Epoch 2/10\n",
            "79/79 [==============================] - 62s 787ms/step - loss: 0.6238 - accuracy: 0.6673 - val_loss: 0.5673 - val_accuracy: 0.7394\n",
            "Epoch 3/10\n",
            "79/79 [==============================] - 64s 805ms/step - loss: 0.5388 - accuracy: 0.7671 - val_loss: 0.5274 - val_accuracy: 0.7784\n",
            "Epoch 4/10\n",
            "79/79 [==============================] - 66s 831ms/step - loss: 0.4886 - accuracy: 0.8070 - val_loss: 0.5821 - val_accuracy: 0.7423\n",
            "Epoch 5/10\n",
            "79/79 [==============================] - 65s 828ms/step - loss: 0.5188 - accuracy: 0.7845 - val_loss: 0.5007 - val_accuracy: 0.7862\n",
            "Epoch 6/10\n",
            "79/79 [==============================] - 65s 821ms/step - loss: 0.4687 - accuracy: 0.8176 - val_loss: 0.5070 - val_accuracy: 0.7813\n",
            "Epoch 7/10\n",
            "79/79 [==============================] - 63s 798ms/step - loss: 0.4327 - accuracy: 0.8339 - val_loss: 0.4935 - val_accuracy: 0.8043\n",
            "Epoch 8/10\n",
            "79/79 [==============================] - 65s 825ms/step - loss: 0.4316 - accuracy: 0.8326 - val_loss: 0.4958 - val_accuracy: 0.7801\n",
            "Epoch 9/10\n",
            "79/79 [==============================] - 62s 792ms/step - loss: 0.3639 - accuracy: 0.8425 - val_loss: 0.4091 - val_accuracy: 0.8217\n",
            "Epoch 10/10\n",
            "79/79 [==============================] - 61s 775ms/step - loss: 0.2746 - accuracy: 0.8954 - val_loss: 0.4148 - val_accuracy: 0.8321\n"
          ]
        },
        {
          "output_type": "execute_result",
          "data": {
            "text/plain": [
              "<keras.callbacks.History at 0x7f02bca5f350>"
            ]
          },
          "metadata": {},
          "execution_count": 60
        }
      ]
    },
    {
      "cell_type": "code",
      "source": [
        "score,acc = model.evaluate(X_test, y_test, verbose = 2, batch_size = 32)\n",
        "print(\"score: %.2f\" % (score))\n",
        "print(\"acc: %.2f\" % (acc))"
      ],
      "metadata": {
        "colab": {
          "base_uri": "https://localhost:8080/"
        },
        "id": "CjXzdKb1I1n-",
        "outputId": "73bc3c02-cdc2-4e92-ebc9-7e0a982dafb2"
      },
      "execution_count": 61,
      "outputs": [
        {
          "output_type": "stream",
          "name": "stdout",
          "text": [
            "269/269 - 12s - loss: 0.4148 - accuracy: 0.8321 - 12s/epoch - 44ms/step\n",
            "score: 0.41\n",
            "acc: 0.83\n"
          ]
        }
      ]
    },
    {
      "cell_type": "markdown",
      "source": [
        "We have a accuracy of 83% in detecting sarcasm"
      ],
      "metadata": {
        "id": "NUfkdyMvL70S"
      }
    },
    {
      "cell_type": "code",
      "source": [
        ""
      ],
      "metadata": {
        "id": "biTxOzE4L_r7"
      },
      "execution_count": null,
      "outputs": []
    }
  ]
}