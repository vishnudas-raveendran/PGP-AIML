{
  "nbformat": 4,
  "nbformat_minor": 0,
  "metadata": {
    "colab": {
      "name": "NLP Project 1 Part A_Blog Label Prediction.ipynb",
      "provenance": [],
      "toc_visible": true,
      "mount_file_id": "1xWOEMa05AqWIahIPWP2aweMmm3a3M5_Q",
      "authorship_tag": "ABX9TyNE8GLi0gR5LnfdM/UwzfhN",
      "include_colab_link": true
    },
    "kernelspec": {
      "name": "python3",
      "display_name": "Python 3"
    },
    "language_info": {
      "name": "python"
    }
  },
  "cells": [
    {
      "cell_type": "markdown",
      "metadata": {
        "id": "view-in-github",
        "colab_type": "text"
      },
      "source": [
        "<a href=\"https://colab.research.google.com/github/vishnudas-raveendran/PGP-AIML/blob/master/NLP/Project1/NLP_Project_1_Part_A_Blog_Label_Prediction.ipynb\" target=\"_parent\"><img src=\"https://colab.research.google.com/assets/colab-badge.svg\" alt=\"Open In Colab\"/></a>"
      ]
    },
    {
      "cell_type": "markdown",
      "source": [
        "# Part A\n",
        "\n",
        "The need is to build a NLP classifier which can use input text parameters to determine the label/s of the blog."
      ],
      "metadata": {
        "id": "N8hIDfzsBhjR"
      }
    },
    {
      "cell_type": "code",
      "source": [
        "import pandas as pd\n",
        "import numpy as np\n",
        "import matplotlib.pyplot as plt\n",
        "import seaborn as sns\n",
        "from sklearn.model_selection import train_test_split"
      ],
      "metadata": {
        "id": "3CDfk13fCkc2"
      },
      "execution_count": 1,
      "outputs": []
    },
    {
      "cell_type": "code",
      "source": [
        "!mkdir new\n",
        "!cp '/content/drive/MyDrive/GL Project Dataset/archive (1).zip' '/content/new/'\n"
      ],
      "metadata": {
        "id": "83OdwYO3GlSQ"
      },
      "execution_count": 2,
      "outputs": []
    },
    {
      "cell_type": "code",
      "source": [
        "!unzip '/content/new/archive (1).zip' -d '/content/'"
      ],
      "metadata": {
        "colab": {
          "base_uri": "https://localhost:8080/"
        },
        "id": "5Nspv0LcHMxm",
        "outputId": "c8730111-94d1-47c1-dd6d-4dcc35eed809"
      },
      "execution_count": 3,
      "outputs": [
        {
          "output_type": "stream",
          "name": "stdout",
          "text": [
            "Archive:  /content/new/archive (1).zip\n",
            "  inflating: /content/blogtext.csv   \n"
          ]
        }
      ]
    },
    {
      "cell_type": "markdown",
      "source": [
        "## 1. Import Dataset"
      ],
      "metadata": {
        "id": "iEnQY2ZUCLcg"
      }
    },
    {
      "cell_type": "code",
      "source": [
        "data = pd.read_csv('blogtext.csv')"
      ],
      "metadata": {
        "id": "IxfeXKQoCgyl"
      },
      "execution_count": 4,
      "outputs": []
    },
    {
      "cell_type": "code",
      "source": [
        "data.columns"
      ],
      "metadata": {
        "colab": {
          "base_uri": "https://localhost:8080/"
        },
        "id": "Wp8Xpo7hCviO",
        "outputId": "bfb15b05-9f21-426c-e76e-53c1465325a2"
      },
      "execution_count": 5,
      "outputs": [
        {
          "output_type": "execute_result",
          "data": {
            "text/plain": [
              "Index(['id', 'gender', 'age', 'topic', 'sign', 'date', 'text'], dtype='object')"
            ]
          },
          "metadata": {},
          "execution_count": 5
        }
      ]
    },
    {
      "cell_type": "markdown",
      "source": [
        "### 1.2 Clean dataset"
      ],
      "metadata": {
        "id": "kqkfnziALSPW"
      }
    },
    {
      "cell_type": "code",
      "source": [
        "data.head()"
      ],
      "metadata": {
        "colab": {
          "base_uri": "https://localhost:8080/",
          "height": 206
        },
        "id": "xRJjUhEyH0Rt",
        "outputId": "8ddbd212-dd41-42c0-a2a6-c1f155645b87"
      },
      "execution_count": 6,
      "outputs": [
        {
          "output_type": "execute_result",
          "data": {
            "text/plain": [
              "        id gender  age              topic      sign          date  \\\n",
              "0  2059027   male   15            Student       Leo   14,May,2004   \n",
              "1  2059027   male   15            Student       Leo   13,May,2004   \n",
              "2  2059027   male   15            Student       Leo   12,May,2004   \n",
              "3  2059027   male   15            Student       Leo   12,May,2004   \n",
              "4  3581210   male   33  InvestmentBanking  Aquarius  11,June,2004   \n",
              "\n",
              "                                                text  \n",
              "0             Info has been found (+/- 100 pages,...  \n",
              "1             These are the team members:   Drewe...  \n",
              "2             In het kader van kernfusie op aarde...  \n",
              "3                   testing!!!  testing!!!            \n",
              "4               Thanks to Yahoo!'s Toolbar I can ...  "
            ],
            "text/html": [
              "\n",
              "  <div id=\"df-b8c9ea2e-677f-4a04-b21a-d1616c0648e7\">\n",
              "    <div class=\"colab-df-container\">\n",
              "      <div>\n",
              "<style scoped>\n",
              "    .dataframe tbody tr th:only-of-type {\n",
              "        vertical-align: middle;\n",
              "    }\n",
              "\n",
              "    .dataframe tbody tr th {\n",
              "        vertical-align: top;\n",
              "    }\n",
              "\n",
              "    .dataframe thead th {\n",
              "        text-align: right;\n",
              "    }\n",
              "</style>\n",
              "<table border=\"1\" class=\"dataframe\">\n",
              "  <thead>\n",
              "    <tr style=\"text-align: right;\">\n",
              "      <th></th>\n",
              "      <th>id</th>\n",
              "      <th>gender</th>\n",
              "      <th>age</th>\n",
              "      <th>topic</th>\n",
              "      <th>sign</th>\n",
              "      <th>date</th>\n",
              "      <th>text</th>\n",
              "    </tr>\n",
              "  </thead>\n",
              "  <tbody>\n",
              "    <tr>\n",
              "      <th>0</th>\n",
              "      <td>2059027</td>\n",
              "      <td>male</td>\n",
              "      <td>15</td>\n",
              "      <td>Student</td>\n",
              "      <td>Leo</td>\n",
              "      <td>14,May,2004</td>\n",
              "      <td>Info has been found (+/- 100 pages,...</td>\n",
              "    </tr>\n",
              "    <tr>\n",
              "      <th>1</th>\n",
              "      <td>2059027</td>\n",
              "      <td>male</td>\n",
              "      <td>15</td>\n",
              "      <td>Student</td>\n",
              "      <td>Leo</td>\n",
              "      <td>13,May,2004</td>\n",
              "      <td>These are the team members:   Drewe...</td>\n",
              "    </tr>\n",
              "    <tr>\n",
              "      <th>2</th>\n",
              "      <td>2059027</td>\n",
              "      <td>male</td>\n",
              "      <td>15</td>\n",
              "      <td>Student</td>\n",
              "      <td>Leo</td>\n",
              "      <td>12,May,2004</td>\n",
              "      <td>In het kader van kernfusie op aarde...</td>\n",
              "    </tr>\n",
              "    <tr>\n",
              "      <th>3</th>\n",
              "      <td>2059027</td>\n",
              "      <td>male</td>\n",
              "      <td>15</td>\n",
              "      <td>Student</td>\n",
              "      <td>Leo</td>\n",
              "      <td>12,May,2004</td>\n",
              "      <td>testing!!!  testing!!!</td>\n",
              "    </tr>\n",
              "    <tr>\n",
              "      <th>4</th>\n",
              "      <td>3581210</td>\n",
              "      <td>male</td>\n",
              "      <td>33</td>\n",
              "      <td>InvestmentBanking</td>\n",
              "      <td>Aquarius</td>\n",
              "      <td>11,June,2004</td>\n",
              "      <td>Thanks to Yahoo!'s Toolbar I can ...</td>\n",
              "    </tr>\n",
              "  </tbody>\n",
              "</table>\n",
              "</div>\n",
              "      <button class=\"colab-df-convert\" onclick=\"convertToInteractive('df-b8c9ea2e-677f-4a04-b21a-d1616c0648e7')\"\n",
              "              title=\"Convert this dataframe to an interactive table.\"\n",
              "              style=\"display:none;\">\n",
              "        \n",
              "  <svg xmlns=\"http://www.w3.org/2000/svg\" height=\"24px\"viewBox=\"0 0 24 24\"\n",
              "       width=\"24px\">\n",
              "    <path d=\"M0 0h24v24H0V0z\" fill=\"none\"/>\n",
              "    <path d=\"M18.56 5.44l.94 2.06.94-2.06 2.06-.94-2.06-.94-.94-2.06-.94 2.06-2.06.94zm-11 1L8.5 8.5l.94-2.06 2.06-.94-2.06-.94L8.5 2.5l-.94 2.06-2.06.94zm10 10l.94 2.06.94-2.06 2.06-.94-2.06-.94-.94-2.06-.94 2.06-2.06.94z\"/><path d=\"M17.41 7.96l-1.37-1.37c-.4-.4-.92-.59-1.43-.59-.52 0-1.04.2-1.43.59L10.3 9.45l-7.72 7.72c-.78.78-.78 2.05 0 2.83L4 21.41c.39.39.9.59 1.41.59.51 0 1.02-.2 1.41-.59l7.78-7.78 2.81-2.81c.8-.78.8-2.07 0-2.86zM5.41 20L4 18.59l7.72-7.72 1.47 1.35L5.41 20z\"/>\n",
              "  </svg>\n",
              "      </button>\n",
              "      \n",
              "  <style>\n",
              "    .colab-df-container {\n",
              "      display:flex;\n",
              "      flex-wrap:wrap;\n",
              "      gap: 12px;\n",
              "    }\n",
              "\n",
              "    .colab-df-convert {\n",
              "      background-color: #E8F0FE;\n",
              "      border: none;\n",
              "      border-radius: 50%;\n",
              "      cursor: pointer;\n",
              "      display: none;\n",
              "      fill: #1967D2;\n",
              "      height: 32px;\n",
              "      padding: 0 0 0 0;\n",
              "      width: 32px;\n",
              "    }\n",
              "\n",
              "    .colab-df-convert:hover {\n",
              "      background-color: #E2EBFA;\n",
              "      box-shadow: 0px 1px 2px rgba(60, 64, 67, 0.3), 0px 1px 3px 1px rgba(60, 64, 67, 0.15);\n",
              "      fill: #174EA6;\n",
              "    }\n",
              "\n",
              "    [theme=dark] .colab-df-convert {\n",
              "      background-color: #3B4455;\n",
              "      fill: #D2E3FC;\n",
              "    }\n",
              "\n",
              "    [theme=dark] .colab-df-convert:hover {\n",
              "      background-color: #434B5C;\n",
              "      box-shadow: 0px 1px 3px 1px rgba(0, 0, 0, 0.15);\n",
              "      filter: drop-shadow(0px 1px 2px rgba(0, 0, 0, 0.3));\n",
              "      fill: #FFFFFF;\n",
              "    }\n",
              "  </style>\n",
              "\n",
              "      <script>\n",
              "        const buttonEl =\n",
              "          document.querySelector('#df-b8c9ea2e-677f-4a04-b21a-d1616c0648e7 button.colab-df-convert');\n",
              "        buttonEl.style.display =\n",
              "          google.colab.kernel.accessAllowed ? 'block' : 'none';\n",
              "\n",
              "        async function convertToInteractive(key) {\n",
              "          const element = document.querySelector('#df-b8c9ea2e-677f-4a04-b21a-d1616c0648e7');\n",
              "          const dataTable =\n",
              "            await google.colab.kernel.invokeFunction('convertToInteractive',\n",
              "                                                     [key], {});\n",
              "          if (!dataTable) return;\n",
              "\n",
              "          const docLinkHtml = 'Like what you see? Visit the ' +\n",
              "            '<a target=\"_blank\" href=https://colab.research.google.com/notebooks/data_table.ipynb>data table notebook</a>'\n",
              "            + ' to learn more about interactive tables.';\n",
              "          element.innerHTML = '';\n",
              "          dataTable['output_type'] = 'display_data';\n",
              "          await google.colab.output.renderOutput(dataTable, element);\n",
              "          const docLink = document.createElement('div');\n",
              "          docLink.innerHTML = docLinkHtml;\n",
              "          element.appendChild(docLink);\n",
              "        }\n",
              "      </script>\n",
              "    </div>\n",
              "  </div>\n",
              "  "
            ]
          },
          "metadata": {},
          "execution_count": 6
        }
      ]
    },
    {
      "cell_type": "code",
      "source": [
        "data.shape"
      ],
      "metadata": {
        "colab": {
          "base_uri": "https://localhost:8080/"
        },
        "id": "c4IygFNuH9cM",
        "outputId": "00ecaac0-41cb-4082-b117-1a12cf24f1ec"
      },
      "execution_count": 7,
      "outputs": [
        {
          "output_type": "execute_result",
          "data": {
            "text/plain": [
              "(681284, 7)"
            ]
          },
          "metadata": {},
          "execution_count": 7
        }
      ]
    },
    {
      "cell_type": "code",
      "source": [
        "#Check for null values\n",
        "pd.DataFrame(data.isnull().sum(), columns=['No. of missing values'])"
      ],
      "metadata": {
        "colab": {
          "base_uri": "https://localhost:8080/",
          "height": 268
        },
        "id": "6QJIZqjnIFou",
        "outputId": "d1ae2641-4caa-4d8c-d0e3-c6c4c223a511"
      },
      "execution_count": 8,
      "outputs": [
        {
          "output_type": "execute_result",
          "data": {
            "text/plain": [
              "        No. of missing values\n",
              "id                          0\n",
              "gender                      0\n",
              "age                         0\n",
              "topic                       0\n",
              "sign                        0\n",
              "date                        0\n",
              "text                        0"
            ],
            "text/html": [
              "\n",
              "  <div id=\"df-295148f4-c2a9-416f-87aa-f9d2257745b6\">\n",
              "    <div class=\"colab-df-container\">\n",
              "      <div>\n",
              "<style scoped>\n",
              "    .dataframe tbody tr th:only-of-type {\n",
              "        vertical-align: middle;\n",
              "    }\n",
              "\n",
              "    .dataframe tbody tr th {\n",
              "        vertical-align: top;\n",
              "    }\n",
              "\n",
              "    .dataframe thead th {\n",
              "        text-align: right;\n",
              "    }\n",
              "</style>\n",
              "<table border=\"1\" class=\"dataframe\">\n",
              "  <thead>\n",
              "    <tr style=\"text-align: right;\">\n",
              "      <th></th>\n",
              "      <th>No. of missing values</th>\n",
              "    </tr>\n",
              "  </thead>\n",
              "  <tbody>\n",
              "    <tr>\n",
              "      <th>id</th>\n",
              "      <td>0</td>\n",
              "    </tr>\n",
              "    <tr>\n",
              "      <th>gender</th>\n",
              "      <td>0</td>\n",
              "    </tr>\n",
              "    <tr>\n",
              "      <th>age</th>\n",
              "      <td>0</td>\n",
              "    </tr>\n",
              "    <tr>\n",
              "      <th>topic</th>\n",
              "      <td>0</td>\n",
              "    </tr>\n",
              "    <tr>\n",
              "      <th>sign</th>\n",
              "      <td>0</td>\n",
              "    </tr>\n",
              "    <tr>\n",
              "      <th>date</th>\n",
              "      <td>0</td>\n",
              "    </tr>\n",
              "    <tr>\n",
              "      <th>text</th>\n",
              "      <td>0</td>\n",
              "    </tr>\n",
              "  </tbody>\n",
              "</table>\n",
              "</div>\n",
              "      <button class=\"colab-df-convert\" onclick=\"convertToInteractive('df-295148f4-c2a9-416f-87aa-f9d2257745b6')\"\n",
              "              title=\"Convert this dataframe to an interactive table.\"\n",
              "              style=\"display:none;\">\n",
              "        \n",
              "  <svg xmlns=\"http://www.w3.org/2000/svg\" height=\"24px\"viewBox=\"0 0 24 24\"\n",
              "       width=\"24px\">\n",
              "    <path d=\"M0 0h24v24H0V0z\" fill=\"none\"/>\n",
              "    <path d=\"M18.56 5.44l.94 2.06.94-2.06 2.06-.94-2.06-.94-.94-2.06-.94 2.06-2.06.94zm-11 1L8.5 8.5l.94-2.06 2.06-.94-2.06-.94L8.5 2.5l-.94 2.06-2.06.94zm10 10l.94 2.06.94-2.06 2.06-.94-2.06-.94-.94-2.06-.94 2.06-2.06.94z\"/><path d=\"M17.41 7.96l-1.37-1.37c-.4-.4-.92-.59-1.43-.59-.52 0-1.04.2-1.43.59L10.3 9.45l-7.72 7.72c-.78.78-.78 2.05 0 2.83L4 21.41c.39.39.9.59 1.41.59.51 0 1.02-.2 1.41-.59l7.78-7.78 2.81-2.81c.8-.78.8-2.07 0-2.86zM5.41 20L4 18.59l7.72-7.72 1.47 1.35L5.41 20z\"/>\n",
              "  </svg>\n",
              "      </button>\n",
              "      \n",
              "  <style>\n",
              "    .colab-df-container {\n",
              "      display:flex;\n",
              "      flex-wrap:wrap;\n",
              "      gap: 12px;\n",
              "    }\n",
              "\n",
              "    .colab-df-convert {\n",
              "      background-color: #E8F0FE;\n",
              "      border: none;\n",
              "      border-radius: 50%;\n",
              "      cursor: pointer;\n",
              "      display: none;\n",
              "      fill: #1967D2;\n",
              "      height: 32px;\n",
              "      padding: 0 0 0 0;\n",
              "      width: 32px;\n",
              "    }\n",
              "\n",
              "    .colab-df-convert:hover {\n",
              "      background-color: #E2EBFA;\n",
              "      box-shadow: 0px 1px 2px rgba(60, 64, 67, 0.3), 0px 1px 3px 1px rgba(60, 64, 67, 0.15);\n",
              "      fill: #174EA6;\n",
              "    }\n",
              "\n",
              "    [theme=dark] .colab-df-convert {\n",
              "      background-color: #3B4455;\n",
              "      fill: #D2E3FC;\n",
              "    }\n",
              "\n",
              "    [theme=dark] .colab-df-convert:hover {\n",
              "      background-color: #434B5C;\n",
              "      box-shadow: 0px 1px 3px 1px rgba(0, 0, 0, 0.15);\n",
              "      filter: drop-shadow(0px 1px 2px rgba(0, 0, 0, 0.3));\n",
              "      fill: #FFFFFF;\n",
              "    }\n",
              "  </style>\n",
              "\n",
              "      <script>\n",
              "        const buttonEl =\n",
              "          document.querySelector('#df-295148f4-c2a9-416f-87aa-f9d2257745b6 button.colab-df-convert');\n",
              "        buttonEl.style.display =\n",
              "          google.colab.kernel.accessAllowed ? 'block' : 'none';\n",
              "\n",
              "        async function convertToInteractive(key) {\n",
              "          const element = document.querySelector('#df-295148f4-c2a9-416f-87aa-f9d2257745b6');\n",
              "          const dataTable =\n",
              "            await google.colab.kernel.invokeFunction('convertToInteractive',\n",
              "                                                     [key], {});\n",
              "          if (!dataTable) return;\n",
              "\n",
              "          const docLinkHtml = 'Like what you see? Visit the ' +\n",
              "            '<a target=\"_blank\" href=https://colab.research.google.com/notebooks/data_table.ipynb>data table notebook</a>'\n",
              "            + ' to learn more about interactive tables.';\n",
              "          element.innerHTML = '';\n",
              "          dataTable['output_type'] = 'display_data';\n",
              "          await google.colab.output.renderOutput(dataTable, element);\n",
              "          const docLink = document.createElement('div');\n",
              "          docLink.innerHTML = docLinkHtml;\n",
              "          element.appendChild(docLink);\n",
              "        }\n",
              "      </script>\n",
              "    </div>\n",
              "  </div>\n",
              "  "
            ]
          },
          "metadata": {},
          "execution_count": 8
        }
      ]
    },
    {
      "cell_type": "code",
      "source": [
        "print(f\"There are {data.duplicated().sum()} duplicate rows\")"
      ],
      "metadata": {
        "colab": {
          "base_uri": "https://localhost:8080/"
        },
        "id": "yLGYRSSGIO0l",
        "outputId": "0dab57cc-c1f7-47dd-dfa0-0815b7394770"
      },
      "execution_count": 9,
      "outputs": [
        {
          "output_type": "stream",
          "name": "stdout",
          "text": [
            "There are 4686 duplicate rows\n"
          ]
        }
      ]
    },
    {
      "cell_type": "code",
      "source": [
        "data.drop_duplicates(inplace=True)"
      ],
      "metadata": {
        "id": "9TPTM4OFIbLo"
      },
      "execution_count": 10,
      "outputs": []
    },
    {
      "cell_type": "markdown",
      "source": [
        "## 2. EDA"
      ],
      "metadata": {
        "id": "KA-Jwg-sLMjF"
      }
    },
    {
      "cell_type": "markdown",
      "source": [
        "Get all unique values in columns"
      ],
      "metadata": {
        "id": "e6C0CdZpJEmv"
      }
    },
    {
      "cell_type": "code",
      "source": [
        "for col in data.columns:\n",
        "  if not col in ['id','date','text']:\n",
        "    print(col)\n",
        "    print(\".\"*40)\n",
        "    print(data[col].unique())\n",
        "    print(data[col].value_counts())\n",
        "    print(\"\\n\")"
      ],
      "metadata": {
        "colab": {
          "base_uri": "https://localhost:8080/"
        },
        "id": "nYKYhJltIegw",
        "outputId": "e9c9f4d8-2f97-449a-bb2a-39cb31bdc811"
      },
      "execution_count": 11,
      "outputs": [
        {
          "output_type": "stream",
          "name": "stdout",
          "text": [
            "gender\n",
            "........................................\n",
            "['male' 'female']\n",
            "male      342272\n",
            "female    334326\n",
            "Name: gender, dtype: int64\n",
            "\n",
            "\n",
            "age\n",
            "........................................\n",
            "[15 33 14 25 17 23 37 26 24 27 45 34 41 44 16 39 35 36 46 42 13 38 43 40\n",
            " 47 48]\n",
            "17    80670\n",
            "24    79809\n",
            "23    72448\n",
            "16    72228\n",
            "25    66803\n",
            "26    55012\n",
            "27    45745\n",
            "15    41559\n",
            "14    27200\n",
            "34    21304\n",
            "33    17532\n",
            "35    17275\n",
            "36    14185\n",
            "13    12132\n",
            "37     9280\n",
            "38     7187\n",
            "39     5468\n",
            "40     4998\n",
            "45     4468\n",
            "43     4195\n",
            "41     3714\n",
            "48     3545\n",
            "42     2875\n",
            "46     2730\n",
            "47     2204\n",
            "44     2032\n",
            "Name: age, dtype: int64\n",
            "\n",
            "\n",
            "topic\n",
            "........................................\n",
            "['Student' 'InvestmentBanking' 'indUnk' 'Non-Profit' 'Banking' 'Education'\n",
            " 'Engineering' 'Science' 'Communications-Media' 'BusinessServices'\n",
            " 'Sports-Recreation' 'Arts' 'Internet' 'Museums-Libraries' 'Accounting'\n",
            " 'Technology' 'Law' 'Consulting' 'Automotive' 'Religion' 'Fashion'\n",
            " 'Publishing' 'Marketing' 'LawEnforcement-Security' 'HumanResources'\n",
            " 'Telecommunications' 'Military' 'Government' 'Transportation'\n",
            " 'Architecture' 'Advertising' 'Agriculture' 'Biotech' 'RealEstate'\n",
            " 'Manufacturing' 'Construction' 'Chemicals' 'Maritime' 'Tourism'\n",
            " 'Environment']\n",
            "indUnk                     248738\n",
            "Student                    153080\n",
            "Technology                  41913\n",
            "Arts                        32305\n",
            "Education                   29572\n",
            "Communications-Media        20038\n",
            "Internet                    15884\n",
            "Non-Profit                  14618\n",
            "Engineering                 11561\n",
            "Law                          9022\n",
            "Publishing                   7710\n",
            "Science                      7207\n",
            "Government                   6866\n",
            "Consulting                   5823\n",
            "Religion                     5188\n",
            "Fashion                      4824\n",
            "Marketing                    4757\n",
            "Advertising                  4663\n",
            "BusinessServices             4476\n",
            "Banking                      4033\n",
            "Chemicals                    3919\n",
            "Telecommunications           3842\n",
            "Accounting                   3703\n",
            "Museums-Libraries            3095\n",
            "Military                     3093\n",
            "Sports-Recreation            3029\n",
            "HumanResources               3003\n",
            "RealEstate                   2867\n",
            "Manufacturing                2231\n",
            "Biotech                      2229\n",
            "Transportation               2185\n",
            "Tourism                      1936\n",
            "LawEnforcement-Security      1875\n",
            "Architecture                 1611\n",
            "InvestmentBanking            1286\n",
            "Automotive                   1242\n",
            "Agriculture                  1234\n",
            "Construction                 1075\n",
            "Environment                   588\n",
            "Maritime                      277\n",
            "Name: topic, dtype: int64\n",
            "\n",
            "\n",
            "sign\n",
            "........................................\n",
            "['Leo' 'Aquarius' 'Aries' 'Capricorn' 'Gemini' 'Cancer' 'Sagittarius'\n",
            " 'Scorpio' 'Libra' 'Virgo' 'Taurus' 'Pisces']\n",
            "Aries          64758\n",
            "Cancer         64709\n",
            "Libra          62146\n",
            "Taurus         61393\n",
            "Virgo          60200\n",
            "Scorpio        56597\n",
            "Pisces         53657\n",
            "Leo            53603\n",
            "Gemini         51309\n",
            "Sagittarius    49831\n",
            "Aquarius       49422\n",
            "Capricorn      48973\n",
            "Name: sign, dtype: int64\n",
            "\n",
            "\n"
          ]
        }
      ]
    },
    {
      "cell_type": "code",
      "source": [
        "data.columns"
      ],
      "metadata": {
        "colab": {
          "base_uri": "https://localhost:8080/"
        },
        "id": "2R9Q8bZVJ2v7",
        "outputId": "fdfc2285-2275-49fa-ba24-ee472f09ce63"
      },
      "execution_count": 12,
      "outputs": [
        {
          "output_type": "execute_result",
          "data": {
            "text/plain": [
              "Index(['id', 'gender', 'age', 'topic', 'sign', 'date', 'text'], dtype='object')"
            ]
          },
          "metadata": {},
          "execution_count": 12
        }
      ]
    },
    {
      "cell_type": "markdown",
      "source": [
        "### 2.1 Univariate Analysis"
      ],
      "metadata": {
        "id": "jayIFrMbLHM8"
      }
    },
    {
      "cell_type": "code",
      "source": [
        "fig,ax = plt.subplots(nrows=3,ncols=1,figsize=(60,20))\n",
        "data['gender'].value_counts().plot(kind = 'barh',  figsize = (20, 40),ax=ax[0]);\n",
        "data['sign'].value_counts().plot(kind = 'barh',  figsize = (20, 40),ax=ax[1]);\n",
        "data['age'].value_counts().plot(kind = 'barh',  figsize = (20, 40),ax=ax[2]);\n",
        "plt.show()"
      ],
      "metadata": {
        "colab": {
          "base_uri": "https://localhost:8080/",
          "height": 1000
        },
        "id": "QlH0ecTJJ-8l",
        "outputId": "92eeb8e1-5e5c-4d02-b295-ec938e3fab67"
      },
      "execution_count": 13,
      "outputs": [
        {
          "output_type": "display_data",
          "data": {
            "text/plain": [
              "<Figure size 1440x2880 with 3 Axes>"
            ],
            "image/png": "[encoded data removed]"
          },
          "metadata": {
            "needs_background": "light"
          }
        }
      ]
    },
    {
      "cell_type": "markdown",
      "source": [
        "Analysis of text"
      ],
      "metadata": {
        "id": "H5IKlb6iL0de"
      }
    },
    {
      "cell_type": "code",
      "source": [
        "data['text'][0:5000].str.len().plot();"
      ],
      "metadata": {
        "colab": {
          "base_uri": "https://localhost:8080/",
          "height": 264
        },
        "id": "vQ1uLN3DM3ud",
        "outputId": "e4ccea33-2773-4a6e-e063-e2fcd3cc2823"
      },
      "execution_count": 14,
      "outputs": [
        {
          "output_type": "display_data",
          "data": {
            "text/plain": [
              "<Figure size 432x288 with 1 Axes>"
            ],
            "image/png": "[encoded data removed]"
          },
          "metadata": {
            "needs_background": "light"
          }
        }
      ]
    },
    {
      "cell_type": "code",
      "source": [
        "tlen = data['text'].str.len()\n",
        "\n",
        "print('Minimum line length: {}'.format(tlen.min()))\n",
        "print('Maximum line length: {}'.format(tlen.max()))\n",
        "print('Std deviation line length: {}'.format(tlen.std()))"
      ],
      "metadata": {
        "colab": {
          "base_uri": "https://localhost:8080/"
        },
        "id": "VnN427Q9N8Za",
        "outputId": "bf56a388-aef5-4ec3-b2da-2fc758580a48"
      },
      "execution_count": 15,
      "outputs": [
        {
          "output_type": "stream",
          "name": "stdout",
          "text": [
            "Minimum line length: 4\n",
            "Maximum line length: 790123\n",
            "Std deviation line length: 2334.408598129339\n"
          ]
        }
      ]
    },
    {
      "cell_type": "markdown",
      "source": [
        "Most of the blog length is around an average of 2334 characters"
      ],
      "metadata": {
        "id": "6BR_chNfQJpt"
      }
    },
    {
      "cell_type": "code",
      "source": [
        "# Select a smaller subset of dataset\n",
        "data = data[0:7000]"
      ],
      "metadata": {
        "id": "RqNcDiSbTDfP"
      },
      "execution_count": 16,
      "outputs": []
    },
    {
      "cell_type": "code",
      "source": [
        "data.shape"
      ],
      "metadata": {
        "colab": {
          "base_uri": "https://localhost:8080/"
        },
        "id": "uaqz0x8eTTqE",
        "outputId": "a96a1c67-048c-47c9-bc98-c1fe301f924f"
      },
      "execution_count": 17,
      "outputs": [
        {
          "output_type": "execute_result",
          "data": {
            "text/plain": [
              "(7000, 7)"
            ]
          },
          "metadata": {},
          "execution_count": 17
        }
      ]
    },
    {
      "cell_type": "markdown",
      "source": [
        "### 2.2 Data Cleaning"
      ],
      "metadata": {
        "id": "SLxQovw7Rk4D"
      }
    },
    {
      "cell_type": "code",
      "source": [
        "!pip install contractions\n",
        "import nltk\n",
        "import inflect\n",
        "import contractions\n",
        "from bs4 import BeautifulSoup\n",
        "import re, string, unicodedata\n",
        "from nltk import word_tokenize, sent_tokenize\n",
        "from nltk.corpus import stopwords\n",
        "from nltk.stem import LancasterStemmer, WordNetLemmatizer\n",
        "from sklearn.preprocessing import LabelEncoder\n",
        "import nltk\n",
        "nltk.download('punkt')\n",
        "nltk.download('stopwords')\n",
        "nltk.download('wordnet')"
      ],
      "metadata": {
        "colab": {
          "base_uri": "https://localhost:8080/"
        },
        "id": "qbMC1m9tR2lv",
        "outputId": "6e009e9a-4217-494b-c62a-71030a358eed"
      },
      "execution_count": 18,
      "outputs": [
        {
          "output_type": "stream",
          "name": "stdout",
          "text": [
            "Collecting contractions\n",
            "  Downloading contractions-0.1.68-py2.py3-none-any.whl (8.1 kB)\n",
            "Collecting textsearch>=0.0.21\n",
            "  Downloading textsearch-0.0.21-py2.py3-none-any.whl (7.5 kB)\n",
            "Collecting pyahocorasick\n",
            "  Downloading pyahocorasick-1.4.4-cp37-cp37m-manylinux_2_17_x86_64.manylinux2014_x86_64.whl (106 kB)\n",
            "\u001b[K     |████████████████████████████████| 106 kB 19.0 MB/s \n",
            "\u001b[?25hCollecting anyascii\n",
            "  Downloading anyascii-0.3.0-py3-none-any.whl (284 kB)\n",
            "\u001b[K     |████████████████████████████████| 284 kB 54.9 MB/s \n",
            "\u001b[?25hInstalling collected packages: pyahocorasick, anyascii, textsearch, contractions\n",
            "Successfully installed anyascii-0.3.0 contractions-0.1.68 pyahocorasick-1.4.4 textsearch-0.0.21\n",
            "[nltk_data] Downloading package punkt to /root/nltk_data...\n",
            "[nltk_data]   Unzipping tokenizers/punkt.zip.\n",
            "[nltk_data] Downloading package stopwords to /root/nltk_data...\n",
            "[nltk_data]   Unzipping corpora/stopwords.zip.\n",
            "[nltk_data] Downloading package wordnet to /root/nltk_data...\n",
            "[nltk_data]   Unzipping corpora/wordnet.zip.\n"
          ]
        },
        {
          "output_type": "execute_result",
          "data": {
            "text/plain": [
              "True"
            ]
          },
          "metadata": {},
          "execution_count": 18
        }
      ]
    },
    {
      "cell_type": "code",
      "source": [
        "# Pipeline for text cleaning\n",
        "\n",
        "def denoise_text(text):\n",
        "    # Strip html if any. For ex. removing <html>, <p> tags\n",
        "    soup = BeautifulSoup(text, \"html.parser\")\n",
        "    text = soup.get_text()\n",
        "    # Replace contractions in the text. For ex. didn't -> did not\n",
        "    text = contractions.fix(text)\n",
        "    return text\n",
        "\n",
        "def tokenize(text):\n",
        "    return nltk.word_tokenize(text)\n",
        "\n",
        "def remove_non_ascii(words):\n",
        "    \"\"\"Remove non-ASCII characters from list of tokenized words\"\"\"\n",
        "    new_words = []\n",
        "    for word in words:\n",
        "        new_word = unicodedata.normalize('NFKD', word).encode('ascii', 'ignore').decode('utf-8', 'ignore')\n",
        "        new_words.append(new_word)\n",
        "    return new_words\n",
        "def to_lowercase(words):\n",
        "    \"\"\"Convert all characters to lowercase from list of tokenized words\"\"\"\n",
        "    new_words = []\n",
        "    for word in words:\n",
        "        new_word = word.lower()\n",
        "        new_words.append(new_word)\n",
        "    return new_words\n",
        "def remove_punctuation(words):\n",
        "    \"\"\"Remove punctuation from list of tokenized words\"\"\"\n",
        "    new_words = []\n",
        "    for word in words:\n",
        "        new_word = re.sub(r'[^\\w\\s]', '', word)\n",
        "        if new_word != '':\n",
        "            new_words.append(new_word)\n",
        "    return new_words\n",
        "def replace_numbers(words):\n",
        "    \"\"\"Replace all integer occurrences in list of tokenized words with textual representation\"\"\"\n",
        "    p = inflect.engine()\n",
        "    new_words = []\n",
        "    for word in words:\n",
        "        if word.isdigit():\n",
        "            new_word = p.number_to_words(word)\n",
        "            new_words.append(new_word)\n",
        "        else:\n",
        "            new_words.append(word)\n",
        "    return new_words\n",
        "def remove_numbers(words):\n",
        "    \"\"\"Remove all integer occurrences in list of tokenized words with textual representation\"\"\"\n",
        "    new_words = []\n",
        "    for word in words:\n",
        "        if word.isdigit():\n",
        "            new_word = ''\n",
        "            new_words.append(new_word)\n",
        "        else:\n",
        "            new_words.append(word)\n",
        "    return new_words\n",
        "def remove_stopwords(words):\n",
        "    \"\"\"Remove stop words from list of tokenized words\"\"\"\n",
        "    new_words = []\n",
        "    for word in words:\n",
        "        if word not in stopwords.words('english'):\n",
        "            new_words.append(word)\n",
        "    return new_words\n",
        "def stem_words(words):\n",
        "    \"\"\"Stem words in list of tokenized words\"\"\"\n",
        "    stemmer = LancasterStemmer()\n",
        "    stems = []\n",
        "    for word in words:\n",
        "        stem = stemmer.stem(word)\n",
        "        stems.append(stem)\n",
        "    return stems\n",
        "\n",
        "def lemmatize_verbs(words):\n",
        "    \"\"\"Lemmatize verbs in list of tokenized words\"\"\"\n",
        "    lemmatizer = WordNetLemmatizer()\n",
        "    lemmas = []\n",
        "    for word in words:\n",
        "        lemma = lemmatizer.lemmatize(word, pos='v')\n",
        "        lemmas.append(lemma)\n",
        "    return lemmas"
      ],
      "metadata": {
        "id": "FAX7fif0Rgmq"
      },
      "execution_count": 19,
      "outputs": []
    },
    {
      "cell_type": "code",
      "source": [
        "def normalize_text(words):\n",
        "    words = remove_non_ascii(words)\n",
        "    words = to_lowercase(words)\n",
        "    words = remove_punctuation(words)\n",
        "    words = remove_numbers(words)\n",
        "    words = remove_stopwords(words)\n",
        "    #words = stem_words(words)\n",
        "    words = lemmatize_verbs(words)\n",
        "    return words"
      ],
      "metadata": {
        "id": "Xf2n_fsNQ90U"
      },
      "execution_count": 20,
      "outputs": []
    },
    {
      "cell_type": "code",
      "source": [
        "def text_clean(text):\n",
        "    text = denoise_text(text)\n",
        "    text = ' '.join([x for x in normalize_text(tokenize(text))])\n",
        "    return text\n",
        "data['text'] = [text_clean(x) for x in data['text']]"
      ],
      "metadata": {
        "id": "tJRC-FWrSDK4"
      },
      "execution_count": 21,
      "outputs": []
    },
    {
      "cell_type": "code",
      "source": [
        "data['text'].head(5)"
      ],
      "metadata": {
        "colab": {
          "base_uri": "https://localhost:8080/"
        },
        "id": "-N7YjTIUSScO",
        "outputId": "848e9128-c6db-46b2-b080-3048da9b0d7e"
      },
      "execution_count": 22,
      "outputs": [
        {
          "output_type": "execute_result",
          "data": {
            "text/plain": [
              "0    info find  page  mb pdf file wait untill team ...\n",
              "1    team members drewes van der laag urllink mail ...\n",
              "2    het kader van kernfusie op aarde maak je eigen...\n",
              "3                                            test test\n",
              "4    thank yahoo toolbar capture urls popups mean s...\n",
              "Name: text, dtype: object"
            ]
          },
          "metadata": {},
          "execution_count": 22
        }
      ]
    },
    {
      "cell_type": "markdown",
      "source": [
        "### 2.3 Target/label merger and transformation"
      ],
      "metadata": {
        "id": "IhC5GkavUoRU"
      }
    },
    {
      "cell_type": "code",
      "source": [
        "data.dtypes"
      ],
      "metadata": {
        "colab": {
          "base_uri": "https://localhost:8080/"
        },
        "id": "5i22HWg8UbcE",
        "outputId": "69416dc0-80da-4444-aad6-93dd39366f13"
      },
      "execution_count": 23,
      "outputs": [
        {
          "output_type": "execute_result",
          "data": {
            "text/plain": [
              "id         int64\n",
              "gender    object\n",
              "age        int64\n",
              "topic     object\n",
              "sign      object\n",
              "date      object\n",
              "text      object\n",
              "dtype: object"
            ]
          },
          "metadata": {},
          "execution_count": 23
        }
      ]
    },
    {
      "cell_type": "code",
      "source": [
        "data[\"age\"] = data[\"age\"].astype(str)\n",
        "data[\"labels\"] = data.apply(lambda col :[col[\"gender\"],col[\"age\"],col[\"topic\"],col[\"sign\"]],axis =1)"
      ],
      "metadata": {
        "id": "jbVcspqWUSr1"
      },
      "execution_count": 24,
      "outputs": []
    },
    {
      "cell_type": "code",
      "source": [
        "data.drop(columns=[\"gender\",\"age\",\"sign\",\"topic\",\"date\",\"id\"],axis =1, inplace = True)"
      ],
      "metadata": {
        "id": "ClqOoop6UvHf"
      },
      "execution_count": 25,
      "outputs": []
    },
    {
      "cell_type": "code",
      "source": [
        "data.head()"
      ],
      "metadata": {
        "colab": {
          "base_uri": "https://localhost:8080/",
          "height": 206
        },
        "id": "ey3262XoU088",
        "outputId": "4e9239b2-2f70-4a70-e9df-fde01ae58af5"
      },
      "execution_count": 26,
      "outputs": [
        {
          "output_type": "execute_result",
          "data": {
            "text/plain": [
              "                                                text  \\\n",
              "0  info find  page  mb pdf file wait untill team ...   \n",
              "1  team members drewes van der laag urllink mail ...   \n",
              "2  het kader van kernfusie op aarde maak je eigen...   \n",
              "3                                          test test   \n",
              "4  thank yahoo toolbar capture urls popups mean s...   \n",
              "\n",
              "                                    labels  \n",
              "0                 [male, 15, Student, Leo]  \n",
              "1                 [male, 15, Student, Leo]  \n",
              "2                 [male, 15, Student, Leo]  \n",
              "3                 [male, 15, Student, Leo]  \n",
              "4  [male, 33, InvestmentBanking, Aquarius]  "
            ],
            "text/html": [
              "\n",
              "  <div id=\"df-e2e301a8-3b5c-4736-b800-7e7f804a4018\">\n",
              "    <div class=\"colab-df-container\">\n",
              "      <div>\n",
              "<style scoped>\n",
              "    .dataframe tbody tr th:only-of-type {\n",
              "        vertical-align: middle;\n",
              "    }\n",
              "\n",
              "    .dataframe tbody tr th {\n",
              "        vertical-align: top;\n",
              "    }\n",
              "\n",
              "    .dataframe thead th {\n",
              "        text-align: right;\n",
              "    }\n",
              "</style>\n",
              "<table border=\"1\" class=\"dataframe\">\n",
              "  <thead>\n",
              "    <tr style=\"text-align: right;\">\n",
              "      <th></th>\n",
              "      <th>text</th>\n",
              "      <th>labels</th>\n",
              "    </tr>\n",
              "  </thead>\n",
              "  <tbody>\n",
              "    <tr>\n",
              "      <th>0</th>\n",
              "      <td>info find  page  mb pdf file wait untill team ...</td>\n",
              "      <td>[male, 15, Student, Leo]</td>\n",
              "    </tr>\n",
              "    <tr>\n",
              "      <th>1</th>\n",
              "      <td>team members drewes van der laag urllink mail ...</td>\n",
              "      <td>[male, 15, Student, Leo]</td>\n",
              "    </tr>\n",
              "    <tr>\n",
              "      <th>2</th>\n",
              "      <td>het kader van kernfusie op aarde maak je eigen...</td>\n",
              "      <td>[male, 15, Student, Leo]</td>\n",
              "    </tr>\n",
              "    <tr>\n",
              "      <th>3</th>\n",
              "      <td>test test</td>\n",
              "      <td>[male, 15, Student, Leo]</td>\n",
              "    </tr>\n",
              "    <tr>\n",
              "      <th>4</th>\n",
              "      <td>thank yahoo toolbar capture urls popups mean s...</td>\n",
              "      <td>[male, 33, InvestmentBanking, Aquarius]</td>\n",
              "    </tr>\n",
              "  </tbody>\n",
              "</table>\n",
              "</div>\n",
              "      <button class=\"colab-df-convert\" onclick=\"convertToInteractive('df-e2e301a8-3b5c-4736-b800-7e7f804a4018')\"\n",
              "              title=\"Convert this dataframe to an interactive table.\"\n",
              "              style=\"display:none;\">\n",
              "        \n",
              "  <svg xmlns=\"http://www.w3.org/2000/svg\" height=\"24px\"viewBox=\"0 0 24 24\"\n",
              "       width=\"24px\">\n",
              "    <path d=\"M0 0h24v24H0V0z\" fill=\"none\"/>\n",
              "    <path d=\"M18.56 5.44l.94 2.06.94-2.06 2.06-.94-2.06-.94-.94-2.06-.94 2.06-2.06.94zm-11 1L8.5 8.5l.94-2.06 2.06-.94-2.06-.94L8.5 2.5l-.94 2.06-2.06.94zm10 10l.94 2.06.94-2.06 2.06-.94-2.06-.94-.94-2.06-.94 2.06-2.06.94z\"/><path d=\"M17.41 7.96l-1.37-1.37c-.4-.4-.92-.59-1.43-.59-.52 0-1.04.2-1.43.59L10.3 9.45l-7.72 7.72c-.78.78-.78 2.05 0 2.83L4 21.41c.39.39.9.59 1.41.59.51 0 1.02-.2 1.41-.59l7.78-7.78 2.81-2.81c.8-.78.8-2.07 0-2.86zM5.41 20L4 18.59l7.72-7.72 1.47 1.35L5.41 20z\"/>\n",
              "  </svg>\n",
              "      </button>\n",
              "      \n",
              "  <style>\n",
              "    .colab-df-container {\n",
              "      display:flex;\n",
              "      flex-wrap:wrap;\n",
              "      gap: 12px;\n",
              "    }\n",
              "\n",
              "    .colab-df-convert {\n",
              "      background-color: #E8F0FE;\n",
              "      border: none;\n",
              "      border-radius: 50%;\n",
              "      cursor: pointer;\n",
              "      display: none;\n",
              "      fill: #1967D2;\n",
              "      height: 32px;\n",
              "      padding: 0 0 0 0;\n",
              "      width: 32px;\n",
              "    }\n",
              "\n",
              "    .colab-df-convert:hover {\n",
              "      background-color: #E2EBFA;\n",
              "      box-shadow: 0px 1px 2px rgba(60, 64, 67, 0.3), 0px 1px 3px 1px rgba(60, 64, 67, 0.15);\n",
              "      fill: #174EA6;\n",
              "    }\n",
              "\n",
              "    [theme=dark] .colab-df-convert {\n",
              "      background-color: #3B4455;\n",
              "      fill: #D2E3FC;\n",
              "    }\n",
              "\n",
              "    [theme=dark] .colab-df-convert:hover {\n",
              "      background-color: #434B5C;\n",
              "      box-shadow: 0px 1px 3px 1px rgba(0, 0, 0, 0.15);\n",
              "      filter: drop-shadow(0px 1px 2px rgba(0, 0, 0, 0.3));\n",
              "      fill: #FFFFFF;\n",
              "    }\n",
              "  </style>\n",
              "\n",
              "      <script>\n",
              "        const buttonEl =\n",
              "          document.querySelector('#df-e2e301a8-3b5c-4736-b800-7e7f804a4018 button.colab-df-convert');\n",
              "        buttonEl.style.display =\n",
              "          google.colab.kernel.accessAllowed ? 'block' : 'none';\n",
              "\n",
              "        async function convertToInteractive(key) {\n",
              "          const element = document.querySelector('#df-e2e301a8-3b5c-4736-b800-7e7f804a4018');\n",
              "          const dataTable =\n",
              "            await google.colab.kernel.invokeFunction('convertToInteractive',\n",
              "                                                     [key], {});\n",
              "          if (!dataTable) return;\n",
              "\n",
              "          const docLinkHtml = 'Like what you see? Visit the ' +\n",
              "            '<a target=\"_blank\" href=https://colab.research.google.com/notebooks/data_table.ipynb>data table notebook</a>'\n",
              "            + ' to learn more about interactive tables.';\n",
              "          element.innerHTML = '';\n",
              "          dataTable['output_type'] = 'display_data';\n",
              "          await google.colab.output.renderOutput(dataTable, element);\n",
              "          const docLink = document.createElement('div');\n",
              "          docLink.innerHTML = docLinkHtml;\n",
              "          element.appendChild(docLink);\n",
              "        }\n",
              "      </script>\n",
              "    </div>\n",
              "  </div>\n",
              "  "
            ]
          },
          "metadata": {},
          "execution_count": 26
        }
      ]
    },
    {
      "cell_type": "markdown",
      "source": [
        "### 2.4 Train-Test Split"
      ],
      "metadata": {
        "id": "dHj_0ltLWFl7"
      }
    },
    {
      "cell_type": "code",
      "source": [
        "X_train, X_test, y_train, y_test =train_test_split(data.text,data.labels, random_state=42,test_size = 0.3,shuffle = True)"
      ],
      "metadata": {
        "id": "jb__J4fDU3Mn"
      },
      "execution_count": 27,
      "outputs": []
    },
    {
      "cell_type": "code",
      "source": [
        "print(f\"Training Size:{y_train.shape[0]} \\n Test Size: {y_test.shape[0]}\")"
      ],
      "metadata": {
        "colab": {
          "base_uri": "https://localhost:8080/"
        },
        "id": "r3sRr0cZVaGJ",
        "outputId": "90ece43f-c608-4c78-addb-28363662a2f8"
      },
      "execution_count": 28,
      "outputs": [
        {
          "output_type": "stream",
          "name": "stdout",
          "text": [
            "Training Size:4900 \n",
            " Test Size: 2100\n"
          ]
        }
      ]
    },
    {
      "cell_type": "markdown",
      "source": [
        "### 2.5 Vectorize"
      ],
      "metadata": {
        "id": "RhhmXQz_WVh-"
      }
    },
    {
      "cell_type": "markdown",
      "source": [
        "#### 2.5.1 Count Vectorizer"
      ],
      "metadata": {
        "id": "hUm9Dh0yZLNz"
      }
    },
    {
      "cell_type": "code",
      "source": [
        "from sklearn.feature_extraction.text import CountVectorizer\n",
        "\n",
        "vectorizer = CountVectorizer(min_df=3, max_features=100)  #have already removed stopewords earlier so not using it here again\n",
        "vectorizer.fit(X_train)\n",
        "X_count_vect=vectorizer.transform(X_train)"
      ],
      "metadata": {
        "id": "e8b0qgd8Vzqc"
      },
      "execution_count": 29,
      "outputs": []
    },
    {
      "cell_type": "code",
      "source": [
        "X_count_vect.toarray()\n",
        "X_count_vect.shape"
      ],
      "metadata": {
        "colab": {
          "base_uri": "https://localhost:8080/"
        },
        "id": "ZzNMEioYXGPX",
        "outputId": "a93b4340-83e4-41b2-a291-de645a949663"
      },
      "execution_count": 30,
      "outputs": [
        {
          "output_type": "execute_result",
          "data": {
            "text/plain": [
              "(4900, 100)"
            ]
          },
          "metadata": {},
          "execution_count": 30
        }
      ]
    },
    {
      "cell_type": "code",
      "source": [
        "cv_X_train = pd.DataFrame(X_count_vect.todense(), columns = vectorizer.get_feature_names())"
      ],
      "metadata": {
        "colab": {
          "base_uri": "https://localhost:8080/"
        },
        "id": "OhwzIloOW508",
        "outputId": "1d08447f-0dac-4320-a59a-2737848ff57c"
      },
      "execution_count": 31,
      "outputs": [
        {
          "output_type": "stream",
          "name": "stderr",
          "text": [
            "/usr/local/lib/python3.7/dist-packages/sklearn/utils/deprecation.py:87: FutureWarning: Function get_feature_names is deprecated; get_feature_names is deprecated in 1.0 and will be removed in 1.2. Please use get_feature_names_out instead.\n",
            "  warnings.warn(msg, category=FutureWarning)\n"
          ]
        }
      ]
    },
    {
      "cell_type": "code",
      "source": [
        "cv_X_train.head()"
      ],
      "metadata": {
        "colab": {
          "base_uri": "https://localhost:8080/",
          "height": 300
        },
        "id": "TROR0oo8W-AA",
        "outputId": "b66500c2-c46e-4a32-9e7b-1f8de8c20ff2"
      },
      "execution_count": 32,
      "outputs": [
        {
          "output_type": "execute_result",
          "data": {
            "text/plain": [
              "   actually  also  always  another  around  ask  back  better  call  come  \\\n",
              "0         0     0       0        0       0    0     0       0     0     0   \n",
              "1         0     0       0        0       0    0     0       0     0     0   \n",
              "2         0     0       0        0       0    0     0       0     0     0   \n",
              "3         0     0       0        0       0    0     0       1     0     0   \n",
              "4         0     0       0        1       0    0     0       0     0     0   \n",
              "\n",
              "   ...  way  week  well  work  world  would  write  year  years  yes  \n",
              "0  ...    0     0     0     0      0      0      0     0      0    0  \n",
              "1  ...    0     0     0     0      0      0      0     0      0    0  \n",
              "2  ...    0     0     0     0      0      0      0     0      0    0  \n",
              "3  ...    1     0     0     0      0      0      0     0      0    0  \n",
              "4  ...    0     0     0     1      7      1      0     0      0    0  \n",
              "\n",
              "[5 rows x 100 columns]"
            ],
            "text/html": [
              "\n",
              "  <div id=\"df-d8cf2bfe-2d70-4c07-bd27-eb6b507e6c30\">\n",
              "    <div class=\"colab-df-container\">\n",
              "      <div>\n",
              "<style scoped>\n",
              "    .dataframe tbody tr th:only-of-type {\n",
              "        vertical-align: middle;\n",
              "    }\n",
              "\n",
              "    .dataframe tbody tr th {\n",
              "        vertical-align: top;\n",
              "    }\n",
              "\n",
              "    .dataframe thead th {\n",
              "        text-align: right;\n",
              "    }\n",
              "</style>\n",
              "<table border=\"1\" class=\"dataframe\">\n",
              "  <thead>\n",
              "    <tr style=\"text-align: right;\">\n",
              "      <th></th>\n",
              "      <th>actually</th>\n",
              "      <th>also</th>\n",
              "      <th>always</th>\n",
              "      <th>another</th>\n",
              "      <th>around</th>\n",
              "      <th>ask</th>\n",
              "      <th>back</th>\n",
              "      <th>better</th>\n",
              "      <th>call</th>\n",
              "      <th>come</th>\n",
              "      <th>...</th>\n",
              "      <th>way</th>\n",
              "      <th>week</th>\n",
              "      <th>well</th>\n",
              "      <th>work</th>\n",
              "      <th>world</th>\n",
              "      <th>would</th>\n",
              "      <th>write</th>\n",
              "      <th>year</th>\n",
              "      <th>years</th>\n",
              "      <th>yes</th>\n",
              "    </tr>\n",
              "  </thead>\n",
              "  <tbody>\n",
              "    <tr>\n",
              "      <th>0</th>\n",
              "      <td>0</td>\n",
              "      <td>0</td>\n",
              "      <td>0</td>\n",
              "      <td>0</td>\n",
              "      <td>0</td>\n",
              "      <td>0</td>\n",
              "      <td>0</td>\n",
              "      <td>0</td>\n",
              "      <td>0</td>\n",
              "      <td>0</td>\n",
              "      <td>...</td>\n",
              "      <td>0</td>\n",
              "      <td>0</td>\n",
              "      <td>0</td>\n",
              "      <td>0</td>\n",
              "      <td>0</td>\n",
              "      <td>0</td>\n",
              "      <td>0</td>\n",
              "      <td>0</td>\n",
              "      <td>0</td>\n",
              "      <td>0</td>\n",
              "    </tr>\n",
              "    <tr>\n",
              "      <th>1</th>\n",
              "      <td>0</td>\n",
              "      <td>0</td>\n",
              "      <td>0</td>\n",
              "      <td>0</td>\n",
              "      <td>0</td>\n",
              "      <td>0</td>\n",
              "      <td>0</td>\n",
              "      <td>0</td>\n",
              "      <td>0</td>\n",
              "      <td>0</td>\n",
              "      <td>...</td>\n",
              "      <td>0</td>\n",
              "      <td>0</td>\n",
              "      <td>0</td>\n",
              "      <td>0</td>\n",
              "      <td>0</td>\n",
              "      <td>0</td>\n",
              "      <td>0</td>\n",
              "      <td>0</td>\n",
              "      <td>0</td>\n",
              "      <td>0</td>\n",
              "    </tr>\n",
              "    <tr>\n",
              "      <th>2</th>\n",
              "      <td>0</td>\n",
              "      <td>0</td>\n",
              "      <td>0</td>\n",
              "      <td>0</td>\n",
              "      <td>0</td>\n",
              "      <td>0</td>\n",
              "      <td>0</td>\n",
              "      <td>0</td>\n",
              "      <td>0</td>\n",
              "      <td>0</td>\n",
              "      <td>...</td>\n",
              "      <td>0</td>\n",
              "      <td>0</td>\n",
              "      <td>0</td>\n",
              "      <td>0</td>\n",
              "      <td>0</td>\n",
              "      <td>0</td>\n",
              "      <td>0</td>\n",
              "      <td>0</td>\n",
              "      <td>0</td>\n",
              "      <td>0</td>\n",
              "    </tr>\n",
              "    <tr>\n",
              "      <th>3</th>\n",
              "      <td>0</td>\n",
              "      <td>0</td>\n",
              "      <td>0</td>\n",
              "      <td>0</td>\n",
              "      <td>0</td>\n",
              "      <td>0</td>\n",
              "      <td>0</td>\n",
              "      <td>1</td>\n",
              "      <td>0</td>\n",
              "      <td>0</td>\n",
              "      <td>...</td>\n",
              "      <td>1</td>\n",
              "      <td>0</td>\n",
              "      <td>0</td>\n",
              "      <td>0</td>\n",
              "      <td>0</td>\n",
              "      <td>0</td>\n",
              "      <td>0</td>\n",
              "      <td>0</td>\n",
              "      <td>0</td>\n",
              "      <td>0</td>\n",
              "    </tr>\n",
              "    <tr>\n",
              "      <th>4</th>\n",
              "      <td>0</td>\n",
              "      <td>0</td>\n",
              "      <td>0</td>\n",
              "      <td>1</td>\n",
              "      <td>0</td>\n",
              "      <td>0</td>\n",
              "      <td>0</td>\n",
              "      <td>0</td>\n",
              "      <td>0</td>\n",
              "      <td>0</td>\n",
              "      <td>...</td>\n",
              "      <td>0</td>\n",
              "      <td>0</td>\n",
              "      <td>0</td>\n",
              "      <td>1</td>\n",
              "      <td>7</td>\n",
              "      <td>1</td>\n",
              "      <td>0</td>\n",
              "      <td>0</td>\n",
              "      <td>0</td>\n",
              "      <td>0</td>\n",
              "    </tr>\n",
              "  </tbody>\n",
              "</table>\n",
              "<p>5 rows × 100 columns</p>\n",
              "</div>\n",
              "      <button class=\"colab-df-convert\" onclick=\"convertToInteractive('df-d8cf2bfe-2d70-4c07-bd27-eb6b507e6c30')\"\n",
              "              title=\"Convert this dataframe to an interactive table.\"\n",
              "              style=\"display:none;\">\n",
              "        \n",
              "  <svg xmlns=\"http://www.w3.org/2000/svg\" height=\"24px\"viewBox=\"0 0 24 24\"\n",
              "       width=\"24px\">\n",
              "    <path d=\"M0 0h24v24H0V0z\" fill=\"none\"/>\n",
              "    <path d=\"M18.56 5.44l.94 2.06.94-2.06 2.06-.94-2.06-.94-.94-2.06-.94 2.06-2.06.94zm-11 1L8.5 8.5l.94-2.06 2.06-.94-2.06-.94L8.5 2.5l-.94 2.06-2.06.94zm10 10l.94 2.06.94-2.06 2.06-.94-2.06-.94-.94-2.06-.94 2.06-2.06.94z\"/><path d=\"M17.41 7.96l-1.37-1.37c-.4-.4-.92-.59-1.43-.59-.52 0-1.04.2-1.43.59L10.3 9.45l-7.72 7.72c-.78.78-.78 2.05 0 2.83L4 21.41c.39.39.9.59 1.41.59.51 0 1.02-.2 1.41-.59l7.78-7.78 2.81-2.81c.8-.78.8-2.07 0-2.86zM5.41 20L4 18.59l7.72-7.72 1.47 1.35L5.41 20z\"/>\n",
              "  </svg>\n",
              "      </button>\n",
              "      \n",
              "  <style>\n",
              "    .colab-df-container {\n",
              "      display:flex;\n",
              "      flex-wrap:wrap;\n",
              "      gap: 12px;\n",
              "    }\n",
              "\n",
              "    .colab-df-convert {\n",
              "      background-color: #E8F0FE;\n",
              "      border: none;\n",
              "      border-radius: 50%;\n",
              "      cursor: pointer;\n",
              "      display: none;\n",
              "      fill: #1967D2;\n",
              "      height: 32px;\n",
              "      padding: 0 0 0 0;\n",
              "      width: 32px;\n",
              "    }\n",
              "\n",
              "    .colab-df-convert:hover {\n",
              "      background-color: #E2EBFA;\n",
              "      box-shadow: 0px 1px 2px rgba(60, 64, 67, 0.3), 0px 1px 3px 1px rgba(60, 64, 67, 0.15);\n",
              "      fill: #174EA6;\n",
              "    }\n",
              "\n",
              "    [theme=dark] .colab-df-convert {\n",
              "      background-color: #3B4455;\n",
              "      fill: #D2E3FC;\n",
              "    }\n",
              "\n",
              "    [theme=dark] .colab-df-convert:hover {\n",
              "      background-color: #434B5C;\n",
              "      box-shadow: 0px 1px 3px 1px rgba(0, 0, 0, 0.15);\n",
              "      filter: drop-shadow(0px 1px 2px rgba(0, 0, 0, 0.3));\n",
              "      fill: #FFFFFF;\n",
              "    }\n",
              "  </style>\n",
              "\n",
              "      <script>\n",
              "        const buttonEl =\n",
              "          document.querySelector('#df-d8cf2bfe-2d70-4c07-bd27-eb6b507e6c30 button.colab-df-convert');\n",
              "        buttonEl.style.display =\n",
              "          google.colab.kernel.accessAllowed ? 'block' : 'none';\n",
              "\n",
              "        async function convertToInteractive(key) {\n",
              "          const element = document.querySelector('#df-d8cf2bfe-2d70-4c07-bd27-eb6b507e6c30');\n",
              "          const dataTable =\n",
              "            await google.colab.kernel.invokeFunction('convertToInteractive',\n",
              "                                                     [key], {});\n",
              "          if (!dataTable) return;\n",
              "\n",
              "          const docLinkHtml = 'Like what you see? Visit the ' +\n",
              "            '<a target=\"_blank\" href=https://colab.research.google.com/notebooks/data_table.ipynb>data table notebook</a>'\n",
              "            + ' to learn more about interactive tables.';\n",
              "          element.innerHTML = '';\n",
              "          dataTable['output_type'] = 'display_data';\n",
              "          await google.colab.output.renderOutput(dataTable, element);\n",
              "          const docLink = document.createElement('div');\n",
              "          docLink.innerHTML = docLinkHtml;\n",
              "          element.appendChild(docLink);\n",
              "        }\n",
              "      </script>\n",
              "    </div>\n",
              "  </div>\n",
              "  "
            ]
          },
          "metadata": {},
          "execution_count": 32
        }
      ]
    },
    {
      "cell_type": "code",
      "source": [
        "cv_X_train.shape"
      ],
      "metadata": {
        "colab": {
          "base_uri": "https://localhost:8080/"
        },
        "id": "W4dGGxEAXSxP",
        "outputId": "42fab64a-df56-4073-8d89-6c7330f539dc"
      },
      "execution_count": 33,
      "outputs": [
        {
          "output_type": "execute_result",
          "data": {
            "text/plain": [
              "(4900, 100)"
            ]
          },
          "metadata": {},
          "execution_count": 33
        }
      ]
    },
    {
      "cell_type": "markdown",
      "source": [
        "#### 2.5.2 Tf_IDF Vectorizer"
      ],
      "metadata": {
        "id": "9x37H_ytZPz4"
      }
    },
    {
      "cell_type": "code",
      "source": [
        "from sklearn.feature_extraction.text import TfidfVectorizer\n",
        "\n",
        "tfidfvectorizer = TfidfVectorizer(min_df=3, max_features=1000)\n",
        "tfidf_X = tfidfvectorizer.fit_transform(X_train)\n",
        "tfidfvectorizer.get_feature_names_out()"
      ],
      "metadata": {
        "colab": {
          "base_uri": "https://localhost:8080/"
        },
        "id": "XXNfc2nZXm15",
        "outputId": "c39804f9-2194-4a3e-bdf7-b0dd68a19a56"
      },
      "execution_count": 34,
      "outputs": [
        {
          "output_type": "execute_result",
          "data": {
            "text/plain": [
              "array(['able', 'absolutely', 'accept', 'accord', 'account', 'across',\n",
              "       'act', 'action', 'actually', 'add', 'address', 'administration',\n",
              "       'admit', 'afraid', 'afternoon', 'age', 'ago', 'agree', 'ah',\n",
              "       'ahead', 'air', 'al', 'album', 'allow', 'almost', 'alone', 'along',\n",
              "       'already', 'alright', 'also', 'although', 'always', 'amaze',\n",
              "       'america', 'american', 'americans', 'among', 'amount', 'angie',\n",
              "       'angry', 'annoy', 'another', 'answer', 'anybody', 'anymore',\n",
              "       'anyone', 'anything', 'anyway', 'anyways', 'apartment',\n",
              "       'apparently', 'appear', 'apple', 'apply', 'area', 'arm', 'around',\n",
              "       'arrive', 'art', 'article', 'ask', 'ass', 'assume', 'attack',\n",
              "       'attempt', 'attention', 'avoid', 'away', 'awesome', 'baby', 'back',\n",
              "       'bad', 'bag', 'ball', 'band', 'bank', 'bar', 'base', 'basically',\n",
              "       'bc', 'beach', 'bear', 'beat', 'beautiful', 'become', 'bed',\n",
              "       'begin', 'behind', 'believe', 'ben', 'best', 'better', 'beyond',\n",
              "       'big', 'bill', 'birthday', 'bitch', 'bite', 'black', 'blah',\n",
              "       'block', 'blog', 'blogger', 'blood', 'blow', 'blue', 'board',\n",
              "       'body', 'book', 'bore', 'boss', 'bother', 'bottom', 'bowl', 'box',\n",
              "       'boy', 'boyfriend', 'boys', 'brain', 'break', 'bridge', 'bring',\n",
              "       'brother', 'build', 'bunch', 'burn', 'bus', 'bush', 'business',\n",
              "       'busy', 'buy', 'call', 'camera', 'candy', 'car', 'card', 'care',\n",
              "       'career', 'carry', 'cars', 'case', 'cat', 'catch', 'cause', 'cd',\n",
              "       'cell', 'center', 'certain', 'chair', 'chance', 'change',\n",
              "       'character', 'charge', 'check', 'chicken', 'child', 'children',\n",
              "       'choice', 'choose', 'chris', 'christmas', 'church', 'city',\n",
              "       'claim', 'class', 'clean', 'clear', 'click', 'close', 'clothe',\n",
              "       'club', 'coffee', 'cold', 'college', 'color', 'come', 'comment',\n",
              "       'company', 'complain', 'complete', 'completely', 'complex',\n",
              "       'computer', 'concern', 'confuse', 'consider', 'continue',\n",
              "       'control', 'conversation', 'convince', 'cool', 'copy', 'corner',\n",
              "       'cost', 'could', 'count', 'country', 'couple', 'course', 'cover',\n",
              "       'crap', 'crazy', 'create', 'cross', 'cry', 'current', 'currently',\n",
              "       'cut', 'cute', 'cuz', 'dad', 'daily', 'damn', 'dance', 'dark',\n",
              "       'date', 'day', 'days', 'de', 'dead', 'deal', 'dear', 'death',\n",
              "       'decide', 'deep', 'definitely', 'depress', 'describe', 'design',\n",
              "       'desk', 'detail', 'die', 'different', 'difficult', 'dinner',\n",
              "       'discuss', 'diva', 'dj', 'do', 'doctor', 'dog', 'door', 'doubt',\n",
              "       'draw', 'dream', 'dress', 'drink', 'drive', 'drop', 'drug', 'due',\n",
              "       'duf', 'earlier', 'early', 'earth', 'easier', 'easy', 'eat',\n",
              "       'effect', 'either', 'else', 'email', 'end', 'energy', 'english',\n",
              "       'enjoy', 'enough', 'enter', 'entire', 'entry', 'especially', 'etc',\n",
              "       'even', 'event', 'eventually', 'ever', 'every', 'everybody',\n",
              "       'everyone', 'everything', 'evil', 'exactly', 'example', 'except',\n",
              "       'excite', 'excuse', 'exist', 'expect', 'experience', 'explain',\n",
              "       'express', 'extremely', 'eye', 'face', 'fact', 'fail', 'fair',\n",
              "       'faith', 'fall', 'family', 'fan', 'far', 'fast', 'fat', 'father',\n",
              "       'favorite', 'fear', 'feature', 'feel', 'feet', 'fell', 'felt',\n",
              "       'field', 'fight', 'figure', 'file', 'fill', 'film', 'final',\n",
              "       'finally', 'find', 'fine', 'finger', 'finish', 'fire', 'first',\n",
              "       'fit', 'five', 'fix', 'flight', 'floor', 'flower', 'fly', 'focus',\n",
              "       'folks', 'follow', 'food', 'force', 'forever', 'forget', 'form',\n",
              "       'forward', 'four', 'freak', 'free', 'freedom', 'french', 'friday',\n",
              "       'friend', 'friends', 'front', 'fuck', 'full', 'fun', 'funny',\n",
              "       'future', 'game', 'gay', 'general', 'get', 'gift', 'girl', 'girls',\n",
              "       'give', 'glad', 'glass', 'go', 'god', 'golf', 'good', 'government',\n",
              "       'grade', 'great', 'green', 'grind', 'group', 'grow', 'guess',\n",
              "       'gun', 'guy', 'ha', 'haha', 'hair', 'hal', 'half', 'hand',\n",
              "       'handle', 'hang', 'happen', 'happy', 'hard', 'hat', 'hate', 'head',\n",
              "       'hear', 'heart', 'hee', 'heh', 'hehe', 'hell', 'hello', 'help',\n",
              "       'hey', 'hide', 'high', 'hill', 'history', 'hit', 'hmmm', 'hold',\n",
              "       'hole', 'holiday', 'home', 'honestly', 'hop', 'hope', 'hopefully',\n",
              "       'horrible', 'hot', 'hotel', 'hour', 'hours', 'house', 'however',\n",
              "       'http', 'huge', 'human', 'hurt', 'husband', 'ice', 'idea', 'ideas',\n",
              "       'image', 'imagine', 'important', 'include', 'increase',\n",
              "       'individual', 'information', 'inside', 'instead', 'interest',\n",
              "       'internet', 'involve', 'iraq', 'issue', 'jesus', 'job', 'john',\n",
              "       'johnathan', 'join', 'joke', 'joy', 'judge', 'jump', 'keep', 'key',\n",
              "       'kick', 'kid', 'kill', 'kind', 'kiss', 'know', 'korea', 'korean',\n",
              "       'la', 'lack', 'lady', 'land', 'language', 'large', 'last', 'late',\n",
              "       'lately', 'later', 'laugh', 'law', 'lay', 'lead', 'learn', 'least',\n",
              "       'leave', 'less', 'let', 'letter', 'level', 'lie', 'life', 'light',\n",
              "       'like', 'likely', 'line', 'link', 'list', 'listen', 'little',\n",
              "       'live', 'local', 'lol', 'long', 'longer', 'look', 'lose', 'lot',\n",
              "       'loud', 'love', 'low', 'luck', 'lucky', 'lunch', 'machine', 'mad',\n",
              "       'major', 'make', 'man', 'manage', 'many', 'march', 'mark',\n",
              "       'market', 'marry', 'matter', 'may', 'maybe', 'mean', 'media',\n",
              "       'meet', 'men', 'mention', 'mess', 'message', 'miami', 'michael',\n",
              "       'middle', 'might', 'military', 'million', 'mind', 'mine', 'minute',\n",
              "       'minutes', 'mir', 'miss', 'mix', 'mom', 'moment', 'monday',\n",
              "       'money', 'month', 'months', 'mood', 'morning', 'mostly', 'mother',\n",
              "       'mouth', 'move', 'movie', 'movies', 'mr', 'much', 'music', 'must',\n",
              "       'name', 'nation', 'national', 'nature', 'near', 'need', 'never',\n",
              "       'new', 'news', 'next', 'nice', 'night', 'nobody', 'none', 'normal',\n",
              "       'north', 'note', 'nothing', 'notice', 'number', 'obviously',\n",
              "       'offer', 'office', 'often', 'oh', 'oil', 'ok', 'okay', 'old',\n",
              "       'older', 'one', 'ones', 'online', 'onto', 'open', 'opinion',\n",
              "       'order', 'others', 'outside', 'page', 'pain', 'paint', 'pair',\n",
              "       'panda', 'pandyland', 'pant', 'paper', 'parent', 'paris', 'park',\n",
              "       'part', 'party', 'pass', 'past', 'pay', 'peace', 'people',\n",
              "       'perfect', 'perhaps', 'period', 'person', 'personal', 'phone',\n",
              "       'pick', 'pics', 'picture', 'piece', 'piss', 'place', 'plan',\n",
              "       'play', 'please', 'plus', 'pm', 'point', 'political', 'pool',\n",
              "       'poor', 'pop', 'position', 'possible', 'possibly', 'post', 'power',\n",
              "       'practice', 'prepare', 'present', 'president', 'press', 'pretty',\n",
              "       'price', 'probably', 'problem', 'problems', 'process', 'program',\n",
              "       'project', 'promise', 'prove', 'provide', 'public', 'pull', 'push',\n",
              "       'put', 'question', 'quick', 'quickly', 'quiet', 'quite', 'quote',\n",
              "       'race', 'rachel', 'radio', 'rain', 'raise', 'random', 'rat',\n",
              "       'rather', 'reach', 'read', 'ready', 'real', 'reality', 'realize',\n",
              "       'really', 'reason', 'receive', 'recent', 'recently', 'record',\n",
              "       'red', 'refer', 'regard', 'relationship', 'release', 'remain',\n",
              "       'remember', 'remind', 'rent', 'repeat', 'report', 'republican',\n",
              "       'require', 'research', 'respond', 'response', 'rest', 'result',\n",
              "       'return', 'review', 'rich', 'rid', 'ride', 'right', 'ring', 'rise',\n",
              "       'road', 'rock', 'roll', 'room', 'round', 'rule', 'run', 'sad',\n",
              "       'safe', 'saturday', 'save', 'saw', 'say', 'scar', 'scary', 'scene',\n",
              "       'school', 'scream', 'sean', 'search', 'season', 'seat', 'second',\n",
              "       'secret', 'security', 'see', 'seem', 'self', 'sell', 'send',\n",
              "       'sense', 'series', 'serious', 'seriously', 'serve', 'service',\n",
              "       'set', 'several', 'sex', 'shake', 'shall', 'share', 'shit', 'shoe',\n",
              "       'shoot', 'shop', 'short', 'shoulder', 'show', 'shut', 'sick',\n",
              "       'side', 'sigh', 'sign', 'silly', 'simple', 'simply', 'since',\n",
              "       'sing', 'single', 'sister', 'sit', 'site', 'situation', 'skin',\n",
              "       'sleep', 'slow', 'small', 'smell', 'smile', 'smoke', 'snow',\n",
              "       'social', 'society', 'somebody', 'somehow', 'someone', 'something',\n",
              "       'sometimes', 'somewhere', 'son', 'song', 'songs', 'soon', 'sorry',\n",
              "       'sort', 'soul', 'sound', 'source', 'south', 'space', 'speak',\n",
              "       'special', 'spend', 'sport', 'spot', 'st', 'stage', 'stand',\n",
              "       'star', 'start', 'state', 'station', 'stay', 'steal', 'step',\n",
              "       'stick', 'still', 'stoner', 'stop', 'store', 'stories', 'story',\n",
              "       'straight', 'strange', 'street', 'stress', 'strike', 'strip',\n",
              "       'strong', 'study', 'stuff', 'stupid', 'style', 'subject', 'suck',\n",
              "       'suffer', 'suggest', 'summer', 'sun', 'sunday', 'support',\n",
              "       'suppose', 'sure', 'surprise', 'swear', 'sweet', 'swim', 'system',\n",
              "       'table', 'take', 'talk', 'target', 'taste', 'tax', 'teach',\n",
              "       'teacher', 'team', 'tear', 'tell', 'tend', 'term', 'test', 'thank',\n",
              "       'thing', 'things', 'think', 'though', 'thoughts', 'three', 'throw',\n",
              "       'thursday', 'ticket', 'till', 'time', 'tire', 'title', 'today',\n",
              "       'together', 'tomorrow', 'tonight', 'top', 'total', 'totally',\n",
              "       'touch', 'towards', 'town', 'track', 'traffic', 'train', 'travel',\n",
              "       'treat', 'tree', 'trip', 'trouble', 'true', 'truly', 'trust',\n",
              "       'truth', 'try', 'tuesday', 'tune', 'turn', 'tv', 'twice', 'two',\n",
              "       'type', 'um', 'uncle', 'understand', 'unless', 'update', 'upon',\n",
              "       'urllink', 'us', 'use', 'usually', 'vacation', 'value', 'vegas',\n",
              "       'version', 'video', 'view', 'visit', 'voice', 'vote', 'wait',\n",
              "       'wake', 'walk', 'wall', 'want', 'war', 'warm', 'warn', 'wash',\n",
              "       'waste', 'watch', 'water', 'way', 'ways', 'wear', 'weather', 'web',\n",
              "       'website', 'wed', 'week', 'weekend', 'weeks', 'weird', 'welcome',\n",
              "       'well', 'whatever', 'whether', 'white', 'whole', 'wife', 'win',\n",
              "       'wind', 'window', 'windows', 'wine', 'winter', 'wish', 'within',\n",
              "       'without', 'woman', 'women', 'wonder', 'wonderful', 'word', 'work',\n",
              "       'world', 'worry', 'worse', 'worst', 'worth', 'would', 'wow',\n",
              "       'write', 'wrong', 'ya', 'yay', 'yeah', 'year', 'years', 'yell',\n",
              "       'yes', 'yesterday', 'yet', 'york', 'young', 'yous'], dtype=object)"
            ]
          },
          "metadata": {},
          "execution_count": 34
        }
      ]
    },
    {
      "cell_type": "code",
      "source": [
        "tfidf_X.toarray()\n",
        "tfidf_X_train = pd.DataFrame(tfidf_X.todense(), columns = tfidfvectorizer.get_feature_names())"
      ],
      "metadata": {
        "colab": {
          "base_uri": "https://localhost:8080/"
        },
        "id": "1BF6mlZfsOAA",
        "outputId": "6cfc490b-7477-4069-8614-5208d78b5f48"
      },
      "execution_count": 35,
      "outputs": [
        {
          "output_type": "stream",
          "name": "stderr",
          "text": [
            "/usr/local/lib/python3.7/dist-packages/sklearn/utils/deprecation.py:87: FutureWarning: Function get_feature_names is deprecated; get_feature_names is deprecated in 1.0 and will be removed in 1.2. Please use get_feature_names_out instead.\n",
            "  warnings.warn(msg, category=FutureWarning)\n"
          ]
        }
      ]
    },
    {
      "cell_type": "markdown",
      "source": [
        "To apply ML models, the target labels are multiple hence we need to encode them using 0 and 1, similar to getdummies().\n",
        "MultilabelBinarizer does this for us when we pass it a dictionary of labels"
      ],
      "metadata": {
        "id": "wyCOuVBeaRyr"
      }
    },
    {
      "cell_type": "code",
      "source": [
        "label_counts=dict()\n",
        "\n",
        "for labels in data.labels.values:\n",
        "    for label in labels:\n",
        "        if label in label_counts:\n",
        "            label_counts[str(label)]+=1\n",
        "        else:\n",
        "            label_counts[str(label)]=1\n",
        "        \n",
        "label_counts"
      ],
      "metadata": {
        "colab": {
          "base_uri": "https://localhost:8080/"
        },
        "id": "xWad8q0pZycH",
        "outputId": "5790932f-9742-4880-d23a-160c85afc90f"
      },
      "execution_count": 36,
      "outputs": [
        {
          "output_type": "execute_result",
          "data": {
            "text/plain": [
              "{'13': 9,\n",
              " '14': 167,\n",
              " '15': 354,\n",
              " '16': 73,\n",
              " '17': 912,\n",
              " '23': 142,\n",
              " '24': 378,\n",
              " '25': 267,\n",
              " '26': 112,\n",
              " '27': 691,\n",
              " '33': 101,\n",
              " '34': 538,\n",
              " '35': 2305,\n",
              " '36': 801,\n",
              " '37': 19,\n",
              " '39': 79,\n",
              " '41': 14,\n",
              " '42': 14,\n",
              " '44': 3,\n",
              " '45': 14,\n",
              " '46': 7,\n",
              " 'Accounting': 2,\n",
              " 'Aquarius': 349,\n",
              " 'Aries': 3230,\n",
              " 'Arts': 31,\n",
              " 'Automotive': 14,\n",
              " 'Banking': 16,\n",
              " 'BusinessServices': 86,\n",
              " 'Cancer': 238,\n",
              " 'Capricorn': 88,\n",
              " 'Communications-Media': 61,\n",
              " 'Consulting': 18,\n",
              " 'Education': 121,\n",
              " 'Engineering': 119,\n",
              " 'Fashion': 714,\n",
              " 'Gemini': 88,\n",
              " 'Internet': 47,\n",
              " 'InvestmentBanking': 70,\n",
              " 'Law': 3,\n",
              " 'Leo': 208,\n",
              " 'Libra': 425,\n",
              " 'Museums-Libraries': 2,\n",
              " 'Non-Profit': 47,\n",
              " 'Pisces': 67,\n",
              " 'Religion': 9,\n",
              " 'Sagittarius': 706,\n",
              " 'Science': 33,\n",
              " 'Scorpio': 851,\n",
              " 'Sports-Recreation': 77,\n",
              " 'Student': 577,\n",
              " 'Taurus': 709,\n",
              " 'Technology': 2344,\n",
              " 'Virgo': 41,\n",
              " 'female': 2973,\n",
              " 'indUnk': 2609,\n",
              " 'male': 4027}"
            ]
          },
          "metadata": {},
          "execution_count": 36
        }
      ]
    },
    {
      "cell_type": "code",
      "source": [
        "from sklearn.preprocessing import MultiLabelBinarizer\n",
        "\n",
        "binarizer=MultiLabelBinarizer(classes=sorted(label_counts.keys()))\n",
        "y_train = binarizer.fit_transform(y_train)\n",
        "y_test = binarizer.transform(y_test)"
      ],
      "metadata": {
        "id": "5c54hyUJarx0"
      },
      "execution_count": 37,
      "outputs": []
    },
    {
      "cell_type": "code",
      "source": [
        "print(y_train)\n",
        "print(\"-----\")\n",
        "print(y_test)"
      ],
      "metadata": {
        "colab": {
          "base_uri": "https://localhost:8080/"
        },
        "id": "44DhYqueazf5",
        "outputId": "85f393e6-3aa5-4aeb-9106-4bf2d500f4f8"
      },
      "execution_count": 38,
      "outputs": [
        {
          "output_type": "stream",
          "name": "stdout",
          "text": [
            "[[0 0 0 ... 0 0 1]\n",
            " [0 0 0 ... 1 1 0]\n",
            " [0 0 0 ... 0 0 1]\n",
            " ...\n",
            " [0 0 0 ... 1 1 0]\n",
            " [0 0 0 ... 1 1 0]\n",
            " [0 0 0 ... 0 0 1]]\n",
            "-----\n",
            "[[0 0 0 ... 0 0 1]\n",
            " [0 0 0 ... 0 0 1]\n",
            " [0 0 0 ... 0 0 1]\n",
            " ...\n",
            " [0 0 0 ... 1 1 0]\n",
            " [0 0 0 ... 0 0 1]\n",
            " [0 0 0 ... 0 1 1]]\n"
          ]
        }
      ]
    },
    {
      "cell_type": "markdown",
      "source": [
        "For multi-class classification, https://scikit-learn.org/stable/modules/classes.html#module-sklearn.multiclass \n",
        "\n",
        "There are two approches in ML, one-vs-rest and one-vs-one classification.\n",
        "\n",
        "We will use One-vs-rest since it uses lesser computation"
      ],
      "metadata": {
        "id": "bui_xlPJbg7p"
      }
    },
    {
      "cell_type": "markdown",
      "source": [
        "## Test Models"
      ],
      "metadata": {
        "id": "jwZxYCxMlaYZ"
      }
    },
    {
      "cell_type": "code",
      "source": [
        "from sklearn.metrics import accuracy_score, recall_score, f1_score, confusion_matrix, classification_report"
      ],
      "metadata": {
        "id": "7Vdm0992l-tP"
      },
      "execution_count": 39,
      "outputs": []
    },
    {
      "cell_type": "code",
      "source": [
        "report=[]"
      ],
      "metadata": {
        "id": "SxX39jVfrnxC"
      },
      "execution_count": 40,
      "outputs": []
    },
    {
      "cell_type": "markdown",
      "source": [
        "### 1. OneVsRest with SVC and count vectorizer"
      ],
      "metadata": {
        "id": "B0LboCGRldUs"
      }
    },
    {
      "cell_type": "code",
      "source": [
        "from sklearn.multiclass import OneVsRestClassifier\n",
        "from sklearn.svm import SVC\n",
        "clf = OneVsRestClassifier(SVC()).fit(cv_X_train, y_train)"
      ],
      "metadata": {
        "id": "4K4LCC3ma3C8"
      },
      "execution_count": 41,
      "outputs": []
    },
    {
      "cell_type": "code",
      "source": [
        "X_test_cv = vectorizer.transform(X_test)\n",
        "X_test_cv.toarray()\n",
        "cv_X_test = pd.DataFrame(X_test_cv.todense(), columns = vectorizer.get_feature_names())\n",
        "predicted_labels = clf.predict(cv_X_test)"
      ],
      "metadata": {
        "colab": {
          "base_uri": "https://localhost:8080/"
        },
        "id": "JlPeXtCNcDGg",
        "outputId": "2e0a9895-a31c-4d11-8cf1-089d54baba35"
      },
      "execution_count": 42,
      "outputs": [
        {
          "output_type": "stream",
          "name": "stderr",
          "text": [
            "/usr/local/lib/python3.7/dist-packages/sklearn/utils/deprecation.py:87: FutureWarning: Function get_feature_names is deprecated; get_feature_names is deprecated in 1.0 and will be removed in 1.2. Please use get_feature_names_out instead.\n",
            "  warnings.warn(msg, category=FutureWarning)\n"
          ]
        }
      ]
    },
    {
      "cell_type": "code",
      "source": [
        "X_test.iloc[0]"
      ],
      "metadata": {
        "colab": {
          "base_uri": "https://localhost:8080/",
          "height": 73
        },
        "id": "SjVGFcknixMT",
        "outputId": "7cbd3e4d-1691-438c-bd60-a6a3b9410109"
      },
      "execution_count": 43,
      "outputs": [
        {
          "output_type": "execute_result",
          "data": {
            "text/plain": [
              "'ptown excitement die focus energy gear pandyland burritokaraoke jamboree news crazy neighbor still antiwindowwasher paraphernalia door wonder long last want could knock door confront part jamboree hear dj master crankcaller maybe try get phone number probably list one fax memos apartment management company'"
            ],
            "application/vnd.google.colaboratory.intrinsic+json": {
              "type": "string"
            }
          },
          "metadata": {},
          "execution_count": 43
        }
      ]
    },
    {
      "cell_type": "code",
      "source": [
        "import random"
      ],
      "metadata": {
        "id": "Uv1OhhyHlEqf"
      },
      "execution_count": 44,
      "outputs": []
    },
    {
      "cell_type": "code",
      "source": [
        "predictions_inversed = binarizer.inverse_transform(predicted_labels)\n",
        "y_test_inversed = binarizer.inverse_transform(y_test)\n",
        "for i in range(5):\n",
        "    idx = random.randint(0, y_test.shape[0])\n",
        "    print(f\"Target Labels: {y_test_inversed[idx]}\\n Predicted Labels: {predictions_inversed[idx]}\\n\\n\")"
      ],
      "metadata": {
        "colab": {
          "base_uri": "https://localhost:8080/"
        },
        "id": "AW9ZTFSDiLAs",
        "outputId": "dfd4d058-e5c0-47ee-b916-97f6340b626e"
      },
      "execution_count": 45,
      "outputs": [
        {
          "output_type": "stream",
          "name": "stdout",
          "text": [
            "Target Labels: ('35', 'Aries', 'Technology', 'male')\n",
            " Predicted Labels: ('35', 'Aries', 'Technology', 'male')\n",
            "\n",
            "\n",
            "Target Labels: ('35', 'Aries', 'Technology', 'male')\n",
            " Predicted Labels: ('35', 'Aries', 'Technology', 'male')\n",
            "\n",
            "\n",
            "Target Labels: ('24', 'Scorpio', 'female', 'indUnk')\n",
            " Predicted Labels: ('female',)\n",
            "\n",
            "\n",
            "Target Labels: ('23', 'Aquarius', 'Automotive', 'female')\n",
            " Predicted Labels: ('male',)\n",
            "\n",
            "\n",
            "Target Labels: ('35', 'Aries', 'Technology', 'male')\n",
            " Predicted Labels: ('35', 'Aries', 'Technology', 'male')\n",
            "\n",
            "\n"
          ]
        }
      ]
    },
    {
      "cell_type": "code",
      "source": [
        "y_test"
      ],
      "metadata": {
        "colab": {
          "base_uri": "https://localhost:8080/"
        },
        "id": "enBPzFY2m9Io",
        "outputId": "d4787ab9-2ecc-4339-a41e-dea3cc7d6a95"
      },
      "execution_count": 46,
      "outputs": [
        {
          "output_type": "execute_result",
          "data": {
            "text/plain": [
              "array([[0, 0, 0, ..., 0, 0, 1],\n",
              "       [0, 0, 0, ..., 0, 0, 1],\n",
              "       [0, 0, 0, ..., 0, 0, 1],\n",
              "       ...,\n",
              "       [0, 0, 0, ..., 1, 1, 0],\n",
              "       [0, 0, 0, ..., 0, 0, 1],\n",
              "       [0, 0, 0, ..., 0, 1, 1]])"
            ]
          },
          "metadata": {},
          "execution_count": 46
        }
      ]
    },
    {
      "cell_type": "code",
      "source": [
        "def print_report(modelName,predicted_labels):\n",
        "  print(\"Model: \"+modelName)\n",
        "  accuracy = accuracy_score(y_test, predicted_labels)\n",
        "  print(f\"Accuracy: {accuracy}\")\n",
        "  f1= f1_score(y_test, predicted_labels, average='samples')\n",
        "  print(f\"F1 Score: {f1}\")\n",
        "  r = [modelName,accuracy,f1]\n",
        "  report.append(r)"
      ],
      "metadata": {
        "id": "8IyQImKPilKQ"
      },
      "execution_count": 47,
      "outputs": []
    },
    {
      "cell_type": "code",
      "source": [
        "print_report(\"OneVsRest With SVC and CountVectorizer\",predicted_labels)"
      ],
      "metadata": {
        "colab": {
          "base_uri": "https://localhost:8080/"
        },
        "id": "FPMnhWAOmYnm",
        "outputId": "4400359f-15a8-43a3-c242-934889fefaae"
      },
      "execution_count": 48,
      "outputs": [
        {
          "output_type": "stream",
          "name": "stdout",
          "text": [
            "Model: OneVsRest With SVC and CountVectorizer\n",
            "Accuracy: 0.20666666666666667\n",
            "F1 Score: 0.4613321995464853\n"
          ]
        }
      ]
    },
    {
      "cell_type": "markdown",
      "source": [
        "### 2. OneVsRest with LogRegression and CountVectorizer"
      ],
      "metadata": {
        "id": "dyT0es-AqIWj"
      }
    },
    {
      "cell_type": "code",
      "source": [
        "from sklearn.linear_model import LogisticRegression\n"
      ],
      "metadata": {
        "id": "YjcIH45xpJ2Y"
      },
      "execution_count": 49,
      "outputs": []
    },
    {
      "cell_type": "code",
      "source": [
        "LRclf = OneVsRestClassifier(LogisticRegression(random_state=42)).fit(cv_X_train, y_train)"
      ],
      "metadata": {
        "id": "eT6aZMFqqQb_"
      },
      "execution_count": 50,
      "outputs": []
    },
    {
      "cell_type": "code",
      "source": [
        "predicted_labels_LR = LRclf.predict(cv_X_test)"
      ],
      "metadata": {
        "id": "pMqGO7pZqcgU"
      },
      "execution_count": 51,
      "outputs": []
    },
    {
      "cell_type": "code",
      "source": [
        "print_report(\"OneVsRest With LogR and CountVectorizer\",predicted_labels_LR)"
      ],
      "metadata": {
        "colab": {
          "base_uri": "https://localhost:8080/"
        },
        "id": "wvK2Qc1Vq0IV",
        "outputId": "c7ba65b1-56e4-41bb-dcf5-a70d5a54c00c"
      },
      "execution_count": 52,
      "outputs": [
        {
          "output_type": "stream",
          "name": "stdout",
          "text": [
            "Model: OneVsRest With LogR and CountVectorizer\n",
            "Accuracy: 0.1957142857142857\n",
            "F1 Score: 0.4640549775465742\n"
          ]
        }
      ]
    },
    {
      "cell_type": "markdown",
      "source": [
        "### 3. oneVsRest with SVC and TfIDF Vectorizer"
      ],
      "metadata": {
        "id": "bMLhmJtpsn36"
      }
    },
    {
      "cell_type": "code",
      "source": [
        "clf_svc_tfidf = OneVsRestClassifier(SVC()).fit(tfidf_X_train, y_train)"
      ],
      "metadata": {
        "id": "fYuAm5W3ssgL"
      },
      "execution_count": 53,
      "outputs": []
    },
    {
      "cell_type": "code",
      "source": [
        "tfidf_X_test = tfidfvectorizer.transform(X_test)"
      ],
      "metadata": {
        "id": "Sxb1pdE5tMSd"
      },
      "execution_count": 54,
      "outputs": []
    },
    {
      "cell_type": "code",
      "source": [
        "tfidf_X_test.toarray()\n",
        "tfidf_X_test = pd.DataFrame(tfidf_X_test.todense(), columns = tfidfvectorizer.get_feature_names())"
      ],
      "metadata": {
        "colab": {
          "base_uri": "https://localhost:8080/"
        },
        "id": "iNnMfqPNuod5",
        "outputId": "b19eb9e9-8735-4f30-a0a9-6986a7015376"
      },
      "execution_count": 55,
      "outputs": [
        {
          "output_type": "stream",
          "name": "stderr",
          "text": [
            "/usr/local/lib/python3.7/dist-packages/sklearn/utils/deprecation.py:87: FutureWarning: Function get_feature_names is deprecated; get_feature_names is deprecated in 1.0 and will be removed in 1.2. Please use get_feature_names_out instead.\n",
            "  warnings.warn(msg, category=FutureWarning)\n"
          ]
        }
      ]
    },
    {
      "cell_type": "code",
      "source": [
        "predicted_labels_svc_tfIDF = clf_svc_tfidf.predict(tfidf_X_test)"
      ],
      "metadata": {
        "id": "QUfrGqUgs2Kb"
      },
      "execution_count": 56,
      "outputs": []
    },
    {
      "cell_type": "code",
      "source": [
        "print_report(\"OneVsRest With SVC and TF-IDF Vectorizer\",predicted_labels_svc_tfIDF)"
      ],
      "metadata": {
        "colab": {
          "base_uri": "https://localhost:8080/"
        },
        "id": "khe3tVgWtZld",
        "outputId": "bdd2f70f-b45e-4798-9c1f-84c3349127a6"
      },
      "execution_count": 57,
      "outputs": [
        {
          "output_type": "stream",
          "name": "stdout",
          "text": [
            "Model: OneVsRest With SVC and TF-IDF Vectorizer\n",
            "Accuracy: 0.3076190476190476\n",
            "F1 Score: 0.5659410430839003\n"
          ]
        }
      ]
    },
    {
      "cell_type": "code",
      "source": [
        "cr = pd.DataFrame(report, columns =['Model', 'Accuracy', 'F1-Score'])\n",
        "cr\n",
        "cr.style.hide_index()"
      ],
      "metadata": {
        "colab": {
          "base_uri": "https://localhost:8080/",
          "height": 143
        },
        "id": "zWCQlaFeth8f",
        "outputId": "946d302b-d31c-4174-e5e8-f82c15cb5061"
      },
      "execution_count": 58,
      "outputs": [
        {
          "output_type": "execute_result",
          "data": {
            "text/plain": [
              "<pandas.io.formats.style.Styler at 0x7fd8e3586bd0>"
            ],
            "text/html": [
              "<style type=\"text/css\">\n",
              "</style>\n",
              "<table id=\"T_e0e2e_\" class=\"dataframe\">\n",
              "  <thead>\n",
              "    <tr>\n",
              "      <th class=\"col_heading level0 col0\" >Model</th>\n",
              "      <th class=\"col_heading level0 col1\" >Accuracy</th>\n",
              "      <th class=\"col_heading level0 col2\" >F1-Score</th>\n",
              "    </tr>\n",
              "  </thead>\n",
              "  <tbody>\n",
              "    <tr>\n",
              "      <td id=\"T_e0e2e_row0_col0\" class=\"data row0 col0\" >OneVsRest With SVC and CountVectorizer</td>\n",
              "      <td id=\"T_e0e2e_row0_col1\" class=\"data row0 col1\" >0.206667</td>\n",
              "      <td id=\"T_e0e2e_row0_col2\" class=\"data row0 col2\" >0.461332</td>\n",
              "    </tr>\n",
              "    <tr>\n",
              "      <td id=\"T_e0e2e_row1_col0\" class=\"data row1 col0\" >OneVsRest With LogR and CountVectorizer</td>\n",
              "      <td id=\"T_e0e2e_row1_col1\" class=\"data row1 col1\" >0.195714</td>\n",
              "      <td id=\"T_e0e2e_row1_col2\" class=\"data row1 col2\" >0.464055</td>\n",
              "    </tr>\n",
              "    <tr>\n",
              "      <td id=\"T_e0e2e_row2_col0\" class=\"data row2 col0\" >OneVsRest With SVC and TF-IDF Vectorizer</td>\n",
              "      <td id=\"T_e0e2e_row2_col1\" class=\"data row2 col1\" >0.307619</td>\n",
              "      <td id=\"T_e0e2e_row2_col2\" class=\"data row2 col2\" >0.565941</td>\n",
              "    </tr>\n",
              "  </tbody>\n",
              "</table>\n"
            ]
          },
          "metadata": {},
          "execution_count": 58
        }
      ]
    },
    {
      "cell_type": "markdown",
      "source": [
        "## Conclusion\n",
        "\n",
        "As seen above, Using oneVsRest Classifier with SVC and TF-IDF (1000 features) results in an accuracy score of 30.76 % and F1-Score of 56.59 %. \n",
        "\n",
        "This performance can be further increased by increasing to more number of features.\n",
        "\n",
        "In future, We can also add Glove embedding layer as a feaure input. Use of DL models can also increase accuracy of label prediction. "
      ],
      "metadata": {
        "id": "1CsnEfj4wFsT"
      }
    },
    {
      "cell_type": "markdown",
      "source": [
        "### 5 a Which vectorizer performed better, probable reason?\n",
        "\n",
        "TF-IDF vectorizer performed better than count-vectorizer.  while count-vectorizer contains frequency information of the words, Tf-IDF has an edge because it gives more weight for words which occur specifically in some documents than for those words which occur in all documents. This innately creates a sense of more information conveyed on some words than common words."
      ],
      "metadata": {
        "id": "rJIfa0xRPBxV"
      }
    },
    {
      "cell_type": "markdown",
      "source": [
        "### 5 b Which model outperformed, probable reason?\n",
        "\n",
        "The oneVsRest model which uses Tf-IDF outperforms because of the property of tf-idf to give more importance to terms occuring less frequently across documents than more common words. The above model can be improved by using more features and computing time."
      ],
      "metadata": {
        "id": "0334XkRxxd6J"
      }
    },
    {
      "cell_type": "markdown",
      "source": [
        "### 5 c Which parameter/hyperparameter significantly helped to improve performance? Probable reason?.\n",
        "\n",
        "Currently, I have used vanilla configuration to come to current performance. A more thorogh tuning of hyper-parameters can improve performance."
      ],
      "metadata": {
        "id": "BYAX50QFQvCe"
      }
    },
    {
      "cell_type": "markdown",
      "source": [
        "### 5 d Which performance metric should be given more importance and why?\n",
        "\n",
        "F1 score is more important in text related scoring because it encompasses both the measure of precision as well as recall"
      ],
      "metadata": {
        "id": "V0zX-LCVRhI7"
      }
    },
    {
      "cell_type": "markdown",
      "source": [
        "MISC: Save as HTML"
      ],
      "metadata": {
        "id": "UQPRVBl9xd2P"
      }
    },
    {
      "cell_type": "code",
      "source": [
        "!sudo apt-get install texlive-xetex texlive-fonts-recommended texlive-generic-recommended"
      ],
      "metadata": {
        "colab": {
          "base_uri": "https://localhost:8080/"
        },
        "id": "hVGQKjTBxkQ2",
        "outputId": "4e9bf264-fbd0-4415-9f5d-85d92f6bae1e"
      },
      "execution_count": 59,
      "outputs": [
        {
          "output_type": "stream",
          "name": "stdout",
          "text": [
            "Reading package lists... Done\n",
            "Building dependency tree       \n",
            "Reading state information... Done\n",
            "The following additional packages will be installed:\n",
            "  fonts-droid-fallback fonts-lato fonts-lmodern fonts-noto-mono fonts-texgyre\n",
            "  javascript-common libcupsfilters1 libcupsimage2 libgs9 libgs9-common\n",
            "  libijs-0.35 libjbig2dec0 libjs-jquery libkpathsea6 libpotrace0 libptexenc1\n",
            "  libruby2.5 libsynctex1 libtexlua52 libtexluajit2 libzzip-0-13 lmodern\n",
            "  poppler-data preview-latex-style rake ruby ruby-did-you-mean ruby-minitest\n",
            "  ruby-net-telnet ruby-power-assert ruby-test-unit ruby2.5\n",
            "  rubygems-integration t1utils tex-common tex-gyre texlive-base\n",
            "  texlive-binaries texlive-latex-base texlive-latex-extra\n",
            "  texlive-latex-recommended texlive-pictures texlive-plain-generic tipa\n",
            "Suggested packages:\n",
            "  fonts-noto apache2 | lighttpd | httpd poppler-utils ghostscript\n",
            "  fonts-japanese-mincho | fonts-ipafont-mincho fonts-japanese-gothic\n",
            "  | fonts-ipafont-gothic fonts-arphic-ukai fonts-arphic-uming fonts-nanum ri\n",
            "  ruby-dev bundler debhelper gv | postscript-viewer perl-tk xpdf-reader\n",
            "  | pdf-viewer texlive-fonts-recommended-doc texlive-latex-base-doc\n",
            "  python-pygments icc-profiles libfile-which-perl\n",
            "  libspreadsheet-parseexcel-perl texlive-latex-extra-doc\n",
            "  texlive-latex-recommended-doc texlive-pstricks dot2tex prerex ruby-tcltk\n",
            "  | libtcltk-ruby texlive-pictures-doc vprerex\n",
            "The following NEW packages will be installed:\n",
            "  fonts-droid-fallback fonts-lato fonts-lmodern fonts-noto-mono fonts-texgyre\n",
            "  javascript-common libcupsfilters1 libcupsimage2 libgs9 libgs9-common\n",
            "  libijs-0.35 libjbig2dec0 libjs-jquery libkpathsea6 libpotrace0 libptexenc1\n",
            "  libruby2.5 libsynctex1 libtexlua52 libtexluajit2 libzzip-0-13 lmodern\n",
            "  poppler-data preview-latex-style rake ruby ruby-did-you-mean ruby-minitest\n",
            "  ruby-net-telnet ruby-power-assert ruby-test-unit ruby2.5\n",
            "  rubygems-integration t1utils tex-common tex-gyre texlive-base\n",
            "  texlive-binaries texlive-fonts-recommended texlive-generic-recommended\n",
            "  texlive-latex-base texlive-latex-extra texlive-latex-recommended\n",
            "  texlive-pictures texlive-plain-generic texlive-xetex tipa\n",
            "0 upgraded, 47 newly installed, 0 to remove and 39 not upgraded.\n",
            "Need to get 146 MB of archives.\n",
            "After this operation, 460 MB of additional disk space will be used.\n",
            "Get:1 http://archive.ubuntu.com/ubuntu bionic/main amd64 fonts-droid-fallback all 1:6.0.1r16-1.1 [1,805 kB]\n",
            "Get:2 http://archive.ubuntu.com/ubuntu bionic/main amd64 fonts-lato all 2.0-2 [2,698 kB]\n",
            "Get:3 http://archive.ubuntu.com/ubuntu bionic/main amd64 poppler-data all 0.4.8-2 [1,479 kB]\n",
            "Get:4 http://archive.ubuntu.com/ubuntu bionic/main amd64 tex-common all 6.09 [33.0 kB]\n",
            "Get:5 http://archive.ubuntu.com/ubuntu bionic/main amd64 fonts-lmodern all 2.004.5-3 [4,551 kB]\n",
            "Get:6 http://archive.ubuntu.com/ubuntu bionic/main amd64 fonts-noto-mono all 20171026-2 [75.5 kB]\n",
            "Get:7 http://archive.ubuntu.com/ubuntu bionic/universe amd64 fonts-texgyre all 20160520-1 [8,761 kB]\n",
            "Get:8 http://archive.ubuntu.com/ubuntu bionic/main amd64 javascript-common all 11 [6,066 B]\n",
            "Get:9 http://archive.ubuntu.com/ubuntu bionic-updates/main amd64 libcupsfilters1 amd64 1.20.2-0ubuntu3.1 [108 kB]\n",
            "Get:10 http://archive.ubuntu.com/ubuntu bionic-updates/main amd64 libcupsimage2 amd64 2.2.7-1ubuntu2.8 [18.6 kB]\n",
            "Get:11 http://archive.ubuntu.com/ubuntu bionic/main amd64 libijs-0.35 amd64 0.35-13 [15.5 kB]\n",
            "Get:12 http://archive.ubuntu.com/ubuntu bionic/main amd64 libjbig2dec0 amd64 0.13-6 [55.9 kB]\n",
            "Get:13 http://archive.ubuntu.com/ubuntu bionic-updates/main amd64 libgs9-common all 9.26~dfsg+0-0ubuntu0.18.04.15 [5,092 kB]\n",
            "Get:14 http://archive.ubuntu.com/ubuntu bionic-updates/main amd64 libgs9 amd64 9.26~dfsg+0-0ubuntu0.18.04.15 [2,265 kB]\n",
            "Get:15 http://archive.ubuntu.com/ubuntu bionic/main amd64 libjs-jquery all 3.2.1-1 [152 kB]\n",
            "Get:16 http://archive.ubuntu.com/ubuntu bionic-updates/main amd64 libkpathsea6 amd64 2017.20170613.44572-8ubuntu0.1 [54.9 kB]\n",
            "Get:17 http://archive.ubuntu.com/ubuntu bionic/main amd64 libpotrace0 amd64 1.14-2 [17.4 kB]\n",
            "Get:18 http://archive.ubuntu.com/ubuntu bionic-updates/main amd64 libptexenc1 amd64 2017.20170613.44572-8ubuntu0.1 [34.5 kB]\n",
            "Get:19 http://archive.ubuntu.com/ubuntu bionic/main amd64 rubygems-integration all 1.11 [4,994 B]\n",
            "Get:20 http://archive.ubuntu.com/ubuntu bionic-updates/main amd64 ruby2.5 amd64 2.5.1-1ubuntu1.11 [48.6 kB]\n",
            "Get:21 http://archive.ubuntu.com/ubuntu bionic/main amd64 ruby amd64 1:2.5.1 [5,712 B]\n",
            "Get:22 http://archive.ubuntu.com/ubuntu bionic-updates/main amd64 rake all 12.3.1-1ubuntu0.1 [44.9 kB]\n",
            "Get:23 http://archive.ubuntu.com/ubuntu bionic/main amd64 ruby-did-you-mean all 1.2.0-2 [9,700 B]\n",
            "Get:24 http://archive.ubuntu.com/ubuntu bionic/main amd64 ruby-minitest all 5.10.3-1 [38.6 kB]\n",
            "Get:25 http://archive.ubuntu.com/ubuntu bionic/main amd64 ruby-net-telnet all 0.1.1-2 [12.6 kB]\n",
            "Get:26 http://archive.ubuntu.com/ubuntu bionic/main amd64 ruby-power-assert all 0.3.0-1 [7,952 B]\n",
            "Get:27 http://archive.ubuntu.com/ubuntu bionic/main amd64 ruby-test-unit all 3.2.5-1 [61.1 kB]\n",
            "Get:28 http://archive.ubuntu.com/ubuntu bionic-updates/main amd64 libruby2.5 amd64 2.5.1-1ubuntu1.11 [3,072 kB]\n",
            "Get:29 http://archive.ubuntu.com/ubuntu bionic-updates/main amd64 libsynctex1 amd64 2017.20170613.44572-8ubuntu0.1 [41.4 kB]\n",
            "Get:30 http://archive.ubuntu.com/ubuntu bionic-updates/main amd64 libtexlua52 amd64 2017.20170613.44572-8ubuntu0.1 [91.2 kB]\n",
            "Get:31 http://archive.ubuntu.com/ubuntu bionic-updates/main amd64 libtexluajit2 amd64 2017.20170613.44572-8ubuntu0.1 [230 kB]\n",
            "Get:32 http://archive.ubuntu.com/ubuntu bionic-updates/main amd64 libzzip-0-13 amd64 0.13.62-3.1ubuntu0.18.04.1 [26.0 kB]\n",
            "Get:33 http://archive.ubuntu.com/ubuntu bionic/main amd64 lmodern all 2.004.5-3 [9,631 kB]\n",
            "Get:34 http://archive.ubuntu.com/ubuntu bionic/main amd64 preview-latex-style all 11.91-1ubuntu1 [185 kB]\n",
            "Get:35 http://archive.ubuntu.com/ubuntu bionic/main amd64 t1utils amd64 1.41-2 [56.0 kB]\n",
            "Get:36 http://archive.ubuntu.com/ubuntu bionic/universe amd64 tex-gyre all 20160520-1 [4,998 kB]\n",
            "Get:37 http://archive.ubuntu.com/ubuntu bionic-updates/main amd64 texlive-binaries amd64 2017.20170613.44572-8ubuntu0.1 [8,179 kB]\n",
            "Get:38 http://archive.ubuntu.com/ubuntu bionic/main amd64 texlive-base all 2017.20180305-1 [18.7 MB]\n",
            "Get:39 http://archive.ubuntu.com/ubuntu bionic/universe amd64 texlive-fonts-recommended all 2017.20180305-1 [5,262 kB]\n",
            "Get:40 http://archive.ubuntu.com/ubuntu bionic/universe amd64 texlive-plain-generic all 2017.20180305-2 [23.6 MB]\n",
            "Get:41 http://archive.ubuntu.com/ubuntu bionic/universe amd64 texlive-generic-recommended all 2017.20180305-1 [15.9 kB]\n",
            "Get:42 http://archive.ubuntu.com/ubuntu bionic/main amd64 texlive-latex-base all 2017.20180305-1 [951 kB]\n",
            "Get:43 http://archive.ubuntu.com/ubuntu bionic/main amd64 texlive-latex-recommended all 2017.20180305-1 [14.9 MB]\n",
            "Get:44 http://archive.ubuntu.com/ubuntu bionic/universe amd64 texlive-pictures all 2017.20180305-1 [4,026 kB]\n",
            "Get:45 http://archive.ubuntu.com/ubuntu bionic/universe amd64 texlive-latex-extra all 2017.20180305-2 [10.6 MB]\n",
            "Get:46 http://archive.ubuntu.com/ubuntu bionic/universe amd64 tipa all 2:1.3-20 [2,978 kB]\n",
            "Get:47 http://archive.ubuntu.com/ubuntu bionic/universe amd64 texlive-xetex all 2017.20180305-1 [10.7 MB]\n",
            "Fetched 146 MB in 2s (59.5 MB/s)\n",
            "debconf: unable to initialize frontend: Dialog\n",
            "debconf: (No usable dialog-like program is installed, so the dialog based frontend cannot be used. at /usr/share/perl5/Debconf/FrontEnd/Dialog.pm line 76, <> line 47.)\n",
            "debconf: falling back to frontend: Readline\n",
            "debconf: unable to initialize frontend: Readline\n",
            "debconf: (This frontend requires a controlling tty.)\n",
            "debconf: falling back to frontend: Teletype\n",
            "dpkg-preconfigure: unable to re-open stdin: \n",
            "Selecting previously unselected package fonts-droid-fallback.\n",
            "(Reading database ... 155335 files and directories currently installed.)\n",
            "Preparing to unpack .../00-fonts-droid-fallback_1%3a6.0.1r16-1.1_all.deb ...\n",
            "Unpacking fonts-droid-fallback (1:6.0.1r16-1.1) ...\n",
            "Selecting previously unselected package fonts-lato.\n",
            "Preparing to unpack .../01-fonts-lato_2.0-2_all.deb ...\n",
            "Unpacking fonts-lato (2.0-2) ...\n",
            "Selecting previously unselected package poppler-data.\n",
            "Preparing to unpack .../02-poppler-data_0.4.8-2_all.deb ...\n",
            "Unpacking poppler-data (0.4.8-2) ...\n",
            "Selecting previously unselected package tex-common.\n",
            "Preparing to unpack .../03-tex-common_6.09_all.deb ...\n",
            "Unpacking tex-common (6.09) ...\n",
            "Selecting previously unselected package fonts-lmodern.\n",
            "Preparing to unpack .../04-fonts-lmodern_2.004.5-3_all.deb ...\n",
            "Unpacking fonts-lmodern (2.004.5-3) ...\n",
            "Selecting previously unselected package fonts-noto-mono.\n",
            "Preparing to unpack .../05-fonts-noto-mono_20171026-2_all.deb ...\n",
            "Unpacking fonts-noto-mono (20171026-2) ...\n",
            "Selecting previously unselected package fonts-texgyre.\n",
            "Preparing to unpack .../06-fonts-texgyre_20160520-1_all.deb ...\n",
            "Unpacking fonts-texgyre (20160520-1) ...\n",
            "Selecting previously unselected package javascript-common.\n",
            "Preparing to unpack .../07-javascript-common_11_all.deb ...\n",
            "Unpacking javascript-common (11) ...\n",
            "Selecting previously unselected package libcupsfilters1:amd64.\n",
            "Preparing to unpack .../08-libcupsfilters1_1.20.2-0ubuntu3.1_amd64.deb ...\n",
            "Unpacking libcupsfilters1:amd64 (1.20.2-0ubuntu3.1) ...\n",
            "Selecting previously unselected package libcupsimage2:amd64.\n",
            "Preparing to unpack .../09-libcupsimage2_2.2.7-1ubuntu2.8_amd64.deb ...\n",
            "Unpacking libcupsimage2:amd64 (2.2.7-1ubuntu2.8) ...\n",
            "Selecting previously unselected package libijs-0.35:amd64.\n",
            "Preparing to unpack .../10-libijs-0.35_0.35-13_amd64.deb ...\n",
            "Unpacking libijs-0.35:amd64 (0.35-13) ...\n",
            "Selecting previously unselected package libjbig2dec0:amd64.\n",
            "Preparing to unpack .../11-libjbig2dec0_0.13-6_amd64.deb ...\n",
            "Unpacking libjbig2dec0:amd64 (0.13-6) ...\n",
            "Selecting previously unselected package libgs9-common.\n",
            "Preparing to unpack .../12-libgs9-common_9.26~dfsg+0-0ubuntu0.18.04.15_all.deb ...\n",
            "Unpacking libgs9-common (9.26~dfsg+0-0ubuntu0.18.04.15) ...\n",
            "Selecting previously unselected package libgs9:amd64.\n",
            "Preparing to unpack .../13-libgs9_9.26~dfsg+0-0ubuntu0.18.04.15_amd64.deb ...\n",
            "Unpacking libgs9:amd64 (9.26~dfsg+0-0ubuntu0.18.04.15) ...\n",
            "Selecting previously unselected package libjs-jquery.\n",
            "Preparing to unpack .../14-libjs-jquery_3.2.1-1_all.deb ...\n",
            "Unpacking libjs-jquery (3.2.1-1) ...\n",
            "Selecting previously unselected package libkpathsea6:amd64.\n",
            "Preparing to unpack .../15-libkpathsea6_2017.20170613.44572-8ubuntu0.1_amd64.deb ...\n",
            "Unpacking libkpathsea6:amd64 (2017.20170613.44572-8ubuntu0.1) ...\n",
            "Selecting previously unselected package libpotrace0.\n",
            "Preparing to unpack .../16-libpotrace0_1.14-2_amd64.deb ...\n",
            "Unpacking libpotrace0 (1.14-2) ...\n",
            "Selecting previously unselected package libptexenc1:amd64.\n",
            "Preparing to unpack .../17-libptexenc1_2017.20170613.44572-8ubuntu0.1_amd64.deb ...\n",
            "Unpacking libptexenc1:amd64 (2017.20170613.44572-8ubuntu0.1) ...\n",
            "Selecting previously unselected package rubygems-integration.\n",
            "Preparing to unpack .../18-rubygems-integration_1.11_all.deb ...\n",
            "Unpacking rubygems-integration (1.11) ...\n",
            "Selecting previously unselected package ruby2.5.\n",
            "Preparing to unpack .../19-ruby2.5_2.5.1-1ubuntu1.11_amd64.deb ...\n",
            "Unpacking ruby2.5 (2.5.1-1ubuntu1.11) ...\n",
            "Selecting previously unselected package ruby.\n",
            "Preparing to unpack .../20-ruby_1%3a2.5.1_amd64.deb ...\n",
            "Unpacking ruby (1:2.5.1) ...\n",
            "Selecting previously unselected package rake.\n",
            "Preparing to unpack .../21-rake_12.3.1-1ubuntu0.1_all.deb ...\n",
            "Unpacking rake (12.3.1-1ubuntu0.1) ...\n",
            "Selecting previously unselected package ruby-did-you-mean.\n",
            "Preparing to unpack .../22-ruby-did-you-mean_1.2.0-2_all.deb ...\n",
            "Unpacking ruby-did-you-mean (1.2.0-2) ...\n",
            "Selecting previously unselected package ruby-minitest.\n",
            "Preparing to unpack .../23-ruby-minitest_5.10.3-1_all.deb ...\n",
            "Unpacking ruby-minitest (5.10.3-1) ...\n",
            "Selecting previously unselected package ruby-net-telnet.\n",
            "Preparing to unpack .../24-ruby-net-telnet_0.1.1-2_all.deb ...\n",
            "Unpacking ruby-net-telnet (0.1.1-2) ...\n",
            "Selecting previously unselected package ruby-power-assert.\n",
            "Preparing to unpack .../25-ruby-power-assert_0.3.0-1_all.deb ...\n",
            "Unpacking ruby-power-assert (0.3.0-1) ...\n",
            "Selecting previously unselected package ruby-test-unit.\n",
            "Preparing to unpack .../26-ruby-test-unit_3.2.5-1_all.deb ...\n",
            "Unpacking ruby-test-unit (3.2.5-1) ...\n",
            "Selecting previously unselected package libruby2.5:amd64.\n",
            "Preparing to unpack .../27-libruby2.5_2.5.1-1ubuntu1.11_amd64.deb ...\n",
            "Unpacking libruby2.5:amd64 (2.5.1-1ubuntu1.11) ...\n",
            "Selecting previously unselected package libsynctex1:amd64.\n",
            "Preparing to unpack .../28-libsynctex1_2017.20170613.44572-8ubuntu0.1_amd64.deb ...\n",
            "Unpacking libsynctex1:amd64 (2017.20170613.44572-8ubuntu0.1) ...\n",
            "Selecting previously unselected package libtexlua52:amd64.\n",
            "Preparing to unpack .../29-libtexlua52_2017.20170613.44572-8ubuntu0.1_amd64.deb ...\n",
            "Unpacking libtexlua52:amd64 (2017.20170613.44572-8ubuntu0.1) ...\n",
            "Selecting previously unselected package libtexluajit2:amd64.\n",
            "Preparing to unpack .../30-libtexluajit2_2017.20170613.44572-8ubuntu0.1_amd64.deb ...\n",
            "Unpacking libtexluajit2:amd64 (2017.20170613.44572-8ubuntu0.1) ...\n",
            "Selecting previously unselected package libzzip-0-13:amd64.\n",
            "Preparing to unpack .../31-libzzip-0-13_0.13.62-3.1ubuntu0.18.04.1_amd64.deb ...\n",
            "Unpacking libzzip-0-13:amd64 (0.13.62-3.1ubuntu0.18.04.1) ...\n",
            "Selecting previously unselected package lmodern.\n",
            "Preparing to unpack .../32-lmodern_2.004.5-3_all.deb ...\n",
            "Unpacking lmodern (2.004.5-3) ...\n",
            "Selecting previously unselected package preview-latex-style.\n",
            "Preparing to unpack .../33-preview-latex-style_11.91-1ubuntu1_all.deb ...\n",
            "Unpacking preview-latex-style (11.91-1ubuntu1) ...\n",
            "Selecting previously unselected package t1utils.\n",
            "Preparing to unpack .../34-t1utils_1.41-2_amd64.deb ...\n",
            "Unpacking t1utils (1.41-2) ...\n",
            "Selecting previously unselected package tex-gyre.\n",
            "Preparing to unpack .../35-tex-gyre_20160520-1_all.deb ...\n",
            "Unpacking tex-gyre (20160520-1) ...\n",
            "Selecting previously unselected package texlive-binaries.\n",
            "Preparing to unpack .../36-texlive-binaries_2017.20170613.44572-8ubuntu0.1_amd64.deb ...\n",
            "Unpacking texlive-binaries (2017.20170613.44572-8ubuntu0.1) ...\n",
            "Selecting previously unselected package texlive-base.\n",
            "Preparing to unpack .../37-texlive-base_2017.20180305-1_all.deb ...\n",
            "Unpacking texlive-base (2017.20180305-1) ...\n",
            "Selecting previously unselected package texlive-fonts-recommended.\n",
            "Preparing to unpack .../38-texlive-fonts-recommended_2017.20180305-1_all.deb ...\n",
            "Unpacking texlive-fonts-recommended (2017.20180305-1) ...\n",
            "Selecting previously unselected package texlive-plain-generic.\n",
            "Preparing to unpack .../39-texlive-plain-generic_2017.20180305-2_all.deb ...\n",
            "Unpacking texlive-plain-generic (2017.20180305-2) ...\n",
            "Selecting previously unselected package texlive-generic-recommended.\n",
            "Preparing to unpack .../40-texlive-generic-recommended_2017.20180305-1_all.deb ...\n",
            "Unpacking texlive-generic-recommended (2017.20180305-1) ...\n",
            "Selecting previously unselected package texlive-latex-base.\n",
            "Preparing to unpack .../41-texlive-latex-base_2017.20180305-1_all.deb ...\n",
            "Unpacking texlive-latex-base (2017.20180305-1) ...\n",
            "Selecting previously unselected package texlive-latex-recommended.\n",
            "Preparing to unpack .../42-texlive-latex-recommended_2017.20180305-1_all.deb ...\n",
            "Unpacking texlive-latex-recommended (2017.20180305-1) ...\n",
            "Selecting previously unselected package texlive-pictures.\n",
            "Preparing to unpack .../43-texlive-pictures_2017.20180305-1_all.deb ...\n",
            "Unpacking texlive-pictures (2017.20180305-1) ...\n",
            "Selecting previously unselected package texlive-latex-extra.\n",
            "Preparing to unpack .../44-texlive-latex-extra_2017.20180305-2_all.deb ...\n",
            "Unpacking texlive-latex-extra (2017.20180305-2) ...\n",
            "Selecting previously unselected package tipa.\n",
            "Preparing to unpack .../45-tipa_2%3a1.3-20_all.deb ...\n",
            "Unpacking tipa (2:1.3-20) ...\n",
            "Selecting previously unselected package texlive-xetex.\n",
            "Preparing to unpack .../46-texlive-xetex_2017.20180305-1_all.deb ...\n",
            "Unpacking texlive-xetex (2017.20180305-1) ...\n",
            "Setting up libgs9-common (9.26~dfsg+0-0ubuntu0.18.04.15) ...\n",
            "Setting up libkpathsea6:amd64 (2017.20170613.44572-8ubuntu0.1) ...\n",
            "Setting up libjs-jquery (3.2.1-1) ...\n",
            "Setting up libtexlua52:amd64 (2017.20170613.44572-8ubuntu0.1) ...\n",
            "Setting up fonts-droid-fallback (1:6.0.1r16-1.1) ...\n",
            "Setting up libsynctex1:amd64 (2017.20170613.44572-8ubuntu0.1) ...\n",
            "Setting up libptexenc1:amd64 (2017.20170613.44572-8ubuntu0.1) ...\n",
            "Setting up tex-common (6.09) ...\n",
            "debconf: unable to initialize frontend: Dialog\n",
            "debconf: (No usable dialog-like program is installed, so the dialog based frontend cannot be used. at /usr/share/perl5/Debconf/FrontEnd/Dialog.pm line 76.)\n",
            "debconf: falling back to frontend: Readline\n",
            "update-language: texlive-base not installed and configured, doing nothing!\n",
            "Setting up poppler-data (0.4.8-2) ...\n",
            "Setting up tex-gyre (20160520-1) ...\n",
            "Setting up preview-latex-style (11.91-1ubuntu1) ...\n",
            "Setting up fonts-texgyre (20160520-1) ...\n",
            "Setting up fonts-noto-mono (20171026-2) ...\n",
            "Setting up fonts-lato (2.0-2) ...\n",
            "Setting up libcupsfilters1:amd64 (1.20.2-0ubuntu3.1) ...\n",
            "Setting up libcupsimage2:amd64 (2.2.7-1ubuntu2.8) ...\n",
            "Setting up libjbig2dec0:amd64 (0.13-6) ...\n",
            "Setting up ruby-did-you-mean (1.2.0-2) ...\n",
            "Setting up t1utils (1.41-2) ...\n",
            "Setting up ruby-net-telnet (0.1.1-2) ...\n",
            "Setting up libijs-0.35:amd64 (0.35-13) ...\n",
            "Setting up rubygems-integration (1.11) ...\n",
            "Setting up libpotrace0 (1.14-2) ...\n",
            "Setting up javascript-common (11) ...\n",
            "Setting up ruby-minitest (5.10.3-1) ...\n",
            "Setting up libzzip-0-13:amd64 (0.13.62-3.1ubuntu0.18.04.1) ...\n",
            "Setting up libgs9:amd64 (9.26~dfsg+0-0ubuntu0.18.04.15) ...\n",
            "Setting up libtexluajit2:amd64 (2017.20170613.44572-8ubuntu0.1) ...\n",
            "Setting up fonts-lmodern (2.004.5-3) ...\n",
            "Setting up ruby-power-assert (0.3.0-1) ...\n",
            "Setting up texlive-binaries (2017.20170613.44572-8ubuntu0.1) ...\n",
            "update-alternatives: using /usr/bin/xdvi-xaw to provide /usr/bin/xdvi.bin (xdvi.bin) in auto mode\n",
            "update-alternatives: using /usr/bin/bibtex.original to provide /usr/bin/bibtex (bibtex) in auto mode\n",
            "Setting up texlive-base (2017.20180305-1) ...\n",
            "mktexlsr: Updating /var/lib/texmf/ls-R-TEXLIVEDIST... \n",
            "mktexlsr: Updating /var/lib/texmf/ls-R-TEXMFMAIN... \n",
            "mktexlsr: Updating /var/lib/texmf/ls-R... \n",
            "mktexlsr: Done.\n",
            "tl-paper: setting paper size for dvips to a4: /var/lib/texmf/dvips/config/config-paper.ps\n",
            "tl-paper: setting paper size for dvipdfmx to a4: /var/lib/texmf/dvipdfmx/dvipdfmx-paper.cfg\n",
            "tl-paper: setting paper size for xdvi to a4: /var/lib/texmf/xdvi/XDvi-paper\n",
            "tl-paper: setting paper size for pdftex to a4: /var/lib/texmf/tex/generic/config/pdftexconfig.tex\n",
            "debconf: unable to initialize frontend: Dialog\n",
            "debconf: (No usable dialog-like program is installed, so the dialog based frontend cannot be used. at /usr/share/perl5/Debconf/FrontEnd/Dialog.pm line 76.)\n",
            "debconf: falling back to frontend: Readline\n",
            "Setting up texlive-fonts-recommended (2017.20180305-1) ...\n",
            "Setting up texlive-plain-generic (2017.20180305-2) ...\n",
            "Setting up texlive-generic-recommended (2017.20180305-1) ...\n",
            "Setting up texlive-latex-base (2017.20180305-1) ...\n",
            "Setting up lmodern (2.004.5-3) ...\n",
            "Setting up texlive-latex-recommended (2017.20180305-1) ...\n",
            "Setting up texlive-pictures (2017.20180305-1) ...\n",
            "Setting up tipa (2:1.3-20) ...\n",
            "Regenerating '/var/lib/texmf/fmtutil.cnf-DEBIAN'... done.\n",
            "Regenerating '/var/lib/texmf/fmtutil.cnf-TEXLIVEDIST'... done.\n",
            "update-fmtutil has updated the following file(s):\n",
            "\t/var/lib/texmf/fmtutil.cnf-DEBIAN\n",
            "\t/var/lib/texmf/fmtutil.cnf-TEXLIVEDIST\n",
            "If you want to activate the changes in the above file(s),\n",
            "you should run fmtutil-sys or fmtutil.\n",
            "Setting up texlive-latex-extra (2017.20180305-2) ...\n",
            "Setting up texlive-xetex (2017.20180305-1) ...\n",
            "Setting up ruby2.5 (2.5.1-1ubuntu1.11) ...\n",
            "Setting up ruby (1:2.5.1) ...\n",
            "Setting up ruby-test-unit (3.2.5-1) ...\n",
            "Setting up rake (12.3.1-1ubuntu0.1) ...\n",
            "Setting up libruby2.5:amd64 (2.5.1-1ubuntu1.11) ...\n",
            "Processing triggers for mime-support (3.60ubuntu1) ...\n",
            "Processing triggers for libc-bin (2.27-3ubuntu1.3) ...\n",
            "/sbin/ldconfig.real: /usr/local/lib/python3.7/dist-packages/ideep4py/lib/libmkldnn.so.0 is not a symbolic link\n",
            "\n",
            "Processing triggers for man-db (2.8.3-2ubuntu0.1) ...\n",
            "Processing triggers for fontconfig (2.12.6-0ubuntu2) ...\n",
            "Processing triggers for tex-common (6.09) ...\n",
            "debconf: unable to initialize frontend: Dialog\n",
            "debconf: (No usable dialog-like program is installed, so the dialog based frontend cannot be used. at /usr/share/perl5/Debconf/FrontEnd/Dialog.pm line 76.)\n",
            "debconf: falling back to frontend: Readline\n",
            "Running updmap-sys. This may take some time... done.\n",
            "Running mktexlsr /var/lib/texmf ... done.\n",
            "Building format(s) --all.\n",
            "\tThis may take some time... done.\n"
          ]
        }
      ]
    },
    {
      "cell_type": "code",
      "source": [
        "%cd '/content/drive/MyDrive/Colab Notebooks/'\n",
        "!jupyter nbconvert --to html 'NLP Project 1 Part A_Blog Label Prediction.ipynb'"
      ],
      "metadata": {
        "colab": {
          "base_uri": "https://localhost:8080/"
        },
        "id": "G0oTQxn-xk1J",
        "outputId": "85a6410b-5ba3-47db-c3aa-9b2490e57e4e"
      },
      "execution_count": 61,
      "outputs": [
        {
          "output_type": "stream",
          "name": "stdout",
          "text": [
            "/content/drive/MyDrive/Colab Notebooks\n",
            "[NbConvertApp] Converting notebook NLP Project 1 Part A_Blog Label Prediction.ipynb to html\n",
            "[NbConvertApp] Writing 477633 bytes to NLP Project 1 Part A_Blog Label Prediction.html\n"
          ]
        }
      ]
    },
    {
      "cell_type": "code",
      "source": [
        ""
      ],
      "metadata": {
        "id": "RGeiCi8Cx0Ci"
      },
      "execution_count": 60,
      "outputs": []
    }
  ]
}