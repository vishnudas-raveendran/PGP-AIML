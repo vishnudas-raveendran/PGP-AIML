{
  "nbformat": 4,
  "nbformat_minor": 0,
  "metadata": {
    "colab": {
      "name": "NLP Project 1 Part B ChatBot.ipynb",
      "provenance": [],
      "authorship_tag": "ABX9TyMKj3Uz/3ST00AMFRJXlQa0",
      "include_colab_link": true
    },
    "kernelspec": {
      "name": "python3",
      "display_name": "Python 3"
    },
    "language_info": {
      "name": "python"
    }
  },
  "cells": [
    {
      "cell_type": "markdown",
      "metadata": {
        "id": "view-in-github",
        "colab_type": "text"
      },
      "source": [
        "<a href=\"https://colab.research.google.com/github/vishnudas-raveendran/PGP-AIML/blob/master/NLP/Project1/NLP_Project_1_Part_B_ChatBot.ipynb\" target=\"_parent\"><img src=\"https://colab.research.google.com/assets/colab-badge.svg\" alt=\"Open In Colab\"/></a>"
      ]
    },
    {
      "cell_type": "markdown",
      "source": [
        "## Part B: Bot"
      ],
      "metadata": {
        "id": "aNLuVGBp2sFM"
      }
    },
    {
      "cell_type": "code",
      "source": [
        "import json\n",
        "import pandas as pd\n",
        "import numpy as np\n",
        "import pickle"
      ],
      "metadata": {
        "id": "qbVVY4FR51xn"
      },
      "execution_count": 102,
      "outputs": []
    },
    {
      "cell_type": "code",
      "source": [
        "import warnings\n",
        "warnings.filterwarnings('ignore')"
      ],
      "metadata": {
        "id": "05zr7I-nD1ro"
      },
      "execution_count": 75,
      "outputs": []
    },
    {
      "cell_type": "code",
      "source": [
        "with open('GL Bot.json') as file:\n",
        "  data = json.load(file)"
      ],
      "metadata": {
        "id": "C7BSG2EM2uUk"
      },
      "execution_count": 3,
      "outputs": []
    },
    {
      "cell_type": "code",
      "source": [
        "tagPatterns = []"
      ],
      "metadata": {
        "id": "fu0clOa64QAF"
      },
      "execution_count": 10,
      "outputs": []
    },
    {
      "cell_type": "code",
      "source": [
        "for intent in data['intents']:\n",
        "  tag = intent['tag']\n",
        "  print(tag)\n",
        "  for pattern in intent['patterns']:\n",
        "    tagPatterns.append([pattern, tag])"
      ],
      "metadata": {
        "colab": {
          "base_uri": "https://localhost:8080/"
        },
        "id": "GZY0C3J_3N3e",
        "outputId": "24350a5a-5dc2-4843-ee00-d19ba7aa7503"
      },
      "execution_count": 12,
      "outputs": [
        {
          "output_type": "stream",
          "name": "stdout",
          "text": [
            "Intro\n",
            "Exit\n",
            "Olympus\n",
            "SL\n",
            "NN\n",
            "Bot\n",
            "Profane\n",
            "Ticket\n"
          ]
        }
      ]
    },
    {
      "cell_type": "code",
      "source": [
        "tagPatterns"
      ],
      "metadata": {
        "colab": {
          "base_uri": "https://localhost:8080/"
        },
        "id": "-Pi2Ny4L3xqB",
        "outputId": "7f02be5c-2f02-449f-f2ec-81abe9893e3e"
      },
      "execution_count": 13,
      "outputs": [
        {
          "output_type": "execute_result",
          "data": {
            "text/plain": [
              "[['hi', 'Intro'],\n",
              " ['how are you', 'Intro'],\n",
              " ['is anyone there', 'Intro'],\n",
              " ['hello', 'Intro'],\n",
              " ['whats up', 'Intro'],\n",
              " ['hey', 'Intro'],\n",
              " ['yo', 'Intro'],\n",
              " ['listen', 'Intro'],\n",
              " ['please help me', 'Intro'],\n",
              " ['i am learner from', 'Intro'],\n",
              " ['i belong to', 'Intro'],\n",
              " ['aiml batch', 'Intro'],\n",
              " ['aifl batch', 'Intro'],\n",
              " ['i am from', 'Intro'],\n",
              " ['my pm is', 'Intro'],\n",
              " ['blended', 'Intro'],\n",
              " ['online', 'Intro'],\n",
              " ['i am from', 'Intro'],\n",
              " ['hey ya', 'Intro'],\n",
              " ['talking to you for first time', 'Intro'],\n",
              " ['thank you', 'Exit'],\n",
              " ['thanks', 'Exit'],\n",
              " ['cya', 'Exit'],\n",
              " ['see you', 'Exit'],\n",
              " ['later', 'Exit'],\n",
              " ['see you later', 'Exit'],\n",
              " ['goodbye', 'Exit'],\n",
              " ['i am leaving', 'Exit'],\n",
              " ['have a Good day', 'Exit'],\n",
              " ['you helped me', 'Exit'],\n",
              " ['thanks a lot', 'Exit'],\n",
              " ['thanks a ton', 'Exit'],\n",
              " ['you are the best', 'Exit'],\n",
              " ['great help', 'Exit'],\n",
              " ['too good', 'Exit'],\n",
              " ['you are a good learning buddy', 'Exit'],\n",
              " ['olympus', 'Olympus'],\n",
              " ['explain me how olympus works', 'Olympus'],\n",
              " ['I am not able to understand olympus', 'Olympus'],\n",
              " ['olympus window not working', 'Olympus'],\n",
              " ['no access to olympus', 'Olympus'],\n",
              " ['unable to see link in olympus', 'Olympus'],\n",
              " ['no link visible on olympus', 'Olympus'],\n",
              " ['whom to contact for olympus', 'Olympus'],\n",
              " ['lot of problem with olympus', 'Olympus'],\n",
              " ['olypus is not a good tool', 'Olympus'],\n",
              " ['lot of problems with olympus', 'Olympus'],\n",
              " ['how to use olympus', 'Olympus'],\n",
              " ['teach me olympus', 'Olympus'],\n",
              " ['i am not able to understand svm', 'SL'],\n",
              " ['explain me how machine learning works', 'SL'],\n",
              " ['i am not able to understand naive bayes', 'SL'],\n",
              " ['i am not able to understand logistic regression', 'SL'],\n",
              " ['i am not able to understand ensemble techb=niques', 'SL'],\n",
              " ['i am not able to understand knn', 'SL'],\n",
              " ['i am not able to understand knn imputer', 'SL'],\n",
              " ['i am not able to understand cross validation', 'SL'],\n",
              " ['i am not able to understand boosting', 'SL'],\n",
              " ['i am not able to understand random forest', 'SL'],\n",
              " ['i am not able to understand ada boosting', 'SL'],\n",
              " ['i am not able to understand gradient boosting', 'SL'],\n",
              " ['machine learning', 'SL'],\n",
              " ['ML', 'SL'],\n",
              " ['SL', 'SL'],\n",
              " ['supervised learning', 'SL'],\n",
              " ['knn', 'SL'],\n",
              " ['logistic regression', 'SL'],\n",
              " ['regression', 'SL'],\n",
              " ['classification', 'SL'],\n",
              " ['naive bayes', 'SL'],\n",
              " ['nb', 'SL'],\n",
              " ['ensemble techniques', 'SL'],\n",
              " ['bagging', 'SL'],\n",
              " ['boosting', 'SL'],\n",
              " ['ada boosting', 'SL'],\n",
              " ['ada', 'SL'],\n",
              " ['gradient boosting', 'SL'],\n",
              " ['hyper parameters', 'SL'],\n",
              " ['what is deep learning', 'NN'],\n",
              " ['unable to understand deep learning', 'NN'],\n",
              " ['explain me how deep learning works', 'NN'],\n",
              " ['i am not able to understand deep learning', 'NN'],\n",
              " ['not able to understand neural nets', 'NN'],\n",
              " ['very diffult to understand neural nets', 'NN'],\n",
              " ['unable to understand neural nets', 'NN'],\n",
              " ['ann', 'NN'],\n",
              " ['artificial intelligence', 'NN'],\n",
              " ['artificial neural networks', 'NN'],\n",
              " ['weights', 'NN'],\n",
              " ['activation function', 'NN'],\n",
              " ['hidden layers', 'NN'],\n",
              " ['softmax', 'NN'],\n",
              " ['sigmoid', 'NN'],\n",
              " ['relu', 'NN'],\n",
              " ['otimizer', 'NN'],\n",
              " ['forward propagation', 'NN'],\n",
              " ['backward propagation', 'NN'],\n",
              " ['epochs', 'NN'],\n",
              " ['epoch', 'NN'],\n",
              " ['what is an epoch', 'NN'],\n",
              " ['adam', 'NN'],\n",
              " ['sgd', 'NN'],\n",
              " ['what is your name', 'Bot'],\n",
              " ['who are you', 'Bot'],\n",
              " ['name please', 'Bot'],\n",
              " ['when are your hours of opertions', 'Bot'],\n",
              " ['what are your working hours', 'Bot'],\n",
              " ['hours of operation', 'Bot'],\n",
              " ['working hours', 'Bot'],\n",
              " ['hours', 'Bot'],\n",
              " ['what the hell', 'Profane'],\n",
              " ['bloody stupid bot', 'Profane'],\n",
              " ['do you think you are very smart', 'Profane'],\n",
              " ['screw you', 'Profane'],\n",
              " ['i hate you', 'Profane'],\n",
              " ['you are stupid', 'Profane'],\n",
              " ['jerk', 'Profane'],\n",
              " ['you are a joke', 'Profane'],\n",
              " ['useless piece of shit', 'Profane'],\n",
              " ['my problem is not solved', 'Ticket'],\n",
              " ['you did not help me', 'Ticket'],\n",
              " ['not a good solution', 'Ticket'],\n",
              " ['bad solution', 'Ticket'],\n",
              " ['not good solution', 'Ticket'],\n",
              " ['no help', 'Ticket'],\n",
              " ['wasted my time', 'Ticket'],\n",
              " ['useless bot', 'Ticket'],\n",
              " ['create a ticket', 'Ticket']]"
            ]
          },
          "metadata": {},
          "execution_count": 13
        }
      ]
    },
    {
      "cell_type": "code",
      "source": [
        "intents = pd.DataFrame(tagPatterns, columns =['pattern', 'tag'])"
      ],
      "metadata": {
        "id": "ytDs1QnU49Ou"
      },
      "execution_count": 28,
      "outputs": []
    },
    {
      "cell_type": "code",
      "source": [
        "intents.head()"
      ],
      "metadata": {
        "colab": {
          "base_uri": "https://localhost:8080/",
          "height": 206
        },
        "id": "qljfgngX588K",
        "outputId": "07fd1ed6-76fd-4525-ef18-7c04185c88c4"
      },
      "execution_count": 29,
      "outputs": [
        {
          "output_type": "execute_result",
          "data": {
            "text/plain": [
              "           pattern    tag\n",
              "0               hi  Intro\n",
              "1      how are you  Intro\n",
              "2  is anyone there  Intro\n",
              "3            hello  Intro\n",
              "4         whats up  Intro"
            ],
            "text/html": [
              "\n",
              "  <div id=\"df-a2a87615-a6a2-43d7-997d-553768fc9a91\">\n",
              "    <div class=\"colab-df-container\">\n",
              "      <div>\n",
              "<style scoped>\n",
              "    .dataframe tbody tr th:only-of-type {\n",
              "        vertical-align: middle;\n",
              "    }\n",
              "\n",
              "    .dataframe tbody tr th {\n",
              "        vertical-align: top;\n",
              "    }\n",
              "\n",
              "    .dataframe thead th {\n",
              "        text-align: right;\n",
              "    }\n",
              "</style>\n",
              "<table border=\"1\" class=\"dataframe\">\n",
              "  <thead>\n",
              "    <tr style=\"text-align: right;\">\n",
              "      <th></th>\n",
              "      <th>pattern</th>\n",
              "      <th>tag</th>\n",
              "    </tr>\n",
              "  </thead>\n",
              "  <tbody>\n",
              "    <tr>\n",
              "      <th>0</th>\n",
              "      <td>hi</td>\n",
              "      <td>Intro</td>\n",
              "    </tr>\n",
              "    <tr>\n",
              "      <th>1</th>\n",
              "      <td>how are you</td>\n",
              "      <td>Intro</td>\n",
              "    </tr>\n",
              "    <tr>\n",
              "      <th>2</th>\n",
              "      <td>is anyone there</td>\n",
              "      <td>Intro</td>\n",
              "    </tr>\n",
              "    <tr>\n",
              "      <th>3</th>\n",
              "      <td>hello</td>\n",
              "      <td>Intro</td>\n",
              "    </tr>\n",
              "    <tr>\n",
              "      <th>4</th>\n",
              "      <td>whats up</td>\n",
              "      <td>Intro</td>\n",
              "    </tr>\n",
              "  </tbody>\n",
              "</table>\n",
              "</div>\n",
              "      <button class=\"colab-df-convert\" onclick=\"convertToInteractive('df-a2a87615-a6a2-43d7-997d-553768fc9a91')\"\n",
              "              title=\"Convert this dataframe to an interactive table.\"\n",
              "              style=\"display:none;\">\n",
              "        \n",
              "  <svg xmlns=\"http://www.w3.org/2000/svg\" height=\"24px\"viewBox=\"0 0 24 24\"\n",
              "       width=\"24px\">\n",
              "    <path d=\"M0 0h24v24H0V0z\" fill=\"none\"/>\n",
              "    <path d=\"M18.56 5.44l.94 2.06.94-2.06 2.06-.94-2.06-.94-.94-2.06-.94 2.06-2.06.94zm-11 1L8.5 8.5l.94-2.06 2.06-.94-2.06-.94L8.5 2.5l-.94 2.06-2.06.94zm10 10l.94 2.06.94-2.06 2.06-.94-2.06-.94-.94-2.06-.94 2.06-2.06.94z\"/><path d=\"M17.41 7.96l-1.37-1.37c-.4-.4-.92-.59-1.43-.59-.52 0-1.04.2-1.43.59L10.3 9.45l-7.72 7.72c-.78.78-.78 2.05 0 2.83L4 21.41c.39.39.9.59 1.41.59.51 0 1.02-.2 1.41-.59l7.78-7.78 2.81-2.81c.8-.78.8-2.07 0-2.86zM5.41 20L4 18.59l7.72-7.72 1.47 1.35L5.41 20z\"/>\n",
              "  </svg>\n",
              "      </button>\n",
              "      \n",
              "  <style>\n",
              "    .colab-df-container {\n",
              "      display:flex;\n",
              "      flex-wrap:wrap;\n",
              "      gap: 12px;\n",
              "    }\n",
              "\n",
              "    .colab-df-convert {\n",
              "      background-color: #E8F0FE;\n",
              "      border: none;\n",
              "      border-radius: 50%;\n",
              "      cursor: pointer;\n",
              "      display: none;\n",
              "      fill: #1967D2;\n",
              "      height: 32px;\n",
              "      padding: 0 0 0 0;\n",
              "      width: 32px;\n",
              "    }\n",
              "\n",
              "    .colab-df-convert:hover {\n",
              "      background-color: #E2EBFA;\n",
              "      box-shadow: 0px 1px 2px rgba(60, 64, 67, 0.3), 0px 1px 3px 1px rgba(60, 64, 67, 0.15);\n",
              "      fill: #174EA6;\n",
              "    }\n",
              "\n",
              "    [theme=dark] .colab-df-convert {\n",
              "      background-color: #3B4455;\n",
              "      fill: #D2E3FC;\n",
              "    }\n",
              "\n",
              "    [theme=dark] .colab-df-convert:hover {\n",
              "      background-color: #434B5C;\n",
              "      box-shadow: 0px 1px 3px 1px rgba(0, 0, 0, 0.15);\n",
              "      filter: drop-shadow(0px 1px 2px rgba(0, 0, 0, 0.3));\n",
              "      fill: #FFFFFF;\n",
              "    }\n",
              "  </style>\n",
              "\n",
              "      <script>\n",
              "        const buttonEl =\n",
              "          document.querySelector('#df-a2a87615-a6a2-43d7-997d-553768fc9a91 button.colab-df-convert');\n",
              "        buttonEl.style.display =\n",
              "          google.colab.kernel.accessAllowed ? 'block' : 'none';\n",
              "\n",
              "        async function convertToInteractive(key) {\n",
              "          const element = document.querySelector('#df-a2a87615-a6a2-43d7-997d-553768fc9a91');\n",
              "          const dataTable =\n",
              "            await google.colab.kernel.invokeFunction('convertToInteractive',\n",
              "                                                     [key], {});\n",
              "          if (!dataTable) return;\n",
              "\n",
              "          const docLinkHtml = 'Like what you see? Visit the ' +\n",
              "            '<a target=\"_blank\" href=https://colab.research.google.com/notebooks/data_table.ipynb>data table notebook</a>'\n",
              "            + ' to learn more about interactive tables.';\n",
              "          element.innerHTML = '';\n",
              "          dataTable['output_type'] = 'display_data';\n",
              "          await google.colab.output.renderOutput(dataTable, element);\n",
              "          const docLink = document.createElement('div');\n",
              "          docLink.innerHTML = docLinkHtml;\n",
              "          element.appendChild(docLink);\n",
              "        }\n",
              "      </script>\n",
              "    </div>\n",
              "  </div>\n",
              "  "
            ]
          },
          "metadata": {},
          "execution_count": 29
        }
      ]
    },
    {
      "cell_type": "code",
      "source": [
        "#Save the intents as csv\n",
        "intents.to_csv('intents.csv')"
      ],
      "metadata": {
        "id": "86IHtmwW6AMZ"
      },
      "execution_count": 18,
      "outputs": []
    },
    {
      "cell_type": "code",
      "source": [
        "responses = {}"
      ],
      "metadata": {
        "id": "5oe_7dHFE4ot"
      },
      "execution_count": 99,
      "outputs": []
    },
    {
      "cell_type": "code",
      "source": [
        "for intent in data['intents']:\n",
        "  tag = intent['tag']\n",
        "  for response in intent['responses']:\n",
        "    responses[tag.lower()]=response               #In given JSON, only one response is given so we can store it in dictionary for O(1) lookup later "
      ],
      "metadata": {
        "id": "C-dfpoptE_Ue"
      },
      "execution_count": 108,
      "outputs": []
    },
    {
      "cell_type": "code",
      "source": [
        "with open('responses.pkl', 'wb') as f:\n",
        "    pickle.dump(responses, f)\n",
        "\n",
        "with open('responses.pkl', 'rb') as f:\n",
        "    responses = pickle.load(f)"
      ],
      "metadata": {
        "id": "YKmYJorrGCrl"
      },
      "execution_count": 109,
      "outputs": []
    },
    {
      "cell_type": "code",
      "source": [
        "def get_response_for_tag(tag):\n",
        "  if tag.lower() in responses.keys():\n",
        "    return responses[tag.lower()]\n",
        "  else:\n",
        "    return \"Can you please rephrase that perhaps?\""
      ],
      "metadata": {
        "id": "hRI2eWpZHDJH"
      },
      "execution_count": 110,
      "outputs": []
    },
    {
      "cell_type": "code",
      "source": [
        "get_response_for_tag(\"olympus\")"
      ],
      "metadata": {
        "colab": {
          "base_uri": "https://localhost:8080/",
          "height": 35
        },
        "id": "bVNW6W_0HyFy",
        "outputId": "51f5a13a-9ec5-4fe7-b736-6acabb187ef7"
      },
      "execution_count": 111,
      "outputs": [
        {
          "output_type": "execute_result",
          "data": {
            "text/plain": [
              "'Link: Olympus wiki'"
            ],
            "application/vnd.google.colaboratory.intrinsic+json": {
              "type": "string"
            }
          },
          "metadata": {},
          "execution_count": 111
        }
      ]
    },
    {
      "cell_type": "markdown",
      "source": [
        "## 2. Clean the inputs"
      ],
      "metadata": {
        "id": "_xKjJGv16g6O"
      }
    },
    {
      "cell_type": "code",
      "source": [
        "!pip install contractions\n",
        "import nltk\n",
        "import inflect\n",
        "import contractions\n",
        "from bs4 import BeautifulSoup\n",
        "import re, string, unicodedata\n",
        "from nltk import word_tokenize, sent_tokenize\n",
        "from nltk.corpus import stopwords\n",
        "from nltk.stem import LancasterStemmer, WordNetLemmatizer\n",
        "from sklearn.preprocessing import LabelEncoder\n",
        "import nltk\n",
        "nltk.download('punkt')\n",
        "nltk.download('stopwords')\n",
        "nltk.download('wordnet')"
      ],
      "metadata": {
        "colab": {
          "base_uri": "https://localhost:8080/"
        },
        "id": "GZWfXNge6fNP",
        "outputId": "9629751a-a194-4ecc-ed1f-179d0909bab8"
      },
      "execution_count": 21,
      "outputs": [
        {
          "output_type": "stream",
          "name": "stdout",
          "text": [
            "Collecting contractions\n",
            "  Downloading contractions-0.1.68-py2.py3-none-any.whl (8.1 kB)\n",
            "Collecting textsearch>=0.0.21\n",
            "  Downloading textsearch-0.0.21-py2.py3-none-any.whl (7.5 kB)\n",
            "Collecting anyascii\n",
            "  Downloading anyascii-0.3.0-py3-none-any.whl (284 kB)\n",
            "\u001b[K     |████████████████████████████████| 284 kB 30.3 MB/s \n",
            "\u001b[?25hCollecting pyahocorasick\n",
            "  Downloading pyahocorasick-1.4.4-cp37-cp37m-manylinux_2_17_x86_64.manylinux2014_x86_64.whl (106 kB)\n",
            "\u001b[K     |████████████████████████████████| 106 kB 60.8 MB/s \n",
            "\u001b[?25hInstalling collected packages: pyahocorasick, anyascii, textsearch, contractions\n",
            "Successfully installed anyascii-0.3.0 contractions-0.1.68 pyahocorasick-1.4.4 textsearch-0.0.21\n",
            "[nltk_data] Downloading package punkt to /root/nltk_data...\n",
            "[nltk_data]   Unzipping tokenizers/punkt.zip.\n",
            "[nltk_data] Downloading package stopwords to /root/nltk_data...\n",
            "[nltk_data]   Unzipping corpora/stopwords.zip.\n",
            "[nltk_data] Downloading package wordnet to /root/nltk_data...\n",
            "[nltk_data]   Unzipping corpora/wordnet.zip.\n"
          ]
        },
        {
          "output_type": "execute_result",
          "data": {
            "text/plain": [
              "True"
            ]
          },
          "metadata": {},
          "execution_count": 21
        }
      ]
    },
    {
      "cell_type": "code",
      "source": [
        "# Pipeline for text cleaning\n",
        "\n",
        "def denoise_text(text):\n",
        "    # Strip html if any. For ex. removing <html>, <p> tags\n",
        "    soup = BeautifulSoup(text, \"html.parser\")\n",
        "    text = soup.get_text()\n",
        "    # Replace contractions in the text. For ex. didn't -> did not\n",
        "    text = contractions.fix(text)\n",
        "    return text\n",
        "\n",
        "def tokenize(text):\n",
        "    return nltk.word_tokenize(text)\n",
        "\n",
        "def remove_non_ascii(words):\n",
        "    \"\"\"Remove non-ASCII characters from list of tokenized words\"\"\"\n",
        "    new_words = []\n",
        "    for word in words:\n",
        "        new_word = unicodedata.normalize('NFKD', word).encode('ascii', 'ignore').decode('utf-8', 'ignore')\n",
        "        new_words.append(new_word)\n",
        "    return new_words\n",
        "def to_lowercase(words):\n",
        "    \"\"\"Convert all characters to lowercase from list of tokenized words\"\"\"\n",
        "    new_words = []\n",
        "    for word in words:\n",
        "        new_word = word.lower()\n",
        "        new_words.append(new_word)\n",
        "    return new_words\n",
        "def remove_punctuation(words):\n",
        "    \"\"\"Remove punctuation from list of tokenized words\"\"\"\n",
        "    new_words = []\n",
        "    for word in words:\n",
        "        new_word = re.sub(r'[^\\w\\s]', '', word)\n",
        "        if new_word != '':\n",
        "            new_words.append(new_word)\n",
        "    return new_words\n",
        "def replace_numbers(words):\n",
        "    \"\"\"Replace all integer occurrences in list of tokenized words with textual representation\"\"\"\n",
        "    p = inflect.engine()\n",
        "    new_words = []\n",
        "    for word in words:\n",
        "        if word.isdigit():\n",
        "            new_word = p.number_to_words(word)\n",
        "            new_words.append(new_word)\n",
        "        else:\n",
        "            new_words.append(word)\n",
        "    return new_words\n",
        "def remove_numbers(words):\n",
        "    \"\"\"Remove all integer occurrences in list of tokenized words with textual representation\"\"\"\n",
        "    new_words = []\n",
        "    for word in words:\n",
        "        if word.isdigit():\n",
        "            new_word = ''\n",
        "            new_words.append(new_word)\n",
        "        else:\n",
        "            new_words.append(word)\n",
        "    return new_words\n",
        "def remove_stopwords(words):\n",
        "    \"\"\"Remove stop words from list of tokenized words\"\"\"\n",
        "    new_words = []\n",
        "    for word in words:\n",
        "        if word not in stopwords.words('english'):\n",
        "            new_words.append(word)\n",
        "    return new_words\n",
        "def stem_words(words):\n",
        "    \"\"\"Stem words in list of tokenized words\"\"\"\n",
        "    stemmer = LancasterStemmer()\n",
        "    stems = []\n",
        "    for word in words:\n",
        "        stem = stemmer.stem(word)\n",
        "        stems.append(stem)\n",
        "    return stems\n",
        "\n",
        "def lemmatize_verbs(words):\n",
        "    \"\"\"Lemmatize verbs in list of tokenized words\"\"\"\n",
        "    lemmatizer = WordNetLemmatizer()\n",
        "    lemmas = []\n",
        "    for word in words:\n",
        "        lemma = lemmatizer.lemmatize(word, pos='v')\n",
        "        lemmas.append(lemma)\n",
        "    return lemmas"
      ],
      "metadata": {
        "id": "S8EZ9O8R6ltp"
      },
      "execution_count": 20,
      "outputs": []
    },
    {
      "cell_type": "code",
      "source": [
        "def normalize_text(words):\n",
        "    words = remove_non_ascii(words)\n",
        "    words = to_lowercase(words)\n",
        "    words = remove_punctuation(words)\n",
        "    #words = remove_numbers(words)\n",
        "    #words = remove_stopwords(words)\n",
        "    #words = stem_words(words)\n",
        "    words = lemmatize_verbs(words)\n",
        "    return words"
      ],
      "metadata": {
        "id": "HFamWDIT6pbh"
      },
      "execution_count": 27,
      "outputs": []
    },
    {
      "cell_type": "code",
      "source": [
        "def text_clean(text):\n",
        "    text = denoise_text(text)\n",
        "    text = ' '.join([x for x in normalize_text(tokenize(text))])\n",
        "    return text\n",
        "intents['pattern'] = [text_clean(x) for x in intents['pattern']]"
      ],
      "metadata": {
        "id": "W6YtINcJ6sKX"
      },
      "execution_count": 30,
      "outputs": []
    },
    {
      "cell_type": "code",
      "source": [
        "intents.shape"
      ],
      "metadata": {
        "colab": {
          "base_uri": "https://localhost:8080/"
        },
        "id": "abluPACP68sy",
        "outputId": "1bb3d540-8a36-41ba-ce04-1bbfeaff6e09"
      },
      "execution_count": 25,
      "outputs": [
        {
          "output_type": "execute_result",
          "data": {
            "text/plain": [
              "(128, 2)"
            ]
          },
          "metadata": {},
          "execution_count": 25
        }
      ]
    },
    {
      "cell_type": "code",
      "source": [
        "intents.head()"
      ],
      "metadata": {
        "colab": {
          "base_uri": "https://localhost:8080/",
          "height": 206
        },
        "id": "fGqnJw-v7FTW",
        "outputId": "91cff046-2aff-433b-d216-b0b8537ad14f"
      },
      "execution_count": 31,
      "outputs": [
        {
          "output_type": "execute_result",
          "data": {
            "text/plain": [
              "           pattern    tag\n",
              "0               hi  Intro\n",
              "1       how be you  Intro\n",
              "2  be anyone there  Intro\n",
              "3            hello  Intro\n",
              "4       what be up  Intro"
            ],
            "text/html": [
              "\n",
              "  <div id=\"df-4ce0d130-49c4-483c-911f-16ce29fd52b5\">\n",
              "    <div class=\"colab-df-container\">\n",
              "      <div>\n",
              "<style scoped>\n",
              "    .dataframe tbody tr th:only-of-type {\n",
              "        vertical-align: middle;\n",
              "    }\n",
              "\n",
              "    .dataframe tbody tr th {\n",
              "        vertical-align: top;\n",
              "    }\n",
              "\n",
              "    .dataframe thead th {\n",
              "        text-align: right;\n",
              "    }\n",
              "</style>\n",
              "<table border=\"1\" class=\"dataframe\">\n",
              "  <thead>\n",
              "    <tr style=\"text-align: right;\">\n",
              "      <th></th>\n",
              "      <th>pattern</th>\n",
              "      <th>tag</th>\n",
              "    </tr>\n",
              "  </thead>\n",
              "  <tbody>\n",
              "    <tr>\n",
              "      <th>0</th>\n",
              "      <td>hi</td>\n",
              "      <td>Intro</td>\n",
              "    </tr>\n",
              "    <tr>\n",
              "      <th>1</th>\n",
              "      <td>how be you</td>\n",
              "      <td>Intro</td>\n",
              "    </tr>\n",
              "    <tr>\n",
              "      <th>2</th>\n",
              "      <td>be anyone there</td>\n",
              "      <td>Intro</td>\n",
              "    </tr>\n",
              "    <tr>\n",
              "      <th>3</th>\n",
              "      <td>hello</td>\n",
              "      <td>Intro</td>\n",
              "    </tr>\n",
              "    <tr>\n",
              "      <th>4</th>\n",
              "      <td>what be up</td>\n",
              "      <td>Intro</td>\n",
              "    </tr>\n",
              "  </tbody>\n",
              "</table>\n",
              "</div>\n",
              "      <button class=\"colab-df-convert\" onclick=\"convertToInteractive('df-4ce0d130-49c4-483c-911f-16ce29fd52b5')\"\n",
              "              title=\"Convert this dataframe to an interactive table.\"\n",
              "              style=\"display:none;\">\n",
              "        \n",
              "  <svg xmlns=\"http://www.w3.org/2000/svg\" height=\"24px\"viewBox=\"0 0 24 24\"\n",
              "       width=\"24px\">\n",
              "    <path d=\"M0 0h24v24H0V0z\" fill=\"none\"/>\n",
              "    <path d=\"M18.56 5.44l.94 2.06.94-2.06 2.06-.94-2.06-.94-.94-2.06-.94 2.06-2.06.94zm-11 1L8.5 8.5l.94-2.06 2.06-.94-2.06-.94L8.5 2.5l-.94 2.06-2.06.94zm10 10l.94 2.06.94-2.06 2.06-.94-2.06-.94-.94-2.06-.94 2.06-2.06.94z\"/><path d=\"M17.41 7.96l-1.37-1.37c-.4-.4-.92-.59-1.43-.59-.52 0-1.04.2-1.43.59L10.3 9.45l-7.72 7.72c-.78.78-.78 2.05 0 2.83L4 21.41c.39.39.9.59 1.41.59.51 0 1.02-.2 1.41-.59l7.78-7.78 2.81-2.81c.8-.78.8-2.07 0-2.86zM5.41 20L4 18.59l7.72-7.72 1.47 1.35L5.41 20z\"/>\n",
              "  </svg>\n",
              "      </button>\n",
              "      \n",
              "  <style>\n",
              "    .colab-df-container {\n",
              "      display:flex;\n",
              "      flex-wrap:wrap;\n",
              "      gap: 12px;\n",
              "    }\n",
              "\n",
              "    .colab-df-convert {\n",
              "      background-color: #E8F0FE;\n",
              "      border: none;\n",
              "      border-radius: 50%;\n",
              "      cursor: pointer;\n",
              "      display: none;\n",
              "      fill: #1967D2;\n",
              "      height: 32px;\n",
              "      padding: 0 0 0 0;\n",
              "      width: 32px;\n",
              "    }\n",
              "\n",
              "    .colab-df-convert:hover {\n",
              "      background-color: #E2EBFA;\n",
              "      box-shadow: 0px 1px 2px rgba(60, 64, 67, 0.3), 0px 1px 3px 1px rgba(60, 64, 67, 0.15);\n",
              "      fill: #174EA6;\n",
              "    }\n",
              "\n",
              "    [theme=dark] .colab-df-convert {\n",
              "      background-color: #3B4455;\n",
              "      fill: #D2E3FC;\n",
              "    }\n",
              "\n",
              "    [theme=dark] .colab-df-convert:hover {\n",
              "      background-color: #434B5C;\n",
              "      box-shadow: 0px 1px 3px 1px rgba(0, 0, 0, 0.15);\n",
              "      filter: drop-shadow(0px 1px 2px rgba(0, 0, 0, 0.3));\n",
              "      fill: #FFFFFF;\n",
              "    }\n",
              "  </style>\n",
              "\n",
              "      <script>\n",
              "        const buttonEl =\n",
              "          document.querySelector('#df-4ce0d130-49c4-483c-911f-16ce29fd52b5 button.colab-df-convert');\n",
              "        buttonEl.style.display =\n",
              "          google.colab.kernel.accessAllowed ? 'block' : 'none';\n",
              "\n",
              "        async function convertToInteractive(key) {\n",
              "          const element = document.querySelector('#df-4ce0d130-49c4-483c-911f-16ce29fd52b5');\n",
              "          const dataTable =\n",
              "            await google.colab.kernel.invokeFunction('convertToInteractive',\n",
              "                                                     [key], {});\n",
              "          if (!dataTable) return;\n",
              "\n",
              "          const docLinkHtml = 'Like what you see? Visit the ' +\n",
              "            '<a target=\"_blank\" href=https://colab.research.google.com/notebooks/data_table.ipynb>data table notebook</a>'\n",
              "            + ' to learn more about interactive tables.';\n",
              "          element.innerHTML = '';\n",
              "          dataTable['output_type'] = 'display_data';\n",
              "          await google.colab.output.renderOutput(dataTable, element);\n",
              "          const docLink = document.createElement('div');\n",
              "          docLink.innerHTML = docLinkHtml;\n",
              "          element.appendChild(docLink);\n",
              "        }\n",
              "      </script>\n",
              "    </div>\n",
              "  </div>\n",
              "  "
            ]
          },
          "metadata": {},
          "execution_count": 31
        }
      ]
    },
    {
      "cell_type": "markdown",
      "source": [
        "### 3. Train-Test Split Data"
      ],
      "metadata": {
        "id": "I2eoSBxP7ZfS"
      }
    },
    {
      "cell_type": "code",
      "source": [
        "from sklearn.model_selection import train_test_split"
      ],
      "metadata": {
        "id": "6RujW8jx7h5K"
      },
      "execution_count": 32,
      "outputs": []
    },
    {
      "cell_type": "code",
      "source": [
        "X_train, X_test, y_train, y_test =train_test_split(intents.pattern,intents.tag, random_state=42,test_size = 0.3,shuffle = True)"
      ],
      "metadata": {
        "id": "3krqYBxy7Grm"
      },
      "execution_count": 33,
      "outputs": []
    },
    {
      "cell_type": "code",
      "source": [
        "print(f\"Training Size:{y_train.shape[0]} \\n Test Size: {y_test.shape[0]}\")"
      ],
      "metadata": {
        "colab": {
          "base_uri": "https://localhost:8080/"
        },
        "id": "aPNPCmnI7mx0",
        "outputId": "c1736e02-55ca-4823-9dcf-6610e0c057bc"
      },
      "execution_count": 34,
      "outputs": [
        {
          "output_type": "stream",
          "name": "stdout",
          "text": [
            "Training Size:89 \n",
            " Test Size: 39\n"
          ]
        }
      ]
    },
    {
      "cell_type": "markdown",
      "source": [
        "### 4. Vectorize the inputs:\n",
        "\n",
        "We can use Tf-IDF here"
      ],
      "metadata": {
        "id": "uXiKXyVK77T4"
      }
    },
    {
      "cell_type": "code",
      "source": [
        "from sklearn.feature_extraction.text import TfidfVectorizer\n",
        "\n",
        "tfidfvectorizer = TfidfVectorizer(min_df=1, max_features=1000)\n",
        "tfidf_X = tfidfvectorizer.fit_transform(X_train)\n",
        "tfidfvectorizer.get_feature_names_out()"
      ],
      "metadata": {
        "colab": {
          "base_uri": "https://localhost:8080/"
        },
        "id": "8IHK3Q7O7sAw",
        "outputId": "ca154ed0-c3c3-40a4-c7eb-f6aaa37b6728"
      },
      "execution_count": 35,
      "outputs": [
        {
          "output_type": "execute_result",
          "data": {
            "text/plain": [
              "array(['able', 'ada', 'adam', 'an', 'ann', 'anyone', 'artificial', 'bad',\n",
              "       'bag', 'bay', 'be', 'best', 'boost', 'buddy', 'classification',\n",
              "       'contact', 'create', 'cya', 'day', 'deep', 'diffult', 'do',\n",
              "       'ensemble', 'epoch', 'epochs', 'explain', 'for', 'forest',\n",
              "       'forward', 'from', 'good', 'gradient', 'great', 'hate', 'have',\n",
              "       'hell', 'hello', 'help', 'hey', 'hide', 'hours', 'how', 'in',\n",
              "       'intelligence', 'jerk', 'joke', 'knn', 'later', 'layer', 'learn',\n",
              "       'learner', 'link', 'listen', 'logistic', 'lot', 'machine', 'me',\n",
              "       'ml', 'my', 'naive', 'name', 'net', 'network', 'neural', 'no',\n",
              "       'not', 'of', 'olympus', 'online', 'operation', 'please', 'pm',\n",
              "       'problem', 'problems', 'propagation', 'random', 'regression',\n",
              "       'relu', 'see', 'sgd', 'sigmoid', 'sl', 'smart', 'softmax',\n",
              "       'solution', 'solve', 'stupid', 'svm', 'teach', 'techbniques',\n",
              "       'techniques', 'thank', 'the', 'there', 'think', 'ticket', 'to',\n",
              "       'too', 'unable', 'understand', 'very', 'weight', 'what', 'who',\n",
              "       'whom', 'window', 'with', 'work', 'yo', 'you', 'your'],\n",
              "      dtype=object)"
            ]
          },
          "metadata": {},
          "execution_count": 35
        }
      ]
    },
    {
      "cell_type": "code",
      "source": [
        "tfidf_X.toarray()\n",
        "tfidf_X_train = pd.DataFrame(tfidf_X.todense(), columns = tfidfvectorizer.get_feature_names())"
      ],
      "metadata": {
        "colab": {
          "base_uri": "https://localhost:8080/"
        },
        "id": "S2kH0VLr8N9t",
        "outputId": "2a08b7d0-6153-4b69-906d-e82db9d7beda"
      },
      "execution_count": 36,
      "outputs": [
        {
          "output_type": "stream",
          "name": "stderr",
          "text": [
            "/usr/local/lib/python3.7/dist-packages/sklearn/utils/deprecation.py:87: FutureWarning: Function get_feature_names is deprecated; get_feature_names is deprecated in 1.0 and will be removed in 1.2. Please use get_feature_names_out instead.\n",
            "  warnings.warn(msg, category=FutureWarning)\n"
          ]
        }
      ]
    },
    {
      "cell_type": "markdown",
      "source": [
        "### 5. Prepare Model and Train"
      ],
      "metadata": {
        "id": "7w4kOoj-De-v"
      }
    },
    {
      "cell_type": "code",
      "source": [
        "from sklearn import preprocessing\n",
        "le = preprocessing.LabelEncoder()\n",
        "y_train_le = le.fit_transform(y_train)"
      ],
      "metadata": {
        "id": "QwYTRHI_8Tln"
      },
      "execution_count": 38,
      "outputs": []
    },
    {
      "cell_type": "code",
      "source": [
        "from sklearn.multiclass import OneVsRestClassifier\n",
        "from sklearn.svm import SVC\n",
        "clf = OneVsRestClassifier(SVC(random_state=42)).fit(tfidf_X_train, y_train_le)"
      ],
      "metadata": {
        "id": "tsZeUJ839H7g"
      },
      "execution_count": 133,
      "outputs": []
    },
    {
      "cell_type": "markdown",
      "source": [
        "### 6. Evaluate Trained Model"
      ],
      "metadata": {
        "id": "EeVacGilDZzS"
      }
    },
    {
      "cell_type": "code",
      "source": [
        "tfidf_X_test = tfidfvectorizer.transform(X_test)\n",
        "tfidf_X_test.toarray()\n",
        "tfidf_X_test = pd.DataFrame(tfidf_X_test.todense(), columns = tfidfvectorizer.get_feature_names())"
      ],
      "metadata": {
        "colab": {
          "base_uri": "https://localhost:8080/"
        },
        "id": "v1dqCpDO-rlC",
        "outputId": "c344413c-77fa-4f9e-bc48-997d740e7cb5"
      },
      "execution_count": 41,
      "outputs": [
        {
          "output_type": "stream",
          "name": "stderr",
          "text": [
            "/usr/local/lib/python3.7/dist-packages/sklearn/utils/deprecation.py:87: FutureWarning: Function get_feature_names is deprecated; get_feature_names is deprecated in 1.0 and will be removed in 1.2. Please use get_feature_names_out instead.\n",
            "  warnings.warn(msg, category=FutureWarning)\n"
          ]
        }
      ]
    },
    {
      "cell_type": "code",
      "source": [
        "predicted = clf.predict(tfidf_X_test)\n",
        "predicted_labels = le.inverse_transform(predicted)"
      ],
      "metadata": {
        "id": "pK5lm3S7-jFl"
      },
      "execution_count": 44,
      "outputs": []
    },
    {
      "cell_type": "code",
      "source": [
        "y_test_le = le.transform(y_test)"
      ],
      "metadata": {
        "id": "IW3Qz2Cf_F73"
      },
      "execution_count": 45,
      "outputs": []
    },
    {
      "cell_type": "code",
      "source": [
        "from sklearn.metrics import accuracy_score,  f1_score\n",
        "def print_report(modelName,predicted_labels):\n",
        "  print(\"Model: \"+modelName)\n",
        "  accuracy = accuracy_score(y_test, predicted_labels)\n",
        "  print(f\"Accuracy: {accuracy}\")\n",
        "  f1= f1_score(y_test, predicted_labels,average=\"macro\")\n",
        "  print(f\"F1 Score: {f1}\")\n",
        "  #r = [modelName,accuracy,f1]\n",
        "  #report.append(r)"
      ],
      "metadata": {
        "id": "Bs8vu39N_j_P"
      },
      "execution_count": 53,
      "outputs": []
    },
    {
      "cell_type": "markdown",
      "source": [
        "### 7. Evaluation Report of Trained Model"
      ],
      "metadata": {
        "id": "BbvUlC4tDSsf"
      }
    },
    {
      "cell_type": "code",
      "source": [
        "print_report(\"tfidf\",predicted_labels)"
      ],
      "metadata": {
        "colab": {
          "base_uri": "https://localhost:8080/"
        },
        "id": "LtnsQcEj_6lg",
        "outputId": "b0746e83-9a44-4cf9-c1c1-81c291db7742"
      },
      "execution_count": 54,
      "outputs": [
        {
          "output_type": "stream",
          "name": "stdout",
          "text": [
            "Model: tfidf\n",
            "Accuracy: 0.5128205128205128\n",
            "F1 Score: 0.45968614718614714\n"
          ]
        }
      ]
    },
    {
      "cell_type": "markdown",
      "source": [
        "### 8. Create Preprocessing pipeline for input from chat"
      ],
      "metadata": {
        "id": "QkYSN1iKDNAJ"
      }
    },
    {
      "cell_type": "code",
      "source": [
        "def preprocess_input(text):\n",
        "  text = text_clean(text)\n",
        "  text_vectors = tfidfvectorizer.transform([text])\n",
        "  text_vectors.toarray()\n",
        "  text_vectors = pd.DataFrame(text_vectors.todense(), columns = tfidfvectorizer.get_feature_names())\n",
        "  return text_vectors\n"
      ],
      "metadata": {
        "id": "dcnrzIbAAKi8"
      },
      "execution_count": 65,
      "outputs": []
    },
    {
      "cell_type": "code",
      "source": [
        "def get_tag(text):\n",
        "  text_vectors = preprocess_input(text)\n",
        "  prediction = clf.predict(text_vectors)\n",
        "  tag = le.inverse_transform(prediction)\n",
        "  return tag[0]"
      ],
      "metadata": {
        "id": "1O7TdTtxBWgz"
      },
      "execution_count": 123,
      "outputs": []
    },
    {
      "cell_type": "markdown",
      "source": [
        "### 9. Test Sample Inputs"
      ],
      "metadata": {
        "id": "KRgPY2vADJK6"
      }
    },
    {
      "cell_type": "code",
      "source": [
        "get_tag(\"what is your name\")"
      ],
      "metadata": {
        "colab": {
          "base_uri": "https://localhost:8080/",
          "height": 35
        },
        "id": "Qfd2pi33BxsO",
        "outputId": "854b1eb9-4213-4c48-f335-0d423466b52e"
      },
      "execution_count": 116,
      "outputs": [
        {
          "output_type": "execute_result",
          "data": {
            "text/plain": [
              "'Bot'"
            ],
            "application/vnd.google.colaboratory.intrinsic+json": {
              "type": "string"
            }
          },
          "metadata": {},
          "execution_count": 116
        }
      ]
    },
    {
      "cell_type": "code",
      "source": [
        "get_tag(\"Thanks a ton\")"
      ],
      "metadata": {
        "colab": {
          "base_uri": "https://localhost:8080/",
          "height": 35
        },
        "id": "g-KE8lF4B1SQ",
        "outputId": "f51cab86-6493-42dc-ed00-b01969c49e27"
      },
      "execution_count": 117,
      "outputs": [
        {
          "output_type": "execute_result",
          "data": {
            "text/plain": [
              "'Exit'"
            ],
            "application/vnd.google.colaboratory.intrinsic+json": {
              "type": "string"
            }
          },
          "metadata": {},
          "execution_count": 117
        }
      ]
    },
    {
      "cell_type": "code",
      "source": [
        "get_tag(\"What is deep learning\")"
      ],
      "metadata": {
        "colab": {
          "base_uri": "https://localhost:8080/",
          "height": 35
        },
        "id": "tBFVGKetD7xg",
        "outputId": "f3370838-42ff-48fb-fce0-ec28ef98b417"
      },
      "execution_count": 118,
      "outputs": [
        {
          "output_type": "execute_result",
          "data": {
            "text/plain": [
              "'NN'"
            ],
            "application/vnd.google.colaboratory.intrinsic+json": {
              "type": "string"
            }
          },
          "metadata": {},
          "execution_count": 118
        }
      ]
    },
    {
      "cell_type": "code",
      "source": [
        "get_tag(\"See you\")"
      ],
      "metadata": {
        "colab": {
          "base_uri": "https://localhost:8080/",
          "height": 35
        },
        "id": "aAdgs_2iD-nJ",
        "outputId": "1f84385b-6812-4c2d-a840-25127b3523de"
      },
      "execution_count": 119,
      "outputs": [
        {
          "output_type": "execute_result",
          "data": {
            "text/plain": [
              "'Exit'"
            ],
            "application/vnd.google.colaboratory.intrinsic+json": {
              "type": "string"
            }
          },
          "metadata": {},
          "execution_count": 119
        }
      ]
    },
    {
      "cell_type": "code",
      "source": [
        "get_tag(\"Bye\")   ##wrong -- have to improve model or manually tune response"
      ],
      "metadata": {
        "colab": {
          "base_uri": "https://localhost:8080/",
          "height": 35
        },
        "id": "nxEWCl8CEBfu",
        "outputId": "1f42bf03-7f8a-4d35-acfc-cfb18ca81e81"
      },
      "execution_count": 120,
      "outputs": [
        {
          "output_type": "execute_result",
          "data": {
            "text/plain": [
              "'NN'"
            ],
            "application/vnd.google.colaboratory.intrinsic+json": {
              "type": "string"
            }
          },
          "metadata": {},
          "execution_count": 120
        }
      ]
    },
    {
      "cell_type": "code",
      "source": [
        "get_tag(\"Not helped\") "
      ],
      "metadata": {
        "colab": {
          "base_uri": "https://localhost:8080/",
          "height": 35
        },
        "id": "V5u-3kmhEDWu",
        "outputId": "7d673554-49ce-42fa-b185-0d2c7fceefe9"
      },
      "execution_count": 121,
      "outputs": [
        {
          "output_type": "execute_result",
          "data": {
            "text/plain": [
              "'Ticket'"
            ],
            "application/vnd.google.colaboratory.intrinsic+json": {
              "type": "string"
            }
          },
          "metadata": {},
          "execution_count": 121
        }
      ]
    },
    {
      "cell_type": "code",
      "source": [
        "get_tag(\"Having trouble accessing olympus\")"
      ],
      "metadata": {
        "colab": {
          "base_uri": "https://localhost:8080/",
          "height": 35
        },
        "id": "dgtj8t4GEZSs",
        "outputId": "d49e14c2-6c6a-4fb9-96de-b71a1b0f2702"
      },
      "execution_count": 122,
      "outputs": [
        {
          "output_type": "execute_result",
          "data": {
            "text/plain": [
              "'Olympus'"
            ],
            "application/vnd.google.colaboratory.intrinsic+json": {
              "type": "string"
            }
          },
          "metadata": {},
          "execution_count": 122
        }
      ]
    },
    {
      "cell_type": "markdown",
      "source": [
        "### Put all components together"
      ],
      "metadata": {
        "id": "kBkyAB-AIP31"
      }
    },
    {
      "cell_type": "code",
      "source": [
        "def manual_corrections(text):\n",
        "  if text.lower() == \"bye\":\n",
        "    return \"Exit\", True\n",
        "  elif text.lower() == \"hi\":\n",
        "    return \"Intro\",True\n",
        "  else:\n",
        "    return \"\",False"
      ],
      "metadata": {
        "id": "zzMZvSPCJcAV"
      },
      "execution_count": 140,
      "outputs": []
    },
    {
      "cell_type": "code",
      "source": [
        "def ask_bot(text):\n",
        "  tag = get_tag(text)\n",
        "  tag_manual, override = manual_corrections(text)\n",
        "  if override:\n",
        "    tag = tag_manual\n",
        "  response = get_response_for_tag(tag)\n",
        "  return response"
      ],
      "metadata": {
        "id": "n4ckmlmgIUYb"
      },
      "execution_count": 126,
      "outputs": []
    },
    {
      "cell_type": "markdown",
      "source": [
        "### Test the backend"
      ],
      "metadata": {
        "id": "MEiJym2eIrom"
      }
    },
    {
      "cell_type": "code",
      "source": [
        "ask_bot(\"Hi, how are you?\")"
      ],
      "metadata": {
        "colab": {
          "base_uri": "https://localhost:8080/",
          "height": 35
        },
        "id": "J3ynPQlJItIZ",
        "outputId": "2a3250cd-d092-4097-bda8-87883338046b"
      },
      "execution_count": 128,
      "outputs": [
        {
          "output_type": "execute_result",
          "data": {
            "text/plain": [
              "'Hello! how can i help you ?'"
            ],
            "application/vnd.google.colaboratory.intrinsic+json": {
              "type": "string"
            }
          },
          "metadata": {},
          "execution_count": 128
        }
      ]
    },
    {
      "cell_type": "code",
      "source": [
        "ask_bot(\"Bye\")  "
      ],
      "metadata": {
        "colab": {
          "base_uri": "https://localhost:8080/",
          "height": 35
        },
        "id": "ueMpzwLaIvy-",
        "outputId": "d414adf8-c3d7-40b2-c6be-05f7974e3e6d"
      },
      "execution_count": 129,
      "outputs": [
        {
          "output_type": "execute_result",
          "data": {
            "text/plain": [
              "'I hope I was able to assist you, Good Bye'"
            ],
            "application/vnd.google.colaboratory.intrinsic+json": {
              "type": "string"
            }
          },
          "metadata": {},
          "execution_count": 129
        }
      ]
    },
    {
      "cell_type": "code",
      "source": [
        "ask_bot(\"Does god exists?\")"
      ],
      "metadata": {
        "colab": {
          "base_uri": "https://localhost:8080/",
          "height": 35
        },
        "id": "GguH2WBKKjcy",
        "outputId": "dfd563e0-b957-44f2-b2d0-8d47f7b4ca1c"
      },
      "execution_count": 132,
      "outputs": [
        {
          "output_type": "execute_result",
          "data": {
            "text/plain": [
              "'Tarnsferring the request to your PM'"
            ],
            "application/vnd.google.colaboratory.intrinsic+json": {
              "type": "string"
            }
          },
          "metadata": {},
          "execution_count": 132
        }
      ]
    },
    {
      "cell_type": "code",
      "source": [
        "def chat_window():\n",
        "  try:\n",
        "    print(\"Welcome to Great Learning !\")\n",
        "    print(\"How can I help you today?\")\n",
        "    while True:\n",
        "      inp = input(\"\\n\\n >>\")\n",
        "      response = ask_bot(inp.lower())\n",
        "      print(response)\n",
        "      if response == \"I hope I was able to assist you, Good Bye\":\n",
        "        break\n",
        "  except KeyboardInterrupt:\n",
        "    print(\"I hope I was able to assist you, Good Bye\")\n"
      ],
      "metadata": {
        "id": "-FpzGF5QKuOf"
      },
      "execution_count": 141,
      "outputs": []
    },
    {
      "cell_type": "code",
      "source": [
        "chat_window()"
      ],
      "metadata": {
        "colab": {
          "base_uri": "https://localhost:8080/"
        },
        "id": "Sp-aMp7jLiKe",
        "outputId": "ea1e0bcc-ed19-4f31-ffed-fd556d9b1e8f"
      },
      "execution_count": 142,
      "outputs": [
        {
          "output_type": "stream",
          "name": "stdout",
          "text": [
            "Welcome to Great Learning !\n",
            "How can I help you today?\n",
            "\n",
            "\n",
            " >>Hi\n",
            "Hello! how can i help you ?\n",
            "\n",
            "\n",
            " >>how are you?\n",
            "Hello! how can i help you ?\n",
            "\n",
            "\n",
            " >>what is deep learning?\n",
            "Link: Neural Nets wiki\n",
            "\n",
            "\n",
            " >>Cannot access olympus\n",
            "Link: Olympus wiki\n",
            "\n",
            "\n",
            " >>what are some ensemble techniques\n",
            "Link: Machine Learning wiki \n",
            "\n",
            "\n",
            " >>who are youi\n",
            "I am your virtual learning assistant\n",
            "\n",
            "\n",
            " >>There is some problem\n",
            "Hello! how can i help you ?\n",
            "\n",
            "\n",
            " >>can you create a ticket?\n",
            "Tarnsferring the request to your PM\n",
            "\n",
            "\n",
            " >>Thank you\n",
            "I hope I was able to assist you, Good Bye\n"
          ]
        }
      ]
    },
    {
      "cell_type": "code",
      "source": [
        ""
      ],
      "metadata": {
        "id": "aZK1elDmMg23"
      },
      "execution_count": null,
      "outputs": []
    }
  ]
}