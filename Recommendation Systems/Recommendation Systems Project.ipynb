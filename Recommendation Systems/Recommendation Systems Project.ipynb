{
 "cells": [
  {
   "cell_type": "markdown",
   "id": "174aa549",
   "metadata": {},
   "source": [
    "# Recommendation Systems Project"
   ]
  },
  {
   "cell_type": "markdown",
   "id": "520cf62f",
   "metadata": {},
   "source": [
    "![Recommendation System Question](RS_qn.PNG \"Recommendation System Question\")"
   ]
  },
  {
   "cell_type": "code",
   "execution_count": 293,
   "id": "678a3e20",
   "metadata": {},
   "outputs": [],
   "source": [
    "\n",
    "#Loading libraries\n",
    "import pandas as pd\n",
    "import matplotlib.pyplot as plt\n",
    "import sklearn.metrics as metrics\n",
    "import numpy as np\n",
    "import warnings\n",
    "warnings.filterwarnings('ignore')\n",
    "import numpy as np\n",
    "from surprise import SVD\n",
    "import seaborn as sns\n",
    "import pathlib"
   ]
  },
  {
   "cell_type": "code",
   "execution_count": 294,
   "id": "7654b255",
   "metadata": {},
   "outputs": [],
   "source": [
    "#Read and merge CSVs\n",
    "\n",
    "ph1 = pd.read_csv(\"Phone reviews Dataset/phone_user_review_file_1.csv\",encoding=\"latin-1\")\n",
    "ph2 = pd.read_csv(\"Phone reviews Dataset/phone_user_review_file_2.csv\",encoding=\"latin-1\")\n",
    "ph3 = pd.read_csv(\"Phone reviews Dataset/phone_user_review_file_3.csv\",encoding=\"latin-1\")\n",
    "ph4 = pd.read_csv(\"Phone reviews Dataset/phone_user_review_file_4.csv\",encoding=\"latin-1\")\n",
    "ph5 = pd.read_csv(\"Phone reviews Dataset/phone_user_review_file_5.csv\",encoding=\"latin-1\")\n",
    "ph6 = pd.read_csv(\"Phone reviews Dataset/phone_user_review_file_6.csv\",encoding=\"latin-1\")"
   ]
  },
  {
   "cell_type": "code",
   "execution_count": 295,
   "id": "c404fd54",
   "metadata": {},
   "outputs": [],
   "source": [
    "li = [ph1, ph2,ph3, ph4, ph5, ph6]\n",
    "rvws = pd.concat(li, axis=0, ignore_index=True)"
   ]
  },
  {
   "cell_type": "code",
   "execution_count": 296,
   "id": "cd11ef5b",
   "metadata": {},
   "outputs": [
    {
     "data": {
      "text/plain": [
       "(1415133, 11)"
      ]
     },
     "execution_count": 296,
     "metadata": {},
     "output_type": "execute_result"
    }
   ],
   "source": [
    "rvws.shape"
   ]
  },
  {
   "cell_type": "code",
   "execution_count": 297,
   "id": "909b4286",
   "metadata": {},
   "outputs": [
    {
     "data": {
      "text/html": [
       "<div>\n",
       "<style scoped>\n",
       "    .dataframe tbody tr th:only-of-type {\n",
       "        vertical-align: middle;\n",
       "    }\n",
       "\n",
       "    .dataframe tbody tr th {\n",
       "        vertical-align: top;\n",
       "    }\n",
       "\n",
       "    .dataframe thead th {\n",
       "        text-align: right;\n",
       "    }\n",
       "</style>\n",
       "<table border=\"1\" class=\"dataframe\">\n",
       "  <thead>\n",
       "    <tr style=\"text-align: right;\">\n",
       "      <th></th>\n",
       "      <th>phone_url</th>\n",
       "      <th>date</th>\n",
       "      <th>lang</th>\n",
       "      <th>country</th>\n",
       "      <th>source</th>\n",
       "      <th>domain</th>\n",
       "      <th>score</th>\n",
       "      <th>score_max</th>\n",
       "      <th>extract</th>\n",
       "      <th>author</th>\n",
       "      <th>product</th>\n",
       "    </tr>\n",
       "  </thead>\n",
       "  <tbody>\n",
       "    <tr>\n",
       "      <th>1411542</th>\n",
       "      <td>/cellphones/bosch-com-509/</td>\n",
       "      <td>7/8/2000</td>\n",
       "      <td>en</td>\n",
       "      <td>gb</td>\n",
       "      <td>Dooyoo</td>\n",
       "      <td>dooyoo.co.uk</td>\n",
       "      <td>10.0</td>\n",
       "      <td>10.0</td>\n",
       "      <td>i have had this phone for about half a year no...</td>\n",
       "      <td>anonym</td>\n",
       "      <td>Bosch 509e</td>\n",
       "    </tr>\n",
       "    <tr>\n",
       "      <th>761148</th>\n",
       "      <td>/cellphones/lg-optimus-l9-p760/</td>\n",
       "      <td>5/23/2013</td>\n",
       "      <td>de</td>\n",
       "      <td>de</td>\n",
       "      <td>Amazon</td>\n",
       "      <td>amazon.de</td>\n",
       "      <td>10.0</td>\n",
       "      <td>10.0</td>\n",
       "      <td>Nach ziemlich schlechten Erfahrungen mit einem...</td>\n",
       "      <td>DAnt</td>\n",
       "      <td>LG Electronics P760 Optimus L9 Smartphone (Dua...</td>\n",
       "    </tr>\n",
       "    <tr>\n",
       "      <th>110140</th>\n",
       "      <td>/cellphones/samsung-galaxy-s6/</td>\n",
       "      <td>4/16/2015</td>\n",
       "      <td>nl</td>\n",
       "      <td>be</td>\n",
       "      <td>KIESKEURIG</td>\n",
       "      <td>kieskeurig.be</td>\n",
       "      <td>9.0</td>\n",
       "      <td>10.0</td>\n",
       "      <td>Prachtig toestel met een nog mooier scherm. Ac...</td>\n",
       "      <td>Oosie78</td>\n",
       "      <td>Samsung Galaxy S6 zwart / 32 GB</td>\n",
       "    </tr>\n",
       "    <tr>\n",
       "      <th>1047858</th>\n",
       "      <td>/cellphones/samsung-sgh-c414/</td>\n",
       "      <td>2/20/2012</td>\n",
       "      <td>en</td>\n",
       "      <td>ca</td>\n",
       "      <td>Samsung</td>\n",
       "      <td>samsung.com</td>\n",
       "      <td>6.0</td>\n",
       "      <td>10.0</td>\n",
       "      <td>When charging symbol on front stops flashing, ...</td>\n",
       "      <td>Old fellow</td>\n",
       "      <td>Samsung SGH-c414 | Black</td>\n",
       "    </tr>\n",
       "    <tr>\n",
       "      <th>606664</th>\n",
       "      <td>/cellphones/blu-life-pure-xl/</td>\n",
       "      <td>5/8/2014</td>\n",
       "      <td>en</td>\n",
       "      <td>us</td>\n",
       "      <td>Amazon</td>\n",
       "      <td>amazon.com</td>\n",
       "      <td>10.0</td>\n",
       "      <td>10.0</td>\n",
       "      <td>Price is great, camera quality and resolution ...</td>\n",
       "      <td>Carlos Mejia</td>\n",
       "      <td>BLU Life Pure XL Full HD, 16MP, (32 GB+3GB RAM...</td>\n",
       "    </tr>\n",
       "    <tr>\n",
       "      <th>1262158</th>\n",
       "      <td>/cellphones/sony-ericsson-s500i-44861/</td>\n",
       "      <td>5/12/2010</td>\n",
       "      <td>de</td>\n",
       "      <td>de</td>\n",
       "      <td>Amazon</td>\n",
       "      <td>amazon.de</td>\n",
       "      <td>10.0</td>\n",
       "      <td>10.0</td>\n",
       "      <td>Ich habe mein Sony Ericsson S500i zu Weihnacht...</td>\n",
       "      <td>tweety2be</td>\n",
       "      <td>Sony Ericsson S500i lila Handy</td>\n",
       "    </tr>\n",
       "    <tr>\n",
       "      <th>836616</th>\n",
       "      <td>/cellphones/sony-xperia-v/</td>\n",
       "      <td>1/4/2013</td>\n",
       "      <td>ru</td>\n",
       "      <td>ru</td>\n",
       "      <td>??????????????</td>\n",
       "      <td>svyaznoy.ru</td>\n",
       "      <td>8.0</td>\n",
       "      <td>10.0</td>\n",
       "      <td>???????????? ?????????, ???? ????????????????...</td>\n",
       "      <td>???????????</td>\n",
       "      <td>Sony Xperia V (?????????????)</td>\n",
       "    </tr>\n",
       "    <tr>\n",
       "      <th>823814</th>\n",
       "      <td>/cellphones/nokia-lumia-820/</td>\n",
       "      <td>3/8/2013</td>\n",
       "      <td>pt</td>\n",
       "      <td>br</td>\n",
       "      <td>Cissa Magazine</td>\n",
       "      <td>cissamagazine.com.br</td>\n",
       "      <td>NaN</td>\n",
       "      <td>NaN</td>\n",
       "      <td>Um bom aparelho leve e bonito Loja respons??ve...</td>\n",
       "      <td>Elisiane de Paula da Costa Mendes</td>\n",
       "      <td>Smartphone Nokia Lumia 820 Desbloqueado Preto/...</td>\n",
       "    </tr>\n",
       "    <tr>\n",
       "      <th>434154</th>\n",
       "      <td>/cellphones/nokia-215-dual-sim/</td>\n",
       "      <td>7/8/2015</td>\n",
       "      <td>en</td>\n",
       "      <td>in</td>\n",
       "      <td>Amazon</td>\n",
       "      <td>amazon.in</td>\n",
       "      <td>10.0</td>\n",
       "      <td>10.0</td>\n",
       "      <td>nice budget phone</td>\n",
       "      <td>Dhaval S.</td>\n",
       "      <td>Nokia 215 (Dual SIM, Black)</td>\n",
       "    </tr>\n",
       "    <tr>\n",
       "      <th>352095</th>\n",
       "      <td>/cellphones/samsung-galaxy-s5/</td>\n",
       "      <td>10/15/2014</td>\n",
       "      <td>ru</td>\n",
       "      <td>ru</td>\n",
       "      <td>Yandex</td>\n",
       "      <td>market.yandex.ru</td>\n",
       "      <td>4.0</td>\n",
       "      <td>10.0</td>\n",
       "      <td>ÐÑÐµ Ð¿Ð°ÑÐ° Ð²Ð°Ð¶Ð½ÑÑ",
       " Ð½ÐµÐ´Ð¾ÑÑÐ°ÑÐ...</td>\n",
       "      <td>NaN</td>\n",
       "      <td>Samsung Galaxy S5 SM-G900F 16Gb</td>\n",
       "    </tr>\n",
       "  </tbody>\n",
       "</table>\n",
       "</div>"
      ],
      "text/plain": [
       "                                      phone_url        date lang country  \\\n",
       "1411542              /cellphones/bosch-com-509/    7/8/2000   en      gb   \n",
       "761148          /cellphones/lg-optimus-l9-p760/   5/23/2013   de      de   \n",
       "110140           /cellphones/samsung-galaxy-s6/   4/16/2015   nl      be   \n",
       "1047858           /cellphones/samsung-sgh-c414/   2/20/2012   en      ca   \n",
       "606664            /cellphones/blu-life-pure-xl/    5/8/2014   en      us   \n",
       "1262158  /cellphones/sony-ericsson-s500i-44861/   5/12/2010   de      de   \n",
       "836616               /cellphones/sony-xperia-v/    1/4/2013   ru      ru   \n",
       "823814             /cellphones/nokia-lumia-820/    3/8/2013   pt      br   \n",
       "434154          /cellphones/nokia-215-dual-sim/    7/8/2015   en      in   \n",
       "352095           /cellphones/samsung-galaxy-s5/  10/15/2014   ru      ru   \n",
       "\n",
       "                 source                domain  score  score_max  \\\n",
       "1411542          Dooyoo          dooyoo.co.uk   10.0       10.0   \n",
       "761148           Amazon             amazon.de   10.0       10.0   \n",
       "110140       KIESKEURIG         kieskeurig.be    9.0       10.0   \n",
       "1047858         Samsung           samsung.com    6.0       10.0   \n",
       "606664           Amazon            amazon.com   10.0       10.0   \n",
       "1262158          Amazon             amazon.de   10.0       10.0   \n",
       "836616   ??????????????           svyaznoy.ru    8.0       10.0   \n",
       "823814   Cissa Magazine  cissamagazine.com.br    NaN        NaN   \n",
       "434154           Amazon             amazon.in   10.0       10.0   \n",
       "352095           Yandex      market.yandex.ru    4.0       10.0   \n",
       "\n",
       "                                                   extract  \\\n",
       "1411542  i have had this phone for about half a year no...   \n",
       "761148   Nach ziemlich schlechten Erfahrungen mit einem...   \n",
       "110140   Prachtig toestel met een nog mooier scherm. Ac...   \n",
       "1047858  When charging symbol on front stops flashing, ...   \n",
       "606664   Price is great, camera quality and resolution ...   \n",
       "1262158  Ich habe mein Sony Ericsson S500i zu Weihnacht...   \n",
       "836616   ???????????? ?????????, ???? ????????????????...   \n",
       "823814   Um bom aparelho leve e bonito Loja respons??ve...   \n",
       "434154                                   nice budget phone   \n",
       "352095   ÐÑÐµ Ð¿Ð°ÑÐ° Ð²Ð°Ð¶Ð½ÑÑ\n",
       " Ð½ÐµÐ´Ð¾ÑÑÐ°ÑÐ...   \n",
       "\n",
       "                                    author  \\\n",
       "1411542                             anonym   \n",
       "761148                                DAnt   \n",
       "110140                             Oosie78   \n",
       "1047858                         Old fellow   \n",
       "606664                        Carlos Mejia   \n",
       "1262158                          tweety2be   \n",
       "836616                        ???????????   \n",
       "823814   Elisiane de Paula da Costa Mendes   \n",
       "434154                           Dhaval S.   \n",
       "352095                                 NaN   \n",
       "\n",
       "                                                   product  \n",
       "1411542                                         Bosch 509e  \n",
       "761148   LG Electronics P760 Optimus L9 Smartphone (Dua...  \n",
       "110140                     Samsung Galaxy S6 zwart / 32 GB  \n",
       "1047858                           Samsung SGH-c414 | Black  \n",
       "606664   BLU Life Pure XL Full HD, 16MP, (32 GB+3GB RAM...  \n",
       "1262158                     Sony Ericsson S500i lila Handy  \n",
       "836616                      Sony Xperia V (?????????????)  \n",
       "823814   Smartphone Nokia Lumia 820 Desbloqueado Preto/...  \n",
       "434154                         Nokia 215 (Dual SIM, Black)  \n",
       "352095                     Samsung Galaxy S5 SM-G900F 16Gb  "
      ]
     },
     "execution_count": 297,
     "metadata": {},
     "output_type": "execute_result"
    }
   ],
   "source": [
    "rvws.sample(10)"
   ]
  },
  {
   "cell_type": "markdown",
   "id": "a94cd0a0",
   "metadata": {},
   "source": [
    "### Check for missing values and impute them"
   ]
  },
  {
   "cell_type": "code",
   "execution_count": 298,
   "id": "856fa636",
   "metadata": {},
   "outputs": [
    {
     "data": {
      "text/plain": [
       "phone_url        0\n",
       "date             0\n",
       "lang             0\n",
       "country          0\n",
       "source           0\n",
       "domain           0\n",
       "score        63489\n",
       "score_max    63489\n",
       "extract      19361\n",
       "author       63202\n",
       "product          1\n",
       "dtype: int64"
      ]
     },
     "execution_count": 298,
     "metadata": {},
     "output_type": "execute_result"
    }
   ],
   "source": [
    "rvws.isna().sum()"
   ]
  },
  {
   "cell_type": "markdown",
   "id": "dab1c62d",
   "metadata": {},
   "source": [
    "There are many missing values, we can impute the values before round off the numbers"
   ]
  },
  {
   "cell_type": "code",
   "execution_count": 299,
   "id": "94638b15",
   "metadata": {},
   "outputs": [],
   "source": [
    "rvws['score'].fillna(rvws['score'].mean(), inplace = True)\n",
    "rvws['score_max'].fillna(rvws['score_max'].mean(), inplace = True)\n",
    "rvws['extract'].fillna(\"No review available\", inplace = True)\n",
    "rvws['author'].fillna(\"default\", inplace = True)\n",
    "\n",
    "#if product name is na then we could extract product name from phone_url, for simplicity I will just drop that row\n",
    "rvws = rvws[rvws['product'].notna()]"
   ]
  },
  {
   "cell_type": "markdown",
   "id": "c50b96f6",
   "metadata": {},
   "source": [
    "### 1.3 Round off scores to the nearest integers."
   ]
  },
  {
   "cell_type": "code",
   "execution_count": 300,
   "id": "d5ac34f9",
   "metadata": {},
   "outputs": [
    {
     "data": {
      "text/plain": [
       "0          10\n",
       "1          10\n",
       "2           6\n",
       "3           9\n",
       "4           4\n",
       "           ..\n",
       "1415128     2\n",
       "1415129    10\n",
       "1415130     2\n",
       "1415131     8\n",
       "1415132     2\n",
       "Name: score, Length: 1415132, dtype: int32"
      ]
     },
     "execution_count": 300,
     "metadata": {},
     "output_type": "execute_result"
    }
   ],
   "source": [
    "rvws['score'].round(0).astype(int)"
   ]
  },
  {
   "cell_type": "markdown",
   "id": "17d63635",
   "metadata": {},
   "source": [
    "### Check for duplicate rows and remove them"
   ]
  },
  {
   "cell_type": "code",
   "execution_count": 301,
   "id": "ef102c66",
   "metadata": {},
   "outputs": [
    {
     "data": {
      "text/plain": [
       "6412"
      ]
     },
     "execution_count": 301,
     "metadata": {},
     "output_type": "execute_result"
    }
   ],
   "source": [
    "rvws.duplicated().sum()"
   ]
  },
  {
   "cell_type": "markdown",
   "id": "c74a8c3d",
   "metadata": {},
   "source": [
    "There are many duplicates lets drop them"
   ]
  },
  {
   "cell_type": "code",
   "execution_count": 302,
   "id": "143cdceb",
   "metadata": {},
   "outputs": [],
   "source": [
    "rvws = rvws.drop_duplicates();"
   ]
  },
  {
   "cell_type": "markdown",
   "id": "aa00aeb0",
   "metadata": {},
   "source": [
    "### Keep only 1000000 data samples. Use random state=612."
   ]
  },
  {
   "cell_type": "code",
   "execution_count": 303,
   "id": "c9d0f639",
   "metadata": {},
   "outputs": [],
   "source": [
    "rvws_sample = rvws.sample(1000000, random_state=612)"
   ]
  },
  {
   "cell_type": "code",
   "execution_count": 304,
   "id": "7e53dfbe",
   "metadata": {},
   "outputs": [
    {
     "data": {
      "text/plain": [
       "(1000000, 11)"
      ]
     },
     "execution_count": 304,
     "metadata": {},
     "output_type": "execute_result"
    }
   ],
   "source": [
    "rvws_sample.shape"
   ]
  },
  {
   "cell_type": "markdown",
   "id": "e7fbd70f",
   "metadata": {},
   "source": [
    "### Drop irrelevant features. Keep features like Author, Product, and Score."
   ]
  },
  {
   "cell_type": "code",
   "execution_count": 305,
   "id": "395d3c58",
   "metadata": {},
   "outputs": [],
   "source": [
    "rvws_sample = rvws_sample.drop(columns=['phone_url','date','lang','country','source','domain'])"
   ]
  },
  {
   "cell_type": "code",
   "execution_count": 306,
   "id": "2cd6f2ab",
   "metadata": {},
   "outputs": [
    {
     "data": {
      "text/plain": [
       "Index(['score', 'score_max', 'extract', 'author', 'product'], dtype='object')"
      ]
     },
     "execution_count": 306,
     "metadata": {},
     "output_type": "execute_result"
    }
   ],
   "source": [
    "rvws_sample.columns"
   ]
  },
  {
   "cell_type": "markdown",
   "id": "fe42f45c",
   "metadata": {},
   "source": [
    "### Identify the most rated features"
   ]
  },
  {
   "cell_type": "code",
   "execution_count": 308,
   "id": "fd7322b3",
   "metadata": {},
   "outputs": [],
   "source": [
    "products_rvw = rvws_sample.groupby('product')['score'].count().reset_index().sort_values(by='score',ascending=False)"
   ]
  },
  {
   "cell_type": "code",
   "execution_count": 309,
   "id": "5811f985",
   "metadata": {},
   "outputs": [
    {
     "data": {
      "text/html": [
       "<div>\n",
       "<style scoped>\n",
       "    .dataframe tbody tr th:only-of-type {\n",
       "        vertical-align: middle;\n",
       "    }\n",
       "\n",
       "    .dataframe tbody tr th {\n",
       "        vertical-align: top;\n",
       "    }\n",
       "\n",
       "    .dataframe thead th {\n",
       "        text-align: right;\n",
       "    }\n",
       "</style>\n",
       "<table border=\"1\" class=\"dataframe\">\n",
       "  <thead>\n",
       "    <tr style=\"text-align: right;\">\n",
       "      <th></th>\n",
       "      <th>product</th>\n",
       "      <th>score</th>\n",
       "    </tr>\n",
       "  </thead>\n",
       "  <tbody>\n",
       "    <tr>\n",
       "      <th>21748</th>\n",
       "      <td>Lenovo Vibe K4 Note (White,16GB)</td>\n",
       "      <td>3700</td>\n",
       "    </tr>\n",
       "    <tr>\n",
       "      <th>21747</th>\n",
       "      <td>Lenovo Vibe K4 Note (Black, 16GB)</td>\n",
       "      <td>3093</td>\n",
       "    </tr>\n",
       "    <tr>\n",
       "      <th>31898</th>\n",
       "      <td>OnePlus 3 (Graphite, 64 GB)</td>\n",
       "      <td>2889</td>\n",
       "    </tr>\n",
       "    <tr>\n",
       "      <th>31899</th>\n",
       "      <td>OnePlus 3 (Soft Gold, 64 GB)</td>\n",
       "      <td>2522</td>\n",
       "    </tr>\n",
       "    <tr>\n",
       "      <th>37638</th>\n",
       "      <td>Samsung Galaxy Express I8730</td>\n",
       "      <td>1902</td>\n",
       "    </tr>\n",
       "    <tr>\n",
       "      <th>...</th>\n",
       "      <td>...</td>\n",
       "      <td>...</td>\n",
       "    </tr>\n",
       "    <tr>\n",
       "      <th>15588</th>\n",
       "      <td>Huawei P8 Lite - Smartphone libre Android (pan...</td>\n",
       "      <td>51</td>\n",
       "    </tr>\n",
       "    <tr>\n",
       "      <th>51918</th>\n",
       "      <td>ThL W100</td>\n",
       "      <td>51</td>\n",
       "    </tr>\n",
       "    <tr>\n",
       "      <th>16069</th>\n",
       "      <td>Huawei Y6 (2GB) Smartphone Dual SIM, Display 5...</td>\n",
       "      <td>51</td>\n",
       "    </tr>\n",
       "    <tr>\n",
       "      <th>38413</th>\n",
       "      <td>Samsung Galaxy K zoom C115 Smartphone (12,2 cm...</td>\n",
       "      <td>51</td>\n",
       "    </tr>\n",
       "    <tr>\n",
       "      <th>54215</th>\n",
       "      <td>iPhone 4 - 16GB (Nero)</td>\n",
       "      <td>51</td>\n",
       "    </tr>\n",
       "  </tbody>\n",
       "</table>\n",
       "<p>4278 rows × 2 columns</p>\n",
       "</div>"
      ],
      "text/plain": [
       "                                                 product  score\n",
       "21748                   Lenovo Vibe K4 Note (White,16GB)   3700\n",
       "21747                  Lenovo Vibe K4 Note (Black, 16GB)   3093\n",
       "31898                        OnePlus 3 (Graphite, 64 GB)   2889\n",
       "31899                       OnePlus 3 (Soft Gold, 64 GB)   2522\n",
       "37638                       Samsung Galaxy Express I8730   1902\n",
       "...                                                  ...    ...\n",
       "15588  Huawei P8 Lite - Smartphone libre Android (pan...     51\n",
       "51918                                           ThL W100     51\n",
       "16069  Huawei Y6 (2GB) Smartphone Dual SIM, Display 5...     51\n",
       "38413  Samsung Galaxy K zoom C115 Smartphone (12,2 cm...     51\n",
       "54215                             iPhone 4 - 16GB (Nero)     51\n",
       "\n",
       "[4278 rows x 2 columns]"
      ]
     },
     "execution_count": 309,
     "metadata": {},
     "output_type": "execute_result"
    }
   ],
   "source": [
    "products_rvw[products_rvw['score'] > 50]"
   ]
  },
  {
   "cell_type": "code",
   "execution_count": 310,
   "id": "ebf30b10",
   "metadata": {},
   "outputs": [],
   "source": [
    "users_rvw = rvws_sample.groupby('author')['score'].count().reset_index().sort_values(by='score',ascending=False)"
   ]
  },
  {
   "cell_type": "markdown",
   "id": "82cf24aa",
   "metadata": {},
   "source": [
    "### Identify the users with most number of reviews."
   ]
  },
  {
   "cell_type": "code",
   "execution_count": 312,
   "id": "cd671e13",
   "metadata": {},
   "outputs": [
    {
     "data": {
      "text/html": [
       "<div>\n",
       "<style scoped>\n",
       "    .dataframe tbody tr th:only-of-type {\n",
       "        vertical-align: middle;\n",
       "    }\n",
       "\n",
       "    .dataframe tbody tr th {\n",
       "        vertical-align: top;\n",
       "    }\n",
       "\n",
       "    .dataframe thead th {\n",
       "        text-align: right;\n",
       "    }\n",
       "</style>\n",
       "<table border=\"1\" class=\"dataframe\">\n",
       "  <thead>\n",
       "    <tr style=\"text-align: right;\">\n",
       "      <th></th>\n",
       "      <th>author</th>\n",
       "      <th>score</th>\n",
       "    </tr>\n",
       "  </thead>\n",
       "  <tbody>\n",
       "    <tr>\n",
       "      <th>22787</th>\n",
       "      <td>Amazon Customer</td>\n",
       "      <td>54543</td>\n",
       "    </tr>\n",
       "    <tr>\n",
       "      <th>422625</th>\n",
       "      <td>default</td>\n",
       "      <td>43911</td>\n",
       "    </tr>\n",
       "    <tr>\n",
       "      <th>72560</th>\n",
       "      <td>Cliente Amazon</td>\n",
       "      <td>13630</td>\n",
       "    </tr>\n",
       "    <tr>\n",
       "      <th>429341</th>\n",
       "      <td>e-bit</td>\n",
       "      <td>5965</td>\n",
       "    </tr>\n",
       "    <tr>\n",
       "      <th>72538</th>\n",
       "      <td>Client d'Amazon</td>\n",
       "      <td>5501</td>\n",
       "    </tr>\n",
       "    <tr>\n",
       "      <th>...</th>\n",
       "      <td>...</td>\n",
       "      <td>...</td>\n",
       "    </tr>\n",
       "    <tr>\n",
       "      <th>316816</th>\n",
       "      <td>Sabine</td>\n",
       "      <td>51</td>\n",
       "    </tr>\n",
       "    <tr>\n",
       "      <th>38917</th>\n",
       "      <td>B</td>\n",
       "      <td>51</td>\n",
       "    </tr>\n",
       "    <tr>\n",
       "      <th>175203</th>\n",
       "      <td>Johnny</td>\n",
       "      <td>51</td>\n",
       "    </tr>\n",
       "    <tr>\n",
       "      <th>441459</th>\n",
       "      <td>gabberino93</td>\n",
       "      <td>51</td>\n",
       "    </tr>\n",
       "    <tr>\n",
       "      <th>526994</th>\n",
       "      <td>robert</td>\n",
       "      <td>51</td>\n",
       "    </tr>\n",
       "  </tbody>\n",
       "</table>\n",
       "<p>639 rows × 2 columns</p>\n",
       "</div>"
      ],
      "text/plain": [
       "                 author  score\n",
       "22787   Amazon Customer  54543\n",
       "422625          default  43911\n",
       "72560    Cliente Amazon  13630\n",
       "429341            e-bit   5965\n",
       "72538   Client d'Amazon   5501\n",
       "...                 ...    ...\n",
       "316816           Sabine     51\n",
       "38917                 B     51\n",
       "175203           Johnny     51\n",
       "441459      gabberino93     51\n",
       "526994           robert     51\n",
       "\n",
       "[639 rows x 2 columns]"
      ]
     },
     "execution_count": 312,
     "metadata": {},
     "output_type": "execute_result"
    }
   ],
   "source": [
    "users_rvw[users_rvw['score'] > 50]"
   ]
  },
  {
   "cell_type": "markdown",
   "id": "87627d1d",
   "metadata": {},
   "source": [
    "### Select the data with products having more than 50 ratings and users who have given more than 50 ratings. "
   ]
  },
  {
   "cell_type": "code",
   "execution_count": 313,
   "id": "eced8325",
   "metadata": {},
   "outputs": [],
   "source": [
    "product_df = rvws_sample[rvws_sample['product'].isin(products_rvw['product'])]\n",
    "user_df = rvws_sample[rvws_sample['author'].isin(users_rvw['author'])]"
   ]
  },
  {
   "cell_type": "code",
   "execution_count": 314,
   "id": "1d8aebe2",
   "metadata": {},
   "outputs": [],
   "source": [
    "reviews = pd.merge(product_df, user_df)"
   ]
  },
  {
   "cell_type": "code",
   "execution_count": 315,
   "id": "9100a6a6",
   "metadata": {},
   "outputs": [
    {
     "data": {
      "text/html": [
       "<div>\n",
       "<style scoped>\n",
       "    .dataframe tbody tr th:only-of-type {\n",
       "        vertical-align: middle;\n",
       "    }\n",
       "\n",
       "    .dataframe tbody tr th {\n",
       "        vertical-align: top;\n",
       "    }\n",
       "\n",
       "    .dataframe thead th {\n",
       "        text-align: right;\n",
       "    }\n",
       "</style>\n",
       "<table border=\"1\" class=\"dataframe\">\n",
       "  <thead>\n",
       "    <tr style=\"text-align: right;\">\n",
       "      <th></th>\n",
       "      <th>score</th>\n",
       "      <th>score_max</th>\n",
       "      <th>extract</th>\n",
       "      <th>author</th>\n",
       "      <th>product</th>\n",
       "    </tr>\n",
       "  </thead>\n",
       "  <tbody>\n",
       "    <tr>\n",
       "      <th>0</th>\n",
       "      <td>7.0</td>\n",
       "      <td>10.0</td>\n",
       "      <td>We got this phone unlocked as we had plans to ...</td>\n",
       "      <td>drprashams</td>\n",
       "      <td>Samsung SGH-T139</td>\n",
       "    </tr>\n",
       "    <tr>\n",
       "      <th>1</th>\n",
       "      <td>2.0</td>\n",
       "      <td>10.0</td>\n",
       "      <td>It was advertised as a Verizon phone but in re...</td>\n",
       "      <td>Nickolas Gudmundson</td>\n",
       "      <td>Apple iPhone 4S Verizon Cellphone, 16GB, White</td>\n",
       "    </tr>\n",
       "    <tr>\n",
       "      <th>2</th>\n",
       "      <td>10.0</td>\n",
       "      <td>10.0</td>\n",
       "      <td>Habe mir das Samsung Galaxy Note 3 Neo als Nac...</td>\n",
       "      <td>BulldoZer</td>\n",
       "      <td>Samsung Galaxy Note 3 Neo Smartphone (13,94 cm...</td>\n",
       "    </tr>\n",
       "    <tr>\n",
       "      <th>3</th>\n",
       "      <td>6.0</td>\n",
       "      <td>10.0</td>\n",
       "      <td>nokia 5030 me game kesa dalay</td>\n",
       "      <td>vinod kumar</td>\n",
       "      <td>Nokia 5030</td>\n",
       "    </tr>\n",
       "    <tr>\n",
       "      <th>4</th>\n",
       "      <td>10.0</td>\n",
       "      <td>10.0</td>\n",
       "      <td>Beh, dopo Iphone e Lumia sono passato al mondo...</td>\n",
       "      <td>Giorgio</td>\n",
       "      <td>Huawei P9 Plus Smartphone, LTE, Display 5.5'' ...</td>\n",
       "    </tr>\n",
       "  </tbody>\n",
       "</table>\n",
       "</div>"
      ],
      "text/plain": [
       "   score  score_max                                            extract  \\\n",
       "0    7.0       10.0  We got this phone unlocked as we had plans to ...   \n",
       "1    2.0       10.0  It was advertised as a Verizon phone but in re...   \n",
       "2   10.0       10.0  Habe mir das Samsung Galaxy Note 3 Neo als Nac...   \n",
       "3    6.0       10.0                      nokia 5030 me game kesa dalay   \n",
       "4   10.0       10.0  Beh, dopo Iphone e Lumia sono passato al mondo...   \n",
       "\n",
       "                author                                            product  \n",
       "0           drprashams                                   Samsung SGH-T139  \n",
       "1  Nickolas Gudmundson     Apple iPhone 4S Verizon Cellphone, 16GB, White  \n",
       "2            BulldoZer  Samsung Galaxy Note 3 Neo Smartphone (13,94 cm...  \n",
       "3          vinod kumar                                         Nokia 5030  \n",
       "4              Giorgio  Huawei P9 Plus Smartphone, LTE, Display 5.5'' ...  "
      ]
     },
     "execution_count": 315,
     "metadata": {},
     "output_type": "execute_result"
    }
   ],
   "source": [
    "reviews.head()"
   ]
  },
  {
   "cell_type": "markdown",
   "id": "4eea4ea4",
   "metadata": {},
   "source": [
    "###  Report the shape of the final dataset"
   ]
  },
  {
   "cell_type": "code",
   "execution_count": 316,
   "id": "676eb8f5",
   "metadata": {},
   "outputs": [
    {
     "data": {
      "text/plain": [
       "(1029990, 5)"
      ]
     },
     "execution_count": 316,
     "metadata": {},
     "output_type": "execute_result"
    }
   ],
   "source": [
    "reviews.shape"
   ]
  },
  {
   "cell_type": "markdown",
   "id": "31006e9d",
   "metadata": {},
   "source": [
    "## Build a popularity based model and recommend top 5 mobile phones"
   ]
  },
  {
   "cell_type": "code",
   "execution_count": 317,
   "id": "ec14c580",
   "metadata": {},
   "outputs": [
    {
     "data": {
      "text/html": [
       "<div>\n",
       "<style scoped>\n",
       "    .dataframe tbody tr th:only-of-type {\n",
       "        vertical-align: middle;\n",
       "    }\n",
       "\n",
       "    .dataframe tbody tr th {\n",
       "        vertical-align: top;\n",
       "    }\n",
       "\n",
       "    .dataframe thead th {\n",
       "        text-align: right;\n",
       "    }\n",
       "</style>\n",
       "<table border=\"1\" class=\"dataframe\">\n",
       "  <thead>\n",
       "    <tr style=\"text-align: right;\">\n",
       "      <th></th>\n",
       "      <th>product</th>\n",
       "      <th>score</th>\n",
       "      <th>Rank</th>\n",
       "    </tr>\n",
       "  </thead>\n",
       "  <tbody>\n",
       "    <tr>\n",
       "      <th>21748</th>\n",
       "      <td>Lenovo Vibe K4 Note (White,16GB)</td>\n",
       "      <td>3700</td>\n",
       "      <td>1.0</td>\n",
       "    </tr>\n",
       "    <tr>\n",
       "      <th>21747</th>\n",
       "      <td>Lenovo Vibe K4 Note (Black, 16GB)</td>\n",
       "      <td>3093</td>\n",
       "      <td>2.0</td>\n",
       "    </tr>\n",
       "    <tr>\n",
       "      <th>31898</th>\n",
       "      <td>OnePlus 3 (Graphite, 64 GB)</td>\n",
       "      <td>2889</td>\n",
       "      <td>3.0</td>\n",
       "    </tr>\n",
       "    <tr>\n",
       "      <th>31899</th>\n",
       "      <td>OnePlus 3 (Soft Gold, 64 GB)</td>\n",
       "      <td>2522</td>\n",
       "      <td>4.0</td>\n",
       "    </tr>\n",
       "    <tr>\n",
       "      <th>37638</th>\n",
       "      <td>Samsung Galaxy Express I8730</td>\n",
       "      <td>1902</td>\n",
       "      <td>5.0</td>\n",
       "    </tr>\n",
       "  </tbody>\n",
       "</table>\n",
       "</div>"
      ],
      "text/plain": [
       "                                 product  score  Rank\n",
       "21748   Lenovo Vibe K4 Note (White,16GB)   3700   1.0\n",
       "21747  Lenovo Vibe K4 Note (Black, 16GB)   3093   2.0\n",
       "31898        OnePlus 3 (Graphite, 64 GB)   2889   3.0\n",
       "31899       OnePlus 3 (Soft Gold, 64 GB)   2522   4.0\n",
       "37638       Samsung Galaxy Express I8730   1902   5.0"
      ]
     },
     "execution_count": 317,
     "metadata": {},
     "output_type": "execute_result"
    }
   ],
   "source": [
    "## since we have already sorted products by score, we can list the top five products here\n",
    "products_rvw['Rank'] = products_rvw['score'].rank(ascending=0, method='first') \n",
    "products_rvw.head(5)"
   ]
  },
  {
   "cell_type": "code",
   "execution_count": 318,
   "id": "683c426c",
   "metadata": {},
   "outputs": [],
   "source": [
    "from surprise import SVD\n",
    "from surprise.model_selection import cross_validate"
   ]
  },
  {
   "cell_type": "code",
   "execution_count": 319,
   "id": "6fce4ba9",
   "metadata": {},
   "outputs": [
    {
     "data": {
      "text/plain": [
       "Index(['score', 'score_max', 'extract', 'author', 'product'], dtype='object')"
      ]
     },
     "execution_count": 319,
     "metadata": {},
     "output_type": "execute_result"
    }
   ],
   "source": [
    "reviews.columns"
   ]
  },
  {
   "cell_type": "code",
   "execution_count": 320,
   "id": "4c0cc20f",
   "metadata": {},
   "outputs": [],
   "source": [
    "reviews = reviews.drop(columns=['score_max','extract'])"
   ]
  },
  {
   "cell_type": "markdown",
   "id": "eff61ef5",
   "metadata": {},
   "source": [
    "##  Build a collaborative filtering model using SVD."
   ]
  },
  {
   "cell_type": "code",
   "execution_count": 337,
   "id": "01ea97eb",
   "metadata": {},
   "outputs": [],
   "source": [
    "small_dataset = reviews[[\"author\", \"product\", \"score\"]].head(5000)"
   ]
  },
  {
   "cell_type": "code",
   "execution_count": 338,
   "id": "c126a471",
   "metadata": {},
   "outputs": [
    {
     "data": {
      "text/html": [
       "<div>\n",
       "<style scoped>\n",
       "    .dataframe tbody tr th:only-of-type {\n",
       "        vertical-align: middle;\n",
       "    }\n",
       "\n",
       "    .dataframe tbody tr th {\n",
       "        vertical-align: top;\n",
       "    }\n",
       "\n",
       "    .dataframe thead th {\n",
       "        text-align: right;\n",
       "    }\n",
       "</style>\n",
       "<table border=\"1\" class=\"dataframe\">\n",
       "  <thead>\n",
       "    <tr style=\"text-align: right;\">\n",
       "      <th></th>\n",
       "      <th>author</th>\n",
       "      <th>product</th>\n",
       "      <th>score</th>\n",
       "    </tr>\n",
       "  </thead>\n",
       "  <tbody>\n",
       "    <tr>\n",
       "      <th>0</th>\n",
       "      <td>drprashams</td>\n",
       "      <td>Samsung SGH-T139</td>\n",
       "      <td>7.0</td>\n",
       "    </tr>\n",
       "    <tr>\n",
       "      <th>1</th>\n",
       "      <td>Nickolas Gudmundson</td>\n",
       "      <td>Apple iPhone 4S Verizon Cellphone, 16GB, White</td>\n",
       "      <td>2.0</td>\n",
       "    </tr>\n",
       "    <tr>\n",
       "      <th>2</th>\n",
       "      <td>BulldoZer</td>\n",
       "      <td>Samsung Galaxy Note 3 Neo Smartphone (13,94 cm...</td>\n",
       "      <td>10.0</td>\n",
       "    </tr>\n",
       "    <tr>\n",
       "      <th>3</th>\n",
       "      <td>vinod kumar</td>\n",
       "      <td>Nokia 5030</td>\n",
       "      <td>6.0</td>\n",
       "    </tr>\n",
       "    <tr>\n",
       "      <th>4</th>\n",
       "      <td>Giorgio</td>\n",
       "      <td>Huawei P9 Plus Smartphone, LTE, Display 5.5'' ...</td>\n",
       "      <td>10.0</td>\n",
       "    </tr>\n",
       "  </tbody>\n",
       "</table>\n",
       "</div>"
      ],
      "text/plain": [
       "                author                                            product  \\\n",
       "0           drprashams                                   Samsung SGH-T139   \n",
       "1  Nickolas Gudmundson     Apple iPhone 4S Verizon Cellphone, 16GB, White   \n",
       "2            BulldoZer  Samsung Galaxy Note 3 Neo Smartphone (13,94 cm...   \n",
       "3          vinod kumar                                         Nokia 5030   \n",
       "4              Giorgio  Huawei P9 Plus Smartphone, LTE, Display 5.5'' ...   \n",
       "\n",
       "   score  \n",
       "0    7.0  \n",
       "1    2.0  \n",
       "2   10.0  \n",
       "3    6.0  \n",
       "4   10.0  "
      ]
     },
     "execution_count": 338,
     "metadata": {},
     "output_type": "execute_result"
    }
   ],
   "source": [
    "small_dataset.head(5)"
   ]
  },
  {
   "cell_type": "code",
   "execution_count": 339,
   "id": "03f23c6a",
   "metadata": {},
   "outputs": [],
   "source": [
    "from surprise import Reader\n",
    "from surprise import Dataset\n",
    "\n",
    "## reducing sample size to 5000 since my hardware has insufficient memory to run the entire dataset\n",
    "reader = Reader(rating_scale=(1, 10))\n",
    "data = Dataset.load_from_df(small_dataset, reader)"
   ]
  },
  {
   "cell_type": "code",
   "execution_count": 340,
   "id": "ba5f2f1f",
   "metadata": {},
   "outputs": [],
   "source": [
    "from surprise import KNNWithMeans\n",
    "\n",
    "# To use item-based cosine similarity\n",
    "sim_options = {\n",
    "    \"name\": \"cosine\",\n",
    "    \"user_based\": False,  # Compute  similarities between items\n",
    "}\n",
    "algo_item_based = KNNWithMeans(sim_options=sim_options)"
   ]
  },
  {
   "cell_type": "code",
   "execution_count": 341,
   "id": "4fec93c7",
   "metadata": {},
   "outputs": [],
   "source": [
    "# To use item-based cosine similarity\n",
    "sim_options = {\n",
    "    \"name\": \"cosine\",\n",
    "    \"user_based\": True,  # Compute  similarities between users\n",
    "}\n",
    "algo_user_based = KNNWithMeans(sim_options=sim_options)"
   ]
  },
  {
   "cell_type": "code",
   "execution_count": 342,
   "id": "b24a6865",
   "metadata": {},
   "outputs": [],
   "source": [
    "trainset = data.build_full_trainset()"
   ]
  },
  {
   "cell_type": "code",
   "execution_count": 343,
   "id": "6a039c75",
   "metadata": {},
   "outputs": [
    {
     "name": "stdout",
     "output_type": "stream",
     "text": [
      "Computing the cosine similarity matrix...\n",
      "Done computing similarity matrix.\n"
     ]
    },
    {
     "data": {
      "text/plain": [
       "<surprise.prediction_algorithms.knns.KNNWithMeans at 0x1e146d1bd30>"
      ]
     },
     "execution_count": 343,
     "metadata": {},
     "output_type": "execute_result"
    }
   ],
   "source": [
    "algo_user_based.fit(trainset)"
   ]
  },
  {
   "cell_type": "code",
   "execution_count": 344,
   "id": "9d4ec559",
   "metadata": {},
   "outputs": [
    {
     "name": "stdout",
     "output_type": "stream",
     "text": [
      "Computing the cosine similarity matrix...\n",
      "Done computing similarity matrix.\n"
     ]
    },
    {
     "data": {
      "text/plain": [
       "<surprise.prediction_algorithms.knns.KNNWithMeans at 0x1e1002a1700>"
      ]
     },
     "execution_count": 344,
     "metadata": {},
     "output_type": "execute_result"
    }
   ],
   "source": [
    "algo_item_based.fit(trainset)"
   ]
  },
  {
   "cell_type": "markdown",
   "id": "7604225a",
   "metadata": {},
   "source": [
    "## Evaluate the collaborative model. Print RMSE value"
   ]
  },
  {
   "cell_type": "code",
   "execution_count": 345,
   "id": "4c30fb92",
   "metadata": {},
   "outputs": [],
   "source": [
    "from surprise import accuracy\n",
    "from surprise.model_selection import KFold"
   ]
  },
  {
   "cell_type": "code",
   "execution_count": 346,
   "id": "93b96a38",
   "metadata": {},
   "outputs": [
    {
     "name": "stdout",
     "output_type": "stream",
     "text": [
      "Computing the cosine similarity matrix...\n",
      "Done computing similarity matrix.\n",
      "RMSE: 2.4895\n",
      "Computing the cosine similarity matrix...\n",
      "Done computing similarity matrix.\n",
      "RMSE: 2.4652\n",
      "Computing the cosine similarity matrix...\n",
      "Done computing similarity matrix.\n",
      "RMSE: 2.5444\n",
      "Computing the cosine similarity matrix...\n",
      "Done computing similarity matrix.\n",
      "RMSE: 2.4467\n",
      "Computing the cosine similarity matrix...\n",
      "Done computing similarity matrix.\n",
      "RMSE: 2.5490\n",
      "Computing the cosine similarity matrix...\n",
      "Done computing similarity matrix.\n",
      "RMSE: 2.3682\n",
      "Computing the cosine similarity matrix...\n",
      "Done computing similarity matrix.\n",
      "RMSE: 2.3299\n",
      "Computing the cosine similarity matrix...\n",
      "Done computing similarity matrix.\n",
      "RMSE: 2.3204\n"
     ]
    }
   ],
   "source": [
    "\n",
    "# define a cross-validation iterator\n",
    "kf = KFold(n_splits=8)\n",
    "\n",
    "for trainset, testset in kf.split(data):\n",
    "\n",
    "    # train and test algorithm.\n",
    "    algo_user_based.fit(trainset)\n",
    "    predictions = algo_user_based.test(testset)\n",
    "\n",
    "    # Compute and print Root Mean Squared Error\n",
    "    accuracy.rmse(predictions, verbose=True)"
   ]
  },
  {
   "cell_type": "code",
   "execution_count": 347,
   "id": "8c981dfb",
   "metadata": {},
   "outputs": [
    {
     "name": "stdout",
     "output_type": "stream",
     "text": [
      "Computing the cosine similarity matrix...\n",
      "Done computing similarity matrix.\n",
      "RMSE: 2.4527\n",
      "Computing the cosine similarity matrix...\n",
      "Done computing similarity matrix.\n",
      "RMSE: 2.4325\n",
      "Computing the cosine similarity matrix...\n",
      "Done computing similarity matrix.\n",
      "RMSE: 2.4457\n"
     ]
    }
   ],
   "source": [
    "\n",
    "# define a cross-validation iterator\n",
    "kf = KFold(n_splits=3)\n",
    "\n",
    "for trainset, testset in kf.split(data):\n",
    "\n",
    "    # train and test algorithm.\n",
    "    algo_item_based.fit(trainset)\n",
    "    predictions = algo_item_based.test(testset)\n",
    "\n",
    "    # Compute and print Root Mean Squared Error\n",
    "    accuracy.rmse(predictions, verbose=True)"
   ]
  },
  {
   "cell_type": "markdown",
   "id": "4e6bc8db",
   "metadata": {},
   "source": [
    "## Predict score (average rating) for test users. "
   ]
  },
  {
   "cell_type": "code",
   "execution_count": 348,
   "id": "1d31a353",
   "metadata": {},
   "outputs": [
    {
     "data": {
      "text/plain": [
       "2.6995650217489127"
      ]
     },
     "execution_count": 348,
     "metadata": {},
     "output_type": "execute_result"
    }
   ],
   "source": [
    "## get a sample prediction for a user of a product\n",
    "prediction = algo.predict('Giorgio', 'Nokia 5030')\n",
    "prediction.est"
   ]
  },
  {
   "cell_type": "markdown",
   "id": "d2102fc3",
   "metadata": {},
   "source": [
    "## Report your findings and inferences."
   ]
  },
  {
   "cell_type": "markdown",
   "id": "0cb52634",
   "metadata": {},
   "source": [
    "1. Popularity based scoring was applied on the dataset. The following are the top mobile products\n",
    "Lenovo Vibe K4 Note (White,16GB)\t\n",
    "Lenovo Vibe K4 Note (Black, 16GB)\t\n",
    "OnePlus 3 (Graphite, 64 GB)\t\n",
    "OnePlus 3 (Soft Gold, 64 GB)\t\n",
    "Samsung Galaxy Express I873"
   ]
  },
  {
   "cell_type": "markdown",
   "id": "98276ac3",
   "metadata": {},
   "source": [
    "2. Item based and User based collaborative filtering was applied with KNN algorithm. Using the default parameters on a dataset size of 5000, we obtained an RMSE of around 2 for both."
   ]
  },
  {
   "cell_type": "markdown",
   "id": "6a2a3346",
   "metadata": {},
   "source": [
    "## Try and recommend top 5 popularity based products for test users."
   ]
  },
  {
   "cell_type": "code",
   "execution_count": 356,
   "id": "7970361e",
   "metadata": {},
   "outputs": [
    {
     "data": {
      "text/html": [
       "<div>\n",
       "<style scoped>\n",
       "    .dataframe tbody tr th:only-of-type {\n",
       "        vertical-align: middle;\n",
       "    }\n",
       "\n",
       "    .dataframe tbody tr th {\n",
       "        vertical-align: top;\n",
       "    }\n",
       "\n",
       "    .dataframe thead th {\n",
       "        text-align: right;\n",
       "    }\n",
       "</style>\n",
       "<table border=\"1\" class=\"dataframe\">\n",
       "  <thead>\n",
       "    <tr style=\"text-align: right;\">\n",
       "      <th></th>\n",
       "      <th>product</th>\n",
       "      <th>score</th>\n",
       "      <th>Rank</th>\n",
       "    </tr>\n",
       "  </thead>\n",
       "  <tbody>\n",
       "    <tr>\n",
       "      <th>21748</th>\n",
       "      <td>Lenovo Vibe K4 Note (White,16GB)</td>\n",
       "      <td>3700</td>\n",
       "      <td>1.0</td>\n",
       "    </tr>\n",
       "    <tr>\n",
       "      <th>21747</th>\n",
       "      <td>Lenovo Vibe K4 Note (Black, 16GB)</td>\n",
       "      <td>3093</td>\n",
       "      <td>2.0</td>\n",
       "    </tr>\n",
       "    <tr>\n",
       "      <th>31898</th>\n",
       "      <td>OnePlus 3 (Graphite, 64 GB)</td>\n",
       "      <td>2889</td>\n",
       "      <td>3.0</td>\n",
       "    </tr>\n",
       "    <tr>\n",
       "      <th>31899</th>\n",
       "      <td>OnePlus 3 (Soft Gold, 64 GB)</td>\n",
       "      <td>2522</td>\n",
       "      <td>4.0</td>\n",
       "    </tr>\n",
       "    <tr>\n",
       "      <th>37638</th>\n",
       "      <td>Samsung Galaxy Express I8730</td>\n",
       "      <td>1902</td>\n",
       "      <td>5.0</td>\n",
       "    </tr>\n",
       "  </tbody>\n",
       "</table>\n",
       "</div>"
      ],
      "text/plain": [
       "                                 product  score  Rank\n",
       "21748   Lenovo Vibe K4 Note (White,16GB)   3700   1.0\n",
       "21747  Lenovo Vibe K4 Note (Black, 16GB)   3093   2.0\n",
       "31898        OnePlus 3 (Graphite, 64 GB)   2889   3.0\n",
       "31899       OnePlus 3 (Soft Gold, 64 GB)   2522   4.0\n",
       "37638       Samsung Galaxy Express I8730   1902   5.0"
      ]
     },
     "execution_count": 356,
     "metadata": {},
     "output_type": "execute_result"
    }
   ],
   "source": [
    "products_rvw.head(5)"
   ]
  },
  {
   "cell_type": "markdown",
   "id": "bcf18113",
   "metadata": {},
   "source": [
    "## Get top 5 recommendations for a test user"
   ]
  },
  {
   "cell_type": "code",
   "execution_count": 350,
   "id": "d83fbcfe",
   "metadata": {},
   "outputs": [
    {
     "name": "stdout",
     "output_type": "stream",
     "text": [
      "Lenovo Vibe K4 Note (White,16GB) user: Giorgio    item: Lenovo Vibe K4 Note (White,16GB) r_ui = None   est = 7.64   {'actual_k': 0, 'was_impossible': False}\n",
      "Lenovo Vibe K4 Note (Black, 16GB) user: Giorgio    item: Lenovo Vibe K4 Note (Black, 16GB) r_ui = None   est = 5.67   {'actual_k': 0, 'was_impossible': False}\n",
      "OnePlus 3 (Graphite, 64 GB) user: Giorgio    item: OnePlus 3 (Graphite, 64 GB) r_ui = None   est = 9.11   {'actual_k': 0, 'was_impossible': False}\n",
      "OnePlus 3 (Soft Gold, 64 GB) user: Giorgio    item: OnePlus 3 (Soft Gold, 64 GB) r_ui = None   est = 9.50   {'actual_k': 0, 'was_impossible': False}\n",
      "Samsung Galaxy Express I8730 user: Giorgio    item: Samsung Galaxy Express I8730 r_ui = None   est = 8.41   {'actual_k': 0, 'was_impossible': False}\n",
      "Huawei P8lite zwart / 16 GB user: Giorgio    item: Huawei P8lite zwart / 16 GB r_ui = None   est = 8.88   {'actual_k': 0, 'was_impossible': False}\n",
      "Lenovo Vibe K5 (Gold, VoLTE update) user: Giorgio    item: Lenovo Vibe K5 (Gold, VoLTE update) r_ui = None   est = 5.00   {'actual_k': 0, 'was_impossible': False}\n",
      "Samsung Galaxy S6 zwart / 32 GB user: Giorgio    item: Samsung Galaxy S6 zwart / 32 GB r_ui = None   est = 8.93   {'actual_k': 0, 'was_impossible': False}\n",
      "Nokia 5800 XpressMusic user: Giorgio    item: Nokia 5800 XpressMusic r_ui = None   est = 10.00   {'actual_k': 0, 'was_impossible': False}\n",
      "Lenovo Vibe K5 (Grey, VoLTE update) user: Giorgio    item: Lenovo Vibe K5 (Grey, VoLTE update) r_ui = None   est = 5.33   {'actual_k': 0, 'was_impossible': False}\n"
     ]
    }
   ],
   "source": [
    "rcmd = pd.DataFrame(columns=['product','score_recommended'])\n",
    "testP = products_rvw.head(10);\n",
    "for index, row in testP.iterrows():\n",
    "    prediction = algo_item_based.predict('Giorgio', row['product'])\n",
    "    print(row['product']+\" \"+str(prediction))\n",
    "    #rcmd.append({\"product\":row['product'],\"score_recommended\":prediction}, ignore_index=True)\n",
    "    rcmd.loc[index]= [row['product'], float(prediction.est)]"
   ]
  },
  {
   "cell_type": "code",
   "execution_count": 354,
   "id": "3108e147",
   "metadata": {},
   "outputs": [
    {
     "data": {
      "text/html": [
       "<div>\n",
       "<style scoped>\n",
       "    .dataframe tbody tr th:only-of-type {\n",
       "        vertical-align: middle;\n",
       "    }\n",
       "\n",
       "    .dataframe tbody tr th {\n",
       "        vertical-align: top;\n",
       "    }\n",
       "\n",
       "    .dataframe thead th {\n",
       "        text-align: right;\n",
       "    }\n",
       "</style>\n",
       "<table border=\"1\" class=\"dataframe\">\n",
       "  <thead>\n",
       "    <tr style=\"text-align: right;\">\n",
       "      <th></th>\n",
       "      <th>product</th>\n",
       "      <th>score_recommended</th>\n",
       "      <th>Rank</th>\n",
       "    </tr>\n",
       "  </thead>\n",
       "  <tbody>\n",
       "    <tr>\n",
       "      <th>28114</th>\n",
       "      <td>Nokia 5800 XpressMusic</td>\n",
       "      <td>10.000000</td>\n",
       "      <td>1.0</td>\n",
       "    </tr>\n",
       "    <tr>\n",
       "      <th>31899</th>\n",
       "      <td>OnePlus 3 (Soft Gold, 64 GB)</td>\n",
       "      <td>9.500000</td>\n",
       "      <td>2.0</td>\n",
       "    </tr>\n",
       "    <tr>\n",
       "      <th>31898</th>\n",
       "      <td>OnePlus 3 (Graphite, 64 GB)</td>\n",
       "      <td>9.111111</td>\n",
       "      <td>3.0</td>\n",
       "    </tr>\n",
       "    <tr>\n",
       "      <th>41041</th>\n",
       "      <td>Samsung Galaxy S6 zwart / 32 GB</td>\n",
       "      <td>8.933333</td>\n",
       "      <td>4.0</td>\n",
       "    </tr>\n",
       "    <tr>\n",
       "      <th>15709</th>\n",
       "      <td>Huawei P8lite zwart / 16 GB</td>\n",
       "      <td>8.884211</td>\n",
       "      <td>5.0</td>\n",
       "    </tr>\n",
       "    <tr>\n",
       "      <th>37638</th>\n",
       "      <td>Samsung Galaxy Express I8730</td>\n",
       "      <td>8.405648</td>\n",
       "      <td>6.0</td>\n",
       "    </tr>\n",
       "    <tr>\n",
       "      <th>21748</th>\n",
       "      <td>Lenovo Vibe K4 Note (White,16GB)</td>\n",
       "      <td>7.636364</td>\n",
       "      <td>7.0</td>\n",
       "    </tr>\n",
       "    <tr>\n",
       "      <th>21747</th>\n",
       "      <td>Lenovo Vibe K4 Note (Black, 16GB)</td>\n",
       "      <td>5.666667</td>\n",
       "      <td>8.0</td>\n",
       "    </tr>\n",
       "    <tr>\n",
       "      <th>21753</th>\n",
       "      <td>Lenovo Vibe K5 (Grey, VoLTE update)</td>\n",
       "      <td>5.333333</td>\n",
       "      <td>9.0</td>\n",
       "    </tr>\n",
       "    <tr>\n",
       "      <th>21751</th>\n",
       "      <td>Lenovo Vibe K5 (Gold, VoLTE update)</td>\n",
       "      <td>5.000000</td>\n",
       "      <td>10.0</td>\n",
       "    </tr>\n",
       "  </tbody>\n",
       "</table>\n",
       "</div>"
      ],
      "text/plain": [
       "                                   product  score_recommended  Rank\n",
       "28114               Nokia 5800 XpressMusic          10.000000   1.0\n",
       "31899         OnePlus 3 (Soft Gold, 64 GB)           9.500000   2.0\n",
       "31898          OnePlus 3 (Graphite, 64 GB)           9.111111   3.0\n",
       "41041      Samsung Galaxy S6 zwart / 32 GB           8.933333   4.0\n",
       "15709          Huawei P8lite zwart / 16 GB           8.884211   5.0\n",
       "37638         Samsung Galaxy Express I8730           8.405648   6.0\n",
       "21748     Lenovo Vibe K4 Note (White,16GB)           7.636364   7.0\n",
       "21747    Lenovo Vibe K4 Note (Black, 16GB)           5.666667   8.0\n",
       "21753  Lenovo Vibe K5 (Grey, VoLTE update)           5.333333   9.0\n",
       "21751  Lenovo Vibe K5 (Gold, VoLTE update)           5.000000  10.0"
      ]
     },
     "execution_count": 354,
     "metadata": {},
     "output_type": "execute_result"
    }
   ],
   "source": [
    "rcmd['Rank'] = rcmd['score_recommended'].rank(ascending=0, method='first')\n",
    "rcmd.sort_values(by='Rank',ascending=True)"
   ]
  },
  {
   "cell_type": "code",
   "execution_count": 355,
   "id": "d7c3cf69",
   "metadata": {},
   "outputs": [
    {
     "name": "stdout",
     "output_type": "stream",
     "text": [
      "Computing the cosine similarity matrix...\n",
      "Done computing similarity matrix.\n",
      "Computing the cosine similarity matrix...\n",
      "Done computing similarity matrix.\n",
      "Computing the cosine similarity matrix...\n",
      "Done computing similarity matrix.\n",
      "Computing the cosine similarity matrix...\n",
      "Done computing similarity matrix.\n",
      "Computing the cosine similarity matrix...\n",
      "Done computing similarity matrix.\n",
      "Evaluating RMSE, MAE of algorithm KNNWithMeans on 5 split(s).\n",
      "\n",
      "                  Fold 1  Fold 2  Fold 3  Fold 4  Fold 5  Mean    Std     \n",
      "RMSE (testset)    2.5236  2.4275  2.3727  2.4777  2.4229  2.4449  0.0515  \n",
      "MAE (testset)     1.8922  1.7943  1.7765  1.8244  1.8478  1.8270  0.0407  \n",
      "Fit time          0.98    1.07    0.96    0.93    0.97    0.98    0.05    \n",
      "Test time         0.06    0.06    0.06    0.09    0.05    0.07    0.02    \n"
     ]
    },
    {
     "data": {
      "text/plain": [
       "{'test_rmse': array([2.52364445, 2.42751268, 2.37268793, 2.47771503, 2.4228879 ]),\n",
       " 'test_mae': array([1.89215972, 1.79430566, 1.77653492, 1.82442593, 1.84780086]),\n",
       " 'fit_time': (0.9751038551330566,\n",
       "  1.06736159324646,\n",
       "  0.9595808982849121,\n",
       "  0.9265761375427246,\n",
       "  0.9698042869567871),\n",
       " 'test_time': (0.06249499320983887,\n",
       "  0.06252169609069824,\n",
       "  0.06249117851257324,\n",
       "  0.09375739097595215,\n",
       "  0.04688620567321777)}"
      ]
     },
     "execution_count": 355,
     "metadata": {},
     "output_type": "execute_result"
    }
   ],
   "source": [
    "cross_validate(algo_user_based, data, measures=['RMSE', 'MAE'], cv=5, verbose=True)"
   ]
  },
  {
   "cell_type": "markdown",
   "id": "6c77fce4",
   "metadata": {},
   "source": [
    "## In what business scenario you should use popularity based Recommendation Systems ?"
   ]
  },
  {
   "cell_type": "markdown",
   "id": "128ed3eb",
   "metadata": {},
   "source": [
    "Popularity based RS should be used when item based or user data is not available for prediction. It can be used to find trends without user-specific data over a large number of users."
   ]
  },
  {
   "cell_type": "markdown",
   "id": "83129574",
   "metadata": {},
   "source": [
    "##  In what business scenario you should use CF based Recommendation Systems ?"
   ]
  },
  {
   "cell_type": "markdown",
   "id": "a9d0be81",
   "metadata": {},
   "source": [
    "CF based RS can be used when we have contextual information about the user."
   ]
  },
  {
   "cell_type": "markdown",
   "id": "5b2224b5",
   "metadata": {},
   "source": [
    "## What other possible methods can you think of which can further improve the recommendation for different users ?"
   ]
  },
  {
   "cell_type": "markdown",
   "id": "b2b23d18",
   "metadata": {},
   "source": [
    "1. Collecting user more contextutal user data to aid in better recommendations.\n",
    "2. Increasing model size\n",
    "3. Running a real time recommendation system "
   ]
  }
 ],
 "metadata": {
  "kernelspec": {
   "display_name": "Python 3",
   "language": "python",
   "name": "python3"
  },
  "language_info": {
   "codemirror_mode": {
    "name": "ipython",
    "version": 3
   },
   "file_extension": ".py",
   "mimetype": "text/x-python",
   "name": "python",
   "nbconvert_exporter": "python",
   "pygments_lexer": "ipython3",
   "version": "3.8.8"
  }
 },
 "nbformat": 4,
 "nbformat_minor": 5
}
