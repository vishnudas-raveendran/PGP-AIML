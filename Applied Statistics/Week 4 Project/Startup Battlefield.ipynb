{
 "cells": [
  {
   "cell_type": "markdown",
   "metadata": {},
   "source": [
    "# <span style=\"font-family: Arial; font-weight:bold;font-size:1.5em;color:Darkblue\"> EDA: Startup Battlefield"
   ]
  },
  {
   "cell_type": "markdown",
   "metadata": {},
   "source": [
    "Objective: Perform the below tasks"
   ]
  },
  {
   "attachments": {},
   "cell_type": "markdown",
   "metadata": {},
   "source": [
    "![Tasks1](Startup_Battlefield_tasks1.PNG)"
   ]
  },
  {
   "cell_type": "markdown",
   "metadata": {},
   "source": [
    "![Tasks2](Startup_Battlefield_tasks2.PNG)"
   ]
  },
  {
   "cell_type": "code",
   "execution_count": 383,
   "metadata": {},
   "outputs": [],
   "source": [
    "import pandas as pd\n",
    "import seaborn as sns\n",
    "import re\n",
    "import matplotlib.pyplot as plt\n",
    "import numpy as np"
   ]
  },
  {
   "cell_type": "code",
   "execution_count": 384,
   "metadata": {},
   "outputs": [],
   "source": [
    "%matplotlib inline\n",
    "sns.set(color_codes=True)"
   ]
  },
  {
   "cell_type": "code",
   "execution_count": 385,
   "metadata": {},
   "outputs": [],
   "source": [
    "class color:\n",
    "   PURPLE = '\\033[95m'\n",
    "   CYAN = '\\033[96m'\n",
    "   DARKCYAN = '\\033[36m'\n",
    "   BLUE = '\\033[94m'\n",
    "   GREEN = '\\033[92m'\n",
    "   YELLOW = '\\033[93m'\n",
    "   RED = '\\033[91m'\n",
    "   BOLD = '\\033[1m'\n",
    "   UNDERLINE = '\\033[4m'\n",
    "   END = '\\033[0m'"
   ]
  },
  {
   "cell_type": "markdown",
   "metadata": {},
   "source": [
    "## 1. Data Warehouse"
   ]
  },
  {
   "cell_type": "markdown",
   "metadata": {},
   "source": [
    "### Read the CSV"
   ]
  },
  {
   "cell_type": "code",
   "execution_count": 386,
   "metadata": {},
   "outputs": [],
   "source": [
    "cData = pd.read_csv(\"CompanyX_EU.csv\")"
   ]
  },
  {
   "cell_type": "code",
   "execution_count": 387,
   "metadata": {},
   "outputs": [
    {
     "data": {
      "text/html": [
       "<div>\n",
       "<style scoped>\n",
       "    .dataframe tbody tr th:only-of-type {\n",
       "        vertical-align: middle;\n",
       "    }\n",
       "\n",
       "    .dataframe tbody tr th {\n",
       "        vertical-align: top;\n",
       "    }\n",
       "\n",
       "    .dataframe thead th {\n",
       "        text-align: right;\n",
       "    }\n",
       "</style>\n",
       "<table border=\"1\" class=\"dataframe\">\n",
       "  <thead>\n",
       "    <tr style=\"text-align: right;\">\n",
       "      <th></th>\n",
       "      <th>Startup</th>\n",
       "      <th>Product</th>\n",
       "      <th>Funding</th>\n",
       "      <th>Event</th>\n",
       "      <th>Result</th>\n",
       "      <th>OperatingState</th>\n",
       "    </tr>\n",
       "  </thead>\n",
       "  <tbody>\n",
       "    <tr>\n",
       "      <th>0</th>\n",
       "      <td>2600Hz</td>\n",
       "      <td>2600hz.com</td>\n",
       "      <td>NaN</td>\n",
       "      <td>Disrupt SF 2013</td>\n",
       "      <td>Contestant</td>\n",
       "      <td>Operating</td>\n",
       "    </tr>\n",
       "    <tr>\n",
       "      <th>1</th>\n",
       "      <td>3DLT</td>\n",
       "      <td>3dlt.com</td>\n",
       "      <td>$630K</td>\n",
       "      <td>Disrupt NYC 2013</td>\n",
       "      <td>Contestant</td>\n",
       "      <td>Closed</td>\n",
       "    </tr>\n",
       "    <tr>\n",
       "      <th>2</th>\n",
       "      <td>3DPrinterOS</td>\n",
       "      <td>3dprinteros.com</td>\n",
       "      <td>NaN</td>\n",
       "      <td>Disrupt SF 2016</td>\n",
       "      <td>Contestant</td>\n",
       "      <td>Operating</td>\n",
       "    </tr>\n",
       "    <tr>\n",
       "      <th>3</th>\n",
       "      <td>3Dprintler</td>\n",
       "      <td>3dprintler.com</td>\n",
       "      <td>$1M</td>\n",
       "      <td>Disrupt NY 2016</td>\n",
       "      <td>Audience choice</td>\n",
       "      <td>Operating</td>\n",
       "    </tr>\n",
       "    <tr>\n",
       "      <th>4</th>\n",
       "      <td>42 Technologies</td>\n",
       "      <td>42technologies.com</td>\n",
       "      <td>NaN</td>\n",
       "      <td>Disrupt NYC 2013</td>\n",
       "      <td>Contestant</td>\n",
       "      <td>Operating</td>\n",
       "    </tr>\n",
       "  </tbody>\n",
       "</table>\n",
       "</div>"
      ],
      "text/plain": [
       "           Startup             Product Funding             Event  \\\n",
       "0           2600Hz          2600hz.com     NaN   Disrupt SF 2013   \n",
       "1             3DLT            3dlt.com   $630K  Disrupt NYC 2013   \n",
       "2      3DPrinterOS     3dprinteros.com     NaN   Disrupt SF 2016   \n",
       "3       3Dprintler      3dprintler.com     $1M   Disrupt NY 2016   \n",
       "4  42 Technologies  42technologies.com     NaN  Disrupt NYC 2013   \n",
       "\n",
       "            Result OperatingState  \n",
       "0       Contestant      Operating  \n",
       "1       Contestant         Closed  \n",
       "2       Contestant      Operating  \n",
       "3  Audience choice      Operating  \n",
       "4       Contestant      Operating  "
      ]
     },
     "execution_count": 387,
     "metadata": {},
     "output_type": "execute_result"
    }
   ],
   "source": [
    "cData.head()"
   ]
  },
  {
   "cell_type": "code",
   "execution_count": 388,
   "metadata": {},
   "outputs": [
    {
     "data": {
      "text/html": [
       "<div>\n",
       "<style scoped>\n",
       "    .dataframe tbody tr th:only-of-type {\n",
       "        vertical-align: middle;\n",
       "    }\n",
       "\n",
       "    .dataframe tbody tr th {\n",
       "        vertical-align: top;\n",
       "    }\n",
       "\n",
       "    .dataframe thead th {\n",
       "        text-align: right;\n",
       "    }\n",
       "</style>\n",
       "<table border=\"1\" class=\"dataframe\">\n",
       "  <thead>\n",
       "    <tr style=\"text-align: right;\">\n",
       "      <th></th>\n",
       "      <th>Startup</th>\n",
       "      <th>Product</th>\n",
       "      <th>Funding</th>\n",
       "      <th>Event</th>\n",
       "      <th>Result</th>\n",
       "      <th>OperatingState</th>\n",
       "    </tr>\n",
       "  </thead>\n",
       "  <tbody>\n",
       "    <tr>\n",
       "      <th>657</th>\n",
       "      <td>Zivity</td>\n",
       "      <td>zivity.com</td>\n",
       "      <td>$8M</td>\n",
       "      <td>TC40 2007</td>\n",
       "      <td>Contestant</td>\n",
       "      <td>Operating</td>\n",
       "    </tr>\n",
       "    <tr>\n",
       "      <th>658</th>\n",
       "      <td>Zmorph</td>\n",
       "      <td>zmorph3d.com</td>\n",
       "      <td>$1M</td>\n",
       "      <td>-</td>\n",
       "      <td>Audience choice</td>\n",
       "      <td>Operating</td>\n",
       "    </tr>\n",
       "    <tr>\n",
       "      <th>659</th>\n",
       "      <td>Zocdoc</td>\n",
       "      <td>zocdoc.com</td>\n",
       "      <td>$223M</td>\n",
       "      <td>TC40 2007</td>\n",
       "      <td>Contestant</td>\n",
       "      <td>Operating</td>\n",
       "    </tr>\n",
       "    <tr>\n",
       "      <th>660</th>\n",
       "      <td>Zula</td>\n",
       "      <td>zulaapp.com</td>\n",
       "      <td>$3.4M</td>\n",
       "      <td>Disrupt SF 2013</td>\n",
       "      <td>Audience choice</td>\n",
       "      <td>Operating</td>\n",
       "    </tr>\n",
       "    <tr>\n",
       "      <th>661</th>\n",
       "      <td>Zumper</td>\n",
       "      <td>zumper.com</td>\n",
       "      <td>$31.5M</td>\n",
       "      <td>Disrupt SF 2012</td>\n",
       "      <td>Finalist</td>\n",
       "      <td>Operating</td>\n",
       "    </tr>\n",
       "  </tbody>\n",
       "</table>\n",
       "</div>"
      ],
      "text/plain": [
       "    Startup       Product Funding            Event           Result  \\\n",
       "657  Zivity    zivity.com     $8M        TC40 2007       Contestant   \n",
       "658  Zmorph  zmorph3d.com     $1M                -  Audience choice   \n",
       "659  Zocdoc    zocdoc.com   $223M        TC40 2007       Contestant   \n",
       "660    Zula   zulaapp.com   $3.4M  Disrupt SF 2013  Audience choice   \n",
       "661  Zumper    zumper.com  $31.5M  Disrupt SF 2012         Finalist   \n",
       "\n",
       "    OperatingState  \n",
       "657      Operating  \n",
       "658      Operating  \n",
       "659      Operating  \n",
       "660      Operating  \n",
       "661      Operating  "
      ]
     },
     "execution_count": 388,
     "metadata": {},
     "output_type": "execute_result"
    }
   ],
   "source": [
    "cData.tail()"
   ]
  },
  {
   "cell_type": "code",
   "execution_count": 389,
   "metadata": {},
   "outputs": [
    {
     "data": {
      "text/html": [
       "<div>\n",
       "<style scoped>\n",
       "    .dataframe tbody tr th:only-of-type {\n",
       "        vertical-align: middle;\n",
       "    }\n",
       "\n",
       "    .dataframe tbody tr th {\n",
       "        vertical-align: top;\n",
       "    }\n",
       "\n",
       "    .dataframe thead th {\n",
       "        text-align: right;\n",
       "    }\n",
       "</style>\n",
       "<table border=\"1\" class=\"dataframe\">\n",
       "  <thead>\n",
       "    <tr style=\"text-align: right;\">\n",
       "      <th></th>\n",
       "      <th>Startup</th>\n",
       "      <th>Product</th>\n",
       "      <th>Funding</th>\n",
       "      <th>Event</th>\n",
       "      <th>Result</th>\n",
       "      <th>OperatingState</th>\n",
       "    </tr>\n",
       "  </thead>\n",
       "  <tbody>\n",
       "    <tr>\n",
       "      <th>434</th>\n",
       "      <td>Publish2</td>\n",
       "      <td>publish2.com</td>\n",
       "      <td>$2.8M</td>\n",
       "      <td>Disrupt NYC 2010</td>\n",
       "      <td>Finalist</td>\n",
       "      <td>Operating</td>\n",
       "    </tr>\n",
       "    <tr>\n",
       "      <th>267</th>\n",
       "      <td>Insttant</td>\n",
       "      <td>insttant.com</td>\n",
       "      <td>NaN</td>\n",
       "      <td>TC50 2009</td>\n",
       "      <td>Contestant</td>\n",
       "      <td>Operating</td>\n",
       "    </tr>\n",
       "    <tr>\n",
       "      <th>405</th>\n",
       "      <td>Pathmapp</td>\n",
       "      <td>pathmapp.com</td>\n",
       "      <td>NaN</td>\n",
       "      <td>Disrupt SF 2012</td>\n",
       "      <td>Contestant</td>\n",
       "      <td>Closed</td>\n",
       "    </tr>\n",
       "    <tr>\n",
       "      <th>214</th>\n",
       "      <td>Glance Clock</td>\n",
       "      <td>glanceclock.com</td>\n",
       "      <td>$755.9K</td>\n",
       "      <td>Hardware Battlefield 2016</td>\n",
       "      <td>Contestant</td>\n",
       "      <td>Operating</td>\n",
       "    </tr>\n",
       "    <tr>\n",
       "      <th>16</th>\n",
       "      <td>Aircall</td>\n",
       "      <td>aircall.io</td>\n",
       "      <td>$11.6M</td>\n",
       "      <td>Disrupt SF 2015</td>\n",
       "      <td>Contestant</td>\n",
       "      <td>Operating</td>\n",
       "    </tr>\n",
       "    <tr>\n",
       "      <th>187</th>\n",
       "      <td>Fit Analytics</td>\n",
       "      <td>fitanalytics.com</td>\n",
       "      <td>NaN</td>\n",
       "      <td>Disrupt Beijing 2011</td>\n",
       "      <td>Contestant</td>\n",
       "      <td>Operating</td>\n",
       "    </tr>\n",
       "    <tr>\n",
       "      <th>546</th>\n",
       "      <td>StyleSeat</td>\n",
       "      <td>styleseat.com</td>\n",
       "      <td>$40M</td>\n",
       "      <td>Disrupt NYC 2011</td>\n",
       "      <td>Contestant</td>\n",
       "      <td>Operating</td>\n",
       "    </tr>\n",
       "    <tr>\n",
       "      <th>533</th>\n",
       "      <td>Stepcase</td>\n",
       "      <td>stepcase.com</td>\n",
       "      <td>NaN</td>\n",
       "      <td>Disrupt Beijing 2011</td>\n",
       "      <td>Contestant</td>\n",
       "      <td>Operating</td>\n",
       "    </tr>\n",
       "    <tr>\n",
       "      <th>115</th>\n",
       "      <td>Cocodot</td>\n",
       "      <td>cocodot.com</td>\n",
       "      <td>$6.7M</td>\n",
       "      <td>TC50 2009</td>\n",
       "      <td>Contestant</td>\n",
       "      <td>Closed</td>\n",
       "    </tr>\n",
       "    <tr>\n",
       "      <th>110</th>\n",
       "      <td>ClientShow</td>\n",
       "      <td>clientshow.com</td>\n",
       "      <td>$750K</td>\n",
       "      <td>TC50 2009</td>\n",
       "      <td>Contestant</td>\n",
       "      <td>Closed</td>\n",
       "    </tr>\n",
       "  </tbody>\n",
       "</table>\n",
       "</div>"
      ],
      "text/plain": [
       "           Startup           Product  Funding                      Event  \\\n",
       "434       Publish2      publish2.com    $2.8M           Disrupt NYC 2010   \n",
       "267       Insttant      insttant.com      NaN                  TC50 2009   \n",
       "405       Pathmapp      pathmapp.com      NaN            Disrupt SF 2012   \n",
       "214   Glance Clock   glanceclock.com  $755.9K  Hardware Battlefield 2016   \n",
       "16         Aircall        aircall.io   $11.6M            Disrupt SF 2015   \n",
       "187  Fit Analytics  fitanalytics.com      NaN       Disrupt Beijing 2011   \n",
       "546      StyleSeat     styleseat.com     $40M           Disrupt NYC 2011   \n",
       "533       Stepcase      stepcase.com      NaN       Disrupt Beijing 2011   \n",
       "115        Cocodot       cocodot.com    $6.7M                  TC50 2009   \n",
       "110     ClientShow    clientshow.com    $750K                  TC50 2009   \n",
       "\n",
       "         Result OperatingState  \n",
       "434    Finalist      Operating  \n",
       "267  Contestant      Operating  \n",
       "405  Contestant         Closed  \n",
       "214  Contestant      Operating  \n",
       "16   Contestant      Operating  \n",
       "187  Contestant      Operating  \n",
       "546  Contestant      Operating  \n",
       "533  Contestant      Operating  \n",
       "115  Contestant         Closed  \n",
       "110  Contestant         Closed  "
      ]
     },
     "execution_count": 389,
     "metadata": {},
     "output_type": "execute_result"
    }
   ],
   "source": [
    "cData.sample(10)"
   ]
  },
  {
   "cell_type": "code",
   "execution_count": 390,
   "metadata": {},
   "outputs": [
    {
     "data": {
      "text/html": [
       "<div>\n",
       "<style scoped>\n",
       "    .dataframe tbody tr th:only-of-type {\n",
       "        vertical-align: middle;\n",
       "    }\n",
       "\n",
       "    .dataframe tbody tr th {\n",
       "        vertical-align: top;\n",
       "    }\n",
       "\n",
       "    .dataframe thead th {\n",
       "        text-align: right;\n",
       "    }\n",
       "</style>\n",
       "<table border=\"1\" class=\"dataframe\">\n",
       "  <thead>\n",
       "    <tr style=\"text-align: right;\">\n",
       "      <th></th>\n",
       "      <th>Startup</th>\n",
       "      <th>Product</th>\n",
       "      <th>Funding</th>\n",
       "      <th>Event</th>\n",
       "      <th>Result</th>\n",
       "      <th>OperatingState</th>\n",
       "    </tr>\n",
       "  </thead>\n",
       "  <tbody>\n",
       "    <tr>\n",
       "      <th>count</th>\n",
       "      <td>662</td>\n",
       "      <td>656</td>\n",
       "      <td>448</td>\n",
       "      <td>662</td>\n",
       "      <td>662</td>\n",
       "      <td>662</td>\n",
       "    </tr>\n",
       "    <tr>\n",
       "      <th>unique</th>\n",
       "      <td>662</td>\n",
       "      <td>656</td>\n",
       "      <td>240</td>\n",
       "      <td>26</td>\n",
       "      <td>5</td>\n",
       "      <td>4</td>\n",
       "    </tr>\n",
       "    <tr>\n",
       "      <th>top</th>\n",
       "      <td>DigitalGenius</td>\n",
       "      <td>dryft.com</td>\n",
       "      <td>$1M</td>\n",
       "      <td>TC50 2008</td>\n",
       "      <td>Contestant</td>\n",
       "      <td>Operating</td>\n",
       "    </tr>\n",
       "    <tr>\n",
       "      <th>freq</th>\n",
       "      <td>1</td>\n",
       "      <td>1</td>\n",
       "      <td>17</td>\n",
       "      <td>52</td>\n",
       "      <td>488</td>\n",
       "      <td>465</td>\n",
       "    </tr>\n",
       "  </tbody>\n",
       "</table>\n",
       "</div>"
      ],
      "text/plain": [
       "              Startup    Product Funding      Event      Result OperatingState\n",
       "count             662        656     448        662         662            662\n",
       "unique            662        656     240         26           5              4\n",
       "top     DigitalGenius  dryft.com     $1M  TC50 2008  Contestant      Operating\n",
       "freq                1          1      17         52         488            465"
      ]
     },
     "execution_count": 390,
     "metadata": {},
     "output_type": "execute_result"
    }
   ],
   "source": [
    "cData.describe()"
   ]
  },
  {
   "cell_type": "code",
   "execution_count": 391,
   "metadata": {},
   "outputs": [
    {
     "data": {
      "text/plain": [
       "(662, 6)"
      ]
     },
     "execution_count": 391,
     "metadata": {},
     "output_type": "execute_result"
    }
   ],
   "source": [
    "cData.shape"
   ]
  },
  {
   "cell_type": "markdown",
   "metadata": {},
   "source": [
    "## 2. Data Exploration"
   ]
  },
  {
   "cell_type": "markdown",
   "metadata": {},
   "source": [
    "### Check the datatypes of each attribute"
   ]
  },
  {
   "cell_type": "code",
   "execution_count": 392,
   "metadata": {},
   "outputs": [
    {
     "name": "stdout",
     "output_type": "stream",
     "text": [
      "<class 'pandas.core.frame.DataFrame'>\n",
      "RangeIndex: 662 entries, 0 to 661\n",
      "Data columns (total 6 columns):\n",
      " #   Column          Non-Null Count  Dtype \n",
      "---  ------          --------------  ----- \n",
      " 0   Startup         662 non-null    object\n",
      " 1   Product         656 non-null    object\n",
      " 2   Funding         448 non-null    object\n",
      " 3   Event           662 non-null    object\n",
      " 4   Result          662 non-null    object\n",
      " 5   OperatingState  662 non-null    object\n",
      "dtypes: object(6)\n",
      "memory usage: 31.2+ KB\n"
     ]
    }
   ],
   "source": [
    "cData.info()"
   ]
  },
  {
   "cell_type": "markdown",
   "metadata": {},
   "source": [
    "### Check the null values in each attribute"
   ]
  },
  {
   "cell_type": "code",
   "execution_count": 393,
   "metadata": {},
   "outputs": [
    {
     "data": {
      "text/plain": [
       "Startup             0\n",
       "Product             6\n",
       "Funding           214\n",
       "Event               0\n",
       "Result              0\n",
       "OperatingState      0\n",
       "dtype: int64"
      ]
     },
     "execution_count": 393,
     "metadata": {},
     "output_type": "execute_result"
    }
   ],
   "source": [
    "cData.isnull().sum()"
   ]
  },
  {
   "cell_type": "markdown",
   "metadata": {},
   "source": [
    "## 3. Data Preprocessing and Visualization"
   ]
  },
  {
   "cell_type": "markdown",
   "metadata": {},
   "source": [
    "### Drop the null values"
   ]
  },
  {
   "cell_type": "code",
   "execution_count": 394,
   "metadata": {},
   "outputs": [],
   "source": [
    "cData= cData.dropna()"
   ]
  },
  {
   "cell_type": "markdown",
   "metadata": {},
   "source": [
    "###  Convert the 'Funding' feature to a numerical value\n"
   ]
  },
  {
   "cell_type": "code",
   "execution_count": 395,
   "metadata": {},
   "outputs": [],
   "source": [
    "pd.set_option('mode.chained_assignment', None)\n",
    "# Remove the dollar symbol\n",
    "cData['Funding'] = cData['Funding'].str.replace('$','')"
   ]
  },
  {
   "cell_type": "code",
   "execution_count": 396,
   "metadata": {},
   "outputs": [],
   "source": [
    "# multiply values with respective 10^x\n",
    "cData['Funding'] = cData['Funding'].replace({'K': '*1e3', 'M': '*1e6', 'B':'*1e9'}, regex=True).map(pd.eval).astype(int)"
   ]
  },
  {
   "cell_type": "markdown",
   "metadata": {},
   "source": [
    "### Plot box plot for funds in million"
   ]
  },
  {
   "cell_type": "code",
   "execution_count": 397,
   "metadata": {},
   "outputs": [],
   "source": [
    "\n",
    "cData['Funding'] = cData['Funding']/1000000\n"
   ]
  },
  {
   "cell_type": "code",
   "execution_count": 398,
   "metadata": {},
   "outputs": [
    {
     "data": {
      "image/png": "[encoded data removed]",
      "text/plain": [
       "<Figure size 1080x360 with 1 Axes>"
      ]
     },
     "metadata": {},
     "output_type": "display_data"
    }
   ],
   "source": [
    "plt.figure(figsize=(15,5))\n",
    "p = sns.boxplot(x='Funding', data=cData);\n",
    "xlabels = ['{:n}'.format(x) + 'M' for x in p.get_xticks()]\n",
    "p.set_xticklabels(xlabels);"
   ]
  },
  {
   "cell_type": "markdown",
   "metadata": {},
   "source": [
    "### Get the lower fence from the box plot"
   ]
  },
  {
   "cell_type": "code",
   "execution_count": 399,
   "metadata": {},
   "outputs": [
    {
     "name": "stdout",
     "output_type": "stream",
     "text": [
      "\u001b[95mLower fence (1Q) is 0.74525\u001b[0m\n"
     ]
    }
   ],
   "source": [
    "#quantiles = cData['Funding'].quantile([0.25])\n",
    "lowerFence = np.percentile(cData.Funding,25)\n",
    "upperFence = np.percentile(cData.Funding, 75)\n",
    "print(color.PURPLE+\"Lower fence (1Q) is \"+ str(lowerFence)+color.END)"
   ]
  },
  {
   "cell_type": "markdown",
   "metadata": {},
   "source": [
    "### Check number of outliers greater than the upper fence"
   ]
  },
  {
   "cell_type": "code",
   "execution_count": 400,
   "metadata": {},
   "outputs": [
    {
     "name": "stdout",
     "output_type": "stream",
     "text": [
      "Upper fence (3Q) is 9.475\n",
      "\u001b[95mNumber of outlier greater than upper fence are: 112\u001b[0m\n"
     ]
    }
   ],
   "source": [
    "print(\"Upper fence (3Q) is \"+ str(upperFence))\n",
    "upperOutliers = cData[cData['Funding'] > upperFence]\n",
    "print(color.PURPLE+\"Number of outlier greater than upper fence are: \"+str(len(upperOutliers))+color.END)"
   ]
  },
  {
   "cell_type": "markdown",
   "metadata": {},
   "source": [
    "### Drop the values that are greater than upper fence"
   ]
  },
  {
   "cell_type": "code",
   "execution_count": 401,
   "metadata": {},
   "outputs": [
    {
     "data": {
      "text/plain": [
       "(334, 6)"
      ]
     },
     "execution_count": 401,
     "metadata": {},
     "output_type": "execute_result"
    }
   ],
   "source": [
    "#  we retain only those below the upperFence, rest are removed\n",
    "cData = cData[cData['Funding'] < upperFence]\n",
    "cData.shape"
   ]
  },
  {
   "cell_type": "markdown",
   "metadata": {},
   "source": [
    "### Plot the box plot after dropping the values"
   ]
  },
  {
   "cell_type": "code",
   "execution_count": 402,
   "metadata": {},
   "outputs": [
    {
     "data": {
      "image/png": "[encoded data removed]",
      "text/plain": [
       "<Figure size 1080x360 with 1 Axes>"
      ]
     },
     "metadata": {},
     "output_type": "display_data"
    }
   ],
   "source": [
    "plt.figure(figsize=(15,5))\n",
    "p = sns.boxplot(x='Funding', data=cData);\n",
    "xlabels = ['{:n}'.format(x) + 'M' for x in p.get_xticks()]\n",
    "p.set_xticklabels(xlabels);"
   ]
  },
  {
   "cell_type": "markdown",
   "metadata": {},
   "source": [
    "### Check frequency of the OperatingState feature classes"
   ]
  },
  {
   "cell_type": "code",
   "execution_count": 403,
   "metadata": {},
   "outputs": [
    {
     "name": "stdout",
     "output_type": "stream",
     "text": [
      "\u001b[4mFreqency Count\u001b[0m\n"
     ]
    },
    {
     "data": {
      "text/plain": [
       "Operating    242\n",
       "Closed        51\n",
       "Acquired      41\n",
       "Name: OperatingState, dtype: int64"
      ]
     },
     "execution_count": 403,
     "metadata": {},
     "output_type": "execute_result"
    }
   ],
   "source": [
    "print(color.UNDERLINE+\"Freqency Count\"+color.END)\n",
    "cData.OperatingState.value_counts()"
   ]
  },
  {
   "cell_type": "markdown",
   "metadata": {},
   "source": [
    "### Plot a distribution for Funds in million"
   ]
  },
  {
   "cell_type": "code",
   "execution_count": 404,
   "metadata": {},
   "outputs": [
    {
     "data": {
      "image/png": "[encoded data removed]",
      "text/plain": [
       "<Figure size 1080x360 with 1 Axes>"
      ]
     },
     "metadata": {},
     "output_type": "display_data"
    }
   ],
   "source": [
    "plt.figure(figsize=(15,5))\n",
    "plt.title(\"Distribution of funding in millions\")\n",
    "sns.distplot(cData['Funding']);"
   ]
  },
  {
   "cell_type": "markdown",
   "metadata": {},
   "source": [
    "### Plot distribution plots for companies still operating and companies that closed."
   ]
  },
  {
   "cell_type": "code",
   "execution_count": 405,
   "metadata": {},
   "outputs": [
    {
     "data": {
      "text/plain": [
       "<Figure size 1080x360 with 0 Axes>"
      ]
     },
     "metadata": {},
     "output_type": "display_data"
    },
    {
     "data": {
      "image/png": "[encoded data removed]",
      "text/plain": [
       "<Figure size 440.8x216 with 2 Axes>"
      ]
     },
     "metadata": {},
     "output_type": "display_data"
    }
   ],
   "source": [
    "plt.figure(figsize=(15,5))\n",
    "opStates = cData[(cData['OperatingState']==\"Closed\") | (cData['OperatingState']==\"Operating\")]\n",
    "g = sns.FacetGrid(opStates, col=\"OperatingState\");\n",
    "g.map(sns.distplot, \"Funding\");\n",
    "g.add_legend();"
   ]
  },
  {
   "cell_type": "markdown",
   "metadata": {},
   "source": [
    "## 4. Statistical Analysis"
   ]
  },
  {
   "cell_type": "markdown",
   "metadata": {},
   "source": [
    "### Is there any significant difference between Funds raised by companies that are still operating vs companies that closed down? "
   ]
  },
  {
   "cell_type": "markdown",
   "metadata": {},
   "source": [
    "- Write the null hypothesis and alternative hypothesis"
   ]
  },
  {
   "cell_type": "markdown",
   "metadata": {},
   "source": [
    "**Null Hypothesis:** There is no significant difference between funds raised by companies that are still operating versus companies that closed down\n",
    "\n",
    "**Alternative Hypothesis:** There is significant difference between funds raised by companies that are still operating versus companies that closed down"
   ]
  },
  {
   "cell_type": "markdown",
   "metadata": {},
   "source": [
    "- Test for significance and conclusion"
   ]
  },
  {
   "cell_type": "markdown",
   "metadata": {},
   "source": [
    "We choose a level of significance as 0.05"
   ]
  },
  {
   "cell_type": "code",
   "execution_count": 406,
   "metadata": {},
   "outputs": [],
   "source": [
    "fundingOfOperating = cData[(cData['OperatingState']==\"Operating\")]['Funding']\n",
    "fundingOfClosed = cData[(cData['OperatingState']==\"Closed\")]['Funding']\n"
   ]
  },
  {
   "cell_type": "code",
   "execution_count": 407,
   "metadata": {},
   "outputs": [],
   "source": [
    "fundingOfOperating = fundingOfOperating.to_numpy()\n",
    "fundingOfClosed = fundingOfClosed.to_numpy()"
   ]
  },
  {
   "cell_type": "code",
   "execution_count": 408,
   "metadata": {},
   "outputs": [],
   "source": [
    "fund_difference_df = pd.DataFrame()\n",
    "\n",
    "df1            = pd.DataFrame({'Fund_Type': 'FO', 'Fund_Amt':fundingOfOperating})\n",
    "df2            = pd.DataFrame({'Fund_Type': 'FC', 'Fund_Amt':fundingOfClosed})\n",
    "fund_difference_df = fund_difference_df.append(df1)\n",
    "fund_difference_df = fund_difference_df.append(df2)"
   ]
  },
  {
   "cell_type": "code",
   "execution_count": 409,
   "metadata": {},
   "outputs": [
    {
     "name": "stdout",
     "output_type": "stream",
     "text": [
      "                sum_sq     df        F    PR(>F)\n",
      "Fund_Type    10.898369    1.0  2.38016  0.123972\n",
      "Residual   1332.442010  291.0      NaN       NaN\n"
     ]
    }
   ],
   "source": [
    "import statsmodels.api         as     sm\n",
    "from   statsmodels.formula.api import ols\n",
    " \n",
    "mod = ols('Fund_Amt ~ Fund_Type',data = fund_difference_df).fit()\n",
    "aov_table = sm.stats.anova_lm(mod, typ=2)\n",
    "print(aov_table)"
   ]
  },
  {
   "cell_type": "markdown",
   "metadata": {},
   "source": [
    "P-value > α: The differences are not statistically significant. We dot have enough evidence to reject the null hypothesis"
   ]
  },
  {
   "cell_type": "markdown",
   "metadata": {},
   "source": [
    "**Conclusion**: There is no significant difference between funds raised by companies that are still operating versus companies that closed down"
   ]
  },
  {
   "cell_type": "markdown",
   "metadata": {},
   "source": [
    "### Make a copy of the original data frame"
   ]
  },
  {
   "cell_type": "code",
   "execution_count": 410,
   "metadata": {},
   "outputs": [],
   "source": [
    "cDataCopy = cData.copy()"
   ]
  },
  {
   "cell_type": "markdown",
   "metadata": {},
   "source": [
    "### Check frequency distribution of Result variable"
   ]
  },
  {
   "cell_type": "code",
   "execution_count": 411,
   "metadata": {},
   "outputs": [
    {
     "data": {
      "text/plain": [
       "Contestant         251\n",
       "Finalist            42\n",
       "Audience choice     20\n",
       "Runner up           11\n",
       "Winner              10\n",
       "Name: Result, dtype: int64"
      ]
     },
     "execution_count": 411,
     "metadata": {},
     "output_type": "execute_result"
    }
   ],
   "source": [
    "cData.Result.value_counts()"
   ]
  },
  {
   "cell_type": "markdown",
   "metadata": {},
   "source": [
    "### Calculate percentage of winners that are still operating and percentage of contestants that are still operating"
   ]
  },
  {
   "cell_type": "code",
   "execution_count": 412,
   "metadata": {},
   "outputs": [],
   "source": [
    "winnerAndOperating = len(cData[(cData['Result']==\"Winner\") & (cData['OperatingState']==\"Operating\")])\n",
    "contestantsAndOperating = len(cData[(cData['Result']==\"Contestant\") & (cData['OperatingState']==\"Operating\")])\n",
    "total = len(cData)\n",
    "winPercentOperating = (winnerAndOperating/total)*100\n",
    "contestantPercentOperating = (contestantsAndOperating/total)*100"
   ]
  },
  {
   "cell_type": "code",
   "execution_count": 413,
   "metadata": {},
   "outputs": [
    {
     "name": "stdout",
     "output_type": "stream",
     "text": [
      "\u001b[1m\u001b[95mWinners still operating: 2.4 %\u001b[0m\n",
      "\u001b[1m\u001b[95mContestants still operating: 51.8 %\u001b[0m\n"
     ]
    }
   ],
   "source": [
    "print(color.BOLD+color.PURPLE+\"Winners still operating: \"+ str(round(winPercentOperating,2))+\" %\"+color.END)\n",
    "print(color.BOLD+color.PURPLE+\"Contestants still operating: \"+ str(round(contestantPercentOperating,2))+\" %\"+color.END)"
   ]
  },
  {
   "cell_type": "markdown",
   "metadata": {},
   "source": [
    "### Write your hypothesis comparing the proportion of companies that are operating between winners and contestants:"
   ]
  },
  {
   "cell_type": "markdown",
   "metadata": {},
   "source": [
    "- Write the null hypothesis and alternative hypothesis."
   ]
  },
  {
   "cell_type": "markdown",
   "metadata": {},
   "source": [
    "**Null hypothesis:** There is a large proportion of winners that are still operating \n",
    "\n",
    "**Alternative Hypothesis:** There is no large proportion of winners that are still operating"
   ]
  },
  {
   "cell_type": "markdown",
   "metadata": {},
   "source": [
    "- Test for significance and conclusion"
   ]
  },
  {
   "cell_type": "markdown",
   "metadata": {},
   "source": [
    "Choosing a level of significance as 0.05"
   ]
  },
  {
   "cell_type": "code",
   "execution_count": 414,
   "metadata": {},
   "outputs": [
    {
     "name": "stdout",
     "output_type": "stream",
     "text": [
      "\u001b[1m\u001b[95mWith a p-value of 0.4563 the difference is not significant.\u001b[0m\n"
     ]
    }
   ],
   "source": [
    "from statsmodels.stats.proportion import proportions_ztest\n",
    "n_winners = len(cData[(cData['Result']==\"Winner\")])\n",
    "n_contestant = len(cData[(cData['Result']==\"Contestant\")])\n",
    "stat, pval = proportions_ztest([winnerAndOperating, contestantsAndOperating] , [n_winners, n_contestant])\n",
    "\n",
    "if pval < 0.05:\n",
    "    print(color.BOLD+color.PURPLE+f'With a p-value of {round(pval,4)} the difference is significant.'+color.END)\n",
    "else:\n",
    "    print(color.BOLD+color.PURPLE+f'With a p-value of {round(pval,4)} the difference is not significant.'+color.END)\n"
   ]
  },
  {
   "cell_type": "markdown",
   "metadata": {},
   "source": [
    "**Conclusion:** We reject the null hypothesis. *There is no large proportion of winners that are still operating*"
   ]
  },
  {
   "cell_type": "markdown",
   "metadata": {},
   "source": [
    "### Check distribution of the Event variable"
   ]
  },
  {
   "cell_type": "code",
   "execution_count": 415,
   "metadata": {},
   "outputs": [
    {
     "data": {
      "text/plain": [
       "Disrupt NY 2015              20\n",
       "Disrupt SF 2013              18\n",
       "TC50 2008                    18\n",
       "Disrupt SF 2015              17\n",
       "Disrupt NYC 2013             17\n",
       "Disrupt SF 2016              17\n",
       "Disrupt NYC 2012             17\n",
       "TC50 2009                    16\n",
       "Disrupt NY 2016              15\n",
       "TC40 2007                    15\n",
       "Disrupt SF 2014              15\n",
       "Disrupt SF 2012              14\n",
       "Disrupt SF 2011              14\n",
       "Disrupt NYC 2011             13\n",
       "Hardware Battlefield 2014    12\n",
       "Disrupt NYC 2014             11\n",
       "Disrupt SF 2010              11\n",
       "Disrupt London 2016          10\n",
       "Hardware Battlefield 2016    10\n",
       "Hardware Battlefield 2015    10\n",
       "Disrupt EU 2014               9\n",
       "Disrupt London 2015           9\n",
       "Disrupt NYC 2010              8\n",
       "Disrupt EU 2013               8\n",
       "-                             6\n",
       "Disrupt Beijing 2011          4\n",
       "Name: Event, dtype: int64"
      ]
     },
     "execution_count": 415,
     "metadata": {},
     "output_type": "execute_result"
    }
   ],
   "source": [
    "cData.Event.value_counts()"
   ]
  },
  {
   "cell_type": "markdown",
   "metadata": {},
   "source": [
    "### Select only the Event that has disrupt keyword from 2013 onwards"
   ]
  },
  {
   "cell_type": "code",
   "execution_count": 416,
   "metadata": {},
   "outputs": [],
   "source": [
    "def greaterThan2013(event):\n",
    "    match = re.search(\"\\d{4}\", event)\n",
    "    if not match is None:\n",
    "        if int(match.group(0))  >= 2013:\n",
    "            return True\n",
    "        else:\n",
    "            return False"
   ]
  },
  {
   "cell_type": "code",
   "execution_count": 417,
   "metadata": {},
   "outputs": [
    {
     "data": {
      "text/html": [
       "<div>\n",
       "<style scoped>\n",
       "    .dataframe tbody tr th:only-of-type {\n",
       "        vertical-align: middle;\n",
       "    }\n",
       "\n",
       "    .dataframe tbody tr th {\n",
       "        vertical-align: top;\n",
       "    }\n",
       "\n",
       "    .dataframe thead th {\n",
       "        text-align: right;\n",
       "    }\n",
       "</style>\n",
       "<table border=\"1\" class=\"dataframe\">\n",
       "  <thead>\n",
       "    <tr style=\"text-align: right;\">\n",
       "      <th></th>\n",
       "      <th>Startup</th>\n",
       "      <th>Product</th>\n",
       "      <th>Funding</th>\n",
       "      <th>Event</th>\n",
       "      <th>Result</th>\n",
       "      <th>OperatingState</th>\n",
       "    </tr>\n",
       "  </thead>\n",
       "  <tbody>\n",
       "    <tr>\n",
       "      <th>1</th>\n",
       "      <td>3DLT</td>\n",
       "      <td>3dlt.com</td>\n",
       "      <td>0.630</td>\n",
       "      <td>Disrupt NYC 2013</td>\n",
       "      <td>Contestant</td>\n",
       "      <td>Closed</td>\n",
       "    </tr>\n",
       "    <tr>\n",
       "      <th>3</th>\n",
       "      <td>3Dprintler</td>\n",
       "      <td>3dprintler.com</td>\n",
       "      <td>1.000</td>\n",
       "      <td>Disrupt NY 2016</td>\n",
       "      <td>Audience choice</td>\n",
       "      <td>Operating</td>\n",
       "    </tr>\n",
       "    <tr>\n",
       "      <th>13</th>\n",
       "      <td>Agrilyst</td>\n",
       "      <td>agrilyst.com</td>\n",
       "      <td>1.000</td>\n",
       "      <td>Disrupt SF 2015</td>\n",
       "      <td>Winner</td>\n",
       "      <td>Operating</td>\n",
       "    </tr>\n",
       "    <tr>\n",
       "      <th>14</th>\n",
       "      <td>Aiden</td>\n",
       "      <td>aiden.ai</td>\n",
       "      <td>0.750</td>\n",
       "      <td>Disrupt London 2016</td>\n",
       "      <td>Contestant</td>\n",
       "      <td>Operating</td>\n",
       "    </tr>\n",
       "    <tr>\n",
       "      <th>42</th>\n",
       "      <td>asap54.com</td>\n",
       "      <td>asap54.com</td>\n",
       "      <td>8.300</td>\n",
       "      <td>Disrupt EU 2013</td>\n",
       "      <td>Runner up</td>\n",
       "      <td>Operating</td>\n",
       "    </tr>\n",
       "    <tr>\n",
       "      <th>...</th>\n",
       "      <td>...</td>\n",
       "      <td>...</td>\n",
       "      <td>...</td>\n",
       "      <td>...</td>\n",
       "      <td>...</td>\n",
       "      <td>...</td>\n",
       "    </tr>\n",
       "    <tr>\n",
       "      <th>634</th>\n",
       "      <td>Wellthy</td>\n",
       "      <td>wellthy.com</td>\n",
       "      <td>2.000</td>\n",
       "      <td>Disrupt SF 2015</td>\n",
       "      <td>Contestant</td>\n",
       "      <td>Operating</td>\n",
       "    </tr>\n",
       "    <tr>\n",
       "      <th>635</th>\n",
       "      <td>Welltwigs</td>\n",
       "      <td>welltwigs.com</td>\n",
       "      <td>0.050</td>\n",
       "      <td>Disrupt NY 2015</td>\n",
       "      <td>Contestant</td>\n",
       "      <td>Operating</td>\n",
       "    </tr>\n",
       "    <tr>\n",
       "      <th>642</th>\n",
       "      <td>Xendo</td>\n",
       "      <td>xendo.com</td>\n",
       "      <td>0.028</td>\n",
       "      <td>Disrupt SF 2014</td>\n",
       "      <td>Contestant</td>\n",
       "      <td>Acquired</td>\n",
       "    </tr>\n",
       "    <tr>\n",
       "      <th>646</th>\n",
       "      <td>YayPay Inc</td>\n",
       "      <td>yaypay.com</td>\n",
       "      <td>0.900</td>\n",
       "      <td>Disrupt London 2015</td>\n",
       "      <td>Contestant</td>\n",
       "      <td>Operating</td>\n",
       "    </tr>\n",
       "    <tr>\n",
       "      <th>660</th>\n",
       "      <td>Zula</td>\n",
       "      <td>zulaapp.com</td>\n",
       "      <td>3.400</td>\n",
       "      <td>Disrupt SF 2013</td>\n",
       "      <td>Audience choice</td>\n",
       "      <td>Operating</td>\n",
       "    </tr>\n",
       "  </tbody>\n",
       "</table>\n",
       "<p>166 rows × 6 columns</p>\n",
       "</div>"
      ],
      "text/plain": [
       "        Startup         Product  Funding                Event  \\\n",
       "1          3DLT        3dlt.com    0.630     Disrupt NYC 2013   \n",
       "3    3Dprintler  3dprintler.com    1.000      Disrupt NY 2016   \n",
       "13     Agrilyst    agrilyst.com    1.000      Disrupt SF 2015   \n",
       "14        Aiden        aiden.ai    0.750  Disrupt London 2016   \n",
       "42   asap54.com      asap54.com    8.300      Disrupt EU 2013   \n",
       "..          ...             ...      ...                  ...   \n",
       "634     Wellthy     wellthy.com    2.000      Disrupt SF 2015   \n",
       "635   Welltwigs   welltwigs.com    0.050      Disrupt NY 2015   \n",
       "642       Xendo       xendo.com    0.028      Disrupt SF 2014   \n",
       "646  YayPay Inc      yaypay.com    0.900  Disrupt London 2015   \n",
       "660        Zula     zulaapp.com    3.400      Disrupt SF 2013   \n",
       "\n",
       "              Result OperatingState  \n",
       "1         Contestant         Closed  \n",
       "3    Audience choice      Operating  \n",
       "13            Winner      Operating  \n",
       "14        Contestant      Operating  \n",
       "42         Runner up      Operating  \n",
       "..               ...            ...  \n",
       "634       Contestant      Operating  \n",
       "635       Contestant      Operating  \n",
       "642       Contestant       Acquired  \n",
       "646       Contestant      Operating  \n",
       "660  Audience choice      Operating  \n",
       "\n",
       "[166 rows x 6 columns]"
      ]
     },
     "execution_count": 417,
     "metadata": {},
     "output_type": "execute_result"
    }
   ],
   "source": [
    "EventsWithDisruptSince2013 = cData[(cData['Event'].str.contains('Disrupt')) & (cData['Event'].apply(greaterThan2013))]\n",
    "EventsWithDisruptSince2013"
   ]
  },
  {
   "cell_type": "markdown",
   "metadata": {},
   "source": [
    "### Write and perform your hypothesis along with significance test comparing the funds raised by companies across NY, SF and EU events from 2013 onwards."
   ]
  },
  {
   "cell_type": "markdown",
   "metadata": {},
   "source": [
    "**Null Hypothesis**: There is no significant difference between funds raised from the three cities\n",
    "\n",
    "**Alternate Hypothesis**: This is a significant difference between funds raised from the three cities"
   ]
  },
  {
   "cell_type": "markdown",
   "metadata": {},
   "source": [
    "Choosing level of significance: 0.05"
   ]
  },
  {
   "cell_type": "code",
   "execution_count": 418,
   "metadata": {},
   "outputs": [],
   "source": [
    "#Funds raised from NY\n",
    "fundsRaisedAtNY = cData[(cData['Event'].str.contains('NY')) & (cData['Event'].apply(greaterThan2013))]['Funding']\n",
    "#Funds raised from SF\n",
    "fundsRaisedAtSF = cData[(cData['Event'].str.contains('SF')) & (cData['Event'].apply(greaterThan2013))]['Funding']\n",
    "#Funds raised from EU\n",
    "fundsRaisedAtEU = cData[(cData['Event'].str.contains('EU')) & (cData['Event'].apply(greaterThan2013))]['Funding']"
   ]
  },
  {
   "cell_type": "code",
   "execution_count": 419,
   "metadata": {},
   "outputs": [],
   "source": [
    "f1 = pd.DataFrame(fundsRaisedAtNY,columns=['Funding'])\n",
    "f2 = pd.DataFrame(fundsRaisedAtSF,columns=['Funding'])\n",
    "f3 = pd.DataFrame(fundsRaisedAtEU,columns=['Funding'])\n",
    "f1['At'] = \"NY\";\n",
    "f2['At'] = \"SF\"\n",
    "f3['At'] = \"EU\"\n",
    "\n",
    "funds = pd.concat([f1,f2,f3])"
   ]
  },
  {
   "cell_type": "code",
   "execution_count": 420,
   "metadata": {},
   "outputs": [
    {
     "data": {
      "image/png": "[encoded data removed]",
      "text/plain": [
       "<Figure size 1080x360 with 1 Axes>"
      ]
     },
     "metadata": {},
     "output_type": "display_data"
    }
   ],
   "source": [
    "plt.figure(figsize=(15,5))\n",
    "sns.boxplot(y=\"Funding\",x=\"At\", data=funds);"
   ]
  },
  {
   "cell_type": "code",
   "execution_count": 421,
   "metadata": {},
   "outputs": [
    {
     "name": "stdout",
     "output_type": "stream",
     "text": [
      "Funds raised at NY: mean=2.293025380952381 median=1.3\n",
      "Funds raised at SF: mean=2.04860895522388 median=1.3\n",
      "Funds raised at EU: mean=2.2785235294117645 median=0.948\n"
     ]
    }
   ],
   "source": [
    "print(\"Funds raised at NY: mean=\"+str(fundsRaisedAtNY.mean())+\" median=\"+str(fundsRaisedAtNY.median()))\n",
    "print(\"Funds raised at SF: mean=\"+str(fundsRaisedAtSF.mean())+\" median=\"+str(fundsRaisedAtSF.median()))\n",
    "print(\"Funds raised at EU: mean=\"+str(fundsRaisedAtEU.mean())+\" median=\"+str(fundsRaisedAtEU.median()))\n",
    "\n",
    "\n",
    "fundsRaisedAtNY = fundsRaisedAtNY.to_numpy()\n",
    "fundsRaisedAtSF = fundsRaisedAtSF.to_numpy()\n",
    "fundsRaisedAtEU = fundsRaisedAtEU.to_numpy()\n",
    "\n",
    "fund_raised_df = pd.DataFrame()\n",
    "\n",
    "df1            = pd.DataFrame({'Fund_Raised_At': 'NY', 'Fund_Amt':fundsRaisedAtNY})\n",
    "df2            = pd.DataFrame({'Fund_Raised_At': 'SF', 'Fund_Amt':fundsRaisedAtSF})\n",
    "df3            = pd.DataFrame({'Fund_Raised_At': 'EU', 'Fund_Amt':fundsRaisedAtEU})\n",
    "fund_raised_df = fund_raised_df.append(df1)\n",
    "fund_raised_df = fund_raised_df.append(df2)\n",
    "fund_raised_df = fund_raised_df.append(df3)"
   ]
  },
  {
   "cell_type": "code",
   "execution_count": 422,
   "metadata": {},
   "outputs": [
    {
     "name": "stdout",
     "output_type": "stream",
     "text": [
      "                    sum_sq     df         F    PR(>F)\n",
      "Fund_Raised_At    2.126487    2.0  0.188431  0.828462\n",
      "Residual        812.537521  144.0       NaN       NaN\n"
     ]
    }
   ],
   "source": [
    "mod = ols('Fund_Amt ~ Fund_Raised_At',data = fund_raised_df).fit()\n",
    "aov_table = sm.stats.anova_lm(mod, typ=2)\n",
    "print(aov_table)"
   ]
  },
  {
   "cell_type": "markdown",
   "metadata": {},
   "source": [
    "P-value > α: The differences between are not statistically significant. We do not have enough evidence to reject the null hypothesis."
   ]
  },
  {
   "cell_type": "markdown",
   "metadata": {},
   "source": [
    "**Conclusion**: There is no significant difference between funds raised from the three cities"
   ]
  },
  {
   "cell_type": "markdown",
   "metadata": {},
   "source": [
    "### Plot the distribution plot comparing the 3 city events"
   ]
  },
  {
   "cell_type": "code",
   "execution_count": 424,
   "metadata": {},
   "outputs": [
    {
     "data": {
      "image/png": "[encoded data removed]",
      "text/plain": [
       "<Figure size 648x216 with 3 Axes>"
      ]
     },
     "metadata": {},
     "output_type": "display_data"
    }
   ],
   "source": [
    "#plt.figure(figsize=(15,5));\n",
    "#plt.title(\"Distribution of funding in millions\")\n",
    "#sns.distplot(cData['Funding']);\n",
    "g = sns.FacetGrid(funds, col='At', palette=\"Set1\");\n",
    "g = (g.map(sns.distplot, \"Funding\", hist=False, rug=True));"
   ]
  },
  {
   "cell_type": "markdown",
   "metadata": {},
   "source": [
    "## 5. Write your observations on improvements or suggestions on quality, quantity, variety, velocity, veracity etc. on the data points collected to perform a better data analysis."
   ]
  },
  {
   "cell_type": "markdown",
   "metadata": {},
   "source": [
    "1. 32.3 % of values in Funding column is empty\n",
    "2. Few values in events is not given and is filled with -\n",
    "3. Otherwise, quality of dataset is good and well formatted."
   ]
  }
 ],
 "metadata": {
  "kernelspec": {
   "display_name": "Python 3",
   "language": "python",
   "name": "python3"
  },
  "language_info": {
   "codemirror_mode": {
    "name": "ipython",
    "version": 3
   },
   "file_extension": ".py",
   "mimetype": "text/x-python",
   "name": "python",
   "nbconvert_exporter": "python",
   "pygments_lexer": "ipython3",
   "version": "3.7.6"
  }
 },
 "nbformat": 4,
 "nbformat_minor": 4
}
