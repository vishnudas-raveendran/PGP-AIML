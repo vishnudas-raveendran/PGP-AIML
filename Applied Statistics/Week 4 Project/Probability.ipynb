{
 "cells": [
  {
   "cell_type": "markdown",
   "metadata": {},
   "source": [
    "# Probability Questions"
   ]
  },
  {
   "cell_type": "code",
   "execution_count": 45,
   "metadata": {},
   "outputs": [],
   "source": [
    "# importing required packages\n",
    "import numpy as np\n",
    "import scipy.stats as stats\n",
    "import matplotlib.pyplot as plt\n",
    "import math\n",
    "from math import factorial as fact"
   ]
  },
  {
   "cell_type": "markdown",
   "metadata": {},
   "source": [
    "![Q1](pQna/Q1.PNG)"
   ]
  },
  {
   "cell_type": "markdown",
   "metadata": {},
   "source": [
    "People who planned to purchase and placed an order = 400\n",
    "Total number of people = 2000"
   ]
  },
  {
   "cell_type": "code",
   "execution_count": 11,
   "metadata": {},
   "outputs": [
    {
     "name": "stdout",
     "output_type": "stream",
     "text": [
      "Sol 1. People who planned to purchase and actually purchased:0.2\n"
     ]
    }
   ],
   "source": [
    "print(\"Sol 1. People who planned to purchase and actually purchased:\"+str((400/2000)))"
   ]
  },
  {
   "cell_type": "markdown",
   "metadata": {},
   "source": [
    "A = planned to purchase and actually purchased = 200\n",
    "\n",
    "B = Planned to purchase = 500\n",
    "\n",
    "p(A) = 0.8                ...from(1)\n"
   ]
  },
  {
   "cell_type": "code",
   "execution_count": 12,
   "metadata": {},
   "outputs": [
    {
     "name": "stdout",
     "output_type": "stream",
     "text": [
      "Sol 2. P(A|B)=P(A)/P(B) = 0.4\n"
     ]
    }
   ],
   "source": [
    "print(\"Sol 2. P(A|B)=P(A)/P(B) = \"+str(((200/1000)/(500/1000))))"
   ]
  },
  {
   "cell_type": "markdown",
   "metadata": {},
   "source": [
    "![Q2](pQna/Q2.PNG)"
   ]
  },
  {
   "cell_type": "markdown",
   "metadata": {},
   "source": [
    "failure_rate=0.05, success_rate = 0.95"
   ]
  },
  {
   "cell_type": "markdown",
   "metadata": {},
   "source": [
    "**Sol A:**\n",
    "\n",
    "P(X=None of the items are defective) => P(X=0)\n",
    "\n",
    "By binomial distrib:\n",
    "\n",
    "B(X) = ((n!)/(x!(n-x)!))*(p^x)*((1-P)^(n-x))"
   ]
  },
  {
   "cell_type": "code",
   "execution_count": 31,
   "metadata": {},
   "outputs": [
    {
     "name": "stdout",
     "output_type": "stream",
     "text": [
      "Probability that none of the items are defective: 0.6\n"
     ]
    }
   ],
   "source": [
    "B =  (fact(10)/(fact(0)*fact(10-0)))*(0.05**0)*((1-0.05)**(10-0))\n",
    "print(\"Probability that none of the items are defective: \"+ str(round(B,2)))"
   ]
  },
  {
   "cell_type": "markdown",
   "metadata": {},
   "source": [
    "**Sol B:**\n",
    "\n",
    "P(X=Exactly one item is defective) = P(X=1)"
   ]
  },
  {
   "cell_type": "code",
   "execution_count": 32,
   "metadata": {},
   "outputs": [
    {
     "name": "stdout",
     "output_type": "stream",
     "text": [
      "Probability that exactly one of the items are defective: 0.32\n"
     ]
    }
   ],
   "source": [
    "B =  (fact(10)/(fact(1)*fact(10-1)))*(0.05**1)*((1-0.05)**(10-1))\n",
    "print(\"Probability that exactly one of the items are defective: \"+ str(round(B,2)))"
   ]
  },
  {
   "cell_type": "markdown",
   "metadata": {},
   "source": [
    "**Sol C**\n",
    "\n",
    "P(X <=2)"
   ]
  },
  {
   "cell_type": "code",
   "execution_count": 40,
   "metadata": {},
   "outputs": [
    {
     "name": "stdout",
     "output_type": "stream",
     "text": [
      "Probability that two or fewer are defective:0.9884964426207028\n"
     ]
    }
   ],
   "source": [
    "B =0\n",
    "for i in range(0,3):\n",
    "    B +=  (fact(10)/(fact(i)*fact(10-i)))*(0.05**i)*((1-0.05)**(10-i))\n",
    "print(\"Probability that two or fewer are defective:\" + str(B))\n"
   ]
  },
  {
   "cell_type": "markdown",
   "metadata": {},
   "source": [
    "**Sol D**\n",
    "\n",
    "P(X >= 3)"
   ]
  },
  {
   "cell_type": "code",
   "execution_count": 41,
   "metadata": {},
   "outputs": [
    {
     "name": "stdout",
     "output_type": "stream",
     "text": [
      "Probability that three or more are defective:0.0010284979378909487\n"
     ]
    }
   ],
   "source": [
    "B =0\n",
    "for i in range(0,4):\n",
    "    B +=  (fact(10)/(fact(i)*fact(10-i)))*(0.05**i)*((1-0.05)**(10-i))\n",
    "print(\"Probability that three or more are defective:\" + str(1-B))"
   ]
  },
  {
   "cell_type": "markdown",
   "metadata": {},
   "source": [
    "![Q3](pQna/Q3.PNG)"
   ]
  },
  {
   "cell_type": "markdown",
   "metadata": {},
   "source": [
    "**Sol A:**\n",
    "\n",
    "mean=3\n",
    "P(X) = ((e^-mean)*(mean^x))/x!"
   ]
  },
  {
   "cell_type": "markdown",
   "metadata": {},
   "source": [
    "P(Sell some cars) = P(X > 0)\n"
   ]
  },
  {
   "cell_type": "code",
   "execution_count": 47,
   "metadata": {},
   "outputs": [
    {
     "name": "stdout",
     "output_type": "stream",
     "text": [
      "Probability of selling some cars : 0.950212931632136\n"
     ]
    }
   ],
   "source": [
    "mean = 3\n",
    "x = 0;\n",
    "P = (math.exp(-mean)*(mean**x))/fact(x)\n",
    "print(\"Probability of selling some cars : \"+str((1-P)))"
   ]
  },
  {
   "cell_type": "markdown",
   "metadata": {},
   "source": [
    "**Sol B**\n",
    "\n",
    "P(2<=X<5)\n"
   ]
  },
  {
   "cell_type": "code",
   "execution_count": 48,
   "metadata": {},
   "outputs": [
    {
     "name": "stdout",
     "output_type": "stream",
     "text": [
      "Probability of selling 2 to 5 cars : 0.14936120510359183\n"
     ]
    }
   ],
   "source": [
    "P = 0\n",
    "# P(2)+P(3)+P(4)\n",
    "for i in range(2,5):\n",
    "    P += (math.exp(-mean)*(mean**x))/fact(x)\n",
    "print(\"Probability of selling 2 to 5 cars : \"+str(P))"
   ]
  },
  {
   "cell_type": "markdown",
   "metadata": {},
   "source": [
    "![Q4](pQna/Q4.PNG)"
   ]
  },
  {
   "cell_type": "code",
   "execution_count": 50,
   "metadata": {},
   "outputs": [],
   "source": [
    "PC = 0.868\n",
    "PIC = 1-PC"
   ]
  },
  {
   "cell_type": "code",
   "execution_count": 56,
   "metadata": {},
   "outputs": [],
   "source": [
    "from scipy import stats\n",
    "p   =  0.868 # percentage of orders filled correctly at Wendy's was approximately 86.8%\n",
    "n   =  3\n",
    "k   =  np.arange(0,4)\n",
    "binomial = stats.binom.pmf(k,n,p)"
   ]
  },
  {
   "cell_type": "markdown",
   "metadata": {},
   "source": [
    "**Sol A:**\n",
    "Since all recognition are independent\n",
    "P(Three correct Orders) = PC^3"
   ]
  },
  {
   "cell_type": "code",
   "execution_count": 54,
   "metadata": {},
   "outputs": [
    {
     "name": "stdout",
     "output_type": "stream",
     "text": [
      "Three correct orders: 0.653972032\n"
     ]
    }
   ],
   "source": [
    "print(\"Three correct orders: \"+str(PC**3))"
   ]
  },
  {
   "cell_type": "code",
   "execution_count": 59,
   "metadata": {},
   "outputs": [
    {
     "name": "stdout",
     "output_type": "stream",
     "text": [
      "Three correct orders: 0.653972032\n"
     ]
    }
   ],
   "source": [
    "print(\"Three correct orders: \"+str(binomial[3]))"
   ]
  },
  {
   "cell_type": "markdown",
   "metadata": {},
   "source": [
    "**Sol B:** None of three orders correct"
   ]
  },
  {
   "cell_type": "code",
   "execution_count": 62,
   "metadata": {},
   "outputs": [
    {
     "name": "stdout",
     "output_type": "stream",
     "text": [
      "Probability none of the three orders are correct: 0.002299968\n"
     ]
    }
   ],
   "source": [
    "print(\"Probability none of the three orders are correct: \"+str(binomial[0]))"
   ]
  },
  {
   "cell_type": "code",
   "execution_count": 63,
   "metadata": {},
   "outputs": [
    {
     "name": "stdout",
     "output_type": "stream",
     "text": [
      "[0.00229997 0.04767206 0.34602797 1.        ]\n",
      "c) atleast two of the three orders are filled correctly? is 0.9523\n"
     ]
    }
   ],
   "source": [
    "cumbinomial = stats.binom.cdf(k,n,p)\n",
    "\n",
    "print(cumbinomial)\n",
    "\n",
    "P = 1 - cumbinomial[1]\n",
    "print('c) atleast two of the three orders are filled correctly? is %1.4f' % P)"
   ]
  },
  {
   "cell_type": "markdown",
   "metadata": {},
   "source": [
    "![Q6](pQna/Q6.PNG)"
   ]
  },
  {
   "cell_type": "markdown",
   "metadata": {},
   "source": [
    "In the IoT industry, concepts such as distributions and probability can be applied to predict failure of sensors due to wear and tear."
   ]
  },
  {
   "cell_type": "code",
   "execution_count": null,
   "metadata": {},
   "outputs": [],
   "source": []
  }
 ],
 "metadata": {
  "kernelspec": {
   "display_name": "Python 3",
   "language": "python",
   "name": "python3"
  },
  "language_info": {
   "codemirror_mode": {
    "name": "ipython",
    "version": 3
   },
   "file_extension": ".py",
   "mimetype": "text/x-python",
   "name": "python",
   "nbconvert_exporter": "python",
   "pygments_lexer": "ipython3",
   "version": "3.7.6"
  }
 },
 "nbformat": 4,
 "nbformat_minor": 4
}
